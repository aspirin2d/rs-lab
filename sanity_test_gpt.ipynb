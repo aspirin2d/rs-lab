{
 "cells": [
  {
   "cell_type": "code",
   "execution_count": 2,
   "metadata": {},
   "outputs": [
    {
     "name": "stdout",
     "output_type": "stream",
     "text": [
      "Sanity Check Roll: 20 (Sanity: 30)\n",
      "[tag: Sanity maintained]\n",
      "Remaining sanity: 30\n"
     ]
    }
   ],
   "source": [
    "import random\n",
    "\n",
    "def roll_dice(sides):\n",
    "    return random.randint(1, sides)\n",
    "\n",
    "def sanity_check(roll, player_sanity, loss, mad_symptom):\n",
    "    dice_result = roll\n",
    "    print(f\"Sanity Check Roll: {dice_result} (Sanity: {player_sanity})\")\n",
    "    \n",
    "    if dice_result <= player_sanity:\n",
    "        print(\"[tag: Sanity maintained]\")\n",
    "        return player_sanity  # No sanity loss.\n",
    "\n",
    "    # Player loses sanity because the roll is higher than the player's current sanity.\n",
    "    sanity_loss = loss\n",
    "    print(f\"Sanity Loss Roll: {sanity_loss}\")\n",
    "    \n",
    "    if sanity_loss < 5:\n",
    "        print(f\"[tag: {sanity_loss} sanity loss point]\")\n",
    "    else:\n",
    "        # Entering madness\n",
    "        madness_roll = mad_symptom\n",
    "        symptoms = {\n",
    "            1: \"Fainting on the spot\",\n",
    "            2: \"Incoherent speech\",\n",
    "            3: \"Uncontrollable twitching, trembling\",\n",
    "            4: \"Delusions of persecution\",\n",
    "            5: \"Strange appetites (dirt, clay, human flesh)\",\n",
    "            6: \"Scratches, punches and bruises all over the body\"\n",
    "        }\n",
    "        symptom = symptoms.get(madness_roll, \"Unknown symptom\")\n",
    "        print(f\"[tag: {symptom} mad symptom]\")\n",
    "    \n",
    "    # Adjust sanity\n",
    "    return player_sanity - sanity_loss\n",
    "\n",
    "# Example of Sanity Check\n",
    "player_sanity = sanity_check(20, 30, 5, 6)\n",
    "print(\"Remaining sanity:\", player_sanity)\n"
   ]
  },
  {
   "cell_type": "code",
   "execution_count": 3,
   "metadata": {},
   "outputs": [
    {
     "name": "stdout",
     "output_type": "stream",
     "text": [
      "Sanity Check Roll: 50 (Sanity: 30)\n",
      "Sanity Loss Roll: 5\n",
      "[tag: Scratches, punches and bruises all over the body mad symptom]\n",
      "Remaining sanity: 25\n"
     ]
    }
   ],
   "source": [
    "player_sanity = sanity_check(50, 30, 5, 6)\n",
    "print(\"Remaining sanity:\", player_sanity)"
   ]
  }
 ],
 "metadata": {
  "kernelspec": {
   "display_name": "Python 3",
   "language": "python",
   "name": "python3"
  },
  "language_info": {
   "codemirror_mode": {
    "name": "ipython",
    "version": 3
   },
   "file_extension": ".py",
   "mimetype": "text/x-python",
   "name": "python",
   "nbconvert_exporter": "python",
   "pygments_lexer": "ipython3",
   "version": "3.12.3"
  }
 },
 "nbformat": 4,
 "nbformat_minor": 2
}
