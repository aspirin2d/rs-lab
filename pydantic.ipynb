{
 "cells": [
  {
   "cell_type": "code",
   "execution_count": 1,
   "metadata": {},
   "outputs": [
    {
     "name": "stdout",
     "output_type": "stream",
     "text": [
      "Requirement already satisfied: fastapi in c:\\users\\administrator\\appdata\\local\\programs\\python\\python312\\lib\\site-packages (0.110.2)\n",
      "Requirement already satisfied: pydantic in c:\\users\\administrator\\appdata\\local\\programs\\python\\python312\\lib\\site-packages (2.7.0)\n",
      "Requirement already satisfied: toml in c:\\users\\administrator\\appdata\\local\\programs\\python\\python312\\lib\\site-packages (0.10.2)\n",
      "Requirement already satisfied: starlette<0.38.0,>=0.37.2 in c:\\users\\administrator\\appdata\\local\\programs\\python\\python312\\lib\\site-packages (from fastapi) (0.37.2)\n",
      "Requirement already satisfied: typing-extensions>=4.8.0 in c:\\users\\administrator\\appdata\\local\\programs\\python\\python312\\lib\\site-packages (from fastapi) (4.11.0)\n",
      "Requirement already satisfied: annotated-types>=0.4.0 in c:\\users\\administrator\\appdata\\local\\programs\\python\\python312\\lib\\site-packages (from pydantic) (0.6.0)\n",
      "Requirement already satisfied: pydantic-core==2.18.1 in c:\\users\\administrator\\appdata\\local\\programs\\python\\python312\\lib\\site-packages (from pydantic) (2.18.1)\n",
      "Requirement already satisfied: anyio<5,>=3.4.0 in c:\\users\\administrator\\appdata\\local\\programs\\python\\python312\\lib\\site-packages (from starlette<0.38.0,>=0.37.2->fastapi) (4.3.0)\n",
      "Requirement already satisfied: idna>=2.8 in c:\\users\\administrator\\appdata\\local\\programs\\python\\python312\\lib\\site-packages (from anyio<5,>=3.4.0->starlette<0.38.0,>=0.37.2->fastapi) (3.7)\n",
      "Requirement already satisfied: sniffio>=1.1 in c:\\users\\administrator\\appdata\\local\\programs\\python\\python312\\lib\\site-packages (from anyio<5,>=3.4.0->starlette<0.38.0,>=0.37.2->fastapi) (1.3.1)\n",
      "Note: you may need to restart the kernel to use updated packages.\n"
     ]
    }
   ],
   "source": [
    "%pip install fastapi pydantic toml"
   ]
  },
  {
   "cell_type": "code",
   "execution_count": null,
   "metadata": {},
   "outputs": [],
   "source": []
  },
  {
   "cell_type": "code",
   "execution_count": 2,
   "metadata": {},
   "outputs": [
    {
     "name": "stdout",
     "output_type": "stream",
     "text": [
      "火车行驶在前往维也纳的旅程上，嘈杂的车厢和闷热的天气让你不免有些烦躁。当你抬头时，一个美丽的女孩映入你的眼帘——她坐在对面，专心致志地阅读手中的《致青年诗人的信》，阳光正从车窗斜斜地洒在一个美丽女孩的脸颊上，为她的轮廓镀上了一层金边。她身边散落着一些画具和一本摊开的素描本，显然是个酷爱艺术的人。虽然周围人声鼎沸，但她似乎完全沉浸在自己的世界中。就在她不经意地调整耳机时，短暂地与你目光相接，那一刻，时间仿佛静止。你感到一种无法抗拒的冲动，想要跨过车厢中的距离，用一句话打破这份静谧与隔阂。\n",
      "\n",
      "possible actions:\n",
      "1. \"《致青年诗人的信》，你也喜欢里尔克吗？\"\n",
      "2. \"可以借一下你的纸笔吗？\"\n",
      "3. \"这车厢真是吵闹，你怎么能在这样的环境下这么专注？\"\n"
     ]
    },
    {
     "data": {
      "application/vnd.jupyter.widget-view+json": {
       "model_id": "86a44c2adb624d8d8ce9f166f7b1731d",
       "version_major": 2,
       "version_minor": 0
      },
      "text/plain": [
       "HBox(children=(Button(description='1', layout=Layout(width='auto'), style=ButtonStyle(), tooltip='\"《致青年诗人的信》，你…"
      ]
     },
     "metadata": {},
     "output_type": "display_data"
    },
    {
     "name": "stdout",
     "output_type": "stream",
     "text": [
      "I select option 1. TURN: 1 \n",
      "\n",
      "\n",
      "你轻轻地用法语问道，声音中带着一抹羞涩，但眼神里满是对文学的热爱：\"《致青年诗人的信》，你也喜欢里尔克吗？\"\n",
      "\n",
      "女孩抬起头来，她的眼睛里闪烁着惊喜的光芒，随即用一口流利的法语回答：\"是的，我非常喜欢。他的诗总能触动我内心最深处的情感。你也是里尔克的粉丝吗？\"\n",
      "\n",
      "这一刻，车厢中其他的声音似乎都消失了，只剩下两个灵魂在文学的海洋中相遇。你发现，与她交谈竟然异常自然，仿佛你们已经认识了很久。\n",
      "\n",
      "possible actions:\n",
      "1. \"是的，我也很喜欢里尔克。他的作品总能给我带来安慰和启发。对了，我叫Celine，很高兴遇见你。你叫什么名字？\"\n",
      "2. \"其实我对里尔克的了解不多，但我确实很喜欢诗歌。我觉得诗歌是连接灵魂的桥梁。我叫Celine，很高兴认识你。\"\n",
      "3. \"我一直认为艺术和文学能让人找到共鸣，就像现在这样。顺便问一下，你的名字是？\""
     ]
    },
    {
     "data": {
      "application/vnd.jupyter.widget-view+json": {
       "model_id": "a214fb477438424ead23edd59c554ec5",
       "version_major": 2,
       "version_minor": 0
      },
      "text/plain": [
       "HBox(children=(Button(description='1', layout=Layout(width='auto'), style=ButtonStyle(), tooltip='\"是的，我也很喜欢里尔克…"
      ]
     },
     "metadata": {},
     "output_type": "display_data"
    },
    {
     "name": "stdout",
     "output_type": "stream",
     "text": [
      "I select option 1. TURN: 2 \n",
      "\n",
      "\n",
      "\"是的，我也很喜欢里尔克。他的作品总能给我带来安慰和启发。对了，我叫Celine，很高兴遇见你。你叫什么名字？\" 你微笑着自我介绍，眼神中透露出温暖和友善。\n",
      "\n",
      "女孩轻轻地笑了，那笑容在车厢的昏黄灯光下显得格外温柔。她回答说：\"我叫Annette。Celine，这是一个很美的名字，很高兴认识你。\" \n",
      "\n",
      "然后她稍微停顿了一下，似乎在考虑接下来的话。\"你是巴黎人吗？我刚从布达佩斯回来，去那里看望我的祖母，现在在回巴黎大学的路上。\"\n",
      "\n",
      "这段对话让你们之间的距离更近了一些，仿佛不再是刚刚相遇的陌生人，而是有着共同兴趣和经历的朋友。\n",
      "\n",
      "possible actions:\n",
      "1. \"我也是在巴黎学习，专攻艺术史。听你这么一说，我更加期待我们能分享更多关于艺术和文学的对话了。你对艺术有什么特别的兴趣吗？\"\n",
      "2. \"布达佩斯一定很美吧？我一直梦想着去那里看看。你在那里有什么特别的经历吗？\"\n",
      "3. \"是的，我也在巴黎。巧的是，我也是巴黎大学的学生。也许我们以前在校园里擦肩而过也说不定。你的专业是什么？\""
     ]
    },
    {
     "data": {
      "application/vnd.jupyter.widget-view+json": {
       "model_id": "d17e2c0a77754a23a4486af63dcbdef3",
       "version_major": 2,
       "version_minor": 0
      },
      "text/plain": [
       "HBox(children=(Button(description='1', layout=Layout(width='auto'), style=ButtonStyle(), tooltip='\"我也是在巴黎学习，专攻…"
      ]
     },
     "metadata": {},
     "output_type": "display_data"
    },
    {
     "data": {
      "application/vnd.jupyter.widget-view+json": {
       "model_id": "b76fd22e28644cd093bddb91e5e15408",
       "version_major": 2,
       "version_minor": 0
      },
      "text/plain": [
       "HBox(children=(Text(value='', layout=Layout(width='100%')), Button(description='SUBMIT', layout=Layout(width='…"
      ]
     },
     "metadata": {},
     "output_type": "display_data"
    },
    {
     "name": "stdout",
     "output_type": "stream",
     "text": [
      "自我介绍. TURN: 3 \n",
      "\n",
      "\n",
      "\"我也是在巴黎学习，专攻艺术史。\" 你的声音中满是对未来的憧憬与兴奋，\"听你这么一说，我更加期待我们能分享更多关于艺术和文学的对话了。你对艺术有什么特别的兴趣吗？\"\n",
      "\n",
      "Annette的眼睛亮了起来，显然你刚才的话触动了她的某些兴趣点。她兴奋地回答：\"哦，我热爱绘画和摄影！我认为它们是捕捉和表达瞬间情感最美妙的方式。而且，我觉得学习不同文化的艺术作品能让我更好地理解这个世界。和你聊天真的很开心，Celine。我可以感觉到你对艺术的热情。\"\n",
      "\n",
      "随着对话的深入，你发现你们有很多共同的兴趣点，这让你们之间的关系更加紧密。Annette的热情和开放让你感到非常舒适，你们的对话自然而然地流淌。\n",
      "\n",
      "possible actions:\n",
      "1. \"这真的很有趣！也许我们可以一起去一些画廊和博物馆。有没有什么地方是你特别想去的？\"\n",
      "2. \"我绝对同意你的看法。艺术确实能让我们更深地理解文化和情感。说起来，我明天打算去维也纳的一些艺术场所逛逛，你有兴趣一起去吗？\"\n",
      "3. \"你提到摄影，我也很感兴趣。或许我们可以分享一下彼此的作品？这样也许能互相学习和启发。\""
     ]
    },
    {
     "data": {
      "application/vnd.jupyter.widget-view+json": {
       "model_id": "e5c441f9c78d4183aa90ccb97f64be7c",
       "version_major": 2,
       "version_minor": 0
      },
      "text/plain": [
       "HBox(children=(Button(description='1', layout=Layout(width='auto'), style=ButtonStyle(), tooltip='\"这真的很有趣！也许我们…"
      ]
     },
     "metadata": {},
     "output_type": "display_data"
    },
    {
     "name": "stdout",
     "output_type": "stream",
     "text": [
      "I select option 2. TURN: 4 \n",
      "\n",
      "\n",
      "\"我绝对同意你的看法。艺术确实能让我们更深地理解文化和情感。说起来，我明天打算去维也纳的一些艺术场所逛逛，你有兴趣一起去吗？\" 你试图隐藏自己的期待，但眼中的光芒还是出卖了你的兴奋。\n",
      "\n",
      "Annette似乎被你的提议惊讶了一下，她的眼神在犹豫和兴奋之间徘徊。过了一会儿，她轻声说：\"我不知道……\" 声音中带着一丝犹豫。看到她这样，你意识到可能需要给她一些时间来考虑，毕竟这是一个突然的提议。\n",
      "\n",
      "possible actions:\n",
      "1. \"没关系，如果你需要时间考虑，我完全理解。不过，我真的觉得我们会有很棒的时间一起探索维也纳的艺术景点。\"\n",
      "2. \"我知道这是一个突然的提议，但我觉得这将是一个难忘的经历。我们可以访问一些美术馆，也许还能参加一场音乐会。只是想让你知道，这完全取决于你。\"\n",
      "3. \"如果你担心时间或其他事情，我们可以先规划一下，看看有哪些地方是我们都感兴趣的。我只是觉得这是一个很好的机会，让我们更好地了解彼此和我们都热爱的艺术。\""
     ]
    },
    {
     "data": {
      "application/vnd.jupyter.widget-view+json": {
       "model_id": "bca025fac20843f9ac4cc82f9bbf6f8f",
       "version_major": 2,
       "version_minor": 0
      },
      "text/plain": [
       "HBox(children=(Button(description='1', layout=Layout(width='auto'), style=ButtonStyle(), tooltip='\"没关系，如果你需要时间…"
      ]
     },
     "metadata": {},
     "output_type": "display_data"
    }
   ],
   "source": [
    "import re\n",
    "import tomllib\n",
    "import functools\n",
    "from typing import Literal\n",
    "\n",
    "import ipywidgets as widgets\n",
    "from IPython.display import display\n",
    "\n",
    "from dotenv import load_dotenv\n",
    "\n",
    "load_dotenv()\n",
    "\n",
    "from rs import Message, Config, chat, skill_check\n",
    "import d20\n",
    "\n",
    "action_pattern = re.compile(r\"(\\d+). *(.+)\")\n",
    "skill_pattern = re.compile(r\"[\\w_]+\")\n",
    "skill_difficulty_pattern = re.compile(r\"(easy|medium|hard)\")\n",
    "\n",
    "def next_round(b):\n",
    "    global current_round, initial_messages\n",
    "    current_round += 1\n",
    "    initial_messages = config.initial_messages(current_round, config.metadata)\n",
    "\n",
    "    print(initial_messages[-1].content)\n",
    "    display(get_controls(initial_messages[-1]))\n",
    "\n",
    "def get_user_message_tail():\n",
    "    count = 0\n",
    "    for msg in initial_messages:\n",
    "        if msg.role == \"user\":\n",
    "            count += 1\n",
    "\n",
    "    is_final =  \", FINAL ROUND\" if  current_round == len(config.rounds) else \"\"\n",
    "    return f\"TURN: {count + 1} {is_final}\"\n",
    "    \n",
    "\n",
    "def do_chat(role:Literal[\"user\", \"system\", \"assistant\"], content: str):\n",
    "    print(f\"{content}\\n\\n\")\n",
    "\n",
    "    initial_messages.append(Message(role=role, content=content))\n",
    "    msg = chat(initial_messages, lambda delta: print(delta, end=\"\"))\n",
    "\n",
    "    initial_messages.append(msg)\n",
    "    display(get_controls(msg))\n",
    "\n",
    "\n",
    "def on_skill(b, skill:str, difficulty:str):\n",
    "    content = skill_check(skill, difficulty, config.metadata)\n",
    "    content += f\"\\n{get_user_message_tail()}\"\n",
    "    do_chat(\"user\", content)\n",
    "\n",
    "def on_action(b, index:int):\n",
    "    content = f\"I select option {index}. {get_user_message_tail()}\"\n",
    "    do_chat(\"user\", content)\n",
    "\n",
    "def on_custom_input(b, input:widgets.Text):\n",
    "    content = f\"{input.value}. {get_user_message_tail()}\"\n",
    "    do_chat(\"user\", content)\n",
    "\n",
    "def on_custom_action(b):\n",
    "    hbox = widgets.HBox(layout=widgets.Layout(width=\"100%\"))\n",
    "    action_text = widgets.Text(layout=widgets.Layout(width=\"100%\"))\n",
    "    submit = widgets.Button(description=\"SUBMIT\", layout=widgets.Layout(width=\"fit-content\"))\n",
    "    submit.on_click(functools.partial(on_custom_input, input=action_text))\n",
    "    hbox.children += (action_text, submit) \n",
    "    display(hbox)\n",
    "\n",
    "def get_controls(msg:Message) -> widgets.Box:\n",
    "    dict = msg.dict()\n",
    "    buttons = []\n",
    "    if \"possible actions\" in dict.keys():\n",
    "        matches = action_pattern.finditer(dict[\"possible actions\"])\n",
    "        for match in matches:\n",
    "            btn = widgets.Button(description=match.group(1), tooltip=match.group(2), layout=widgets.Layout(width=\"auto\"))\n",
    "            btn.on_click(functools.partial(on_action, index=int(match.group(1))))\n",
    "            buttons.append(btn)\n",
    "    elif \"skill\" in dict.keys() and \"difficulty\" in dict.keys():\n",
    "        match = skill_pattern.match(dict[\"skill\"])\n",
    "        skill = match.group(0)\n",
    "        match = skill_difficulty_pattern.match(dict[\"difficulty\"])\n",
    "        difficulty = match.group(0)\n",
    "        skill_button = widgets.Button(description=f\"{skill.upper()} [{difficulty.upper()}]\", layout=widgets.Layout(width=\"auto\"))\n",
    "        skill_button.on_click(functools.partial(on_skill, skill=skill, difficulty=difficulty))\n",
    "        buttons.append(skill_button)\n",
    "    elif \"summary\" in dict.keys():\n",
    "        # add summary as a memory to the metadata\n",
    "        # it will be used in the next round.\n",
    "        config.metadata[\"memories\"] = []\n",
    "        config.metadata[\"memories\"].append(dict[\"summary\"])\n",
    "        next_btn = widgets.Button(description=\"NEXT ROUND\", layout=widgets.Layout(width=\"auto\"))\n",
    "        next_btn.on_click(next_round)\n",
    "        buttons.append(next_btn)\n",
    "    \n",
    "    custom_action_button = widgets.Button(description=\"CUSTOM\")\n",
    "    custom_action_button.on_click(on_custom_action)\n",
    "    buttons.append(custom_action_button)\n",
    "\n",
    "    return widgets.HBox(buttons)\n",
    "\n",
    "# open config file\n",
    "config_name = \"data/config_romance.toml\"\n",
    "config: Config | None = None\n",
    "with open(config_name, \"rb\") as f:\n",
    "    data = tomllib.load(f)\n",
    "    config = Config(**data)\n",
    "\n",
    "current_round = 0\n",
    "initial_messages = config.initial_messages(current_round, config.metadata)\n",
    "\n",
    "print(initial_messages[-1].content)\n",
    "display(get_controls(initial_messages[-1]))"
   ]
  }
 ],
 "metadata": {
  "kernelspec": {
   "display_name": ".venv",
   "language": "python",
   "name": "python3"
  },
  "language_info": {
   "codemirror_mode": {
    "name": "ipython",
    "version": 3
   },
   "file_extension": ".py",
   "mimetype": "text/x-python",
   "name": "python",
   "nbconvert_exporter": "python",
   "pygments_lexer": "ipython3",
   "version": "3.12.3"
  }
 },
 "nbformat": 4,
 "nbformat_minor": 2
}
