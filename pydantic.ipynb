{
 "cells": [
  {
   "cell_type": "code",
   "execution_count": 7,
   "metadata": {},
   "outputs": [
    {
     "name": "stdout",
     "output_type": "stream",
     "text": [
      "Requirement already satisfied: fastapi in c:\\users\\administrator\\appdata\\local\\programs\\python\\python312\\lib\\site-packages (0.110.2)\n",
      "Requirement already satisfied: pydantic in c:\\users\\administrator\\appdata\\local\\programs\\python\\python312\\lib\\site-packages (2.7.0)\n",
      "Requirement already satisfied: toml in c:\\users\\administrator\\appdata\\local\\programs\\python\\python312\\lib\\site-packages (0.10.2)\n",
      "Requirement already satisfied: starlette<0.38.0,>=0.37.2 in c:\\users\\administrator\\appdata\\local\\programs\\python\\python312\\lib\\site-packages (from fastapi) (0.37.2)\n",
      "Requirement already satisfied: typing-extensions>=4.8.0 in c:\\users\\administrator\\appdata\\local\\programs\\python\\python312\\lib\\site-packages (from fastapi) (4.11.0)\n",
      "Requirement already satisfied: annotated-types>=0.4.0 in c:\\users\\administrator\\appdata\\local\\programs\\python\\python312\\lib\\site-packages (from pydantic) (0.6.0)\n",
      "Requirement already satisfied: pydantic-core==2.18.1 in c:\\users\\administrator\\appdata\\local\\programs\\python\\python312\\lib\\site-packages (from pydantic) (2.18.1)\n",
      "Requirement already satisfied: anyio<5,>=3.4.0 in c:\\users\\administrator\\appdata\\local\\programs\\python\\python312\\lib\\site-packages (from starlette<0.38.0,>=0.37.2->fastapi) (4.3.0)\n",
      "Requirement already satisfied: idna>=2.8 in c:\\users\\administrator\\appdata\\local\\programs\\python\\python312\\lib\\site-packages (from anyio<5,>=3.4.0->starlette<0.38.0,>=0.37.2->fastapi) (3.7)\n",
      "Requirement already satisfied: sniffio>=1.1 in c:\\users\\administrator\\appdata\\local\\programs\\python\\python312\\lib\\site-packages (from anyio<5,>=3.4.0->starlette<0.38.0,>=0.37.2->fastapi) (1.3.1)\n",
      "Note: you may need to restart the kernel to use updated packages.\n"
     ]
    }
   ],
   "source": [
    "%pip install fastapi pydantic toml"
   ]
  },
  {
   "cell_type": "code",
   "execution_count": null,
   "metadata": {},
   "outputs": [],
   "source": []
  },
  {
   "cell_type": "code",
   "execution_count": null,
   "metadata": {},
   "outputs": [
    {
     "name": "stdout",
     "output_type": "stream",
     "text": [
      "You arrived at an old self-storage facility by invitation from the manager, who has an storage room up for auction due to the death of its owner. It is not your first rodeo with these forms of auctions, like a box of chocolate, no one knows of the potential treasure that hides behind the cold roller shutter. As you and other interested buyers gathered around the auctioneer, a worker carrying a bolt cutter snapped off the rusty lock, unveiling a storage room cluttered with various old furniture and antiquities. Without any opportunity for the bidders to take a clear look, the auctioneer began the bid at $50. \n",
      "\n",
      "What is your bid?\n",
      "\n",
      "possible actions:\n",
      "1. $100.\n",
      "2. $150.\n",
      "3. $200.\n"
     ]
    },
    {
     "data": {
      "application/vnd.jupyter.widget-view+json": {
       "model_id": "e21888d0c9174c1291ccd7a3cd3826fa",
       "version_major": 2,
       "version_minor": 0
      },
      "text/plain": [
       "HBox(children=(Button(description='1', layout=Layout(width='auto'), style=ButtonStyle(), tooltip='$100.'), But…"
      ]
     },
     "metadata": {},
     "output_type": "display_data"
    },
    {
     "name": "stdout",
     "output_type": "stream",
     "text": [
      "I select option 3. TURN: 1 \n",
      "\n",
      "\n",
      "你深吸一口气，鼓起勇气，走进了豪宅。\n",
      "\n",
      "随着你的进入，一股阴冷的空气迎面扑来，让你不禁打了个寒颤。\n",
      "豪宅内部昏暗而阴森，只有一些窗户透出微弱的光线。\n",
      "你站在一个宽敞的大厅里，古老的家具布满灰尘，挂在墙上的肖像画似乎在审视着你。\n",
      "\n",
      "你决定探索豪宅的更多区域。\n",
      "\n",
      "你的左手边是一扇通往餐厅的门，门微开，里面似乎有动静。\n",
      "你的右手边是一条通往书房的走廊，走廊尽头似乎有微弱的光线。\n",
      "\n",
      "你要去哪里？\n",
      "\n",
      "possible actions:\n",
      "1. 进入餐厅。\n",
      "2. 走向书房。\n",
      "3. 在大厅继续调查。(可能会找到有用的线索)"
     ]
    },
    {
     "data": {
      "application/vnd.jupyter.widget-view+json": {
       "model_id": "e16cbf348a2d4c97bf03d42dbecb72a3",
       "version_major": 2,
       "version_minor": 0
      },
      "text/plain": [
       "HBox(children=(Button(description='1', layout=Layout(width='auto'), style=ButtonStyle(), tooltip='进入餐厅。'), But…"
      ]
     },
     "metadata": {},
     "output_type": "display_data"
    },
    {
     "name": "stdout",
     "output_type": "stream",
     "text": [
      "I select option 3. TURN: 2 \n",
      "\n",
      "\n",
      "你决定在大厅里深入探索，希望能找到一些关于这座豪宅的线索。\n",
      "\n",
      "在大厅的一角，你发现了一张古老的桌子，桌子上堆满了尘土。你仔细地擦去灰尘，发现桌子上放着一本厚重的客户留言簿，看起来已经很久没有人翻看过了。\n",
      "\n",
      "你靠近去翻阅这本留言簿，希望能从中找到一些豪宅的历史或者之前访客的经历。\n",
      "\n",
      "skill: library_use\n",
      "difficulty: easy"
     ]
    },
    {
     "data": {
      "application/vnd.jupyter.widget-view+json": {
       "model_id": "b20c8ff2844746a480cf0afa8f6671b6",
       "version_major": 2,
       "version_minor": 0
      },
      "text/plain": [
       "HBox(children=(Button(description='LIBRARY_USE [EASY]', layout=Layout(width='auto'), style=ButtonStyle()), But…"
      ]
     },
     "metadata": {},
     "output_type": "display_data"
    },
    {
     "name": "stdout",
     "output_type": "stream",
     "text": [
      "I am making a skill check using LIBRARY_USE against a difficulty of EASY.\n",
      "And I rolled a 63 for a result of SUCCESS. TURN: 3 \n",
      "\n",
      "\n",
      "成功翻阅留言簿后，你发现了一些有趣的信息。\n",
      "\n",
      "留言簿中充满了过去访客的记录，许多人提到了豪宅的美丽与其背后隐藏的悲惨故事。一条条留言中，你注意到了一个反复出现的主题：豪宅的地下室。多个条目提到了地下室中不可言喻的恐怖，以及一种不明力量的存在。有几个留言提到，豪宅的主人曾经在地下室进行过一些禁忌的仪式。\n",
      "\n",
      "你意识到，这座豪宅的秘密可能与地下室有关。你决定继续调查，希望能找到通往地下室的入口。\n",
      "\n",
      "在大厅的另一边，你注意到了一扇看似通往地下室的门，以及楼梯向上的方向，可能通往豪宅的其他居住区域。\n",
      "\n",
      "你要去哪里？\n",
      "\n",
      "possible actions:\n",
      "1. 尝试找到并打开通往地下室的门。\n",
      "2. 上楼探索豪宅的居住区域。\n",
      "3. 回头去探索之前未进入的餐厅或书房。"
     ]
    },
    {
     "data": {
      "application/vnd.jupyter.widget-view+json": {
       "model_id": "90a96394a7ab4bc997f686b83bdb94b8",
       "version_major": 2,
       "version_minor": 0
      },
      "text/plain": [
       "HBox(children=(Button(description='1', layout=Layout(width='auto'), style=ButtonStyle(), tooltip='尝试找到并打开通往地下室…"
      ]
     },
     "metadata": {},
     "output_type": "display_data"
    },
    {
     "name": "stdout",
     "output_type": "stream",
     "text": [
      "I select option 3. TURN: 4 \n",
      "\n",
      "\n",
      "决定回头探索之前未进入的区域，你回到了大厅，站在那两扇未探索的门前。\n",
      "\n",
      "你回想起进入豪宅时的情况，决定这次进入餐厅看看。你有一种感觉，这里可能隐藏着豪宅的某些秘密。\n",
      "\n",
      "轻推开餐厅的门，你发现餐厅内部布置得相当豪华，长桌上铺着细密的桌布，上面堆满了灰尘。突然，你听到了一些动静，好像是某种动物的声音。你警惕地环顾四周，尝试找出声音的来源。\n",
      "\n",
      "突然，一只看起来异常凶猛的大狗从房间的另一头向你冲了过来，它的眼中闪烁着不寻常的光芒。\n",
      "\n",
      "你必须迅速做出反应，躲避它的攻击。\n",
      "\n",
      "possible actions:\n",
      "1. Approach the winner to see if you can take a look inside the storage with her.\n",
      "2. Talk to the auctioneer about upcoming auctions.\n",
      "3. Leave the auction and head to a nearby diner to rethink your strategy."
     ]
    },
    {
     "data": {
      "application/vnd.jupyter.widget-view+json": {
       "model_id": "2b728eae8b00418fbe630952c07b853a",
       "version_major": 2,
       "version_minor": 0
      },
      "text/plain": [
       "HBox(children=(Button(description='1', layout=Layout(width='auto'), style=ButtonStyle(), tooltip='Approach the…"
      ]
     },
     "metadata": {},
     "output_type": "display_data"
    },
    {
     "name": "stdout",
     "output_type": "stream",
     "text": [
      "I select option 1. TURN: 3 \n",
      "\n",
      "\n",
      "You approach the tall, slender woman who won the auction, introducing yourself with a polite nod. She seems intrigued by your interest and, after a brief conversation, agrees to let you take a quick look inside the storage with her. As the roller shutter opens fully, the dim light reveals an assortment of items: old books, furniture that has seen better days, and what appears to be a collection of old, strange-looking artifacts.\n",
      "\n",
      "possible actions:\n",
      "1. Examine the strange-looking artifacts more closely.\n",
      "2. Offer to help the woman move some of the items to get a better look at what's in the back.\n",
      "3. Ask the woman about her interest in this particular storage unit."
     ]
    },
    {
     "data": {
      "application/vnd.jupyter.widget-view+json": {
       "model_id": "8971804d6e8249dfbacd6946c98b3fbe",
       "version_major": 2,
       "version_minor": 0
      },
      "text/plain": [
       "HBox(children=(Button(description='1', layout=Layout(width='auto'), style=ButtonStyle(), tooltip='Examine the …"
      ]
     },
     "metadata": {},
     "output_type": "display_data"
    },
    {
     "name": "stdout",
     "output_type": "stream",
     "text": [
      "I select option 1. TURN: 4 \n",
      "\n",
      "\n",
      "skill: spot_hidden\n",
      "difficulty: medium"
     ]
    },
    {
     "data": {
      "application/vnd.jupyter.widget-view+json": {
       "model_id": "15e2d58f951c465fbc2f805ca6078df7",
       "version_major": 2,
       "version_minor": 0
      },
      "text/plain": [
       "HBox(children=(Button(description='SPOT_HIDDEN [MEDIUM]', layout=Layout(width='auto'), style=ButtonStyle()), B…"
      ]
     },
     "metadata": {},
     "output_type": "display_data"
    },
    {
     "name": "stdout",
     "output_type": "stream",
     "text": [
      "I am making a skill check using SPOT_HIDDEN against a difficulty of MEDIUM.\n",
      "And I rolled a 77 for a result of FAILURE. TURN: 5 \n",
      "\n",
      "\n",
      "As you lean in to examine the strange-looking artifacts more closely, your eyes struggle to make out the finer details in the dim light of the storage unit. The shapes and symbols on the artifacts blur together, making it impossible for you to discern their significance or value. Frustrated by your inability to uncover anything useful, you step back, feeling a pang of disappointment.\n",
      "\n",
      "The woman, noticing your interest in the artifacts, offers a sympathetic smile before turning her attention back to the task of assessing her newly acquired treasures.\n",
      "\n",
      "round summary: Kyle Jackson, after bidding unsuccessfully at the storage auction, managed to gain a brief look inside the winning storage unit. Despite his attempt to examine some intriguing artifacts, his effort was hampered by a failure to spot any hidden details, leaving him with no choice but to step back and reassess his options."
     ]
    },
    {
     "data": {
      "application/vnd.jupyter.widget-view+json": {
       "model_id": "13f96afae8944dd68b95221ffc34873f",
       "version_major": 2,
       "version_minor": 0
      },
      "text/plain": [
       "HBox(children=(Button(description='CUSTOM', style=ButtonStyle()),))"
      ]
     },
     "metadata": {},
     "output_type": "display_data"
    },
    {
     "name": "stdout",
     "output_type": "stream",
     "text": [
      "I am making a skill check using DODGE against a difficulty of MEDIUM.\n",
      "And I rolled a 39 for a result of SUCCESS. TURN: 5 \n",
      "\n",
      "\n",
      "你及时作出反应，巧妙地躲避了那只大狗的冲击。它在错失目标后，发出一声低沉的咆哮，然后转身逃离了餐厅，消失在了豪宅深处的阴影中。\n",
      "\n",
      "喘息之余，你感到一丝庆幸，同时也意识到这座豪宅中隐藏着不寻常的力量，甚至可能是超自然的存在。\n",
      "\n",
      "在确保安全之后，你决定继续探索餐厅，希望能找到一些有用的线索。餐厅内部除了那张长桌，还有一个大型的壁炉，看起来已经很久没有使用过了。壁炉的一侧，你注意到了一扇小门，似乎通往豪宅的另一个区域。\n",
      "\n",
      "就在你打算深入探索时，你突然听到了来自豪宅地下室的可怕声音，像是什么东西在哭泣，又像是在呻吟。\n",
      "\n",
      "此时，你意识到你的调查已经到了一个关键时刻。豪宅的秘密就隐藏在地下室中，而你必须找到进入地下室的方法。\n",
      "\n",
      "summary: 在成功躲避了一只凶猛大狗的攻击后，你在餐厅中发现了一扇通往豪宅另一区域的小门，并听到了来自地下室的可怕声音，意识到必须找到进入地下室的方法。"
     ]
    },
    {
     "data": {
      "application/vnd.jupyter.widget-view+json": {
       "model_id": "008ea232a6b2411b9febb5a1e355b804",
       "version_major": 2,
       "version_minor": 0
      },
      "text/plain": [
       "HBox(children=(Button(description='NEXT ROUND', layout=Layout(width='auto'), style=ButtonStyle()), Button(desc…"
      ]
     },
     "metadata": {},
     "output_type": "display_data"
    },
    {
     "name": "stdout",
     "output_type": "stream",
     "text": [
      "\n",
      "前倾提要:\n",
      "\"\"\"\n",
      "- 在成功躲避了一只凶猛大狗的攻击后，你在餐厅中发现了一扇通往豪宅另一区域的小门，并听到了来自地下室的可怕声音，意识到必须找到进入地下室的方法。\n",
      "\"\"\"\n",
      "\n",
      "\n",
      "现在你被地下室的尖叫所吸引，来到了地下室的入口。\n",
      "你要做什么？\n",
      "\n",
      "possible actions:\n",
      "1. 进入地下室。\n",
      "2. 拍摄地下室入口的照片。\n",
      "3. 试着在黑暗中寻找光源。\n"
     ]
    },
    {
     "data": {
      "application/vnd.jupyter.widget-view+json": {
       "model_id": "18e26bd327ed402d9a1de1d9aa60adcf",
       "version_major": 2,
       "version_minor": 0
      },
      "text/plain": [
       "HBox(children=(Button(description='1', layout=Layout(width='auto'), style=ButtonStyle(), tooltip='进入地下室。'), Bu…"
      ]
     },
     "metadata": {},
     "output_type": "display_data"
    }
   ],
   "source": [
    "import re\n",
    "import tomllib\n",
    "import functools\n",
    "from typing import Literal\n",
    "\n",
    "import ipywidgets as widgets\n",
    "from IPython.display import display\n",
    "\n",
    "from dotenv import load_dotenv\n",
    "from numpy import character\n",
    "load_dotenv()\n",
    "\n",
    "from rs import Message, Config, chat\n",
    "import d20\n",
    "\n",
    "action_pattern = re.compile(r\"(\\d+). *(.+)\")\n",
    "skill_pattern = re.compile(r\"[\\w_]+\")\n",
    "skill_difficulty_pattern = re.compile(r\"(easy|medium|hard)\")\n",
    "\n",
    "def next_round(b):\n",
    "    global current_round, initial_messages\n",
    "    current_round += 1\n",
    "    initial_messages = config.initial_messages(current_round, config.metadata)\n",
    "\n",
    "    print(initial_messages[-1].content)\n",
    "    display(get_controls(initial_messages[-1]))\n",
    "\n",
    "def get_user_message_tail():\n",
    "    count = 0\n",
    "    for msg in initial_messages:\n",
    "        if msg.role == \"user\":\n",
    "            count += 1\n",
    "\n",
    "    is_final =  \", FINAL ROUND\" if  current_round == len(config.rounds) else \"\"\n",
    "    return f\"TURN: {count + 1} {is_final}\"\n",
    "    \n",
    "\n",
    "def do_chat(role:Literal[\"user\", \"system\", \"assistant\"], content: str):\n",
    "    print(f\"{content}\\n\\n\")\n",
    "\n",
    "    initial_messages.append(Message(role=role, content=content))\n",
    "    msg = chat(initial_messages, lambda delta: print(delta, end=\"\"))\n",
    "\n",
    "    initial_messages.append(msg)\n",
    "    display(get_controls(msg))\n",
    "\n",
    "\n",
    "def on_skill(b, skill:str, difficulty:str):\n",
    "    content = f\"I am making a skill check using {skill.upper()} against a difficulty of {difficulty.upper()}.\"\n",
    "\n",
    "    d = difficulty.lower()\n",
    "    dc = 50\n",
    "    if d == \"easy\":\n",
    "        dc = 75\n",
    "    elif d == \"hard\":\n",
    "        dc = 25\n",
    "    roll = d20.roll(\"1d100\").total\n",
    "    result = \"Success\" if roll <= dc else \"Failure\"\n",
    "    if roll == 1:\n",
    "        result = \"Critical Success\"\n",
    "    elif roll == 100:\n",
    "        result = \"Critical Failure\"\n",
    "\n",
    "    content += f\"\\nAnd I rolled a {roll} for a result of {result.upper()}. {get_user_message_tail()}\"\n",
    "    do_chat(\"user\", content)\n",
    "\n",
    "def on_action(b, index:int):\n",
    "    content = f\"I select option {index}. {get_user_message_tail()}\"\n",
    "    do_chat(\"user\", content)\n",
    "\n",
    "def on_custom_input(b, input:widgets.Text):\n",
    "    content = f\"{input.value}. {get_user_message_tail()}\"\n",
    "    do_chat(\"user\", content)\n",
    "\n",
    "def on_custom_action(b):\n",
    "    hbox = widgets.HBox(layout=widgets.Layout(width=\"100%\"))\n",
    "    action_text = widgets.Text(layout=widgets.Layout(width=\"100%\"))\n",
    "    submit = widgets.Button(description=\"SUBMIT\", layout=widgets.Layout(width=\"fit-content\"))\n",
    "    submit.on_click(functools.partial(on_custom_input, input=action_text))\n",
    "    hbox.children += (action_text, submit) \n",
    "    display(hbox)\n",
    "\n",
    "def get_controls(msg:Message) -> widgets.Box:\n",
    "    dict = msg.dict()\n",
    "    buttons = []\n",
    "    if \"possible actions\" in dict.keys():\n",
    "        matches = action_pattern.finditer(dict[\"possible actions\"])\n",
    "        for match in matches:\n",
    "            btn = widgets.Button(description=match.group(1), tooltip=match.group(2), layout=widgets.Layout(width=\"auto\"))\n",
    "            btn.on_click(functools.partial(on_action, index=int(match.group(1))))\n",
    "            buttons.append(btn)\n",
    "    elif \"skill\" in dict.keys() and \"difficulty\" in dict.keys():\n",
    "        match = skill_pattern.match(dict[\"skill\"])\n",
    "        skill = match.group(0)\n",
    "        match = skill_difficulty_pattern.match(dict[\"difficulty\"])\n",
    "        difficulty = match.group(0)\n",
    "        skill_button = widgets.Button(description=f\"{skill.upper()} [{difficulty.upper()}]\", layout=widgets.Layout(width=\"auto\"))\n",
    "        skill_button.on_click(functools.partial(on_skill, skill=skill, difficulty=difficulty))\n",
    "        buttons.append(skill_button)\n",
    "    elif \"summary\" in dict.keys():\n",
    "        # add summary as a memory to the metadata\n",
    "        # it will be used in the next round.\n",
    "        config.metadata[\"memories\"] = []\n",
    "        config.metadata[\"memories\"].append(dict[\"summary\"])\n",
    "        next_btn = widgets.Button(description=\"NEXT ROUND\", layout=widgets.Layout(width=\"auto\"))\n",
    "        next_btn.on_click(next_round)\n",
    "        buttons.append(next_btn)\n",
    "    \n",
    "    custom_action_button = widgets.Button(description=\"CUSTOM\")\n",
    "    custom_action_button.on_click(on_custom_action)\n",
    "    buttons.append(custom_action_button)\n",
    "\n",
    "    return widgets.HBox(buttons)\n",
    "\n",
    "# open config file\n",
    "config_name = \"data/coc_lot_36.toml\"\n",
    "config: Config | None = None\n",
    "with open(config_name, \"rb\") as f:\n",
    "    data = tomllib.load(f)\n",
    "    config = Config(**data)\n",
    "\n",
    "current_round = 0\n",
    "initial_messages = config.initial_messages(current_round, config.metadata)\n",
    "\n",
    "print(initial_messages[-1].content)\n",
    "display(get_controls(initial_messages[-1]))\n"
   ]
  }
 ],
 "metadata": {
  "kernelspec": {
   "display_name": ".venv",
   "language": "python",
   "name": "python3"
  },
  "language_info": {
   "codemirror_mode": {
    "name": "ipython",
    "version": 3
   },
   "file_extension": ".py",
   "mimetype": "text/x-python",
   "name": "python",
   "nbconvert_exporter": "python",
   "pygments_lexer": "ipython3",
   "version": "3.12.3"
  }
 },
 "nbformat": 4,
 "nbformat_minor": 2
}
