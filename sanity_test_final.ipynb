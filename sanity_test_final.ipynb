{
 "cells": [
  {
   "cell_type": "code",
   "execution_count": 112,
   "metadata": {},
   "outputs": [
    {
     "name": "stdout",
     "output_type": "stream",
     "text": [
      "sanity: 60\n",
      "delta sanity: 0\n",
      "tag: None\n",
      "content: I maintained my sanity.\n",
      "new sanity: 60\n"
     ]
    }
   ],
   "source": [
    "import random \n",
    "import d20\n",
    " \n",
    " # 首先输入玩家san值，以及投骰结果，返回掉了多少san值\n",
    "def first(sanity):\n",
    "    roll = d20.roll(\"1d100\").total\n",
    "    if roll < sanity:\n",
    "        return 0\n",
    "    return d20.roll(\"1d6\").total\n",
    "\n",
    "# 输入sanity的差值，以及玩家的智力，返回一个tag字符串（疯了），或者无返回（没疯）\n",
    "def second(delta_sanity, intelligence):\n",
    "    if delta_sanity >= 5 and d20.roll(\"1d100\").total > intelligence:\n",
    "        # go mad\n",
    "        rand = random.randrange(0, 5)\n",
    "        tags = [\n",
    "        \"fainting immediately\",\n",
    "        \"incoherent speech\",\n",
    "        \"uncontrollable twitching, trembling\",\n",
    "        \"delusions of persecution\",\n",
    "        \"strange appetites (dirt, clay, human flesh)\",\n",
    "        \"scratches, punches, and bruises all over the body\"\n",
    "        ]\n",
    "        return tags[rand]\n",
    "    return None\n",
    "\n",
    "# 输入sanity差值，以及tag，返回一段content描述\n",
    "def third(delta_sanity, symptom):\n",
    "    if delta_sanity == 0:\n",
    "        return \"I maintained my sanity.\"\n",
    "    elif delta_sanity > 0 and tag is None:\n",
    "        return \"My sanity check failed, but I am not mad.\"\n",
    "    elif delta_sanity > 0 and tag is not None:\n",
    "         return f\"My sanity check failed. I got a mad symptom: {symptom}\"\n",
    "\n",
    "sanity = 60\n",
    "print(\"sanity:\", sanity)\n",
    "delta_sanity = first(sanity)  \n",
    "print(\"delta sanity:\", delta_sanity)\n",
    "# character[\"sanity\"] -= delta_sanity\n",
    "tag = second(delta_sanity, 45)\n",
    "print(\"tag:\", tag)\n",
    "# character[\"tag\"] += tag\n",
    "content = third(delta_sanity, tag)\n",
    "print(\"content:\", content)\n",
    "new_sanity = sanity - delta_sanity\n",
    "print(\"new sanity:\", new_sanity)"
   ]
  },
  {
   "cell_type": "code",
   "execution_count": 49,
   "metadata": {},
   "outputs": [
    {
     "name": "stdout",
     "output_type": "stream",
     "text": [
      "current_sanity: 70\n"
     ]
    },
    {
     "ename": "TypeError",
     "evalue": "unsupported operand type(s) for -: 'int' and 'function'",
     "output_type": "error",
     "traceback": [
      "\u001b[1;31m---------------------------------------------------------------------------\u001b[0m",
      "\u001b[1;31mTypeError\u001b[0m                                 Traceback (most recent call last)",
      "Cell \u001b[1;32mIn[49], line 46\u001b[0m\n\u001b[0;32m     44\u001b[0m player_current_sanity \u001b[38;5;241m=\u001b[39m \u001b[38;5;241m70\u001b[39m\n\u001b[0;32m     45\u001b[0m \u001b[38;5;28mprint\u001b[39m(\u001b[38;5;124m\"\u001b[39m\u001b[38;5;124mcurrent_sanity:\u001b[39m\u001b[38;5;124m\"\u001b[39m, player_current_sanity)\n\u001b[1;32m---> 46\u001b[0m new_sanity \u001b[38;5;241m=\u001b[39m \u001b[43mplayer_current_sanity\u001b[49m\u001b[43m \u001b[49m\u001b[38;5;241;43m-\u001b[39;49m\u001b[43m \u001b[49m\u001b[43mcalculate_sanity_loss\u001b[49m\n\u001b[0;32m     47\u001b[0m \u001b[38;5;28mprint\u001b[39m(\u001b[38;5;124m\"\u001b[39m\u001b[38;5;124mnew sanity:\u001b[39m\u001b[38;5;124m\"\u001b[39m, new_sanity)\n\u001b[0;32m     48\u001b[0m player_intelligence \u001b[38;5;241m=\u001b[39m \u001b[38;5;241m30\u001b[39m\n",
      "\u001b[1;31mTypeError\u001b[0m: unsupported operand type(s) for -: 'int' and 'function'"
     ]
    }
   ],
   "source": [
    "import random  # Importing for simulating dice rolls\n",
    "\n",
    "def calculate_sanity_loss(current_sanity, dice_result_1d100):\n",
    "    if dice_result_1d100 <= current_sanity:\n",
    "        return 0\n",
    "    else:\n",
    "        # Simulating the second roll (1d6 for sanity loss)\n",
    "        return random.randint(1, 6)  \n",
    "\n",
    "def check_if_mad(sanity_loss_point, player_intelligence):\n",
    "    if sanity_loss_point in [5, 6]:\n",
    "        # Simulate an intelligence check roll (1d100)\n",
    "        intelligence_check_roll = random.randint(1, 100)\n",
    "        if intelligence_check_roll > player_intelligence:\n",
    "            return \"mad\"\n",
    "    return \"not\"\n",
    "\n",
    "def determine_mad_symptom():\n",
    "    symptoms = [\n",
    "        \"Fainting on the spot\",\n",
    "        \"Incoherent speech\",\n",
    "        \"Uncontrollable twitching, trembling\",\n",
    "        \"Delusions of persecution\",\n",
    "        \"Strange appetites (dirt, clay, human flesh)\",\n",
    "        \"Scratches, punches, and bruises all over the body\"\n",
    "    ]\n",
    "    # Simulate symptom selection roll (1d6)\n",
    "    symptom_roll = random.randint(1, 6)\n",
    "    return symptoms[symptom_roll - 1]  # Zero-based index adjustment\n",
    "\n",
    "def sanity_check_summary(current_sanity, player_intelligence):\n",
    "    first_roll = random.randint(1, 100)  # First sanity check roll (1d100)\n",
    "    loss = calculate_sanity_loss(current_sanity, first_roll)\n",
    "    \n",
    "    madness_state = check_if_mad(loss, player_intelligence)\n",
    "    \n",
    "    if madness_state == \"mad\":\n",
    "        symptom = determine_mad_symptom()\n",
    "        return f\"After a sanity check, the player loses {loss} sanity points, goes mad, displaying: {symptom}.\"\n",
    "    else:\n",
    "        return f\"After a sanity check, the player loses {loss} sanity points and remains calm.\"\n",
    "\n",
    "# Example usage:\n",
    "player_current_sanity = 70\n",
    "print(\"current_sanity:\", player_current_sanity)\n",
    "new_sanity = player_current_sanity - calculate_sanity_loss\n",
    "print(\"new sanity:\", new_sanity)\n",
    "player_intelligence = 30\n",
    "tag = determine_mad_symptom()\n",
    "print(\"tag:\", tag)\n",
    "content = sanity_check_summary(current_sanity, player_intelligence)\n",
    "print(\"content:\", content)"
   ]
  }
 ],
 "metadata": {
  "kernelspec": {
   "display_name": "Python 3",
   "language": "python",
   "name": "python3"
  },
  "language_info": {
   "codemirror_mode": {
    "name": "ipython",
    "version": 3
   },
   "file_extension": ".py",
   "mimetype": "text/x-python",
   "name": "python",
   "nbconvert_exporter": "python",
   "pygments_lexer": "ipython3",
   "version": "3.12.3"
  }
 },
 "nbformat": 4,
 "nbformat_minor": 2
}
