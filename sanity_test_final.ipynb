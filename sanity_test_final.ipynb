{
 "cells": [
  {
   "cell_type": "code",
   "execution_count": 18,
   "metadata": {},
   "outputs": [
    {
     "name": "stdout",
     "output_type": "stream",
     "text": [
      "delta sanity: 5\n",
      "tag: c\n",
      "content: My s c failed, but im  mad\n"
     ]
    }
   ],
   "source": [
    "import random \n",
    "import d20\n",
    " \n",
    " # s c\n",
    "def first(sanity):\n",
    "    roll = d20.roll(\"1d100\").total\n",
    "    if roll < sanity:\n",
    "        return 0\n",
    "    return d20.roll(\"1d6\").total\n",
    "\n",
    "# 输入sanity的差值，以及玩家的智力，返回一个tag字符串（疯了），或者无返回（没疯）\n",
    "def second(delta_sanity, intelligence):\n",
    "    if delta_sanity >= 5 and d20.roll(\"1d100\").total > intelligence:\n",
    "        # go mad\n",
    "        rand = random.randrange(0, 3)\n",
    "        tags = [\"a\", \"b\", \"c\"]\n",
    "        return tags[rand]\n",
    "    return None\n",
    "\n",
    "def third(delta_sanity, tag):\n",
    "    if delta_sanity == 0:\n",
    "        return \"I suvived with san...\"\n",
    "    elif delta_sanity > 0 and tag is None:\n",
    "        return \"My s c failed, but im not mad\"\n",
    "    elif delta_sanity > 0 and tag is not None:\n",
    "         return \"My s c failed, but im  mad\"\n",
    "\n",
    "delta_sanity = first(60)  \n",
    "print(\"delta sanity:\", delta_sanity)\n",
    "# character[\"sanity\"] -= delta_sanity\n",
    "tag = second(delta_sanity, 45)\n",
    "print(\"tag:\", tag)\n",
    "# character[\"tag\"] += tag\n",
    "content = third(delta_sanity, tag)\n",
    "print(\"content:\", content)\n"
   ]
  }
 ],
 "metadata": {
  "kernelspec": {
   "display_name": "Python 3",
   "language": "python",
   "name": "python3"
  },
  "language_info": {
   "codemirror_mode": {
    "name": "ipython",
    "version": 3
   },
   "file_extension": ".py",
   "mimetype": "text/x-python",
   "name": "python",
   "nbconvert_exporter": "python",
   "pygments_lexer": "ipython3",
   "version": "3.12.3"
  }
 },
 "nbformat": 4,
 "nbformat_minor": 2
}
