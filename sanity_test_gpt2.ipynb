{
 "cells": [
  {
   "cell_type": "code",
   "execution_count": 7,
   "metadata": {},
   "outputs": [
    {
     "name": "stdout",
     "output_type": "stream",
     "text": [
      "Beginning sanity: 20\n",
      "Sanity Check Roll: 30\n",
      "[tag: 4 sanity loss point]\n",
      "Remaining sanity: 16\n"
     ]
    }
   ],
   "source": [
    "import random\n",
    "\n",
    "def roll_dice(sides):\n",
    "    return random.randint(1, sides)\n",
    "\n",
    "def sanity_check(roll, player_sanity, loss, mad_symptom):\n",
    "    dice_result = roll\n",
    "    print(f\"Sanity Check Roll: {dice_result}\")\n",
    "\n",
    "    if dice_result <= player_sanity:\n",
    "        print(\"[tag: Sanity maintained]\")\n",
    "    else:\n",
    "        sanity_loss = loss\n",
    "        if sanity_loss < 5:\n",
    "            print(f\"[tag: {sanity_loss} sanity loss point]\")\n",
    "        else:\n",
    "            madness_roll = mad_symptom\n",
    "            symptoms = [\n",
    "                \"Fainting on the spot\",\n",
    "                \"Incoherent speech\",\n",
    "                \"Uncontrollable twitching, trembling\",\n",
    "                \"Delusions of persecution\",\n",
    "                \"Strange appetites (dirt, clay, human flesh)\",\n",
    "                \"Scratches, punches, and bruises all over the body\"\n",
    "            ]\n",
    "            print(f\"[tag: {symptoms[madness_roll-1]} mad symptom]\")\n",
    "        player_sanity -= sanity_loss\n",
    "\n",
    "    return player_sanity\n",
    "\n",
    "# Example usage:\n",
    "player_sanity = 20\n",
    "print(\"Beginning sanity:\", player_sanity)\n",
    "player_sanity = sanity_check(30, 20, 4, 3)\n",
    "print(\"Remaining sanity:\", player_sanity)"
   ]
  },
  {
   "cell_type": "code",
   "execution_count": 8,
   "metadata": {},
   "outputs": [
    {
     "name": "stdout",
     "output_type": "stream",
     "text": [
      "Beginning sanity: 20\n",
      "Sanity Check Roll: 60\n",
      "[tag: Strange appetites (dirt, clay, human flesh) mad symptom]\n",
      "Remaining sanity: 14\n"
     ]
    }
   ],
   "source": [
    "player_sanity = 20\n",
    "print(\"Beginning sanity:\", player_sanity)\n",
    "player_sanity = sanity_check(60, 20, 6, 5)\n",
    "print(\"Remaining sanity:\", player_sanity)"
   ]
  },
  {
   "cell_type": "code",
   "execution_count": 9,
   "metadata": {},
   "outputs": [
    {
     "name": "stdout",
     "output_type": "stream",
     "text": [
      "Beginning sanity: 40\n",
      "Sanity Check Roll: 20\n",
      "[tag: Sanity maintained]\n",
      "Remaining sanity: 40\n"
     ]
    }
   ],
   "source": [
    "player_sanity = 40\n",
    "print(\"Beginning sanity:\", player_sanity)\n",
    "player_sanity = sanity_check(20, 40, 6, 5)\n",
    "print(\"Remaining sanity:\", player_sanity)"
   ]
  }
 ],
 "metadata": {
  "kernelspec": {
   "display_name": "Python 3",
   "language": "python",
   "name": "python3"
  },
  "language_info": {
   "codemirror_mode": {
    "name": "ipython",
    "version": 3
   },
   "file_extension": ".py",
   "mimetype": "text/x-python",
   "name": "python",
   "nbconvert_exporter": "python",
   "pygments_lexer": "ipython3",
   "version": "3.12.3"
  }
 },
 "nbformat": 4,
 "nbformat_minor": 2
}
