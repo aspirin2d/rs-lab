{
 "cells": [
  {
   "cell_type": "code",
   "execution_count": 7,
   "metadata": {},
   "outputs": [
    {
     "name": "stdout",
     "output_type": "stream",
     "text": [
      "Hello, Alice!\n",
      "Hello, Charlie!\n"
     ]
    }
   ],
   "source": [
    "# 定义一个函数\n",
    "def greet(name):\n",
    "    return f\"Hello, {name}!\"\n",
    "\n",
    "# 使用函数\n",
    "print(greet(\"Alice\"))\n",
    "\n",
    "# 判断条件并循环输出\n",
    "names = [\"Alice\", \"Bob\", \"Charlie\"]\n",
    "for name in names:\n",
    "    if name.startswith(\"B\" and \"C\"):\n",
    "        print(greet(name))"
   ]
  },
  {
   "cell_type": "code",
   "execution_count": 7,
   "metadata": {},
   "outputs": [
    {
     "name": "stdout",
     "output_type": "stream",
     "text": [
      "132.3\n",
      "132.3lbs\n"
     ]
    }
   ],
   "source": [
    "weight_kg = 60\n",
    "weight_lb = int(weight_kg) * 2.205 \n",
    "print(weight_lb)\n",
    "print(str(weight_lb) + 'lbs') #加单位，string+string"
   ]
  },
  {
   "cell_type": "code",
   "execution_count": 3,
   "metadata": {},
   "outputs": [
    {
     "name": "stdout",
     "output_type": "stream",
     "text": [
      "P\n",
      "'\n",
      "Pytho\n",
      "ython for 'Beginners'\n",
      "Py\n",
      "ython for 'Beginners\n"
     ]
    }
   ],
   "source": [
    "course = \"Python for 'Beginners'\" \n",
    "print(course[0]) #读取第0个字符，正数从0开始\n",
    "print(course[-1]) #读取倒数第一个字符\n",
    "print(course[0:5]) #读取第0到第5个字符\n",
    "print(course[1:]) #排除第一个字符\n",
    "print(course[:2]) #读取第0到第2个字符\n",
    "print(course[1:-1]) #排除第一个和倒数第一个字符"
   ]
  }
 ],
 "metadata": {
  "kernelspec": {
   "display_name": "Python 3",
   "language": "python",
   "name": "python3"
  },
  "language_info": {
   "codemirror_mode": {
    "name": "ipython",
    "version": 3
   },
   "file_extension": ".py",
   "mimetype": "text/x-python",
   "name": "python",
   "nbconvert_exporter": "python",
   "pygments_lexer": "ipython3",
   "version": "3.12.3"
  }
 },
 "nbformat": 4,
 "nbformat_minor": 2
}
