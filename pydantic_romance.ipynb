{
 "cells": [
  {
   "cell_type": "code",
   "execution_count": 1,
   "metadata": {},
   "outputs": [
    {
     "name": "stdout",
     "output_type": "stream",
     "text": [
      "Requirement already satisfied: fastapi in c:\\users\\administrator\\appdata\\local\\programs\\python\\python312\\lib\\site-packages (0.110.2)\n",
      "Requirement already satisfied: pydantic in c:\\users\\administrator\\appdata\\local\\programs\\python\\python312\\lib\\site-packages (2.7.0)\n",
      "Requirement already satisfied: toml in c:\\users\\administrator\\appdata\\local\\programs\\python\\python312\\lib\\site-packages (0.10.2)\n",
      "Requirement already satisfied: starlette<0.38.0,>=0.37.2 in c:\\users\\administrator\\appdata\\local\\programs\\python\\python312\\lib\\site-packages (from fastapi) (0.37.2)\n",
      "Requirement already satisfied: typing-extensions>=4.8.0 in c:\\users\\administrator\\appdata\\local\\programs\\python\\python312\\lib\\site-packages (from fastapi) (4.11.0)\n",
      "Requirement already satisfied: annotated-types>=0.4.0 in c:\\users\\administrator\\appdata\\local\\programs\\python\\python312\\lib\\site-packages (from pydantic) (0.6.0)\n",
      "Requirement already satisfied: pydantic-core==2.18.1 in c:\\users\\administrator\\appdata\\local\\programs\\python\\python312\\lib\\site-packages (from pydantic) (2.18.1)\n",
      "Requirement already satisfied: anyio<5,>=3.4.0 in c:\\users\\administrator\\appdata\\local\\programs\\python\\python312\\lib\\site-packages (from starlette<0.38.0,>=0.37.2->fastapi) (4.3.0)\n",
      "Requirement already satisfied: idna>=2.8 in c:\\users\\administrator\\appdata\\local\\programs\\python\\python312\\lib\\site-packages (from anyio<5,>=3.4.0->starlette<0.38.0,>=0.37.2->fastapi) (3.7)\n",
      "Requirement already satisfied: sniffio>=1.1 in c:\\users\\administrator\\appdata\\local\\programs\\python\\python312\\lib\\site-packages (from anyio<5,>=3.4.0->starlette<0.38.0,>=0.37.2->fastapi) (1.3.1)\n",
      "Note: you may need to restart the kernel to use updated packages.\n"
     ]
    }
   ],
   "source": [
    "%pip install fastapi pydantic toml"
   ]
  },
  {
   "cell_type": "code",
   "execution_count": null,
   "metadata": {},
   "outputs": [],
   "source": []
  },
  {
   "cell_type": "code",
   "execution_count": null,
   "metadata": {},
   "outputs": [
    {
     "name": "stdout",
     "output_type": "stream",
     "text": [
      "火车行驶在前往维也纳的旅程上，嘈杂的车厢和闷热的天气让你不免有些烦躁。当你抬头时，一个美丽的女孩映入你的眼帘——她坐在对面，专心致志地阅读手中的《致青年诗人的信》，阳光正从车窗斜斜地洒在一个美丽女孩的脸颊上，为她的轮廓镀上了一层金边。她身边散落着一些画具和一本摊开的素描本，显然是个酷爱艺术的人。虽然周围人声鼎沸，但她似乎完全沉浸在自己的世界中。就在她不经意地调整耳机时，短暂地与你目光相接，那一刻，时间仿佛静止。你感到一种无法抗拒的冲动，想要跨过车厢中的距离，用一句话打破这份静谧与隔阂。\n",
      "\n",
      "possible actions:\n",
      "1. \"《致青年诗人的信》，你也喜欢里尔克吗？\"\n",
      "2. \"嗨，可以借一下你的纸笔吗？\"\n",
      "3. \"这车厢真是吵闹，你怎么能在这样的环境下这么专注？\"\n"
     ]
    },
    {
     "data": {
      "application/vnd.jupyter.widget-view+json": {
       "model_id": "4dbd4d8cedc14ee7b4d33af3077700bb",
       "version_major": 2,
       "version_minor": 0
      },
      "text/plain": [
       "HBox(children=(Button(description='1', layout=Layout(width='auto'), style=ButtonStyle(), tooltip='\"《致青年诗人的信》，你…"
      ]
     },
     "metadata": {},
     "output_type": "display_data"
    },
    {
     "name": "stdout",
     "output_type": "stream",
     "text": [
      "I select option 1. TURN: 1 \n",
      "\n",
      "\n",
      "\"《致青年诗人的信》，你也喜欢里尔克吗？\" 你试图掩饰自己的紧张，微笑着开口。\n",
      "\n",
      "女孩抬头，有些惊讶地看着你，然后轻轻点头，\"嗯，是的。里尔克的诗，总能触动我内心最深处的某些东西。\" 她的声音很小，带着一点不确定，仿佛是在对陌生人说话时的害羞。\n",
      "\n",
      "你注意到她说话时的小动作，她轻轻咬了咬下唇，一瞬间的害羞让她看起来更加可爱。这让你更加想要继续这段对话，了解她更多。\n",
      "\n",
      "possible actions:\n",
      "1. \"我完全同意，他的诗有种魔力，能深深打动人心。你最喜欢他的哪首诗？\"\n",
      "2. \"我是杰西，美国人，正在环欧洲旅行。很高兴遇见像你这样有趣的人。\"\n",
      "3. \"这本书里有没有什么特别推荐的诗？我也很喜欢读诗，但对里尔克的作品不是很熟悉。\""
     ]
    },
    {
     "data": {
      "application/vnd.jupyter.widget-view+json": {
       "model_id": "a72be1944d2b464492fdf50bd1747c87",
       "version_major": 2,
       "version_minor": 0
      },
      "text/plain": [
       "HBox(children=(Button(description='1', layout=Layout(width='auto'), style=ButtonStyle(), tooltip='\"我完全同意，他的诗有种…"
      ]
     },
     "metadata": {},
     "output_type": "display_data"
    },
    {
     "name": "stdout",
     "output_type": "stream",
     "text": [
      "I select option 2. TURN: 2 \n",
      "\n",
      "\n",
      "\"我是杰西，美国人，正在环欧洲旅行。很高兴遇见像你这样有趣的人。\" 你伸出手，带着一丝自信的笑容。\n",
      "\n",
      "女孩略显害羞地回应你的微笑，她轻轻地和你握了握手，\"我叫席琳，是个学习艺术史的学生。很高兴遇见你，杰西。\" 她的声音逐渐变得更加自然，虽然还是有点小声，但你能感受到她试图克服内心的害羞。\n",
      "\n",
      "她的笑容里带着一点点好奇，\"环欧洲旅行听起来很有趣，你去过哪些地方呢？\" 她的表情变得更加放松，好像你们的对话给了她一种安心的感觉。\n",
      "\n",
      "possible actions:\n",
      "1. \"我已经去过几个城市了，像是巴黎、柏林、布达佩斯...每个地方都有它独特的美。\"\n",
      "2. \"说实话，我最期待的就是维也纳，因为音乐和艺术的氛围。你呢，席琳，对艺术史有什么特别的兴趣吗？\"\n",
      "3. \"其实我觉得旅行的意义不在于你去了哪里，而是在于旅途中遇到的人和事。比如说，现在和你的这次邂逅。\""
     ]
    },
    {
     "data": {
      "application/vnd.jupyter.widget-view+json": {
       "model_id": "0bcbe3847b3c4169999928bd9c11d473",
       "version_major": 2,
       "version_minor": 0
      },
      "text/plain": [
       "HBox(children=(Button(description='1', layout=Layout(width='auto'), style=ButtonStyle(), tooltip='\"我已经去过几个城市了，…"
      ]
     },
     "metadata": {},
     "output_type": "display_data"
    },
    {
     "name": "stdout",
     "output_type": "stream",
     "text": [
      "I select option 3. TURN: 3 \n",
      "\n",
      "\n",
      "\"其实我觉得旅行的意义不在于你去了哪里，而是在于旅途中遇到的人和事。比如说，现在和你的这次邂逅。\" 你真诚地说着，试图捕捉她的反应。\n",
      "\n",
      "席琳的脸上露出了微笑，眼睛弯成了月牙形，似乎你的话语深深触动了她。\"我非常同意你的看法，杰西。人与人之间的相遇，有时候比目的地本身更加珍贵。\" 她的声音里充满了温暖和理解，她的态度也显得更加放松和自然。\n",
      "\n",
      "她顿了一下，然后继续说道，\"我之前去布达佩斯是看望我的祖母，现在在回巴黎大学的路上。虽然这次旅行主要是为了家庭，但我总是试图在每次旅行中寻找一些特别的体验和遇见一些有趣的人。\" 席琳的笑容中透露出一种对生活的热爱和对未知的好奇。\n",
      "\n",
      "随着对话的深入，你发现她开始更频繁地与你目光交汇，笑容中充满了温暖和友好。这次偶遇似乎给你们两个人都带来了意想不到的欢乐和思考。\n",
      "\n",
      "game master:\n",
      "-|context of the round|-\n",
      "summary: 在这个回合里，杰西和席琳在火车上的偶遇逐渐从陌生人变成了有趣的旅途伙伴。从最初的文学兴趣的共鸣，到杰西的自我介绍，再到对旅行真正意义的探讨，两人之间的对话不仅打破了最初的尴尬，还激发了彼此对对方的好奇心和兴趣。席琳从一开始的害羞不安，逐步变得更加自在和开放，开始主动分享她的旅行经历和对生活的看法。两人在回合结束时已经建立起了一种微妙而美好的连接，为之后的互动埋下了温暖的种子。"
     ]
    },
    {
     "data": {
      "application/vnd.jupyter.widget-view+json": {
       "model_id": "61582d23ad52487d96502c4b0d3a6b23",
       "version_major": 2,
       "version_minor": 0
      },
      "text/plain": [
       "HBox(children=(Button(description='NEXT ROUND', layout=Layout(width='auto'), style=ButtonStyle()), Button(desc…"
      ]
     },
     "metadata": {},
     "output_type": "display_data"
    },
    {
     "name": "stdout",
     "output_type": "stream",
     "text": [
      "随着火车轻轻摇晃，静静地朝着维也纳前行，你和席琳的对话逐渐深入。\n",
      "\n",
      "席琳的眼睛闪烁着好奇的光芒，她微微倾身向你，带着兴趣盎然的神情问道：“你的环游欧洲之旅中有没有遇到什么特别有意思的事情？”她的声音中充满了期待，似乎在想象那些她未曾经历的冒险。\n",
      "\n",
      "你笑了笑，手指轻敲着车窗边的桌面，思考从何讲起，然后兴奋地回应：“当然了，这一路上充满了不可思议的冒险，从故事的哪个部分开始呢？” \n",
      "\n",
      "possible actions:\n",
      "1. \"在意大利，我意外参与了一个传统的葡萄酒节...\"\n",
      "2. \"在希腊的克里特岛，我们决定去附近的一个未标记的洞穴探险...\"\n",
      "3. \"有一次，我在瑞士阿尔卑斯山中迷路了...\"\n"
     ]
    },
    {
     "data": {
      "application/vnd.jupyter.widget-view+json": {
       "model_id": "ec06cb871dc3482699f97bfb8cf1fd54",
       "version_major": 2,
       "version_minor": 0
      },
      "text/plain": [
       "HBox(children=(Button(description='1', layout=Layout(width='auto'), style=ButtonStyle(), tooltip='\"在意大利，我意外参与了…"
      ]
     },
     "metadata": {},
     "output_type": "display_data"
    },
    {
     "name": "stdout",
     "output_type": "stream",
     "text": [
      "I select option 1. TURN: 1 \n",
      "\n",
      "\n",
      "眼睛闪烁着兴奋的光芒，你开始讲述：“在意大利，我意外参与了一个传统的葡萄酒节。那是个阳光明媚的下午，整个小镇都沉浸在欢乐和葡萄酒的香气中。”你的脸上洋溢着回忆的笑容，似乎那个场景就在眼前。\n",
      "\n",
      "席琳听得入迷，她的眼睛里充满了向往，轻轻地问：“那听起来真的很有趣，你一定度过了一个难忘的下午吧？我从来没有参加过那样的节日活动。”她的声音略显遗憾，手指不自觉地摩挲着书的封面。\n",
      "\n",
      "possible actions:\n",
      "1. \"是的，真的非常难忘。你呢，有没有梦想中的冒险呢？\"\n",
      "2. \"那天确实很特别。你有兴趣尝试一些新的冒险吗？比如说，和我一起在维也纳下车逛逛？\"\n",
      "3. \"以后有机会，我们可以一起参加类似的节日。你感兴趣吗？\""
     ]
    },
    {
     "data": {
      "application/vnd.jupyter.widget-view+json": {
       "model_id": "2d8ac963cc294787bdc89c9142fab7fc",
       "version_major": 2,
       "version_minor": 0
      },
      "text/plain": [
       "HBox(children=(Button(description='1', layout=Layout(width='auto'), style=ButtonStyle(), tooltip='\"是的，真的非常难忘。你…"
      ]
     },
     "metadata": {},
     "output_type": "display_data"
    },
    {
     "name": "stdout",
     "output_type": "stream",
     "text": [
      "I select option 1. TURN: 2 \n",
      "\n",
      "\n",
      "\"是的，真的非常难忘。你呢，有没有梦想中的冒险呢？\" 你好奇地问道，眼神里满是期待。\n",
      "\n",
      "席琳有些害羞地低下头，轻轻咬了咬嘴唇，然后小声说道：“嗯，我一直梦想着去一个遥远的地方，像是埃及或者秘鲁，探索那里的古迹。”她的眼睛里闪现出一丝追梦的光芒，但很快又黯淡下来，“但我总是觉得那些只能是梦想。”\n",
      "\n",
      "possible actions:\n",
      "1. \"梦想总有实现的一天，也许我们可以一起制定一个探险计划？\"\n",
      "2. \"为什么只是梦想呢？我们可以从小冒险开始，比如在维也纳开始你的冒险之旅怎么样？\"\n",
      "3. \"每个梦想都值得追求，也许你的第一步可以从维也纳开始，让这成为你的第一个冒险故事？\""
     ]
    },
    {
     "data": {
      "application/vnd.jupyter.widget-view+json": {
       "model_id": "7805c250ca4a428e809535565532fa00",
       "version_major": 2,
       "version_minor": 0
      },
      "text/plain": [
       "HBox(children=(Button(description='1', layout=Layout(width='auto'), style=ButtonStyle(), tooltip='\"梦想总有实现的一天，也…"
      ]
     },
     "metadata": {},
     "output_type": "display_data"
    },
    {
     "name": "stdout",
     "output_type": "stream",
     "text": [
      "I select option 2. TURN: 3 \n",
      "\n",
      "\n",
      "\"为什么只是梦想呢？我们可以从小冒险开始，比如在维也纳开始你的冒险之旅怎么样？\" 你鼓励地说道，试图点燃她心中的冒险之火。\n",
      "\n",
      "席琳的眼睛微微放大，显得有些惊讶，但很快她的表情中露出了思考的神情。过了一会儿，她轻声回答，带着一丝不确定：“这...这真的好吗？我从来没有一个人在陌生的地方冒险过。”她的声音渐渐坚定，似乎在与自己的犹豫做着斗争。\n",
      "\n",
      "possible actions:\n",
      "1. \"当然好，我会在你身边的。这将是一个美好的开始，我们可以一起探索维也纳的美。\"\n",
      "2. \"这是一个完美的机会，让自己的生活增添一点冒险。我保证，会有我在，不会有任何问题的。\"\n",
      "3. \"生活就是一系列的冒险，不是吗？让我们一起踏出这一步，我相信你会喜欢的。\""
     ]
    },
    {
     "data": {
      "application/vnd.jupyter.widget-view+json": {
       "model_id": "dbcee7815894401da1d12aa3ab9be302",
       "version_major": 2,
       "version_minor": 0
      },
      "text/plain": [
       "HBox(children=(Button(description='1', layout=Layout(width='auto'), style=ButtonStyle(), tooltip='\"当然好，我会在你身边的…"
      ]
     },
     "metadata": {},
     "output_type": "display_data"
    },
    {
     "name": "stdout",
     "output_type": "stream",
     "text": [
      "I select option 3. TURN: 4 \n",
      "\n",
      "\n",
      "\"生活就是一系列的冒险，不是吗？让我们一起踏出这一步，我相信你会喜欢的。\" 你满怀信心地鼓励席琳，希望她能够接受这个小小的挑战。\n",
      "\n",
      "席琳的脸上露出了微笑，眼睛里的光芒逐渐明亮，仿佛被你的话语点燃了某种火花。她深吸了一口气，然后勇敢地说道：“好吧，我会试试的。和你一起，我觉得应该会很有趣。”她的声音虽然仍有些紧张，但已经有了决心。\n",
      "\n",
      "-|context of the round|-\n",
      "summary: 杰西和席琳在火车上关于旅行和冒险的聊天，让两人的距离逐渐拉近。杰西分享了他在意大利参加传统葡萄酒节的冒险经历，激发了席琳对冒险的向往。随着对话的深入，席琳逐渐克服了她的害羞和犹豫，最终答应了和杰西一起在维也纳下车，开始她的第一次冒险之旅。整个回合中，两人的对话营造了一种温馨暧昧的氛围，为他们共同的旅程埋下了浪漫的种子。"
     ]
    },
    {
     "data": {
      "application/vnd.jupyter.widget-view+json": {
       "model_id": "af279afeed22419a933922c6a00951d9",
       "version_major": 2,
       "version_minor": 0
      },
      "text/plain": [
       "HBox(children=(Button(description='NEXT ROUND', layout=Layout(width='auto'), style=ButtonStyle()), Button(desc…"
      ]
     },
     "metadata": {},
     "output_type": "display_data"
    },
    {
     "name": "stdout",
     "output_type": "stream",
     "text": [
      "你和席琳在维也纳下了车，在街头漫步。“真不敢相信我居然和刚认识的人跳下车，这是我做过最疯狂的决定。”席琳笑起来露出两个酒窝，笑声像孩子一般天真。你闻言笑了笑，“放心吧，我可不是什么坏人。”言语间的玩笑意味明显，让气氛更加轻松。“你知道吗，我...从来没有这么随性过”，她的声音低沉而带着一丝狂野的轻快，“但...我不想...让自己后悔。” 她注视着你，眼里带着几分羞涩和决意。但当你回望她的那一刻，她的眼神又迅速躲开了。\n",
      "\n",
      "气氛变得微妙，这番话让你心底涌出一股暖流，你轻轻靠近她，目光深情且认真。“席琳，我很高兴你下了车。”听到这些，席琳的笑容更加灿烂了，她害羞地低下头，长睫毛轻轻颤动，掩不住她的喜悦和内心的澎湃，“那么，接下来我们去哪里呢？”\n",
      "\n",
      "possible actions:\n",
      "1. 去公园散步。\n",
      "2. 去广场逛逛。\n",
      "3. 去喝咖啡。\n"
     ]
    },
    {
     "data": {
      "application/vnd.jupyter.widget-view+json": {
       "model_id": "9848b4c3ad49499ba60b98e158173dfc",
       "version_major": 2,
       "version_minor": 0
      },
      "text/plain": [
       "HBox(children=(Button(description='1', layout=Layout(width='auto'), style=ButtonStyle(), tooltip='去公园散步。'), Bu…"
      ]
     },
     "metadata": {},
     "output_type": "display_data"
    },
    {
     "name": "stdout",
     "output_type": "stream",
     "text": [
      "I select option 2. TURN: 1 \n",
      "\n",
      "\n",
      "你微笑着回答：“去广场逛逛怎么样？我听说那里晚上特别美。”席琳的脸上立刻绽放出兴奋的笑容，“我超喜欢广场晚上的氛围，听说那里有很多艺术家和街头表演。”她的眼睛闪烁着期待的光芒，显得更加活泼。\n",
      "\n",
      "你们一边走向广场，一边聊着欧洲的艺术与文化。席琳对艺术史有着浓厚的兴趣，她谈到自己的梦想时，眼睛里全是对未来的憧憬，“我总梦想着能有一天，我能为世界上最伟大的博物馆之一策划展览。”她的声音中充满了热情。\n",
      "\n",
      "到了广场，两人一起欣赏着周围的街头表演和艺术品摊位，席琳对每一件艺术品都表现出浓厚的兴趣，她的热情感染了你，让你对艺术也产生了兴趣。“你看这个画家的用色，多么的生动啊！”席琳指着一个画家的作品，眼里闪烁着赞赏的光芒。\n",
      "\n",
      "你笑着点点头，心想这次的决定真是太对了。在这样一个美好的夜晚，和席琳一起探索艺术的世界，感觉一切都变得不那么重要了，只剩下此刻的美好。\n",
      "\n",
      "possible actions:\n",
      "1. 问席琳关于她最喜欢的艺术家。\n",
      "2. 分享一下自己对艺术的看法。\n",
      "3. 询问席琳她对未来的梦想。"
     ]
    },
    {
     "data": {
      "application/vnd.jupyter.widget-view+json": {
       "model_id": "bded0eb6ec044ed3a16967562b3f6241",
       "version_major": 2,
       "version_minor": 0
      },
      "text/plain": [
       "HBox(children=(Button(description='1', layout=Layout(width='auto'), style=ButtonStyle(), tooltip='问席琳关于她最喜欢的艺术…"
      ]
     },
     "metadata": {},
     "output_type": "display_data"
    },
    {
     "name": "stdout",
     "output_type": "stream",
     "text": [
      "I select option 3. TURN: 2 \n",
      "\n",
      "\n",
      "在艺术品摊位前，你转向席琳，温柔地问：“你刚才提到了自己的梦想，能多告诉我一些吗？关于你对未来的想象。”席琳的眼神中闪过一丝惊喜，显然没想到你会这么认真地询问她的梦想。\n",
      "\n",
      "她深吸了一口气，眼神变得坚定而充满梦想，“我...我真的很希望能成为一名设计师，或者...或者在艺术领域做一些大胆的尝试。”她的声音有一丝紧张和期待，“我一直对设计和创造性的工作充满热情。我父母希望我能成为一名老师，因为那更稳定，但我...我真的很想追求自己的梦想。”\n",
      "\n",
      "听到席琳如此坦诚地分享她的梦想和内心的挣扎，你不由得对她充满了敬意。“我觉得你应该追求自己的梦想，”你鼓励她，“即使路上充满了挑战，但那才是属于你自己的路，不是吗？”\n",
      "\n",
      "席琳听后，眼里闪烁着感激的光芒，她轻轻咬了咬嘴唇，然后露出了一个灿烂的笑容，“谢谢你，杰西。听你这么说，我感觉好多了。”她的笑容中带着释然和勇气，仿佛你的鼓励给了她前行的力量。\n",
      "\n",
      "此时的气氛变得更加温暖，你们之间的关系也因此而更加紧密。分享梦想和彼此的理解，让这个晚上变得更加难忘。\n",
      "\n",
      "possible actions:\n",
      "1. 分享自己的梦想和对未来的看法。\n",
      "2. 邀请席琳去附近的酒吧，听听音乐放松一下。\n",
      "3. 继续探索广场，寻找更多有趣的艺术品。"
     ]
    },
    {
     "data": {
      "application/vnd.jupyter.widget-view+json": {
       "model_id": "4280ee304b2f49df9cc0b17692357a7a",
       "version_major": 2,
       "version_minor": 0
      },
      "text/plain": [
       "HBox(children=(Button(description='1', layout=Layout(width='auto'), style=ButtonStyle(), tooltip='分享自己的梦想和对未来的…"
      ]
     },
     "metadata": {},
     "output_type": "display_data"
    },
    {
     "name": "stdout",
     "output_type": "stream",
     "text": [
      "I select option 2. TURN: 3 \n",
      "\n",
      "\n",
      "在深入的交流后，你觉得是时候换个氛围了。你向席琳提议，“听说附近有个酒吧，今晚有音乐演出。我们去那儿放松一下如何？”席琳的眼睛里立刻闪现出兴奋的光芒，“哇，听起来真的很棒！我喜欢音乐，尤其是现场演出。”\n",
      "\n",
      "你们一同前往那家酒吧。沿途上，席琳显得更加放松和自由，她和你分享她对音乐的喜爱，尤其是Etta James的音乐。“我觉得她的音乐有种魔力，能直击人心。”席琳说着，不自觉地随着记忆中的旋律轻轻摇摆。\n",
      "\n",
      "到达酒吧时，氛围热烈而迷人。灯光昏暗却不失温馨，现场演出的音乐充满了魅力，让人不由自主地被吸引。你和席琳找了个靠窗的位置坐下，点了两杯酒。随着音乐的节奏，你们的对话也变得更加轻松愉快。\n",
      "\n",
      "“真的很谢谢你今晚带我来这里，杰西。”席琳看着你，眼里满是感激，“这真是一个完美的夜晚。”她的笑容在昏暗的灯光下显得特别迷人，你不禁被她的魅力深深吸引。\n",
      "\n",
      "“我也很高兴能和你一起享受这个夜晚，席琳。”你回应着，心中满是喜悦。此时此刻，你感觉和席琳之间的距离更近了一步，这个晚上，注定成为你们共同回忆中美好的一章。\n",
      "\n",
      "随着音乐的落幕，你们也意犹未尽地离开了酒吧，相约未来还要一起探索更多的美妙夜晚。今晚的经历，让你们的关系更加深厚，也让你们对未来充满了期待。\n",
      "\n",
      "game master:\n",
      "-|context of the round|-\n",
      "summary: 在这个回合中，杰西和席琳在维也纳的广场上一起探索艺术，并深入交流了彼此的梦想。通过共享个人的梦想和对未来的看法，他们的关系变得更加紧密。最后，他们一起去了附近的酒吧，享受了一个充满音乐和愉快对话的夜晚，让他们的相遇变得更加难忘。"
     ]
    },
    {
     "data": {
      "application/vnd.jupyter.widget-view+json": {
       "model_id": "d05263839ce34646ae1897ee84daa47a",
       "version_major": 2,
       "version_minor": 0
      },
      "text/plain": [
       "HBox(children=(Button(description='NEXT ROUND', layout=Layout(width='auto'), style=ButtonStyle()), Button(desc…"
      ]
     },
     "metadata": {},
     "output_type": "display_data"
    },
    {
     "name": "stdout",
     "output_type": "stream",
     "text": [
      "酒吧内人声鼎沸，摇滚乐队的现场演出将氛围推至高潮。人群密集地挤在舞台前，挥舞着手臂，陶醉于音乐之中。\n",
      "\n",
      "你们找了个角落的位置坐下，点了两杯酒。席琳注视着台上的摇滚乐队，身体不自觉地跟着律动摇摆起来。她的嘴角带笑，露出浅浅的酒窝，偶尔还轻声地跟着乐队的旋律哼唱。\n",
      "\n",
      "“没想到你居然喜欢听摇滚。”你惊喜地发现她的另一面。“哈哈哈，不要被我的外表欺骗了。”她看向你，对你眨眨眼，“我的父母让我从小学古典钢琴，但我偷偷藏了Patti Smith全部的专辑。”\n",
      "\n",
      "眼前这个女孩好像更鲜活了，也更可爱了。你看着眼前这个让你一见钟情的女孩，想问一些关键性的问题。\n",
      "\n",
      "possible actions:\n",
      "1. \"你的初恋是在什么时候?\"\n",
      "2. \"你...有男朋友吗?\"\n",
      "3. \"有没有你最难忘的某一任?\"\n"
     ]
    },
    {
     "data": {
      "application/vnd.jupyter.widget-view+json": {
       "model_id": "9612c4d7d1c54bd4b01b8014a286cb5f",
       "version_major": 2,
       "version_minor": 0
      },
      "text/plain": [
       "HBox(children=(Button(description='1', layout=Layout(width='auto'), style=ButtonStyle(), tooltip='\"你的初恋是在什么时候?…"
      ]
     },
     "metadata": {},
     "output_type": "display_data"
    },
    {
     "name": "stdout",
     "output_type": "stream",
     "text": [
      "I select option 2. TURN: 1 \n",
      "\n",
      "\n",
      "你犹豫了一下，但还是鼓起勇气，试图探查她的感情世界，\"你...有男朋友吗？\" 你尽力让自己的声音听起来轻松自然。\n",
      "\n",
      "席琳微微一愣，然后低下头，轻轻摇了摇头。她咬了咬嘴唇，轻声回答你，\"没有，我现在单身。\" 声音中带着一丝不确定，似乎是在思考这个问题对她意味着什么。\n",
      "\n",
      "她抬头看向你，眼神中带着一点探究，似乎也在试图了解你，\"你呢？\""
     ]
    },
    {
     "data": {
      "application/vnd.jupyter.widget-view+json": {
       "model_id": "e697cfe0bd1042f6b44c7fb657cc1b72",
       "version_major": 2,
       "version_minor": 0
      },
      "text/plain": [
       "HBox(children=(Button(description='CUSTOM', style=ButtonStyle()),))"
      ]
     },
     "metadata": {},
     "output_type": "display_data"
    },
    {
     "data": {
      "application/vnd.jupyter.widget-view+json": {
       "model_id": "e828af8bb1b740898f3f781ddd14cb51",
       "version_major": 2,
       "version_minor": 0
      },
      "text/plain": [
       "HBox(children=(Text(value='', layout=Layout(width='100%')), Button(description='SUBMIT', layout=Layout(width='…"
      ]
     },
     "metadata": {},
     "output_type": "display_data"
    },
    {
     "name": "stdout",
     "output_type": "stream",
     "text": [
      "我也没有. TURN: 2 \n",
      "\n",
      "\n",
      "你轻笑了一下，尽量保持轻松的语气，“我也没有。”你顿了一下，然后补充说，“其实，我刚从一段关系中走出来，来这次旅行是想给自己一点时间，你懂的，重新找回自己。”\n",
      "\n",
      "席琳听后，脸上的表情变得柔和，她似乎对你的坦白感到同情，同时也有一种不易察觉的安心感。“我觉得你做得对。有时候，一个人的旅行是最好的疗愈。”她微笑着，眼神中流露出一丝敬佩。\n",
      "\n",
      "她轻轻地把玻璃杯旋转在手中，然后说，“每个人的心里都有一段故事，不是吗？”"
     ]
    },
    {
     "data": {
      "application/vnd.jupyter.widget-view+json": {
       "model_id": "9d54c11080fe4cb09b5ff62e06e014f7",
       "version_major": 2,
       "version_minor": 0
      },
      "text/plain": [
       "HBox(children=(Button(description='CUSTOM', style=ButtonStyle()),))"
      ]
     },
     "metadata": {},
     "output_type": "display_data"
    }
   ],
   "source": [
    "import re\n",
    "import tomllib\n",
    "import functools\n",
    "from typing import Literal\n",
    "\n",
    "import ipywidgets as widgets\n",
    "from IPython.display import display\n",
    "\n",
    "from dotenv import load_dotenv\n",
    "\n",
    "load_dotenv()\n",
    "\n",
    "from rs import Message, Config, chat, skill_check\n",
    "import d20\n",
    "\n",
    "action_pattern = re.compile(r\"(\\d+). *(.+)\")\n",
    "skill_pattern = re.compile(r\"[\\w_]+\")\n",
    "skill_difficulty_pattern = re.compile(r\"(easy|medium|hard)\")\n",
    "\n",
    "def next_round(b):\n",
    "    global current_round, initial_messages\n",
    "    current_round += 1\n",
    "    initial_messages = config.initial_messages(current_round, config.metadata)\n",
    "\n",
    "    print(initial_messages[-1].content)\n",
    "    display(get_controls(initial_messages[-1]))\n",
    "\n",
    "def get_user_message_tail():\n",
    "    count = 0\n",
    "    for msg in initial_messages:\n",
    "        if msg.role == \"user\":\n",
    "            count += 1\n",
    "\n",
    "    is_final =  \", FINAL ROUND\" if  current_round == len(config.rounds) else \"\"\n",
    "    return f\"TURN: {count + 1} {is_final}\"\n",
    "    \n",
    "\n",
    "def do_chat(role:Literal[\"user\", \"system\", \"assistant\"], content: str):\n",
    "    print(f\"{content}\\n\\n\")\n",
    "\n",
    "    initial_messages.append(Message(role=role, content=content))\n",
    "    msg = chat(initial_messages, lambda delta: print(delta, end=\"\"))\n",
    "\n",
    "    initial_messages.append(msg)\n",
    "    display(get_controls(msg))\n",
    "\n",
    "\n",
    "def on_skill(b, skill:str, difficulty:str):\n",
    "    content = skill_check(skill, difficulty, config.metadata)\n",
    "    content += f\"\\n{get_user_message_tail()}\"\n",
    "    do_chat(\"user\", content)\n",
    "\n",
    "def on_action(b, index:int):\n",
    "    content = f\"I select option {index}. {get_user_message_tail()}\"\n",
    "    do_chat(\"user\", content)\n",
    "\n",
    "def on_custom_input(b, input:widgets.Text):\n",
    "    content = f\"{input.value}. {get_user_message_tail()}\"\n",
    "    do_chat(\"user\", content)\n",
    "\n",
    "def on_custom_action(b):\n",
    "    hbox = widgets.HBox(layout=widgets.Layout(width=\"100%\"))\n",
    "    action_text = widgets.Text(layout=widgets.Layout(width=\"100%\"))\n",
    "    submit = widgets.Button(description=\"SUBMIT\", layout=widgets.Layout(width=\"fit-content\"))\n",
    "    submit.on_click(functools.partial(on_custom_input, input=action_text))\n",
    "    hbox.children += (action_text, submit) \n",
    "    display(hbox)\n",
    "\n",
    "def get_controls(msg:Message) -> widgets.Box:\n",
    "    dict = msg.dict()\n",
    "    buttons = []\n",
    "    if \"possible actions\" in dict.keys():\n",
    "        matches = action_pattern.finditer(dict[\"possible actions\"])\n",
    "        for match in matches:\n",
    "            btn = widgets.Button(description=match.group(1), tooltip=match.group(2), layout=widgets.Layout(width=\"auto\"))\n",
    "            btn.on_click(functools.partial(on_action, index=int(match.group(1))))\n",
    "            buttons.append(btn)\n",
    "    elif \"skill\" in dict.keys() and \"difficulty\" in dict.keys():\n",
    "        match = skill_pattern.match(dict[\"skill\"])\n",
    "        skill = match.group(0)\n",
    "        match = skill_difficulty_pattern.match(dict[\"difficulty\"])\n",
    "        difficulty = match.group(0)\n",
    "        skill_button = widgets.Button(description=f\"{skill.upper()} [{difficulty.upper()}]\", layout=widgets.Layout(width=\"auto\"))\n",
    "        skill_button.on_click(functools.partial(on_skill, skill=skill, difficulty=difficulty))\n",
    "        buttons.append(skill_button)\n",
    "    elif \"summary\" in dict.keys():\n",
    "        # add summary as a memory to the metadata\n",
    "        # it will be used in the next round.\n",
    "        config.metadata[\"memories\"] = []\n",
    "        config.metadata[\"memories\"].append(dict[\"summary\"])\n",
    "        next_btn = widgets.Button(description=\"NEXT ROUND\", layout=widgets.Layout(width=\"auto\"))\n",
    "        next_btn.on_click(next_round)\n",
    "        buttons.append(next_btn)\n",
    "    \n",
    "    custom_action_button = widgets.Button(description=\"CUSTOM\")\n",
    "    custom_action_button.on_click(on_custom_action)\n",
    "    buttons.append(custom_action_button)\n",
    "\n",
    "    return widgets.HBox(buttons)\n",
    "\n",
    "# open config file\n",
    "config_name = \"data/config_romance.toml\"\n",
    "config: Config | None = None\n",
    "with open(config_name, \"rb\") as f:\n",
    "    data = tomllib.load(f)\n",
    "    config = Config(**data)\n",
    "\n",
    "current_round = 0\n",
    "initial_messages = config.initial_messages(current_round, config.metadata)\n",
    "\n",
    "print(initial_messages[-1].content)\n",
    "display(get_controls(initial_messages[-1]))"
   ]
  }
 ],
 "metadata": {
  "kernelspec": {
   "display_name": ".venv",
   "language": "python",
   "name": "python3"
  },
  "language_info": {
   "codemirror_mode": {
    "name": "ipython",
    "version": 3
   },
   "file_extension": ".py",
   "mimetype": "text/x-python",
   "name": "python",
   "nbconvert_exporter": "python",
   "pygments_lexer": "ipython3",
   "version": "3.12.3"
  }
 },
 "nbformat": 4,
 "nbformat_minor": 2
}
