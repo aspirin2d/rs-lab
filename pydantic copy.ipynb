{
 "cells": [
  {
   "cell_type": "code",
   "execution_count": 1,
   "metadata": {},
   "outputs": [
    {
     "name": "stdout",
     "output_type": "stream",
     "text": [
      "Requirement already satisfied: fastapi in c:\\users\\administrator\\appdata\\local\\programs\\python\\python312\\lib\\site-packages (0.110.2)Note: you may need to restart the kernel to use updated packages.\n",
      "\n",
      "Requirement already satisfied: pydantic in c:\\users\\administrator\\appdata\\local\\programs\\python\\python312\\lib\\site-packages (2.7.0)\n",
      "Requirement already satisfied: toml in c:\\users\\administrator\\appdata\\local\\programs\\python\\python312\\lib\\site-packages (0.10.2)\n",
      "Requirement already satisfied: starlette<0.38.0,>=0.37.2 in c:\\users\\administrator\\appdata\\local\\programs\\python\\python312\\lib\\site-packages (from fastapi) (0.37.2)\n",
      "Requirement already satisfied: typing-extensions>=4.8.0 in c:\\users\\administrator\\appdata\\local\\programs\\python\\python312\\lib\\site-packages (from fastapi) (4.11.0)\n",
      "Requirement already satisfied: annotated-types>=0.4.0 in c:\\users\\administrator\\appdata\\local\\programs\\python\\python312\\lib\\site-packages (from pydantic) (0.6.0)\n",
      "Requirement already satisfied: pydantic-core==2.18.1 in c:\\users\\administrator\\appdata\\local\\programs\\python\\python312\\lib\\site-packages (from pydantic) (2.18.1)\n",
      "Requirement already satisfied: anyio<5,>=3.4.0 in c:\\users\\administrator\\appdata\\local\\programs\\python\\python312\\lib\\site-packages (from starlette<0.38.0,>=0.37.2->fastapi) (4.3.0)\n",
      "Requirement already satisfied: idna>=2.8 in c:\\users\\administrator\\appdata\\local\\programs\\python\\python312\\lib\\site-packages (from anyio<5,>=3.4.0->starlette<0.38.0,>=0.37.2->fastapi) (3.7)\n",
      "Requirement already satisfied: sniffio>=1.1 in c:\\users\\administrator\\appdata\\local\\programs\\python\\python312\\lib\\site-packages (from anyio<5,>=3.4.0->starlette<0.38.0,>=0.37.2->fastapi) (1.3.1)\n"
     ]
    }
   ],
   "source": [
    "%pip install fastapi pydantic toml"
   ]
  },
  {
   "cell_type": "code",
   "execution_count": null,
   "metadata": {},
   "outputs": [],
   "source": []
  },
  {
   "cell_type": "code",
   "execution_count": 2,
   "metadata": {},
   "outputs": [
    {
     "name": "stdout",
     "output_type": "stream",
     "text": [
      "火车行驶在前往维也纳的旅程上，嘈杂的车厢和闷热的天气让你不免有些烦躁。当你抬头时，一个美丽的女孩映入你的眼帘——她坐在对面，专心致志地阅读手中的《致青年诗人的信》，阳光正从车窗斜斜地洒在一个美丽女孩的脸颊上，为她的轮廓镀上了一层金边。她身边散落着一些画具和一本摊开的素描本，显然是个酷爱艺术的人。虽然周围人声鼎沸，但她似乎完全沉浸在自己的世界中。就在她不经意地调整耳机时，短暂地与你目光相接，那一刻，时间仿佛静止。你感到一种无法抗拒的冲动，想要跨过车厢中的距离，用一句话打破这份静谧与隔阂。\n",
      "\n",
      "possible actions:\n",
      "1. \"《致青年诗人的信》，你也喜欢里尔克吗？\"\n",
      "2. \"嗨，可以借一下你的纸笔吗？\"\n",
      "3. \"这车厢真是吵闹，你怎么能在这样的环境下这么专注？\"\n"
     ]
    },
    {
     "data": {
      "application/vnd.jupyter.widget-view+json": {
       "model_id": "6cfef7f44c674fcd812e43e454de9b97",
       "version_major": 2,
       "version_minor": 0
      },
      "text/plain": [
       "HBox(children=(Button(description='1', layout=Layout(width='auto'), style=ButtonStyle(), tooltip='\"《致青年诗人的信》，你…"
      ]
     },
     "metadata": {},
     "output_type": "display_data"
    },
    {
     "name": "stdout",
     "output_type": "stream",
     "text": [
      "I select option 1. TURN: 1 \n",
      "\n",
      "\n",
      "女孩听到你的声音，显然有些意外。她轻轻地抬起头，眼神有一瞬间的迷茫，然后她的脸上浮现出微微的红晕。她用一种有些羞涩但又试图保持镇定的声音回答说：\"嗯...是的，我很喜欢里尔克的作品。他的诗歌总能触动我内心最深处的情感。\" 她的声音很小，几乎被车厢的嘈杂声淹没。说完后，她似乎意识到自己的回答有些过于直接，稍微有些局促不安，便低下头继续看她的书，但从她不时抬眼偷瞄你的动作中，你能感觉到她对这场突如其来的邂逅并不排斥。\n",
      "\n",
      "possible actions:\n",
      "1. \"我也是，他的作品让人有种说不出的感动。你最喜欢他的哪一首诗？\"\n",
      "2. \"我是Jesse，正在环欧洲旅行。我很高兴遇见同样喜欢里尔克的人。你叫什么名字？\"\n",
      "3. \"是啊，他的诗总是让人反思。对了，我注意到你的画具了，你画画吗？\""
     ]
    },
    {
     "data": {
      "application/vnd.jupyter.widget-view+json": {
       "model_id": "eb1e093dfb7c460d9cbf040598567648",
       "version_major": 2,
       "version_minor": 0
      },
      "text/plain": [
       "HBox(children=(Button(description='1', layout=Layout(width='auto'), style=ButtonStyle(), tooltip='\"我也是，他的作品让人有…"
      ]
     },
     "metadata": {},
     "output_type": "display_data"
    },
    {
     "name": "stdout",
     "output_type": "stream",
     "text": [
      "I select option 2. TURN: 2 \n",
      "\n",
      "\n",
      "女孩听到你主动介绍自己，她的脸上闪过一丝惊讶，随后换成了一抹温柔的微笑。她稍微放松了一些，但仍然带着一点点羞涩，轻轻地说：\"我叫Celine，是法国人。很高兴遇到你，Jesse。\" 她的声音依旧有些小，但你能感觉到她试图克服自己的害羞，给你一个友好的回应。说完，Celine似乎觉得仅仅这样介绍自己有些简单，便补充道：\"我现在是个学生，正在学习艺术史。\" 说到自己的学习，她的眼睛里闪过了一抹自豪的光芒，显然这是她非常热爱的领域。她这次没有立刻低下头，而是勇敢地看着你，等待着你的回应。\n",
      "\n",
      "possible actions:\n",
      "1. \"艺术史听起来很有意思。你最喜欢的艺术家是谁？\"\n",
      "2. \"我对艺术不是很懂，但我很喜欢旅行中遇到的各种艺术。你能推荐一些你喜欢的艺术作品吗？\"\n",
      "3. \"那你一定对这次旅行有很多独特的视角。你是从哪里来的，又要去哪里呢？\""
     ]
    },
    {
     "data": {
      "application/vnd.jupyter.widget-view+json": {
       "model_id": "d24266aef34b4e0490325efbdd7ff0ca",
       "version_major": 2,
       "version_minor": 0
      },
      "text/plain": [
       "HBox(children=(Button(description='1', layout=Layout(width='auto'), style=ButtonStyle(), tooltip='\"艺术史听起来很有意思。…"
      ]
     },
     "metadata": {},
     "output_type": "display_data"
    },
    {
     "name": "stdout",
     "output_type": "stream",
     "text": [
      "I select option 3. TURN: 3 \n",
      "\n",
      "\n",
      "Celine的眼神里闪过一丝愉悦，她似乎很高兴你对她的旅行感兴趣。她稍微调整了一下坐姿，显得更加从容，开始慢慢地说：\"我是从布达佩斯来的，去那里看望了我的祖母。现在，我正要回巴黎，准备新学期的课程。\" 她的声音比之前更加自信，而且在谈到自己的旅行经历时，她的眼睛里充满了光彩。接着她好奇地看着你，仿佛在暗示你也分享一些关于自己的故事。此刻，Celine显然已经摆脱了最初的羞涩，她的态度更加开放，对话也更加流畅。\n",
      "\n",
      "\"Jesse，你提到自己在环欧洲旅行，这听起来真令人兴奋。你是从哪里开始的旅行呢？有没有什么特别的故事可以分享？\" Celine带着一点点好奇和期待的神情看着你，等待着你的回答。"
     ]
    },
    {
     "data": {
      "application/vnd.jupyter.widget-view+json": {
       "model_id": "4654f0f4a5dd465094fd01453cec313d",
       "version_major": 2,
       "version_minor": 0
      },
      "text/plain": [
       "HBox(children=(Button(description='CUSTOM', style=ButtonStyle()),))"
      ]
     },
     "metadata": {},
     "output_type": "display_data"
    },
    {
     "data": {
      "application/vnd.jupyter.widget-view+json": {
       "model_id": "8a2f22d2269d4832adcb8b14d104cf85",
       "version_major": 2,
       "version_minor": 0
      },
      "text/plain": [
       "HBox(children=(Text(value='', layout=Layout(width='100%')), Button(description='SUBMIT', layout=Layout(width='…"
      ]
     },
     "metadata": {},
     "output_type": "display_data"
    },
    {
     "name": "stdout",
     "output_type": "stream",
     "text": [
      "当然. TURN: 4 \n",
      "\n",
      "\n",
      "game master:\n",
      "<start>\n",
      "-|context of the round|-\n",
      "summary: 在这轮游戏中，Jesse和Celine在前往维也纳的火车上相遇。Jesse首先注意到了Celine的存在，并主动用她手中的《致青年诗人的信》作为开场白与她接触。Celine起初显得有些害羞和紧张，不过随着对话的深入，她渐渐放松，开始更自然地与Jesse交谈。通过Jesse的提问，我们得知Celine是一名热爱艺术史的法国学生，她刚从布达佩斯看望祖母返回，准备回巴黎继续她的学业。两人通过分享各自的旅行经历和对艺术的爱好，快速拉近了彼此的距离，营造出了一种温馨暧昧的氛围。游戏在Jesse和Celine互相介绍自己的旅行故事中结束，两人之间似乎建立了一种不言而喻的默契和好感。\n",
      "<end>"
     ]
    },
    {
     "data": {
      "application/vnd.jupyter.widget-view+json": {
       "model_id": "6377835a2fa0424a92d976a48e725e88",
       "version_major": 2,
       "version_minor": 0
      },
      "text/plain": [
       "HBox(children=(Button(description='NEXT ROUND', layout=Layout(width='auto'), style=ButtonStyle()), Button(desc…"
      ]
     },
     "metadata": {},
     "output_type": "display_data"
    },
    {
     "name": "stdout",
     "output_type": "stream",
     "text": [
      "随着火车轻轻摇晃，静静地朝着维也纳前行，你和Celine的对话逐渐深入。\n",
      "\n",
      "Celine的眼睛闪烁着好奇的光芒，她微微倾身向你，带着兴趣盎然的神情问道：“你的环游欧洲之旅中有没有遇到什么特别有意思的事情？”她的声音中充满了期待，似乎在想象那些她未曾经历的冒险。\n",
      "\n",
      "你笑了笑，手指轻敲着车窗边的桌面，思考从何讲起，然后兴奋地回应：“当然了，这一路上充满了不可思议的冒险，从故事的哪个部分开始呢？” \n",
      "\n",
      "possible actions:\n",
      "1. \"在意大利，我意外参与了一个传统的葡萄酒节...\"\n",
      "2. \"在希腊的克里特岛，我们决定去附近的一个未标记的洞穴探险...\"\n",
      "3. \"有一次，我在瑞士阿尔卑斯山中迷路了...\"\n"
     ]
    },
    {
     "data": {
      "application/vnd.jupyter.widget-view+json": {
       "model_id": "640c3f146d074420ba19f357cec1a1e0",
       "version_major": 2,
       "version_minor": 0
      },
      "text/plain": [
       "HBox(children=(Button(description='1', layout=Layout(width='auto'), style=ButtonStyle(), tooltip='\"在意大利，我意外参与了…"
      ]
     },
     "metadata": {},
     "output_type": "display_data"
    },
    {
     "name": "stdout",
     "output_type": "stream",
     "text": [
      "I select option 2. TURN: 1 \n",
      "\n",
      "\n",
      "你的眼睛闪着光，仿佛回到了那个刺激的时刻，笑着说道：“在希腊的克里特岛，我和几个新朋友决定去探索一个未标记的洞穴。那是一次真正的冒险，我们几乎迷路在里面，但最终找到了一处隐藏的自然泉水，那是我见过的最清澈的水。”\n",
      "\n",
      "Celine的眼睛里闪现出令人难以置信的光芒，她轻轻咬着嘴唇，似乎在想象那个场景，然后低声说道：“哇，那听起来真的很惊险，也很美丽。我从没做过这样的事情，我的生活听起来好平淡啊。”\n",
      "\n",
      "她的声音里夹杂着一丝羡慕和渴望，你能感觉到她对冒险的向往。\n",
      "\n",
      "possible actions:\n",
      "1. \"每个人的生活都有它独特的精彩，你一定也有很多美好的故事。\"\n",
      "2. \"你知道吗？现在就有机会去冒险，我们可以在维也纳下车，一起去探索这个城市。\"\n",
      "3. \"如果你愿意，我可以带你去我的下一次冒险，你想去哪里都行。\""
     ]
    },
    {
     "data": {
      "application/vnd.jupyter.widget-view+json": {
       "model_id": "31872342182c4e438d0a0e6207860a9d",
       "version_major": 2,
       "version_minor": 0
      },
      "text/plain": [
       "HBox(children=(Button(description='1', layout=Layout(width='auto'), style=ButtonStyle(), tooltip='\"每个人的生活都有它独特…"
      ]
     },
     "metadata": {},
     "output_type": "display_data"
    },
    {
     "name": "stdout",
     "output_type": "stream",
     "text": [
      "I select option 2. TURN: 2 \n",
      "\n",
      "\n",
      "你鼓励地看着Celine，眼神中充满了邀请和期待，轻声说道：“你知道吗？现在就有机会去冒险。我们可以在维也纳下车，一起去探索这个城市。这将是一个难忘的经历，就当作是你的第一次冒险。”\n",
      "\n",
      "Celine的眼睛顿时放大，似乎被这个提议吸引，但她还是显得有些犹豫和不安。她轻咬着嘴唇，有些紧张地说：“真的吗？我…我不确定，我从未做过这样的事情。”\n",
      "\n",
      "她的反应中充满了既期待又害怕的复杂情绪，显然这个提议触动了她内心的冒险欲望，但同时也对未知感到担忧。\n",
      "\n",
      "possible actions:\n",
      "1. \"我保证会是一个很棒的体验，我们可以从简单的开始，比如去看看著名的博物馆。\"\n",
      "2. \"我理解你的担心，但这正是冒险的一部分，发现新事物，挑战自己。\"\n",
      "3. \"如果你感觉不舒服，我们随时可以停止。最重要的是，你会有一段美好的回忆。\""
     ]
    },
    {
     "data": {
      "application/vnd.jupyter.widget-view+json": {
       "model_id": "94a68d36888840beb50f0fb3cc32166e",
       "version_major": 2,
       "version_minor": 0
      },
      "text/plain": [
       "HBox(children=(Button(description='1', layout=Layout(width='auto'), style=ButtonStyle(), tooltip='\"我保证会是一个很棒的体…"
      ]
     },
     "metadata": {},
     "output_type": "display_data"
    },
    {
     "name": "stdout",
     "output_type": "stream",
     "text": [
      "I select option 3. TURN: 3 \n",
      "\n",
      "\n",
      "你温柔地看着Celine，微笑着安慰她：“如果你感觉不舒服，我们随时可以停止。最重要的是，你会有一段美好的回忆。我会在你身边，确保一切都好。”\n",
      "\n",
      "Celine听后，眼中的犹豫渐渐被新奇和期待取代，她轻轻咬了咬嘴唇，眼神中开始闪烁着兴奋的光芒。她稍微放松了身体，微笑着说：“好吧，我相信你。这听起来像是一次很棒的经历，我不想错过。”\n",
      "\n",
      "你看到她的变化和接受，内心充满了欣喜。这次对话让你们之间的关系更近一步，也增加了相互之间的信任。\n",
      "\n",
      "possible actions:\n",
      "1. \"太好了！我保证这将是一个难忘的冒险。我们会有很多乐趣的。\"\n",
      "2. \"我很高兴你愿意尝试。这是对自己的一种勇敢。\"\n",
      "3. \"那我们就这么决定了！维也纳，等着我们吧！\""
     ]
    },
    {
     "data": {
      "application/vnd.jupyter.widget-view+json": {
       "model_id": "c6d8c1da820243608aab520311768d14",
       "version_major": 2,
       "version_minor": 0
      },
      "text/plain": [
       "HBox(children=(Button(description='1', layout=Layout(width='auto'), style=ButtonStyle(), tooltip='\"太好了！我保证这将是一…"
      ]
     },
     "metadata": {},
     "output_type": "display_data"
    },
    {
     "name": "stdout",
     "output_type": "stream",
     "text": [
      "I select option 2. TURN: 4 \n",
      "\n",
      "\n",
      "你的眼睛里充满了赞赏，真诚地对Celine说：“我很高兴你愿意尝试。这是对自己的一种勇敢，我相信你会发现新的自己。”\n",
      "\n",
      "Celine的脸上露出了轻松的笑容，她对你的鼓励感到感激，眼神中流露出对即将到来的冒险的期待。她轻轻点了点头，笑着说：“谢谢你，Jesse。我现在真的很期待我们的维也纳之旅了。”\n",
      "\n",
      "随着对话的深入，你们之间的气氛变得更加轻松和愉快，Celine的态度也从最初的紧张和犹豫，转变为兴奋和期待。你们对即将发生的冒险充满了好奇和憧憬。\n",
      "\n",
      "-|context of the round|-\n",
      "summary: 在这个回合中，Jesse成功地说服了Celine一起在维也纳下车进行一次小冒险。起初，Celine因为从未做过类似的事情而感到犹豫和不安，但Jesse通过鼓励和安慰，逐渐打消了她的顾虑。最终，Celine充满期待地接受了这个提议，两人之间的关系因此更加亲近。"
     ]
    },
    {
     "data": {
      "application/vnd.jupyter.widget-view+json": {
       "model_id": "d8c56b8b42204d40813dc2a70c3f0877",
       "version_major": 2,
       "version_minor": 0
      },
      "text/plain": [
       "HBox(children=(Button(description='NEXT ROUND', layout=Layout(width='auto'), style=ButtonStyle()), Button(desc…"
      ]
     },
     "metadata": {},
     "output_type": "display_data"
    },
    {
     "name": "stdout",
     "output_type": "stream",
     "text": [
      "你和Celine在维也纳下了车，在街头漫步。“真不敢相信我居然和刚认识的人跳下车，这是我做过最疯狂的决定。”Celine笑起来露出两个酒窝，笑声像孩子一般天真。你闻言笑了笑，“放心吧，我可不是什么坏人。”言语间的玩笑意味明显，让气氛更加轻松。“你知道吗，我...从来没有这么随性过”，她的声音低沉而带着一丝狂野的轻快，“但...我不想...让自己后悔。” 她注视着你，眼里带着几分羞涩和决意。但当你回望她的那一刻，她的眼神又迅速躲开了。\n",
      "\n",
      "气氛变得微妙，这番话让你心底涌出一股暖流，你轻轻靠近她，目光深情且认真。“Celine，我很高兴你下了车。”听到这些，Celine的笑容更加灿烂了，她害羞地低下头，长睫毛轻轻颤动，掩不住她的喜悦和内心的澎湃，“那么，接下来我们去哪里呢？”\n",
      "\n",
      "possible actions:\n",
      "1. 去公园散步。\n",
      "2. 去广场逛逛。\n",
      "3. 去喝咖啡。\n"
     ]
    },
    {
     "data": {
      "application/vnd.jupyter.widget-view+json": {
       "model_id": "bf3ea806763e4ffb80c0c0caa0b32cba",
       "version_major": 2,
       "version_minor": 0
      },
      "text/plain": [
       "HBox(children=(Button(description='1', layout=Layout(width='auto'), style=ButtonStyle(), tooltip='去公园散步。'), Bu…"
      ]
     },
     "metadata": {},
     "output_type": "display_data"
    },
    {
     "name": "stdout",
     "output_type": "stream",
     "text": [
      "I select option 1. TURN: 1 \n",
      "\n",
      "\n",
      "你微笑着对Celine说，“去公园散散步怎么样？听说这附近有个很漂亮的公园。”Celine的眼睛立刻亮了起来，“哇，听起来很棒！”她的声音中满是期待和兴奋。两人一边聊着天，一边朝公园的方向走去。\n",
      "\n",
      "走在通往公园的小径上，Celine忽然说：“你知道吗，我小时候经常和爸爸妈妈一起去公园。那是我最快乐的时光之一。”她的声音略带忧伤，但很快她又露出了微笑，“但现在，能和你一起来这里，感觉也很特别。”说着，她不自觉地咬了咬嘴唇，又撩了撩头发。\n",
      "\n",
      "你注意到了Celine的表情变化，心里不由得生出一种想要保护她的冲动。你轻松地回答：“嗯，和家人在一起的时光总是很宝贵，你爸爸妈妈听起来是很棒的人。”你故意转移了话题，尝试让她感到更加轻松，“我希望今天能成为你的另一个美好记忆。”\n",
      "\n",
      "possible actions:\n",
      "1. 询问Celine是否还记得公园里的某个特别的地方。\n",
      "2. 一起去喂公园里的鸽子。\n",
      "3. 提议在公园里找个地方坐下，谈谈彼此的梦想。"
     ]
    },
    {
     "data": {
      "application/vnd.jupyter.widget-view+json": {
       "model_id": "c9c335a320ed4d5f9299553e12169228",
       "version_major": 2,
       "version_minor": 0
      },
      "text/plain": [
       "HBox(children=(Button(description='1', layout=Layout(width='auto'), style=ButtonStyle(), tooltip='询问Celine是否还记…"
      ]
     },
     "metadata": {},
     "output_type": "display_data"
    },
    {
     "name": "stdout",
     "output_type": "stream",
     "text": [
      "I select option 2. TURN: 2 \n",
      "\n",
      "\n",
      "你看着公园里悠闲地走动的鸽子，转头对Celine笑道：“我们去喂鸽子吧，看起来挺有趣的。”Celine的眼睛里闪过一丝孩子般的兴奋，“好啊，我很久没有这么做了！”你们找了个卖鸽食的小摊，买了一些鸽食，然后走向了一群鸽子。\n",
      "\n",
      "在喂鸽子的过程中，Celine显得非常开心，她轻声笑着，和鸽子们说话，仿佛她回到了童年。你看着她那纯真无邪的笑容，心中不禁一暖，“看你这么开心，我也觉得很幸福。”\n",
      "\n",
      "喂完鸽子后，Celine转向你，眼神中带着一丝思考，“你知道吗，这让我想起了我和爸爸一起喂鸽子的时候。他总是鼓励我追随梦想，但...”她的声音略带犹豫，“但他们希望我能选择一条稳定的路，比如当老师。但我，我一直梦想着成为一名设计师。”\n",
      "\n",
      "Celine的坦白让气氛变得有些沉重，但你觉得这是一个了解她更多的好机会。你轻轻地抓住了她的手，鼓励地说：“追梦的路上总是不易，但我相信，你有能力实现你的梦想。”\n",
      "\n",
      "possible actions:\n",
      "1. 分享你对于追梦的看法。\n",
      "2. 询问她为什么想成为一名设计师。\n",
      "3. 轻轻改变话题，让气氛再次轻松起来。"
     ]
    },
    {
     "data": {
      "application/vnd.jupyter.widget-view+json": {
       "model_id": "bb69a91887b046c0b35cba4e37d01be0",
       "version_major": 2,
       "version_minor": 0
      },
      "text/plain": [
       "HBox(children=(Button(description='1', layout=Layout(width='auto'), style=ButtonStyle(), tooltip='分享你对于追梦的看法。'…"
      ]
     },
     "metadata": {},
     "output_type": "display_data"
    },
    {
     "name": "stdout",
     "output_type": "stream",
     "text": [
      "I select option 3. TURN: 3 \n",
      "\n",
      "\n",
      "看到Celine情绪略显沉重，你决定轻松一下气氛。你笑着说：“说了这么多深沉的话题，我们来点轻松的吧。你听说今晚附近的酒吧有音乐演出吗？”Celine听后，脸上的忧伤之色逐渐消散，被好奇和兴奋所取代，“真的吗？我没听说过，但听起来很有趣！”她的眼睛再次亮了起来，就像之前喂鸽子时那样。\n",
      "\n",
      "你看到Celine心情转好，内心也跟着轻松了起来。“是啊，我也是刚刚听路人提起的。我们去探个究竟怎么样？”你提议道。Celine点了点头，笑着回应：“好啊，我很期待！”两人相视一笑，带着期待和兴奋，一起朝酒吧的方向走去。\n",
      "\n",
      "随着夜幕降临，维也纳的街道被灯光点缀得格外迷人。你和Celine在充满音乐和笑声的夜晚中，肩并肩走着，感觉彼此之间的距离更近了一些。这一刻，你们都期待着即将到来的音乐夜，以及这段意外邂逅带来的更多可能。\n",
      "\n",
      "game master:\n",
      "-|context of the round|-\n",
      "summary: 在这个回合中，Jesse和Celine在公园里喂鸽子，Celine分享了自己想成为设计师的梦想和家庭的期望压力。Jesse试图通过轻松改变话题，使气氛再次轻松起来。最后，两人决定一起去探索附近酒吧的音乐演出，期待着这个美好夜晚的到来。"
     ]
    },
    {
     "data": {
      "application/vnd.jupyter.widget-view+json": {
       "model_id": "a537f47d786f4899a343839d3b62956e",
       "version_major": 2,
       "version_minor": 0
      },
      "text/plain": [
       "HBox(children=(Button(description='NEXT ROUND', layout=Layout(width='auto'), style=ButtonStyle()), Button(desc…"
      ]
     },
     "metadata": {},
     "output_type": "display_data"
    },
    {
     "name": "stdout",
     "output_type": "stream",
     "text": [
      "酒吧内人声鼎沸，摇滚乐队的现场演出将氛围推至高潮。人群密集地挤在舞台前，挥舞着手臂，陶醉于音乐之中。\n",
      "\n",
      "你们找了个角落的位置坐下，点了两杯酒。Celine注视着台上的摇滚乐队，身体不自觉地跟着律动摇摆起来。她的嘴角带笑，露出浅浅的酒窝，偶尔还轻声地跟着乐队的旋律哼唱。\n",
      "\n",
      "“没想到你居然喜欢听摇滚。”你惊喜地发现她的另一面。“哈哈哈，不要被我的外表欺骗了。”她看向你，对你眨眨眼，“我的父母让我从小学古典钢琴，但我偷偷藏了Patti Smith全部的专辑。”\n",
      "\n",
      "眼前这个女孩好像更鲜活了，也更可爱了。你看着眼前这个让你一见钟情的女孩，想问一些关键性的问题。\n",
      "\n",
      "possible actions:\n",
      "1. \"你的初恋是在什么时候?\"\n",
      "2. \"你...有男朋友吗?\"\n",
      "3. \"有没有你最难忘的某一任?\"\n"
     ]
    },
    {
     "data": {
      "application/vnd.jupyter.widget-view+json": {
       "model_id": "c9b3bf03e40742c684a35b6bfa88a360",
       "version_major": 2,
       "version_minor": 0
      },
      "text/plain": [
       "HBox(children=(Button(description='1', layout=Layout(width='auto'), style=ButtonStyle(), tooltip='\"你的初恋是在什么时候?…"
      ]
     },
     "metadata": {},
     "output_type": "display_data"
    },
    {
     "name": "stdout",
     "output_type": "stream",
     "text": [
      "I select option 2. TURN: 1 \n",
      "\n",
      "\n",
      "你轻轻地咳了一咳，试图掩饰自己的紧张，然后小心翼翼地问出了心里的问题，\"你...有男朋友吗？\" 你的眼神里充满了期待和一丝忐忑。\n",
      "\n",
      "Celine看起来有些意外，她微微咬了咬下唇，然后低下头，用手指绕着酒杯的边缘，似乎在寻找合适的话语。过了一会儿，她抬起头，用她那天真无邪的眼睛看着你，微微一笑，\"现在没有。\" 她的声音里似乎带着一丝羞涩和释然。\n",
      "\n",
      "这个回答让你的心情一下子轻松了不少，嘴角不自觉地上扬。你觉得这个晚上，或许会有些不同。\n",
      "\n",
      "possible actions:\n",
      "1. \"哦，那以前呢？有过多少次恋爱？\"\n",
      "2. \"那为什么会单身呢？\"\n",
      "3. \"听起来我们有点相似，我也是单身。\""
     ]
    },
    {
     "data": {
      "application/vnd.jupyter.widget-view+json": {
       "model_id": "060fec3005794627ac7dd7b5925840f2",
       "version_major": 2,
       "version_minor": 0
      },
      "text/plain": [
       "HBox(children=(Button(description='1', layout=Layout(width='auto'), style=ButtonStyle(), tooltip='\"哦，那以前呢？有过多少…"
      ]
     },
     "metadata": {},
     "output_type": "display_data"
    },
    {
     "name": "stdout",
     "output_type": "stream",
     "text": [
      "I select option 3. TURN: 2 \n",
      "\n",
      "\n",
      "\"听起来我们有点相似，我也是单身。\" 你试图以轻松幽默的语气减少这个话题可能带来的尴尬。\n",
      "\n",
      "Celine轻轻地笑了，她的笑容在酒吧昏暗的灯光下显得格外迷人。\"是吗？那我们还真是挺像的。\"她说，眼中闪烁着一丝玩笑和好奇。\"你是怎么回事？\" 她微微倾身向前，似乎对你的故事很感兴趣。\n",
      "\n",
      "这个问题让你有点措手不及，但也给了你一个分享自己故事的机会，也许，这能让你们之间更加亲近。\n",
      "\n",
      "possible actions:\n",
      "1. \"我刚从一段关系中走出来，来这里是想换个环境。\"\n",
      "2. \"哈，我一直在寻找那个对的人，但似乎还没遇到。\"\n",
      "3. \"说实话，我其实是来这里治愈心碎的。\""
     ]
    },
    {
     "data": {
      "application/vnd.jupyter.widget-view+json": {
       "model_id": "2547f70aa0024d479d029111a8188053",
       "version_major": 2,
       "version_minor": 0
      },
      "text/plain": [
       "HBox(children=(Button(description='1', layout=Layout(width='auto'), style=ButtonStyle(), tooltip='\"我刚从一段关系中走出来…"
      ]
     },
     "metadata": {},
     "output_type": "display_data"
    },
    {
     "name": "stdout",
     "output_type": "stream",
     "text": [
      "I select option 1. TURN: 3 \n",
      "\n",
      "\n",
      "\"我刚从一段关系中走出来，来这里是想换个环境。\" 你试图保持轻松的语气，但话语中难免带着一丝沉重。\n",
      "\n",
      "Celine的表情变得更加柔和，她伸出手，轻轻地放在你的手背上，给予了一个安慰的小动作。\"我理解，有时候，换个环境真的能帮助我们看清楚很多事情。\" 她说着，目光温暖而理解。\n",
      "\n",
      "你感到一阵温暖，这个小动作让你觉得在这个陌生的城市中，似乎找到了一丝家的感觉。\n",
      "\n",
      "possible actions:\n",
      "1. \"是的，我希望能在这里找到一些答案。\"\n",
      "2. \"你呢？来这里有什么特别的原因吗？\"\n",
      "3. \"嗯，但我觉得现在遇到你，也许是最好的治愈。\""
     ]
    },
    {
     "data": {
      "application/vnd.jupyter.widget-view+json": {
       "model_id": "59173f718198488cb71ab73250ff8f58",
       "version_major": 2,
       "version_minor": 0
      },
      "text/plain": [
       "HBox(children=(Button(description='1', layout=Layout(width='auto'), style=ButtonStyle(), tooltip='\"是的，我希望能在这里找…"
      ]
     },
     "metadata": {},
     "output_type": "display_data"
    },
    {
     "name": "stdout",
     "output_type": "stream",
     "text": [
      "I select option 3. TURN: 4 \n",
      "\n",
      "\n",
      "\"嗯，但我觉得现在遇到你，也许是最好的治愈。\" 你的话中带着一份真挚，尽量让气氛轻松而不失深情。\n",
      "\n",
      "Celine的脸上泛起了淡淡的红晕，她似乎被你的话感动了。她低下头，轻声笑着，然后抬起头，用那双清澈的眼睛直视着你，\"你真会说话，Jesse。\" 她的声音里充满了温柔和一丝不易察觉的喜悦。\n",
      "\n",
      "这一刻，你感觉两人之间的距离更近了一些，酒吧里的喧闹仿佛都远去了，只剩下你们的对话和心跳声。\n",
      "\n",
      "possible actions:\n",
      "1. \"我是认真的，Celine。和你在一起，我感觉很舒服。\"\n",
      "2. \"哈哈，我只是说实话而已。\"\n",
      "3. \"你觉得我们之间...有可能吗？\""
     ]
    },
    {
     "data": {
      "application/vnd.jupyter.widget-view+json": {
       "model_id": "bc1e402a98314b978d02ec2f7620bdd5",
       "version_major": 2,
       "version_minor": 0
      },
      "text/plain": [
       "HBox(children=(Button(description='1', layout=Layout(width='auto'), style=ButtonStyle(), tooltip='\"我是认真的，Celin…"
      ]
     },
     "metadata": {},
     "output_type": "display_data"
    },
    {
     "name": "stdout",
     "output_type": "stream",
     "text": [
      "I select option 1. TURN: 5 \n",
      "\n",
      "\n",
      "\"我是认真的，Celine。和你在一起，我感觉很舒服。\" 你的声音低沉而充满感情，试图传达你内心真实的感受。\n",
      "\n",
      "Celine的眼神变得柔和，她微微笑着，那种笑容里藏着一份难以言说的感动。\"我也是，Jesse。没想到在这样的地方，能遇到像你这样的人，我很高兴。\" 她的声音中带着一丝羞涩，但更多的是真诚。\n",
      "\n",
      "就在这时，酒吧里的音乐悄然变换，播放起了浪漫的情歌《At Last》。Celine看了你一眼，轻声问道，\"你...愿意和我跳支舞吗？\"\n",
      "\n",
      "酒吧里的灯光似乎都变得柔和起来，你们走到人群稀少的地方，随着音乐起舞。在这首歌的旋律下，你们紧紧相拥，彼此的心跳仿佛也同步了起来。舞曲结束时，你们相视一笑，然后在安静的氛围中，彼此轻轻地接吻了。\n",
      "\n",
      "game master:\n",
      "\"\"\"\n",
      "-|context of the round|-\n",
      "summary: 在这个回合中，Jesse与Celine在酒吧相遇，通过一系列深入的对话和互动，两人逐渐拉近了彼此的距离。Jesse表达了他对Celine的感觉，认为与她在一起很舒服，而Celine也对Jesse有所动心。随着酒吧里播放起浪漫的情歌《At Last》，Celine邀请Jesse跳舞，他们在舞曲结束时互相接吻，为这段初次相遇画上了浪漫的句点。\n",
      "\"\"\""
     ]
    },
    {
     "data": {
      "application/vnd.jupyter.widget-view+json": {
       "model_id": "11a88f6606824c3f986be4130e53e32c",
       "version_major": 2,
       "version_minor": 0
      },
      "text/plain": [
       "HBox(children=(Button(description='NEXT ROUND', layout=Layout(width='auto'), style=ButtonStyle()), Button(desc…"
      ]
     },
     "metadata": {},
     "output_type": "display_data"
    },
    {
     "name": "stdout",
     "output_type": "stream",
     "text": [
      "酒吧的热情音乐逐渐在身后消散，你和Celine十指紧扣，在深夜的维也纳街头漫步。两人的神态自然而亲密，就像两颗心不约而同找到了归属。你抬起她的手，亲吻她的手背，她的嘴角不自觉地勾起一抹甜蜜的弧线。你们注视着彼此，甜蜜尽在不言中。\n",
      "\n",
      "在路灯微弱的光影中，Celine轻轻地仰头，问道：“你喜欢我什么呢？”她的声音低柔而充满期待，仿佛是夜风中最温柔的旋律。\n",
      "\n",
      "possible actions:\n",
      "1. \"我喜欢我看向别处时你看我的目光。\"\n",
      "2. \"我喜欢你害羞时眉眼低垂的样子，你笑起来会露出两个酒窝，发出孩子般的笑声。\"\n",
      "3. \"我喜欢你文静的外表下隐藏的小叛逆，让我看到一个更真实的你。\"\n"
     ]
    },
    {
     "data": {
      "application/vnd.jupyter.widget-view+json": {
       "model_id": "000aa174d46743db914ad5a3a4384569",
       "version_major": 2,
       "version_minor": 0
      },
      "text/plain": [
       "HBox(children=(Button(description='1', layout=Layout(width='auto'), style=ButtonStyle(), tooltip='\"我喜欢我看向别处时你看…"
      ]
     },
     "metadata": {},
     "output_type": "display_data"
    },
    {
     "name": "stdout",
     "output_type": "stream",
     "text": [
      "I select option 2. TURN: 1 \n",
      "\n",
      "\n",
      "你深情地凝视着Celine的眼睛，温柔地说道：\"我喜欢你害羞时眉眼低垂的样子，你笑起来会露出两个酒窝，发出孩子般的笑声。\" 话语中满是对她的欣赏和爱慕。\n",
      "\n",
      "Celine听后，脸颊染上一抹淡淡的红晕，她羞涩地低下头，一边咬着嘴唇一边轻声说：\"其实...我在火车上刚见到你的时候就对你有好感了。\" 她的声音里充满了真挚的情感，仿佛是在向你坦白她的心。\n",
      "\n",
      "紧接着，你们两个都沉默了一会儿，然后开始认真讨论明早过后，二人的关系将何去何从。你分享了自己刚刚异地恋分手的经历，表达了没有信心这么快进入一段新的恋情的顾虑，特别是又是一段异地恋。你还担心，一旦进入长期关系，这种美好的感觉就会消失。\n",
      "\n",
      "Celine听后，露出了深思的表情，她低声说道：\"我担心我们的距离太过遥远，你在美国，我在法国，前路困难重重。\"\n",
      "\n",
      "possible actions:\n",
      "1. \"让我们珍惜当下吧，不管明天会怎样。\"\n",
      "2. \"也许我们应该现实一点，考虑一下实际问题。\"\n",
      "3. \"我觉得我们可以尝试，即使知道会有挑战。\""
     ]
    },
    {
     "data": {
      "application/vnd.jupyter.widget-view+json": {
       "model_id": "6a8245a838f24854a06fde5dca736bea",
       "version_major": 2,
       "version_minor": 0
      },
      "text/plain": [
       "HBox(children=(Button(description='1', layout=Layout(width='auto'), style=ButtonStyle(), tooltip='\"让我们珍惜当下吧，不管…"
      ]
     },
     "metadata": {},
     "output_type": "display_data"
    },
    {
     "name": "stdout",
     "output_type": "stream",
     "text": [
      "I select option 1. TURN: 2 \n",
      "\n",
      "\n",
      "你深吸了一口气，微笑着，轻声说道：\"让我们珍惜当下吧，不管明天会怎样。\" 你的话语中充满了对现在这一刻的珍视，也透露出对未来不可预知性的接受。\n",
      "\n",
      "Celine抬头，她的眼中闪烁着泪光，但同时也有一种释然的笑意。她紧紧握住你的手，温柔地回应：\"是的，珍惜当下。\" 她的眼神中充满了对你的感激和爱意。\n",
      "\n",
      "在这个决定之后，两人又走了一段路，尽管心中都有着不舍和复杂的情绪，但同时也感受到了一种奇妙的安宁。夜空下，维也纳的街道静谧而美丽，仿佛成为了你们之间情感的见证。\n",
      "\n",
      "明早就要说再见，不再联系的决定，虽然充满了无奈，但在你们共同的回忆中，这一夜将永远是一个温馨而甜蜜的记忆。\n",
      "\n",
      "possible actions:\n",
      "1. \"我很高兴能遇到你，Celine。\"\n",
      "2. \"希望你永远记得今晚，就像我一样。\"\n",
      "3. \"也许有一天，我们的路会再次交汇。\""
     ]
    },
    {
     "data": {
      "application/vnd.jupyter.widget-view+json": {
       "model_id": "62a8edc567b24eae926e817605be442a",
       "version_major": 2,
       "version_minor": 0
      },
      "text/plain": [
       "HBox(children=(Button(description='1', layout=Layout(width='auto'), style=ButtonStyle(), tooltip='\"我很高兴能遇到你，Ce…"
      ]
     },
     "metadata": {},
     "output_type": "display_data"
    },
    {
     "name": "stdout",
     "output_type": "stream",
     "text": [
      "I select option 2. TURN: 3 \n",
      "\n",
      "\n",
      "你停下脚步，转向Celine，眼神充满了深情：\"希望你永远记得今晚，就像我一样。\" 你的声音低沉而充满感情，每个字都像是轻轻地抚摸着她的心。\n",
      "\n",
      "Celine的眼眸中泛起了泪花，她点点头，微笑中带着泪光：\"我会的，永远不会忘记。\" 她的声音温柔而坚定，仿佛是在向你许下一个无声的承诺。\n",
      "\n",
      "这一刻，两人都沉浸在这份难以割舍的情感中，周围的世界仿佛静止了，只剩下对方在眼前。尽管知道分别在即，但此刻的情感却是如此真实而深刻。\n",
      "\n",
      "possible actions:\n",
      "1. \"让我们拥抱吧，作为告别。\"\n",
      "2. \"给我一个吻，让这成为我们美好回忆的一部分。\"\n",
      "3. \"我们一起走到那边的桥上，看一看夜景，作为最后的纪念。\""
     ]
    },
    {
     "data": {
      "application/vnd.jupyter.widget-view+json": {
       "model_id": "b03e9de7ce41436aa6913b3d67652521",
       "version_major": 2,
       "version_minor": 0
      },
      "text/plain": [
       "HBox(children=(Button(description='1', layout=Layout(width='auto'), style=ButtonStyle(), tooltip='\"让我们拥抱吧，作为告别…"
      ]
     },
     "metadata": {},
     "output_type": "display_data"
    },
    {
     "name": "stdout",
     "output_type": "stream",
     "text": [
      "I select option 3. TURN: 4 \n",
      "\n",
      "\n",
      "你微笑着提议，声音温柔：\"我们一起走到那边的桥上，看一看夜景，作为最后的纪念。\" 你的提议充满了浪漫和温情，希望给这段短暂的相遇留下一个美好的结束。\n",
      "\n",
      "Celine点了点头，她的眼神中闪烁着感激和珍惜。两人手牵手，缓缓地走向桥上。夜风轻拂，维也纳的夜景在眼前展开，灯光闪烁，如同星河落入人间。\n",
      "\n",
      "站在桥上，俯瞰着璀璨的城市，你和Celine共享这一刻的宁静与美好。这一瞬间，仿佛时间停滞，所有的不安、犹豫和未来的不确定都消失了，只留下彼此的陪伴和这座城市无声的见证。\n",
      "\n",
      "possible actions:\n",
      "1. \"这是一个完美的夜晚，谢谢你，Celine。\"\n",
      "2. \"我希望，即使在不同的地方，我们也能保持这份美好。\"\n",
      "3. \"记得我们在这里的时光，它会是我们心中永恒的光。\""
     ]
    },
    {
     "data": {
      "application/vnd.jupyter.widget-view+json": {
       "model_id": "834ceca2e25643308e6331f67b01f464",
       "version_major": 2,
       "version_minor": 0
      },
      "text/plain": [
       "HBox(children=(Button(description='1', layout=Layout(width='auto'), style=ButtonStyle(), tooltip='\"这是一个完美的夜晚，谢…"
      ]
     },
     "metadata": {},
     "output_type": "display_data"
    },
    {
     "name": "stdout",
     "output_type": "stream",
     "text": [
      "I select option 2. TURN: 5 \n",
      "\n",
      "\n",
      "你望着夜空，轻声说道：\"我希望，即使在不同的地方，我们也能保持这份美好。\" 话语中既有对即将到来的分别的不舍，也有对这份短暂相遇美好回忆的珍视。\n",
      "\n",
      "Celine靠近你，轻轻地依偎在你的肩膀上，声音柔和而有力：\"我们会的。这段时间，这些回忆，将成为我们心中最宝贵的财富。\" 她的话语中充满了坚定和希望，仿佛在为你们的未来留下了一个美好的印记。\n",
      "\n",
      "夜风继续轻拂，带着两人深情的对话，飘散在维也纳的夜空中。此刻的美好，将成为你们心中永远的记忆。尽管知道明早就是告别，但你们选择珍惜当下，让这一刻成为永恒。\n",
      "\n",
      "game master:\n",
      "\n",
      "-|context of the round|-\n",
      "summary: Jesse和Celine在维也纳的夜晚里，共享了一段浪漫又短暂的时光。从相遇到深夜的漫步，再到最后在桥上欣赏夜景，每一步都充满了情感的交织和珍贵的回忆。虽然他们决定在明早说再见，不再联系，但这份经历将成为他们心中无可替代的记忆。两人在短暂的相遇中，深深地影响了彼此的生命，留下了深刻的印记。"
     ]
    },
    {
     "data": {
      "application/vnd.jupyter.widget-view+json": {
       "model_id": "f052dc9229fc481693502ab57306e4c8",
       "version_major": 2,
       "version_minor": 0
      },
      "text/plain": [
       "HBox(children=(Button(description='NEXT ROUND', layout=Layout(width='auto'), style=ButtonStyle()), Button(desc…"
      ]
     },
     "metadata": {},
     "output_type": "display_data"
    },
    {
     "name": "stdout",
     "output_type": "stream",
     "text": [
      "第二天，清晨的第一缕阳光悄悄透过窗帘，落在了Celine平静的睡颜上。Celine慢慢睁开眼睛，轻声对你说：“早安。”她的声音如此温暖，仿佛能驱散一切寒冷。想到马上就要离别，你真希望时间能够永远定格在这一刻。\n",
      "\n",
      "Celine提出去机场送你，你们收拾行李打算出发。Celine拿起桌上的《致青年诗人的信》，嫣然一笑，“昨天在火车上初次见面，我就在看这本书，没想到后来发生这么多故事...留给你当作纪念吧。” Celine眼里有些落寞, “谢谢你Jesse，给我一场这么精彩的冒险。”\n",
      "\n",
      "你的思绪被拉回了昨天，昨天的点点滴滴像一部甜美的电影，不断在你脑海中回放，每一个笑声，每一次亲吻，都是那么真实又梦幻。\n",
      "\n",
      "possible actions:\n",
      "1. 收下书，让美好的回忆永远定格在昨天。你还没有准备好进入一段新恋情。\n",
      "2. 不上飞机，在一起才是最重要的，你选择和Celine在一起。\n"
     ]
    },
    {
     "data": {
      "application/vnd.jupyter.widget-view+json": {
       "model_id": "c95c20e645de4fcab0a8dbca0e9a4ffc",
       "version_major": 2,
       "version_minor": 0
      },
      "text/plain": [
       "HBox(children=(Button(description='1', layout=Layout(width='auto'), style=ButtonStyle(), tooltip='收下书，让美好的回忆永远…"
      ]
     },
     "metadata": {},
     "output_type": "display_data"
    },
    {
     "name": "stdout",
     "output_type": "stream",
     "text": [
      "I select option 2. TURN: 1 \n",
      "\n",
      "\n",
      "Standing at the departure gate, you turn to Celine with a smile, the kind that lights up your entire face, and say, \"You know what, I've always believed in making stories worth telling. How about we make this one our best one yet? I'm not leaving.\" \n",
      "\n",
      "Celine's eyes widen in disbelief, then fill with tears of joy. She throws her arms around you, laughing and crying at the same time. \"Are you serious? This... this is the best decision you've ever made!\" she exclaims, her voice muffled against your chest.\n",
      "\n",
      "As you hug her back, you feel a sense of completeness you've never felt before. Yes, the future is unknown and maybe it's a bit reckless, but at this moment, you know it's worth it.\n",
      "\n",
      "\"Let's make our own happy ending,\" you whisper to her, and she nods, her face breaking into the brightest smile you've ever seen.\n",
      "\n",
      "game master:\n",
      "-|context of the round|-\n",
      "summary: Jesse chose not to board the plane, deciding instead to stay with Celine and embark on a new chapter of their life together. Their story is a testament to the power of love and the magic of spontaneous decisions."
     ]
    },
    {
     "data": {
      "application/vnd.jupyter.widget-view+json": {
       "model_id": "36e942b7f2044e20b48ed79faa79711c",
       "version_major": 2,
       "version_minor": 0
      },
      "text/plain": [
       "HBox(children=(Button(description='NEXT ROUND', layout=Layout(width='auto'), style=ButtonStyle()), Button(desc…"
      ]
     },
     "metadata": {},
     "output_type": "display_data"
    }
   ],
   "source": [
    "import re\n",
    "import tomllib\n",
    "import functools\n",
    "from typing import Literal\n",
    "\n",
    "import ipywidgets as widgets\n",
    "from IPython.display import display\n",
    "\n",
    "from dotenv import load_dotenv\n",
    "\n",
    "load_dotenv()\n",
    "\n",
    "from rs import Message, Config, chat, skill_check\n",
    "import d20\n",
    "\n",
    "action_pattern = re.compile(r\"(\\d+). *(.+)\")\n",
    "skill_pattern = re.compile(r\"[\\w_]+\")\n",
    "skill_difficulty_pattern = re.compile(r\"(easy|medium|hard)\")\n",
    "\n",
    "def next_round(b):\n",
    "    global current_round, initial_messages\n",
    "    current_round += 1\n",
    "    initial_messages = config.initial_messages(current_round, config.metadata)\n",
    "\n",
    "    print(initial_messages[-1].content)\n",
    "    display(get_controls(initial_messages[-1]))\n",
    "\n",
    "def get_user_message_tail():\n",
    "    count = 0\n",
    "    for msg in initial_messages:\n",
    "        if msg.role == \"user\":\n",
    "            count += 1\n",
    "\n",
    "    is_final =  \", FINAL ROUND\" if  current_round == len(config.rounds) else \"\"\n",
    "    return f\"TURN: {count + 1} {is_final}\"\n",
    "    \n",
    "\n",
    "def do_chat(role:Literal[\"user\", \"system\", \"assistant\"], content: str):\n",
    "    print(f\"{content}\\n\\n\")\n",
    "\n",
    "    initial_messages.append(Message(role=role, content=content))\n",
    "    msg = chat(initial_messages, lambda delta: print(delta, end=\"\"))\n",
    "\n",
    "    initial_messages.append(msg)\n",
    "    display(get_controls(msg))\n",
    "\n",
    "\n",
    "def on_skill(b, skill:str, difficulty:str):\n",
    "    content = skill_check(skill, difficulty, config.metadata)\n",
    "    content += f\"\\n{get_user_message_tail()}\"\n",
    "    do_chat(\"user\", content)\n",
    "\n",
    "def on_action(b, index:int):\n",
    "    content = f\"I select option {index}. {get_user_message_tail()}\"\n",
    "    do_chat(\"user\", content)\n",
    "\n",
    "def on_custom_input(b, input:widgets.Text):\n",
    "    content = f\"{input.value}. {get_user_message_tail()}\"\n",
    "    do_chat(\"user\", content)\n",
    "\n",
    "def on_custom_action(b):\n",
    "    hbox = widgets.HBox(layout=widgets.Layout(width=\"100%\"))\n",
    "    action_text = widgets.Text(layout=widgets.Layout(width=\"100%\"))\n",
    "    submit = widgets.Button(description=\"SUBMIT\", layout=widgets.Layout(width=\"fit-content\"))\n",
    "    submit.on_click(functools.partial(on_custom_input, input=action_text))\n",
    "    hbox.children += (action_text, submit) \n",
    "    display(hbox)\n",
    "\n",
    "def get_controls(msg:Message) -> widgets.Box:\n",
    "    dict = msg.dict()\n",
    "    buttons = []\n",
    "    if \"possible actions\" in dict.keys():\n",
    "        matches = action_pattern.finditer(dict[\"possible actions\"])\n",
    "        for match in matches:\n",
    "            btn = widgets.Button(description=match.group(1), tooltip=match.group(2), layout=widgets.Layout(width=\"auto\"))\n",
    "            btn.on_click(functools.partial(on_action, index=int(match.group(1))))\n",
    "            buttons.append(btn)\n",
    "    elif \"skill\" in dict.keys() and \"difficulty\" in dict.keys():\n",
    "        match = skill_pattern.match(dict[\"skill\"])\n",
    "        skill = match.group(0)\n",
    "        match = skill_difficulty_pattern.match(dict[\"difficulty\"])\n",
    "        difficulty = match.group(0)\n",
    "        skill_button = widgets.Button(description=f\"{skill.upper()} [{difficulty.upper()}]\", layout=widgets.Layout(width=\"auto\"))\n",
    "        skill_button.on_click(functools.partial(on_skill, skill=skill, difficulty=difficulty))\n",
    "        buttons.append(skill_button)\n",
    "    elif \"summary\" in dict.keys():\n",
    "        # add summary as a memory to the metadata\n",
    "        # it will be used in the next round.\n",
    "        config.metadata[\"memories\"] = []\n",
    "        config.metadata[\"memories\"].append(dict[\"summary\"])\n",
    "        next_btn = widgets.Button(description=\"NEXT ROUND\", layout=widgets.Layout(width=\"auto\"))\n",
    "        next_btn.on_click(next_round)\n",
    "        buttons.append(next_btn)\n",
    "    \n",
    "    custom_action_button = widgets.Button(description=\"CUSTOM\")\n",
    "    custom_action_button.on_click(on_custom_action)\n",
    "    buttons.append(custom_action_button)\n",
    "\n",
    "    return widgets.HBox(buttons)\n",
    "\n",
    "# open config file\n",
    "config_name = \"data/config_romance.toml\"\n",
    "config: Config | None = None\n",
    "with open(config_name, \"rb\") as f:\n",
    "    data = tomllib.load(f)\n",
    "    config = Config(**data)\n",
    "\n",
    "current_round = 0\n",
    "initial_messages = config.initial_messages(current_round, config.metadata)\n",
    "\n",
    "print(initial_messages[-1].content)\n",
    "display(get_controls(initial_messages[-1]))"
   ]
  }
 ],
 "metadata": {
  "kernelspec": {
   "display_name": ".venv",
   "language": "python",
   "name": "python3"
  },
  "language_info": {
   "codemirror_mode": {
    "name": "ipython",
    "version": 3
   },
   "file_extension": ".py",
   "mimetype": "text/x-python",
   "name": "python",
   "nbconvert_exporter": "python",
   "pygments_lexer": "ipython3",
   "version": "3.12.3"
  }
 },
 "nbformat": 4,
 "nbformat_minor": 2
}
