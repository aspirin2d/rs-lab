{
 "cells": [
  {
   "cell_type": "code",
   "execution_count": null,
   "metadata": {},
   "outputs": [],
   "source": [
    "from jinja2 import Template\n",
    "template = Template('Hello {{ name }}!')\n",
    "template.render(name='Mandy')"
   ]
  },
  {
   "cell_type": "code",
   "execution_count": null,
   "metadata": {},
   "outputs": [],
   "source": [
    "from jinja2 import Template\n",
    "template = Template('Hello {% if name %}{{ name }}{% else %}World{% endif %}!')\n",
    "\n",
    "output = template.render(name = '')\n",
    "print(output)\n"
   ]
  },
  {
   "cell_type": "code",
   "execution_count": null,
   "metadata": {},
   "outputs": [],
   "source": [
    "from jinja2 import Template\n",
    "template = Template('{% if score >= 90%}优秀{% elif score >= 80%}良好{% elif score >= 60%}及格{% else%}不及格{% endif %}')\n",
    "output = template.render(score = 96)\n",
    "print(output)"
   ]
  },
  {
   "cell_type": "code",
   "execution_count": null,
   "metadata": {},
   "outputs": [],
   "source": [
    "from jinja2 import Template\n",
    "template = Template('Adding {{ X }} and {{ Y }} equals {{ X + Y}}')\n",
    "output = template.render(X = 5, Y = 6)\n",
    "print(output)"
   ]
  },
  {
   "cell_type": "code",
   "execution_count": null,
   "metadata": {},
   "outputs": [],
   "source": [
    "from jinja2 import Template\n",
    "template = Template(\"a circle with a radius of {{radius}} has an area of {{3.14*radius**2}}\")\n",
    "output = template.render(radius = 5)\n",
    "print(output)"
   ]
  },
  {
   "cell_type": "code",
   "execution_count": null,
   "metadata": {},
   "outputs": [],
   "source": [
    "name = input(\"What's your name? \")\n",
    "fav_color = input(\"What is your favorite color?\")\n",
    "print(name + \"likes\" +fav_color)"
   ]
  },
  {
   "cell_type": "code",
   "execution_count": null,
   "metadata": {},
   "outputs": [],
   "source": [
    "course = \"Python for Beginners\"\n",
    "print(len(course))\n",
    "print(course.upper())\n",
    "print(course.replace('Beginners','Absolute Beginners'))\n",
    "print(course.find('beginner'))\n",
    "print('p' in course)"
   ]
  },
  {
   "cell_type": "code",
   "execution_count": null,
   "metadata": {},
   "outputs": [],
   "source": [
    "name = \"Mandy\"\n",
    "last_name = \"Wang\"\n",
    "print(\"My name is \" + name + \" \" + last_name)\n",
    "print(f\"My name is {name} {last_name}\")"
   ]
  },
  {
   "cell_type": "code",
   "execution_count": null,
   "metadata": {},
   "outputs": [],
   "source": [
    "print(10 / 3)\n",
    "print(10//3) #取整数\n",
    "print(10%3) #取余数\n",
    "print(2**2)\n",
    "x = 3\n",
    "x = x+3\n",
    "print(x)\n",
    "\n",
    "x = 3\n",
    "x += 3\n",
    "print(x)"
   ]
  },
  {
   "cell_type": "code",
   "execution_count": null,
   "metadata": {},
   "outputs": [],
   "source": [
    "x = 2.5\n",
    "print(round (x))\n",
    "print(abs(-2.9))"
   ]
  },
  {
   "cell_type": "code",
   "execution_count": null,
   "metadata": {},
   "outputs": [],
   "source": [
    "is_hot = True\n",
    "is_cold = False\n",
    "if is_hot:\n",
    "    print(\"It's a hot day!\")\n",
    "    print(\"Drink more water.\")\n",
    "elif is_cold:\n",
    "    print(\"It's a cold day!\")\n",
    "    print(\"Wear more clothes\")\n",
    "else:\n",
    "    print(\"It's a lovely day!\")\n",
    "\n",
    "print(\"Have a nice day!\")"
   ]
  },
  {
   "cell_type": "code",
   "execution_count": null,
   "metadata": {},
   "outputs": [],
   "source": [
    "has_high_income = True\n",
    "has_good_credit = False\n",
    "criminal_record = True\n",
    "if has_high_income and has_good_credit:\n",
    "    print(\"Eligible for loan\")\n",
    "else:\n",
    "    print(\"Not eligible for loan\")\n",
    "\n",
    "if has_high_income and not criminal_record:\n",
    "    print(\"Eligible for loan\")"
   ]
  },
  {
   "cell_type": "code",
   "execution_count": null,
   "metadata": {},
   "outputs": [],
   "source": [
    "name = \"Ax\"\n",
    "if len(name) < 3:\n",
    "    print(\"Name must be at least 3 characters\")\n",
    "elif len(name) > 50:\n",
    "    print(\"Name must be less than 50 character\")\n",
    "else:\n",
    "    print(\"Name looks good!\")"
   ]
  },
  {
   "cell_type": "code",
   "execution_count": null,
   "metadata": {},
   "outputs": [],
   "source": [
    "weight = int(input(\"Weight: \"))\n",
    "unit = input(\"(L)bs or (K)g\")\n",
    "if unit.upper() == \"L\":\n",
    "    converted = weight * 0.45\n",
    "    print(f\"You are {converted} kilos\")\n",
    "else:\n",
    "    converted = weight/0.45\n",
    "    print(f\"You are {converted} pounds \")"
   ]
  },
  {
   "cell_type": "code",
   "execution_count": null,
   "metadata": {},
   "outputs": [],
   "source": [
    "i = 2\n",
    "while i < 5: #while循环\n",
    "    print(\"C\" * i)\n",
    "    i += 1 #i=i+1\n",
    "print(\"Done\")"
   ]
  },
  {
   "cell_type": "code",
   "execution_count": null,
   "metadata": {},
   "outputs": [],
   "source": [
    "target_number = 9\n",
    "max_attempts = 3\n",
    "attempts = 0\n",
    "print(\"欢迎来到猜数字游戏！你有3次机会猜一个1到10之间的数字。\")\n",
    "\n",
    "while attempts < max_attempts:\n",
    "    guess = int(input(\"请输入你的猜测: \"))\n",
    "    if guess == target_number:\n",
    "        print(\"你成功猜出了数字！\")\n",
    "        break\n",
    "    else:\n",
    "        print(\"猜错了，请再试一次。\")\n",
    "    attempts += 1\n",
    "if attempts == max_attempts:\n",
    "    print(\"你失败了，正确的数字是\", target_number)"
   ]
  },
  {
   "cell_type": "code",
   "execution_count": null,
   "metadata": {},
   "outputs": [],
   "source": [
    "price = [10, 20, 30]\n",
    "total = 0\n",
    "for price in price:\n",
    "    total += price\n",
    "print(f'Total: {total}')"
   ]
  },
  {
   "cell_type": "code",
   "execution_count": null,
   "metadata": {},
   "outputs": [],
   "source": [
    "for item in range(10,15,2): #取10（包含10）到15的数字，间隔两个数字\n",
    "    print(item)"
   ]
  },
  {
   "cell_type": "code",
   "execution_count": null,
   "metadata": {},
   "outputs": [],
   "source": [
    "for x in range(2):\n",
    "    for y in range(3):\n",
    "        print(f'({x},{y})')\n",
    "#for嵌套循环用于排列组合或多维数据\n",
    "\n",
    "colors = ['red','blue','orange']\n",
    "sizes = ['S','M','L']\n",
    "for color in colors:\n",
    "    for size in sizes:\n",
    "        print(color,size)"
   ]
  },
  {
   "cell_type": "code",
   "execution_count": null,
   "metadata": {},
   "outputs": [],
   "source": [
    "numbers = [5,2,5,2,2]\n",
    "for number in numbers:\n",
    "    print(number * 'x')"
   ]
  },
  {
   "cell_type": "code",
   "execution_count": null,
   "metadata": {},
   "outputs": [],
   "source": [
    "numbers = [5,2,5,2,2]\n",
    "for x_count in numbers:\n",
    "    output = ''\n",
    "    for count in range(x_count):\n",
    "        output += 'x'\n",
    "    print(output)"
   ]
  },
  {
   "cell_type": "code",
   "execution_count": null,
   "metadata": {},
   "outputs": [],
   "source": [
    "name = ['John','Bob','Sarah','Dylan']\n",
    "name[-1] = 'Jon'\n",
    "print(name[2:])"
   ]
  },
  {
   "cell_type": "code",
   "execution_count": null,
   "metadata": {},
   "outputs": [],
   "source": [
    "#取一组数的最大值\n",
    "numbers = [1,2,7,9,4,6,2]\n",
    "max = numbers[0] #假设最大值是第一个数字\n",
    "for number in numbers:\n",
    "    if number > max:\n",
    "        max = number\n",
    "print(max)"
   ]
  },
  {
   "cell_type": "code",
   "execution_count": null,
   "metadata": {},
   "outputs": [],
   "source": [
    "matrix = [\n",
    "    [1,2,3],\n",
    "    [4,5,6],\n",
    "    [7,8,9]\n",
    "]\n",
    "print(matrix[2][1])\n",
    "\n",
    "for row in matrix:\n",
    "    for item in row:\n",
    "        print(item)"
   ]
  },
  {
   "cell_type": "code",
   "execution_count": null,
   "metadata": {},
   "outputs": [],
   "source": [
    "numbers = [1,3,5,7,8]\n",
    "numbers.append(24) #在末尾增加一个数字\n",
    "print(numbers)\n",
    "\n",
    "numbers.extend([24])\n",
    "print(numbers)\n",
    "\n",
    "numbers.insert(2,24) #在任意位置增加一个数字\n",
    "print(numbers)\n",
    "\n",
    "numbers.remove(3) #去除3\n",
    "print(numbers)\n",
    "\n",
    "numbers.pop() #去除最后一个数字\n",
    "print(numbers)\n",
    "\n",
    "print(numbers.index(24)) #查找24所在的位置\n",
    "\n",
    "print(24 in numbers) #查找numbers里是否有24，返回True or False布尔值\n",
    "\n",
    "numbers.sort()\n",
    "print(numbers)\n",
    "numbers.reverse()\n",
    "print(numbers)\n",
    "\n",
    "numbers2 = numbers.copy() #numbers的副本\n",
    "print(numbers2)\n",
    "\n",
    "numbers.clear() #删除所有内容\n",
    "print(numbers)\n",
    "\n",
    "\n"
   ]
  },
  {
   "cell_type": "code",
   "execution_count": null,
   "metadata": {},
   "outputs": [],
   "source": [
    "#去重\n",
    "numbers = [1,2,3,2,3]\n",
    "uniques =[]\n",
    "for number in numbers:\n",
    "    if number not in uniques:\n",
    "        uniques.append(number)\n",
    "print(uniques)"
   ]
  },
  {
   "cell_type": "code",
   "execution_count": null,
   "metadata": {},
   "outputs": [],
   "source": [
    "numbers = (1,2,3) #元组不能做增加，列表[]可以"
   ]
  },
  {
   "cell_type": "code",
   "execution_count": null,
   "metadata": {},
   "outputs": [],
   "source": [
    "#字典{}\n",
    "customer = {\n",
    "    'name': 'John Smith',\n",
    "    'age':30,\n",
    "    'gender':'male'\n",
    "}\n",
    "print(customer['name'])\n",
    "\n",
    "print(customer.get('gender','female')) #get(取值，默认值)\n",
    "\n",
    "customer['birthplace'] = 'New York' #增加项\n",
    "print(customer)"
   ]
  },
  {
   "cell_type": "code",
   "execution_count": null,
   "metadata": {},
   "outputs": [],
   "source": [
    "phone = input(\"phone number: \")\n",
    "number ={\n",
    "    \"1\": \"one\",\n",
    "    \"2\": \"two\",\n",
    "    \"3\": \"three\",\n",
    "    \"4\": \"four\"\n",
    "} \n",
    "output = ''\n",
    "for ch in phone:\n",
    "    output += number.get(ch, '#') + ' '\n",
    "print(output)"
   ]
  },
  {
   "cell_type": "code",
   "execution_count": null,
   "metadata": {},
   "outputs": [],
   "source": [
    "def greet_user(first_name, last_name):\n",
    "    print(f'Hi {first_name} {last_name}!')\n",
    "\n",
    "greet_user('Mary','Smith') #位置参数 order matters \n",
    "greet_user(last_name='Smith', first_name='Mary') #关键词参数  \n",
    "greet_user('Mary',last_name='Smith') "
   ]
  },
  {
   "cell_type": "code",
   "execution_count": null,
   "metadata": {},
   "outputs": [],
   "source": [
    "def square(number):\n",
    "    return number * number\n",
    "\n",
    "print(square(9))"
   ]
  },
  {
   "cell_type": "code",
   "execution_count": null,
   "metadata": {},
   "outputs": [],
   "source": [
    "try:\n",
    "    age = int(input('age: '))\n",
    "    income = 20000\n",
    "    risk = income / age\n",
    "    print(age)\n",
    "    print(risk)\n",
    "except ValueError:\n",
    "    print('Invalid value')\n",
    "except ZeroDivisionError:\n",
    "    print('Age cannot be zero.')"
   ]
  },
  {
   "cell_type": "code",
   "execution_count": null,
   "metadata": {},
   "outputs": [],
   "source": [
    "class Enemy: #定义概念/类\n",
    "    def __init__(self, name, health, attack_power): #定义属性\n",
    "        self.name = name\n",
    "        self.health = health\n",
    "        self.attack_power = attack_power\n",
    "    \n",
    "    def attack(self): #定义动作/方法\n",
    "        print(f'{self.name} attacks with power {self.attack_power}!')\n",
    "    \n",
    "    def damage(self, damage):\n",
    "        self.health -= damage\n",
    "        print(f'{self.name} takes {damage} damage! Health is now {self.health}.')\n",
    "    \n",
    "        if self.health <= 0:\n",
    "            print(f'{self.name} has been defeated!')\n",
    "\n",
    "dragon = Enemy('dragon',100,5) #创建一个实例/对象\n",
    "\n",
    "dragon.attack() #执行动作/方法\n",
    "dragon.damage(100) #受到20点伤害，damage point是外部数据 "
   ]
  },
  {
   "cell_type": "code",
   "execution_count": null,
   "metadata": {},
   "outputs": [],
   "source": [
    "def boss(name, health, attack_power):\n",
    "    return {\n",
    "        'name': name,\n",
    "        'health': health,\n",
    "        'attack_power': attack_power\n",
    "    }\n",
    "\n",
    "def attack(boss):\n",
    "    print(f'{boss['name']} attacks with power {boss['attack_power']}!')\n",
    "\n",
    "def damage(boss, damage):\n",
    "    new_health = boss['health'] - damage\n",
    "    print(f'{boss['name']} takes {damage} damage. Health is now {new_health}.')\n",
    "\n",
    "    if new_health <= 0:\n",
    "        print(f'{boss['name']} has been defeated!') \n",
    "    \n",
    "    return {\n",
    "        'name': boss['name'],\n",
    "        'health': new_health,\n",
    "        'attack_power': boss['attack_power']\n",
    "    }\n",
    "\n",
    "dragon = boss('dragon', 100, 20)\n",
    "\n",
    "attack(dragon)\n",
    "dragon = damage(dragon, 20)"
   ]
  },
  {
   "cell_type": "code",
   "execution_count": null,
   "metadata": {},
   "outputs": [],
   "source": [
    "boss(dragon) #运行函数\n",
    "boss['name'] #读取字典，boss是一个字典\n",
    "boss.name #读取属性"
   ]
  },
  {
   "cell_type": "code",
   "execution_count": null,
   "metadata": {},
   "outputs": [],
   "source": [
    "class Person:\n",
    "    def __init__(self, name):\n",
    "        self.name = name\n",
    "    def talk(self):\n",
    "        print(f'{self.name} says...')\n",
    "\n",
    "Mandy = Person('Mandy')\n",
    "Mandy.talk() #调用实例\n",
    "\n",
    "Person.talk(Mandy) #也对，但不直观\n",
    "\n",
    "Susan = Person('Susan')\n",
    "Susan.talk()"
   ]
  },
  {
   "cell_type": "code",
   "execution_count": null,
   "metadata": {},
   "outputs": [],
   "source": [
    "class Mammal:\n",
    "    def __init__(self, name):\n",
    "        self.name = name\n",
    "    def action(self):\n",
    "        print(f'{self.name} walks.')\n",
    "\n",
    "class Dog(Mammal):\n",
    "    pass\n",
    "\n",
    "class Cat(Mammal):\n",
    "    pass\n",
    "\n",
    "doggy = Dog('doggy')\n",
    "\n",
    "doggy.action()"
   ]
  },
  {
   "cell_type": "code",
   "execution_count": null,
   "metadata": {},
   "outputs": [],
   "source": [
    "import random \n",
    "for i in range(3):\n",
    "    print(random.random())\n",
    "    print(random.randint(5,10))\n",
    "    "
   ]
  },
  {
   "cell_type": "code",
   "execution_count": null,
   "metadata": {},
   "outputs": [],
   "source": [
    "members = ['john','mary','Mandy']\n",
    "leader = random.choice(members)\n",
    "print(leader)"
   ]
  },
  {
   "cell_type": "code",
   "execution_count": null,
   "metadata": {},
   "outputs": [],
   "source": [
    "import random\n",
    "class Dice:\n",
    "    def roll(self):\n",
    "        first = random.randint(1,6)\n",
    "        second = random.randint(1,6)\n",
    "        return first, second\n",
    "    \n",
    "dice = Dice()\n",
    "dice.roll()"
   ]
  },
  {
   "cell_type": "code",
   "execution_count": null,
   "metadata": {},
   "outputs": [],
   "source": [
    "import openpyxl as xl\n",
    "wb = xl.load_workbook('playground.xlsx')\n",
    "content = wb['Sheet1']\n",
    "cell = content['A1']\n",
    "print(cell.value)\n",
    "\n",
    "grade = content['C2']\n",
    "print(grade.value)\n",
    "\n",
    "correct_grade = grade.value * 0.8\n",
    "print(correct_grade)\n",
    "\n",
    "for row in range(2, sheet.max_row + 1):\n",
    "    cell = sheet.cell(row, 3)\n",
    "    corrected_grade = cell.value * 0.8\n",
    "    corrected_grade_cell = sheet.cell(row, 4)\n",
    "    corrected_grade_cell.value = corrected_grade\n",
    "\n",
    "wb.save('playground2.xlsx')\n"
   ]
  },
  {
   "cell_type": "code",
   "execution_count": null,
   "metadata": {},
   "outputs": [],
   "source": [
    "import openpyxl as xl\n",
    "\n",
    "# 加载工作簿\n",
    "wb = xl.load_workbook('playground.xlsx')\n",
    "# 选择工作表\n",
    "sheet = wb['Sheet1']\n",
    "\n",
    "# 确保读取和输出正确的单元格值\n",
    "cell = sheet['A1']\n",
    "print(cell.value)\n",
    "\n",
    "grade = sheet['C2']\n",
    "print(grade.value)\n",
    "\n",
    "correct_grade = grade.value * 0.8\n",
    "print(correct_grade)\n",
    "\n",
    "# 遍历所有行，计算并写入“Corrected Grade”\n",
    "for row in range(2, sheet.max_row + 1):\n",
    "    cell = sheet.cell(row, 3)  # 获取第三列（Grade）的单元格\n",
    "    corrected_grade = cell.value * 0.8  # 计算校正后的成绩\n",
    "    corrected_grade_cell = sheet.cell(row, 4)  # 获取第四列的单元格\n",
    "    corrected_grade_cell.value = corrected_grade  # 将校正后的成绩写入第四列\n",
    "\n",
    "# 保存到新的 Excel 文件\n",
    "wb.save('playground2.xlsx')\n"
   ]
  },
  {
   "cell_type": "code",
   "execution_count": null,
   "metadata": {},
   "outputs": [],
   "source": [
    "numbers = range(1, 10)\n",
    "count = 0\n",
    "for number in numbers:\n",
    "    if number % 2 == 0:\n",
    "        count += 1\n",
    "        print(number)\n",
    "\n",
    "print(f'We have {count} even numbers.')\n"
   ]
  },
  {
   "cell_type": "code",
   "execution_count": null,
   "metadata": {},
   "outputs": [],
   "source": [
    "#计算某段数字区间的平均值，用for的做法\n",
    "monthly_spending = [2689.56, 2770.38, 2394.04, 2099.91, 3182.20, 3267.12, 1746.83, 2545.72, 3328.20, 3147.30, 2462.61, 3890.45]\n",
    "\n",
    "first_semester = 0\n",
    "second_semester = 0\n",
    "\n",
    "for i in range(6):\n",
    "    first_semester += monthly_spending[i]\n",
    "for i in range(6,12):\n",
    "    second_semester += monthly_spending[i]\n",
    "\n",
    "first_semester_avg = first_semester / 6\n",
    "second_semester_avg = second_semester / 6\n",
    "print(first_semester_avg)\n",
    "print(second_semester_avg)"
   ]
  },
  {
   "cell_type": "code",
   "execution_count": null,
   "metadata": {},
   "outputs": [],
   "source": [
    "#计算某段数字区间的平均值，用slice\n",
    "monthly_spending = [2689.56, 2770.38, 2394.04, 2099.91, 3182.20, 3267.12, 1746.83, 2545.72, 3328.20, 3147.30, 2462.61, 3890.45]\n",
    "\n",
    "first_semester_avg = sum(monthly_spending[:6]) / len(monthly_spending[:6])\n",
    "print(sum(monthly_spending[:6]))\n",
    "print(len(monthly_spending[:6]))\n",
    "print(first_semester_avg)\n",
    "\n",
    "second_semester_avg = sum(monthly_spending[6:12]) / len(monthly_spending[6:12])\n",
    "print(sum(monthly_spending[6:12]))\n",
    "print(len(monthly_spending[6:12]))\n",
    "print(second_semester_avg)"
   ]
  },
  {
   "cell_type": "code",
   "execution_count": 173,
   "metadata": {},
   "outputs": [
    {
     "name": "stdout",
     "output_type": "stream",
     "text": [
      "6 months John spent more money. Months are: [1, 3, 5, 6, 8, 12]\n",
      "[1, 3, 5, 6, 8, 12]\n",
      "Jan\n",
      "Mar\n",
      "May\n",
      "Jun\n",
      "Aug\n",
      "Dec\n",
      "Months are: ['Jan', 'Mar', 'May', 'Jun', 'Aug', 'Dec']\n"
     ]
    }
   ],
   "source": [
    "john_monthly_spending = [2689.56, 2770.38, 2394.04, 2099.91, 3182.20, 3267.12, 1746.83, 2545.72, 3328.20, 3147.30, 2462.61, 3890.45]\n",
    " \n",
    "sam_monthly_spending = [1969.62, 3939.37, 2241.59, 3968.27, 3068.80, 1755.02, 3885.66, 2491.67, 3828.49, 3171.32, 2771.32, 3380.37]\n",
    "\n",
    "john_spend_more = 0\n",
    "sam_spend_more = 0\n",
    "equal = 0\n",
    "john_spend_more_month= []\n",
    "\n",
    "for i in range(12):\n",
    "    if john_monthly_spending[i] > sam_monthly_spending[i]:\n",
    "        john_spend_more += 1\n",
    "        john_spend_more_month.append(i+1)\n",
    "        #print(john_spend_more_month)\n",
    "        #print(f'John spent more money than Sam in Month {i+1}')\n",
    "print(str(john_spend_more) + \" months John spent more money.\" + \" Months are: \" + str(john_spend_more_month))\n",
    "\n",
    "print(john_spend_more_month)\n",
    "\n",
    "months = {\n",
    "    1: \"Jan\",\n",
    "    2: \"Feb\",\n",
    "    3: \"Mar\",\n",
    "    4: \"Apr\",\n",
    "    5: \"May\",\n",
    "    6: \"Jun\",\n",
    "    7: \"Jul\",\n",
    "    8: \"Aug\",\n",
    "    9: \"Sep\",\n",
    "    10: \"Oct\",\n",
    "    11: \"Nov\",\n",
    "    12: \"Dec\"\n",
    "}\n",
    "\n",
    "month_name_list = []\n",
    "\n",
    "for month in john_spend_more_month:\n",
    "    month_name = months.get(month, 0)\n",
    "    print(month_name)\n",
    "    month_name_list.append(month_name)\n",
    "print('Months are: ' + str(month_name_list))\n",
    "    "
   ]
  },
  {
   "cell_type": "code",
   "execution_count": 185,
   "metadata": {},
   "outputs": [
    {
     "name": "stdout",
     "output_type": "stream",
     "text": [
      "['Mary', 'Tim', 'Mike', 'Henry', 'Susan', 'Josh']\n"
     ]
    }
   ],
   "source": [
    "paul_friends = [\"Mary\", \"Tim\", \"Mike\", \"Henry\"]\n",
    "tina_friends = [\"Tim\", \"Susan\", \"Mary\", \"Josh\"]\n",
    "\n",
    "friends_all = []\n",
    "\n",
    "for friends in paul_friends:\n",
    "    if friends not in friends_all:\n",
    "        friends_all.append(friends)\n",
    "\n",
    "for friends in tina_friends:\n",
    "    if friends not in friends_all:\n",
    "        friends_all.append(friends)\n",
    "\n",
    "print(friends_all)\n"
   ]
  },
  {
   "cell_type": "code",
   "execution_count": 186,
   "metadata": {},
   "outputs": [
    {
     "name": "stdout",
     "output_type": "stream",
     "text": [
      "['Mary', 'Tim']\n"
     ]
    }
   ],
   "source": [
    "paul_friends = [\"Mary\", \"Tim\", \"Mike\", \"Henry\"]\n",
    "tina_friends = [\"Tim\", \"Susan\", \"Mary\", \"Josh\"]\n",
    "\n",
    "common_friends = []\n",
    "\n",
    "for friends in paul_friends:\n",
    "    if friends in tina_friends:\n",
    "        common_friends.append(friends)\n",
    "\n",
    "print(common_friends)"
   ]
  },
  {
   "cell_type": "code",
   "execution_count": 191,
   "metadata": {},
   "outputs": [
    {
     "name": "stdout",
     "output_type": "stream",
     "text": [
      "['Michael', 'Jessica']\n"
     ]
    }
   ],
   "source": [
    "football_players = {\"Eve\", \"Tom\", \"Richard\", \"Peter\"}\n",
    "volleyball_players = {\"Jack\", \"Hugh\", \"Peter\", \"Sam\"}\n",
    "basketball_players = {\"Eve\", \"Richard\", \"Jessica\", \"Sam\", \"Michael\"}\n",
    "\n",
    "basketball_only = []\n",
    "\n",
    "for players in basketball_players:\n",
    "    if players not in football_players:\n",
    "        if players not in volleyball_players:\n",
    "            basketball_only.append(players)\n",
    "\n",
    "print(basketball_only)"
   ]
  },
  {
   "cell_type": "code",
   "execution_count": 203,
   "metadata": {},
   "outputs": [
    {
     "name": "stdout",
     "output_type": "stream",
     "text": [
      "\n",
      "    python: 5\n",
      "    java: 1\n",
      "    javascript: 3\n",
      "    c: 2\n",
      "\n"
     ]
    }
   ],
   "source": [
    "poll_results = [\"Python\", \"Java\", \"Javascript\", \"Python\", \"Javascript\", \"Python\", \"C\", \"Python\", \"Python\", \"C\", \"Javascript\"]\n",
    "\n",
    "python = 0\n",
    "java = 0\n",
    "javascript = 0\n",
    "c = 0\n",
    "\n",
    "for language in poll_results:\n",
    "    if language == 'Python':\n",
    "        python += 1\n",
    "    elif language == 'Java':\n",
    "        java += 1\n",
    "    elif language == 'Javascript':\n",
    "        javascript += 1\n",
    "    else: c += 1\n",
    "\n",
    "print(f\"\"\"\n",
    "    python: {python}\n",
    "    java: {java}\n",
    "    javascript: {javascript}\n",
    "    c: {c}\n",
    "\"\"\")"
   ]
  },
  {
   "cell_type": "code",
   "execution_count": 204,
   "metadata": {},
   "outputs": [
    {
     "name": "stdout",
     "output_type": "stream",
     "text": [
      "Vote Tally: {'Python': 5, 'Java': 1, 'Javascript': 3, 'C': 2}\n"
     ]
    }
   ],
   "source": [
    "#使用空字典统计\n",
    "poll_results = [\"Python\", \"Java\", \"Javascript\", \"Python\", \"Javascript\", \"Python\", \"C\", \"Python\", \"Python\", \"C\", \"Javascript\"]\n",
    " \n",
    "vote_tally = {}\n",
    "for language in poll_results:\n",
    "    if language in vote_tally:\n",
    "        vote_tally[language] += 1\n",
    "    else:\n",
    "        vote_tally[language] = 1\n",
    " \n",
    "print(\"Vote Tally:\", vote_tally)"
   ]
  },
  {
   "cell_type": "code",
   "execution_count": 214,
   "metadata": {},
   "outputs": [
    {
     "name": "stdout",
     "output_type": "stream",
     "text": [
      "{'Mike': 24, 'John': 28, 'Tom': 17}\n"
     ]
    }
   ],
   "source": [
    "scores = [('Mike', 10), ('Mike', 8), ('Mike', 6), ('John', 7), ('John', 8), ('John', 5), ('John', 8), ('Tom', 8), ('Tom', 9)]\n",
    "\n",
    "\n",
    "result = {}\n",
    "for key, value in scores:\n",
    "    if key in result:\n",
    "        result[key] += value\n",
    "    else:\n",
    "        result[key] = value\n",
    "\n",
    "print(result)"
   ]
  },
  {
   "cell_type": "code",
   "execution_count": 219,
   "metadata": {},
   "outputs": [
    {
     "name": "stdout",
     "output_type": "stream",
     "text": [
      "mike 10\n",
      "mike\n",
      "[10]\n",
      "Mandy: 10\n",
      "Calvim: 20\n"
     ]
    }
   ],
   "source": [
    "#取值\n",
    "pair = (\"mike\", 10)\n",
    "first, second = pair #item个数应该和pair里的个数对应，否则会报错\n",
    "print(first,second)\n",
    "\n",
    "first, *other = pair\n",
    "print(first)\n",
    "print(other)\n",
    "\n",
    "pair1 = (\"Mandy\", 10)\n",
    "pair2 = (\"Calvim\", 20)\n",
    "\n",
    "list = [pair1, pair2]\n",
    "\n",
    "for name, age in list:\n",
    "    print(f\"{name}: {age}\")"
   ]
  },
  {
   "cell_type": "code",
   "execution_count": 6,
   "metadata": {},
   "outputs": [
    {
     "name": "stdout",
     "output_type": "stream",
     "text": [
      "[('product 2', 5), ('product 1', 9), ('product 3', 14)]\n",
      "[('product 2', 5), ('product 1', 9), ('product 3', 14)]\n",
      "(<function <lambda> at 0x000001C85E8D3D80>, [('product 2', 5), ('product 1', 9), ('product 3', 14)])\n",
      "<map object at 0x000001C85E326A40>\n",
      "[5, 9, 14]\n"
     ]
    }
   ],
   "source": [
    "items = [\n",
    "    ('product 1', 9),\n",
    "    ('product 2', 5),\n",
    "    ('product 3', 14),\n",
    "]\n",
    "\n",
    "def sort_item(item): #提取价格作为排序的关键词\n",
    "    return item[1]\n",
    "\n",
    "items.sort(key=sort_item) #将items重新排序，以价格sort_item作为排序依据\n",
    "print(items)\n",
    "\n",
    "items.sort(key=lambda item: item[1]) #lambda匿名函数，格式 lambda 参数: 表达式\n",
    "print(items)\n",
    "\n",
    "y = lambda item: item[1],items\n",
    "print(y)\n",
    "x = map(lambda item: item[1],items)\n",
    "print(x)\n",
    "prices = list(map(lambda item : item[1], items))\n",
    "print(prices)"
   ]
  },
  {
   "cell_type": "code",
   "execution_count": 5,
   "metadata": {},
   "outputs": [
    {
     "name": "stdout",
     "output_type": "stream",
     "text": [
      " -3 is not positive\n"
     ]
    }
   ],
   "source": [
    "from jinja2 import Template\n",
    "template = Template('{% if x > 0 %} {{ x }} is positive {% else %} {{ x }} is not positive{% endif %}')\n",
    "output = template.render(x=-3)\n",
    "print(output)\n"
   ]
  },
  {
   "cell_type": "code",
   "execution_count": null,
   "metadata": {},
   "outputs": [],
   "source": [
    "from jinja2 import Template\n",
    "template = Template(\"a circle with a radius of {{radius}} has an area of {{3.14*radius**2}}\")\n",
    "output = template.render(radius = 5)\n",
    "print(output)"
   ]
  }
 ],
 "metadata": {
  "kernelspec": {
   "display_name": "Python 3",
   "language": "python",
   "name": "python3"
  },
  "language_info": {
   "codemirror_mode": {
    "name": "ipython",
    "version": 3
   },
   "file_extension": ".py",
   "mimetype": "text/x-python",
   "name": "python",
   "nbconvert_exporter": "python",
   "pygments_lexer": "ipython3",
   "version": "3.12.3"
  }
 },
 "nbformat": 4,
 "nbformat_minor": 2
}
