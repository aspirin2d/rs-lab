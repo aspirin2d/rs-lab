{
 "cells": [
  {
   "cell_type": "code",
   "execution_count": 9,
   "metadata": {},
   "outputs": [
    {
     "data": {
      "text/plain": [
       "'Hello Mandy!'"
      ]
     },
     "execution_count": 9,
     "metadata": {},
     "output_type": "execute_result"
    }
   ],
   "source": [
    "from jinja2 import Template\n",
    "template = Template('Hello {{ name }}!')\n",
    "template.render(name='Mandy')"
   ]
  },
  {
   "cell_type": "code",
   "execution_count": 17,
   "metadata": {},
   "outputs": [
    {
     "name": "stdout",
     "output_type": "stream",
     "text": [
      "Hello World!\n"
     ]
    }
   ],
   "source": [
    "from jinja2 import Template\n",
    "template = Template('Hello {% if name %}{{ name }}{% else %}World{% endif %}!')\n",
    "\n",
    "output = template.render(name = '')\n",
    "print(output)\n"
   ]
  },
  {
   "cell_type": "code",
   "execution_count": 25,
   "metadata": {},
   "outputs": [
    {
     "name": "stdout",
     "output_type": "stream",
     "text": [
      "优秀\n"
     ]
    }
   ],
   "source": [
    "from jinja2 import Template\n",
    "template = Template('{% if score >= 90%}优秀{% elif score >= 80%}良好{% elif score >= 60%}及格{% else%}不及格{% endif %}')\n",
    "output = template.render(score = 96)\n",
    "print(output)"
   ]
  },
  {
   "cell_type": "code",
   "execution_count": 1,
   "metadata": {},
   "outputs": [
    {
     "name": "stdout",
     "output_type": "stream",
     "text": [
      "Adding 5 and 6 equals 11\n"
     ]
    }
   ],
   "source": [
    "from jinja2 import Template\n",
    "template = Template('Adding {{ X }} and {{ Y }} equals {{ X + Y}}')\n",
    "output = template.render(X = 5, Y = 6)\n",
    "print(output)"
   ]
  },
  {
   "cell_type": "code",
   "execution_count": 3,
   "metadata": {},
   "outputs": [
    {
     "name": "stdout",
     "output_type": "stream",
     "text": [
      "a circle with a radius of 5 has an area of 78.5\n"
     ]
    }
   ],
   "source": [
    "from jinja2 import Template\n",
    "template = Template(\"a circle with a radius of {{radius}} has an area of {{3.14*radius**2}}\")\n",
    "output = template.render(radius = 5)\n",
    "print(output)"
   ]
  }
 ],
 "metadata": {
  "kernelspec": {
   "display_name": "Python 3",
   "language": "python",
   "name": "python3"
  },
  "language_info": {
   "codemirror_mode": {
    "name": "ipython",
    "version": 3
   },
   "file_extension": ".py",
   "mimetype": "text/x-python",
   "name": "python",
   "nbconvert_exporter": "python",
   "pygments_lexer": "ipython3",
   "version": "3.12.3"
  }
 },
 "nbformat": 4,
 "nbformat_minor": 2
}
