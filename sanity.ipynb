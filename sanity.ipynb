{
 "cells": [
  {
   "cell_type": "code",
   "execution_count": 1,
   "metadata": {},
   "outputs": [
    {
     "name": "stdout",
     "output_type": "stream",
     "text": [
      "Requirement already satisfied: fastapi in c:\\users\\administrator\\appdata\\local\\programs\\python\\python312\\lib\\site-packages (0.110.2)\n",
      "Requirement already satisfied: pydantic in c:\\users\\administrator\\appdata\\local\\programs\\python\\python312\\lib\\site-packages (2.7.0)\n",
      "Requirement already satisfied: toml in c:\\users\\administrator\\appdata\\local\\programs\\python\\python312\\lib\\site-packages (0.10.2)\n",
      "Requirement already satisfied: starlette<0.38.0,>=0.37.2 in c:\\users\\administrator\\appdata\\local\\programs\\python\\python312\\lib\\site-packages (from fastapi) (0.37.2)\n",
      "Requirement already satisfied: typing-extensions>=4.8.0 in c:\\users\\administrator\\appdata\\local\\programs\\python\\python312\\lib\\site-packages (from fastapi) (4.11.0)\n",
      "Requirement already satisfied: annotated-types>=0.4.0 in c:\\users\\administrator\\appdata\\local\\programs\\python\\python312\\lib\\site-packages (from pydantic) (0.6.0)\n",
      "Requirement already satisfied: pydantic-core==2.18.1 in c:\\users\\administrator\\appdata\\local\\programs\\python\\python312\\lib\\site-packages (from pydantic) (2.18.1)\n",
      "Requirement already satisfied: anyio<5,>=3.4.0 in c:\\users\\administrator\\appdata\\local\\programs\\python\\python312\\lib\\site-packages (from starlette<0.38.0,>=0.37.2->fastapi) (4.3.0)\n",
      "Requirement already satisfied: idna>=2.8 in c:\\users\\administrator\\appdata\\local\\programs\\python\\python312\\lib\\site-packages (from anyio<5,>=3.4.0->starlette<0.38.0,>=0.37.2->fastapi) (3.7)\n",
      "Requirement already satisfied: sniffio>=1.1 in c:\\users\\administrator\\appdata\\local\\programs\\python\\python312\\lib\\site-packages (from anyio<5,>=3.4.0->starlette<0.38.0,>=0.37.2->fastapi) (1.3.1)\n",
      "Note: you may need to restart the kernel to use updated packages.\n"
     ]
    }
   ],
   "source": [
    "%pip install fastapi pydantic toml"
   ]
  },
  {
   "cell_type": "code",
   "execution_count": 2,
   "metadata": {},
   "outputs": [
    {
     "name": "stdout",
     "output_type": "stream",
     "text": [
      "你被一位富商雇佣，调查阿卡姆郊外的一座闹鬼的豪宅。\n",
      "传说这座豪宅被诅咒，任何进入的人都不会再回来。\n",
      "你已经得到了豪宅的地图和一些基本装备，以帮助你的调查。\n",
      "你的目标是找出诅咒背后的真相，并结束它。\n",
      "\n",
      "你站在闹鬼的豪宅前。\n",
      "这座豪宅古老而破旧，墙上爬满了爬山虎，窗户被钉上了木板。\n",
      "前门微微敞开，邀请你进入。\n",
      "\n",
      "你要做什么？\n",
      "\n",
      "possible actions:\n",
      "1. 进入豪宅。\n",
      "2. 拍摄豪宅外部的照片。\n",
      "3. 与管家交谈。(可能需要一些说服力，以便让你获取更多信息)\n"
     ]
    },
    {
     "data": {
      "application/vnd.jupyter.widget-view+json": {
       "model_id": "6f22d1a039a84a7b9277ef34ca7754b3",
       "version_major": 2,
       "version_minor": 0
      },
      "text/plain": [
       "HBox(children=(Button(description='1', layout=Layout(width='auto'), style=ButtonStyle(), tooltip='进入豪宅。'), But…"
      ]
     },
     "metadata": {},
     "output_type": "display_data"
    },
    {
     "name": "stdout",
     "output_type": "stream",
     "text": [
      "I select option 1. TURN: 1 \n",
      "\n",
      "\n",
      "你鼓起勇气，迈步走进了豪宅的大厅。\n",
      "门在你身后轻轻关上，豪宅内部的灰尘和阴暗让你不由得打了一个寒颤。\n",
      "大厅内部装饰豪华，但多年的废弃让它显得有些破败。\n",
      "你注意到有三个方向可以去探索：左边是一间餐厅，右边是楼梯通往上楼，正前方则是一扇通往豪宅后部的门。\n",
      "\n",
      "你要去哪里？\n",
      "\n",
      "possible actions:\n",
      "1. 去餐厅。\n",
      "2. 上楼。\n",
      "3. 去豪宅后部。"
     ]
    },
    {
     "data": {
      "application/vnd.jupyter.widget-view+json": {
       "model_id": "6f406605e850428cbaa6d80b5f6050bf",
       "version_major": 2,
       "version_minor": 0
      },
      "text/plain": [
       "HBox(children=(Button(description='1', layout=Layout(width='auto'), style=ButtonStyle(), tooltip='去餐厅。'), Butt…"
      ]
     },
     "metadata": {},
     "output_type": "display_data"
    },
    {
     "name": "stdout",
     "output_type": "stream",
     "text": [
      "I select option 3. TURN: 2 \n",
      "\n",
      "\n",
      "你选择前往豪宅的后部。\n",
      "穿过一条长长的走廊，两边挂着一些模糊的肖像画，似乎是这座豪宅过去的主人。\n",
      "走廊的尽头有一扇门，你推开它，发现自己来到了一个宽敞的图书室。\n",
      "图书室里到处都是满满的书架，尘封的书籍散发出一股旧时代的气息。\n",
      "你注意到书架之间有一张桌子，上面放着一本敞开的日记和一盏昏暗的台灯。\n",
      "\n",
      "你要做什么？\n",
      "\n",
      "possible actions:\n",
      "1. 仔细阅读日记。\n",
      "2. 检查书架上是否有隐藏的通道或机关。\n",
      "3. 离开图书室，探索其他地方。"
     ]
    },
    {
     "data": {
      "application/vnd.jupyter.widget-view+json": {
       "model_id": "7a5e1c36262840c99f12dc3f67e3c1fb",
       "version_major": 2,
       "version_minor": 0
      },
      "text/plain": [
       "HBox(children=(Button(description='1', layout=Layout(width='auto'), style=ButtonStyle(), tooltip='仔细阅读日记。'), B…"
      ]
     },
     "metadata": {},
     "output_type": "display_data"
    },
    {
     "name": "stdout",
     "output_type": "stream",
     "text": [
      "I select option 1. TURN: 3 \n",
      "\n",
      "\n",
      "你走向桌子，坐下来开始仔细阅读日记。\n",
      "日记属于豪宅的最后一位主人，记录了他对这座豪宅和家族历史的研究。\n",
      "随着你的阅读，你发现一段令人不安的记录：主人提到了一个古老的仪式，据说可以召唤出一个强大的存在来保护家族。但仪式需要一个牺牲。\n",
      "\n",
      "你感到一阵寒意，但你知道这个信息对你的调查至关重要。\n",
      "\n",
      "skill: library_use (使用角色卡的技能)\n",
      "difficulty: medium\n",
      "\n",
      "请进行技能检定，以确定你是否能从日记中发现更多关于仪式的细节和可能的线索。"
     ]
    },
    {
     "data": {
      "application/vnd.jupyter.widget-view+json": {
       "model_id": "44a66e2e5580438ba14869266c5f5ef5",
       "version_major": 2,
       "version_minor": 0
      },
      "text/plain": [
       "HBox(children=(Button(description='LIBRARY_USE [MEDIUM]', layout=Layout(width='auto'), style=ButtonStyle()),))"
      ]
     },
     "metadata": {},
     "output_type": "display_data"
    },
    {
     "name": "stdout",
     "output_type": "stream",
     "text": [
      "I am making a skill check using LIBRARY_USE against a difficulty of MEDIUM.\n",
      "And I rolled a 87 for a result of FAILURE. TURN: 4 \n",
      "\n",
      "\n",
      "尽管你努力地试图从这些记录中挖掘更多信息，但你发现自己难以理解其中复杂的细节和含义。日记中的文字似乎围绕着仪式的某些方面故意含糊其辞，或许是出于保护知识不被轻易发现的目的。你的注意力开始分散，感觉时间就这样悄然溜走。\n",
      "\n",
      "失败解读日记中的更多细节后，你意识到可能需要寻找其他线索或证据来帮助你理解这个仪式和它对豪宅诅咒的可能联系。\n",
      "\n",
      "你要做什么？\n",
      "\n",
      "possible actions:\n",
      "1. 再次尝试理解日记中的内容。（可能需要更高的专注度）\n",
      "2. 检查书架上是否有隐藏的通道或机关。\n",
      "3. 离开图书室，探索其他地方。"
     ]
    },
    {
     "data": {
      "application/vnd.jupyter.widget-view+json": {
       "model_id": "0833bd73e22f467b9cdfd2b6960f01f7",
       "version_major": 2,
       "version_minor": 0
      },
      "text/plain": [
       "HBox(children=(Button(description='1', layout=Layout(width='auto'), style=ButtonStyle(), tooltip='再次尝试理解日记中的内容…"
      ]
     },
     "metadata": {},
     "output_type": "display_data"
    },
    {
     "name": "stdout",
     "output_type": "stream",
     "text": [
      "I select option 2. TURN: 5 \n",
      "\n",
      "\n",
      "你决定暂时放下日记，转而检查图书室内的书架，希望找到隐藏的通道或机关。\n",
      "你仔细观察每一排书架，用手轻轻推动一些看起来比较古老的书籍。\n",
      "经过一番搜索，你的手触碰到了一个书脊，感觉它与众不同。你轻轻地拉动，听到了一声微小的“咔嚓”声。\n",
      "\n",
      "突然，书架缓缓移动，露出了一个隐藏的通道。通道昏暗而狭窄，但你能看到通道的尽头似乎有光亮透出。\n",
      "\n",
      "skill: stealth\n",
      "difficulty: easy\n",
      "\n",
      "请进行技能检定，以确定你是否能够悄无声息地探索这个隐藏通道，避免潜在的危险或陷阱。"
     ]
    },
    {
     "data": {
      "application/vnd.jupyter.widget-view+json": {
       "model_id": "7aa73ebd20ad4f9e9060ca7cd6303a5c",
       "version_major": 2,
       "version_minor": 0
      },
      "text/plain": [
       "HBox(children=(Button(description='STEALTH [EASY]', layout=Layout(width='auto'), style=ButtonStyle()),))"
      ]
     },
     "metadata": {},
     "output_type": "display_data"
    },
    {
     "name": "stdout",
     "output_type": "stream",
     "text": [
      "I am making a skill check using STEALTH against a difficulty of EASY.\n",
      "And I rolled a 75 for a result of SUCCESS. TURN: 6 \n",
      "\n",
      "\n",
      "你小心翼翼地进入了隐藏通道，确保自己的每一步都尽可能地轻和无声。你的谨慎让你成功地避开了可能存在的陷阱和威胁，没有引起任何不必要的注意。\n",
      "\n",
      "通道尽头是一扇小门，你轻轻推开，发现自己来到了豪宅的一个未知区域。这里是一个看起来像是实验室的房间，到处都是古老的书籍、奇怪的器具，以及一张中央的工作台。工作台上摆放着各种化学试剂和一本开着的笔记本。\n",
      "\n",
      "这个房间显然是用来进行某种形式的研究或实验的。你注意到工作台旁边有一个小型的保险箱，看起来很有年头了。\n",
      "\n",
      "你要做什么？\n",
      "\n",
      "possible actions:\n",
      "1. 检查工作台上的笔记本，看看是否有关于仪式或诅咒的信息。\n",
      "2. 尝试打开保险箱，看看里面隐藏着什么。\n",
      "3. 离开这个房间，继续探索豪宅的其他部分。"
     ]
    },
    {
     "data": {
      "application/vnd.jupyter.widget-view+json": {
       "model_id": "81bc419bcc09461bb1852053dd6aae20",
       "version_major": 2,
       "version_minor": 0
      },
      "text/plain": [
       "HBox(children=(Button(description='1', layout=Layout(width='auto'), style=ButtonStyle(), tooltip='检查工作台上的笔记本，看…"
      ]
     },
     "metadata": {},
     "output_type": "display_data"
    },
    {
     "name": "stdout",
     "output_type": "stream",
     "text": [
      "I select option 2. TURN: 7 \n",
      "\n",
      "\n",
      "你走向保险箱，仔细观察它的外观和锁具。保险箱看起来非常古老，锁上有一个转盘式的组合锁。虽然没有明显的线索表明开锁组合，但你决定尝试一下自己的运气和直觉。\n",
      "\n",
      "skill: luck\n",
      "difficulty: hard\n",
      "\n",
      "请进行技能检定，以确定你是否能够成功地解开保险箱的锁，发现里面可能隐藏的秘密。"
     ]
    },
    {
     "data": {
      "application/vnd.jupyter.widget-view+json": {
       "model_id": "f3098eb55fe5453eaed64d8fc2e6c7cb",
       "version_major": 2,
       "version_minor": 0
      },
      "text/plain": [
       "HBox(children=(Button(description='LUCK [HARD]', layout=Layout(width='auto'), style=ButtonStyle()),))"
      ]
     },
     "metadata": {},
     "output_type": "display_data"
    },
    {
     "name": "stdout",
     "output_type": "stream",
     "text": [
      "I am making a skill check using LUCK against a difficulty of HARD.\n",
      "And I rolled a 25 for a result of SUCCESS. TURN: 8 \n",
      "\n",
      "\n",
      "你深呼吸，集中精神尝试着转动保险箱的锁。你的直觉引导着你，手指轻巧地调整着组合锁。几次尝试之后，你听到了那令人兴奋的“咔嚓”声——保险箱被成功解锁！\n",
      "\n",
      "打开保险箱，你发现里面放着一些文件和一件奇怪的小雕像。文件看起来像是一些日记和信件，详细记录了豪宅主人与一个神秘组织的联系，以及他们试图通过仪式召唤某种力量的计划。小雕像似乎与仪式有关，散发着一种不寻常的氛围。\n",
      "\n",
      "这些发现让你更加确信，豪宅的诅咒与这个仪式密切相关。你意识到，要解开豪宅的秘密，可能需要更深入地了解这个仪式和神秘组织。\n",
      "\n",
      "round summary: 在豪宅的图书室找到了一个隐藏通道，通道尽头的房间里，你成功地解开了一个古老保险箱的锁，发现了一些关键文件和一个与仪式有关的小雕像。这些发现为你提供了重要线索，指向了豪宅诅咒背后的真相。"
     ]
    },
    {
     "data": {
      "application/vnd.jupyter.widget-view+json": {
       "model_id": "d69e4fbbb7f843a38cc0886f5958f9c8",
       "version_major": 2,
       "version_minor": 0
      },
      "text/plain": [
       "HBox()"
      ]
     },
     "metadata": {},
     "output_type": "display_data"
    }
   ],
   "source": [
    "import re\n",
    "import tomllib\n",
    "import functools\n",
    "from typing import Literal\n",
    "\n",
    "import ipywidgets as widgets\n",
    "from IPython.display import display\n",
    "\n",
    "from dotenv import load_dotenv\n",
    "load_dotenv()\n",
    "\n",
    "from rs import Message, Config, chat\n",
    "import d20\n",
    "\n",
    "action_pattern = re.compile(r\"(\\d+). *(.+)\")\n",
    "skill_pattern = re.compile(r\"[\\w_]+\")\n",
    "skill_difficulty_pattern = re.compile(r\"(easy|medium|hard)\")\n",
    "\n",
    "def get_user_message_tail():\n",
    "    count = 0\n",
    "    for msg in initial_messages:\n",
    "        if msg.role == \"user\":\n",
    "            count += 1\n",
    "\n",
    "    is_final =  \", FINAL ROUND\" if  current_round == len(config.rounds) else \"\"\n",
    "    return f\"TURN: {count + 1} {is_final}\"\n",
    "    \n",
    "\n",
    "def do_chat(role:Literal[\"user\", \"system\", \"assistant\"], content: str):\n",
    "    print(f\"{content}\\n\\n\")\n",
    "\n",
    "    initial_messages.append(Message(role=role, content=content))\n",
    "    msg = chat(initial_messages, lambda delta: print(delta, end=\"\"))\n",
    "\n",
    "    initial_messages.append(msg)\n",
    "    display(get_controls(msg))\n",
    "\n",
    "def on_skill(b, skill:str, difficulty:str):\n",
    "    content = f\"I am making a skill check using {skill.upper()} against a difficulty of {difficulty.upper()}.\"\n",
    "\n",
    "    d = difficulty.lower()\n",
    "    dc = 50\n",
    "    if d == \"easy\":\n",
    "        dc = 75\n",
    "    elif d == \"hard\":\n",
    "        dc = 25\n",
    "    roll = d20.roll(\"1d100\").total\n",
    "    result = \"Success\" if roll <= dc else \"Failure\"\n",
    "    if roll == 1:\n",
    "        result = \"Critical Success\"\n",
    "    elif roll == 100:\n",
    "        result = \"Critical Failure\"\n",
    "    \n",
    "    content += f\"\\nAnd I rolled a {roll} for a result of {result.upper()}. {get_user_message_tail()}\"\n",
    "    do_chat(\"user\", content)\n",
    "\n",
    "def on_action(b, index:int):\n",
    "    content = f\"I select option {index}. {get_user_message_tail()}\"\n",
    "    do_chat(\"user\", content)\n",
    "\n",
    "def on_custom_input(b, input:widgets.Text):\n",
    "    content = f\"{input.value}. {get_user_message_tail()}\"\n",
    "    do_chat(\"user\", content)\n",
    "\n",
    "def on_custom_action(b):\n",
    "    hbox = widgets.HBox(layout=widgets.Layout(width=\"100%\"))\n",
    "    action_text = widgets.Text(layout=widgets.Layout(width=\"100%\"))\n",
    "    submit = widgets.Button(description=\"SUBMIT\", layout=widgets.Layout(width=\"fit-content\"))\n",
    "    submit.on_click(functools.partial(on_custom_input, input=action_text))\n",
    "    hbox.children += (action_text, submit) \n",
    "    display(hbox)\n",
    "\n",
    "def get_controls(msg:Message) -> widgets.Box:\n",
    "    dict = msg.dict()\n",
    "    buttons = []\n",
    "    if \"possible actions\" in dict.keys():\n",
    "        matches = action_pattern.finditer(dict[\"possible actions\"])\n",
    "        for match in matches:\n",
    "            btn = widgets.Button(description=match.group(1), tooltip=match.group(2), layout=widgets.Layout(width=\"auto\"))\n",
    "            btn.on_click(functools.partial(on_action, index=int(match.group(1))))\n",
    "            buttons.append(btn)\n",
    "\n",
    "            custom_action_button = widgets.Button(description=\"CUSTOM\")\n",
    "            custom_action_button.on_click(on_custom_action)\n",
    "            buttons.append(custom_action_button)\n",
    "\n",
    "    elif \"skill\" in dict.keys() and \"difficulty\" in dict.keys():\n",
    "        match = skill_pattern.match(dict[\"skill\"])\n",
    "        skill = match.group(0)\n",
    "        match = skill_difficulty_pattern.match(dict[\"difficulty\"])\n",
    "        difficulty = match.group(0)\n",
    "        skill_button = widgets.Button(description=f\"{skill.upper()} [{difficulty.upper()}]\", layout=widgets.Layout(width=\"auto\"))\n",
    "        skill_button.on_click(functools.partial(on_skill, skill=skill, difficulty=difficulty))\n",
    "        buttons.append(skill_button)\n",
    "\n",
    "    return widgets.HBox(buttons)\n",
    "\n",
    "# open config file\n",
    "config_name = \"data/config_cn.toml\"\n",
    "config: Config | None = None\n",
    "with open(config_name, \"rb\") as f:\n",
    "    data = tomllib.load(f)\n",
    "    config = Config(**data)\n",
    "\n",
    "current_round = 0\n",
    "initial_messages = config.initial_messages(current_round, config.metadata)\n",
    "\n",
    "print(initial_messages[-1].content)\n",
    "display(get_controls(initial_messages[-1]))\n"
   ]
  }
 ],
 "metadata": {
  "kernelspec": {
   "display_name": ".venv",
   "language": "python",
   "name": "python3"
  },
  "language_info": {
   "codemirror_mode": {
    "name": "ipython",
    "version": 3
   },
   "file_extension": ".py",
   "mimetype": "text/x-python",
   "name": "python",
   "nbconvert_exporter": "python",
   "pygments_lexer": "ipython3",
   "version": "3.12.3"
  }
 },
 "nbformat": 4,
 "nbformat_minor": 2
}
