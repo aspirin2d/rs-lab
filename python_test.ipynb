{
 "cells": [
  {
   "cell_type": "code",
   "execution_count": 9,
   "metadata": {},
   "outputs": [
    {
     "name": "stdout",
     "output_type": "stream",
     "text": [
      "Current Sanity: 40\n",
      "Sanity Check Roll: 80\n",
      "Sanity loss: 2 points\n",
      "New Sanity: 38\n"
     ]
    },
    {
     "data": {
      "text/plain": [
       "38"
      ]
     },
     "execution_count": 9,
     "metadata": {},
     "output_type": "execute_result"
    }
   ],
   "source": [
    "import random\n",
    "\n",
    "def roll_dice(sides):\n",
    "    \"\"\"Roll a dice with the given number of sides.\"\"\"\n",
    "    return random.randint(1, sides)\n",
    "\n",
    "def sanity_check(roll, player_sanity, sanity_loss):\n",
    "    \"\"\"Perform a sanity check for the player.\"\"\"\n",
    "    print(f\"Current Sanity: {player_sanity}\")\n",
    "    roll_result = roll\n",
    "    print(f\"Sanity Check Roll: {roll_result}\")\n",
    "    \n",
    "    if roll_result <= player_sanity:\n",
    "        print(\"Sanity maintained. No loss of sanity points.\")\n",
    "    else:\n",
    "        loss = sanity_loss\n",
    "        player_sanity -= loss\n",
    "        print(f\"Sanity loss: {loss} points\")\n",
    "        if player_sanity < 0:\n",
    "            player_sanity = 0\n",
    "        print(f\"New Sanity: {player_sanity}\")\n",
    "    \n",
    "    return player_sanity\n",
    "\n",
    "# Example use:\n",
    "sanity_check(80,40,2)"
   ]
  }
 ],
 "metadata": {
  "kernelspec": {
   "display_name": "Python 3",
   "language": "python",
   "name": "python3"
  },
  "language_info": {
   "codemirror_mode": {
    "name": "ipython",
    "version": 3
   },
   "file_extension": ".py",
   "mimetype": "text/x-python",
   "name": "python",
   "nbconvert_exporter": "python",
   "pygments_lexer": "ipython3",
   "version": "3.12.3"
  }
 },
 "nbformat": 4,
 "nbformat_minor": 2
}
