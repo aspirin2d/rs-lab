{
 "cells": [
  {
   "cell_type": "code",
   "execution_count": 7,
   "metadata": {},
   "outputs": [
    {
     "name": "stdout",
     "output_type": "stream",
     "text": [
      "Requirement already satisfied: fastapi in c:\\users\\administrator\\appdata\\local\\programs\\python\\python312\\lib\\site-packages (0.110.2)\n",
      "Requirement already satisfied: pydantic in c:\\users\\administrator\\appdata\\local\\programs\\python\\python312\\lib\\site-packages (2.7.0)\n",
      "Requirement already satisfied: toml in c:\\users\\administrator\\appdata\\local\\programs\\python\\python312\\lib\\site-packages (0.10.2)\n",
      "Requirement already satisfied: starlette<0.38.0,>=0.37.2 in c:\\users\\administrator\\appdata\\local\\programs\\python\\python312\\lib\\site-packages (from fastapi) (0.37.2)\n",
      "Requirement already satisfied: typing-extensions>=4.8.0 in c:\\users\\administrator\\appdata\\local\\programs\\python\\python312\\lib\\site-packages (from fastapi) (4.11.0)\n",
      "Requirement already satisfied: annotated-types>=0.4.0 in c:\\users\\administrator\\appdata\\local\\programs\\python\\python312\\lib\\site-packages (from pydantic) (0.6.0)\n",
      "Requirement already satisfied: pydantic-core==2.18.1 in c:\\users\\administrator\\appdata\\local\\programs\\python\\python312\\lib\\site-packages (from pydantic) (2.18.1)\n",
      "Requirement already satisfied: anyio<5,>=3.4.0 in c:\\users\\administrator\\appdata\\local\\programs\\python\\python312\\lib\\site-packages (from starlette<0.38.0,>=0.37.2->fastapi) (4.3.0)\n",
      "Requirement already satisfied: idna>=2.8 in c:\\users\\administrator\\appdata\\local\\programs\\python\\python312\\lib\\site-packages (from anyio<5,>=3.4.0->starlette<0.38.0,>=0.37.2->fastapi) (3.7)\n",
      "Requirement already satisfied: sniffio>=1.1 in c:\\users\\administrator\\appdata\\local\\programs\\python\\python312\\lib\\site-packages (from anyio<5,>=3.4.0->starlette<0.38.0,>=0.37.2->fastapi) (1.3.1)\n",
      "Note: you may need to restart the kernel to use updated packages.\n"
     ]
    }
   ],
   "source": [
    "%pip install fastapi pydantic toml"
   ]
  },
  {
   "cell_type": "code",
   "execution_count": 8,
   "metadata": {},
   "outputs": [],
   "source": [
    "# from rs import skill_check\n",
    "\n",
    "# def test_skill_check(metadata):\n",
    "#     print(skill_check(\"sanity\", None, metadata))\n",
    "\n",
    "# metadata = {\n",
    "#     \"character\": {\"sanity\":30},\n",
    "#     \"symptom\":[\n",
    "#         \"incoherent speech\",\n",
    "#         \"uncontrollable twitching, trembling\",\n",
    "#         \"delusions of persecution\",\n",
    "#         \"strange appetites (dirt, clay, etc...)\",\n",
    "#         \"scratches, punches, and bruises all over the body\"\n",
    "#     ]\n",
    "# }\n",
    "\n",
    "# test_skill_check(metadata)\n",
    "# test_skill_check(metadata)\n",
    "# test_skill_check(metadata)\n",
    "# test_skill_check(metadata)\n",
    "# test_skill_check(metadata)\n",
    "# test_skill_check(metadata)\n",
    "# test_skill_check(metadata)\n",
    "# test_skill_check(metadata)\n",
    "# test_skill_check(metadata)\n",
    "# test_skill_check(metadata)\n",
    "# test_skill_check(metadata)\n",
    "# test_skill_check(metadata)\n",
    "\n",
    "# print(metadata[\"character\"])\n"
   ]
  },
  {
   "cell_type": "code",
   "execution_count": 9,
   "metadata": {},
   "outputs": [
    {
     "name": "stdout",
     "output_type": "stream",
     "text": [
      "You are standing in front of the haunted mansion. \n",
      "The mansion is old and decrepit, with ivy growing up the walls and the windows boarded up. \n",
      "The front door is slightly ajar, inviting you inside. \n",
      "\n",
      "Sunddenly you hear a loud crash from inside the mansion.\n",
      "\n",
      "skill: sanity\n",
      "difficulty: easy\n"
     ]
    },
    {
     "data": {
      "application/vnd.jupyter.widget-view+json": {
       "model_id": "8067eba5967e4fafb8f3238b2adfd396",
       "version_major": 2,
       "version_minor": 0
      },
      "text/plain": [
       "HBox(children=(Button(description='SANITY [EASY]', layout=Layout(width='auto'), style=ButtonStyle()), Button(d…"
      ]
     },
     "metadata": {},
     "output_type": "display_data"
    },
    {
     "name": "stdout",
     "output_type": "stream",
     "text": [
      "{'sanity': 10, 'name': 'Jone Doe', 'age': '32', 'birthplace': 'Arkham', 'residence': 'New York', 'occupation': 'Journalist', 'backstory': 'John Doe is a journalist who has been investigating the mysterious disappearances in Arkham.\\nHe is a skilled investigator and has a knack for finding the truth behind the lies.\\n'}\n",
      "{'sanity': 10, 'name': 'Jone Doe', 'age': '32', 'birthplace': 'Arkham', 'residence': 'New York', 'occupation': 'Journalist', 'backstory': 'John Doe is a journalist who has been investigating the mysterious disappearances in Arkham.\\nHe is a skilled investigator and has a knack for finding the truth behind the lies.\\n', 'sanity_lost': 1, 'tags': []}\n",
      "I am making a SANITY check against my own sanity points: 10.\n",
      "And... FAILED! I lost 1 sanity points.\n",
      "TURN: 1 \n",
      "\n",
      "\n",
      "As you fail your sanity check, a wave of unexplainable fear washes over you. For a moment, the world seems to twist and warp. The shadows cast by the setting sun stretch towards you like dark fingers, and the air feels heavy, as if filled with whispers of those who once lived in the mansion. Your heart races, and you struggle to maintain your composure.\n",
      "\n",
      "Your sanity drops to 9.\n",
      "\n",
      "You shake off the fear, knowing you must press on. The mansion awaits, its secrets hidden in the shadows. What do you want to do next?\n",
      "\n",
      "possible actions:\n",
      "1. Enter the mansion through the front door.\n",
      "2. Explore the mansion's surroundings before entering.\n",
      "3. Call out to see if anyone is inside."
     ]
    },
    {
     "data": {
      "application/vnd.jupyter.widget-view+json": {
       "model_id": "b4f1ac06df0d45f6a4640df2cd3d2968",
       "version_major": 2,
       "version_minor": 0
      },
      "text/plain": [
       "HBox(children=(Button(description='1', layout=Layout(width='auto'), style=ButtonStyle(), tooltip='Enter the ma…"
      ]
     },
     "metadata": {},
     "output_type": "display_data"
    },
    {
     "name": "stdout",
     "output_type": "stream",
     "text": [
      "{'sanity': 10, 'name': 'Jone Doe', 'age': '32', 'birthplace': 'Arkham', 'residence': 'New York', 'occupation': 'Journalist', 'backstory': 'John Doe is a journalist who has been investigating the mysterious disappearances in Arkham.\\nHe is a skilled investigator and has a knack for finding the truth behind the lies.\\n', 'sanity_lost': 1, 'tags': []}\n",
      "I select option 1. TURN: 2 \n",
      "\n",
      "\n",
      "You gather your courage and step through the front door into the mansion. The door creaks loudly as it swings open, echoing through the empty halls. Inside, the air is musty, filled with the scent of decay and old wood. You find yourself in a grand entrance hall, dust covering the floor and a grand staircase leading to the upper levels. \n",
      "\n",
      "The mansion seems to be deserted, but there's an unsettling feeling in the air, as if the walls themselves are watching you. As you take a few steps forward, you hear the sound of footsteps upstairs, but when you look, there's nothing there.\n",
      "\n",
      "Suddenly, you remember the trigger about the dining room. Do you want to:\n",
      "\n",
      "possible actions:\n",
      "1. Head directly to the dining room.\n",
      "2. Explore the ground floor before going to the dining room.\n",
      "3. Call out again, trying to communicate with whoever or whatever made the noise."
     ]
    },
    {
     "data": {
      "application/vnd.jupyter.widget-view+json": {
       "model_id": "2b917c2bf3804ab5807c22785dd1c842",
       "version_major": 2,
       "version_minor": 0
      },
      "text/plain": [
       "HBox(children=(Button(description='1', layout=Layout(width='auto'), style=ButtonStyle(), tooltip='Head directl…"
      ]
     },
     "metadata": {},
     "output_type": "display_data"
    },
    {
     "name": "stdout",
     "output_type": "stream",
     "text": [
      "{'sanity': 10, 'name': 'Jone Doe', 'age': '32', 'birthplace': 'Arkham', 'residence': 'New York', 'occupation': 'Journalist', 'backstory': 'John Doe is a journalist who has been investigating the mysterious disappearances in Arkham.\\nHe is a skilled investigator and has a knack for finding the truth behind the lies.\\n', 'sanity_lost': 1, 'tags': []}\n",
      "I select option 1. TURN: 3 \n",
      "\n",
      "\n",
      "You decide to head directly to the dining room, guided by a mix of curiosity and the unsettling feeling that whatever resides in this mansion wants you to find it. As you navigate through the corridors, the mansion's eerie silence is oppressive, broken only by the sound of your footsteps and the occasional creak of the old floorboards under your weight.\n",
      "\n",
      "Finally, you find the dining room. The door is slightly ajar. Pushing it open, you step inside. The room is dominated by a long, dusty table, surrounded by chairs. Faded portraits hang on the walls, and a large, unlit chandelier looms overhead. \n",
      "\n",
      "As you take in the scene, a sudden movement catches your eye. A large, shadowy dog-like figure darts across the room, disappearing through a door on the other side. The sight is so unexpected and startling that it might trigger a sanity check.\n",
      "\n",
      "skill: sanity\n",
      "difficulty: medium"
     ]
    },
    {
     "data": {
      "application/vnd.jupyter.widget-view+json": {
       "model_id": "6a7b14419195480f98d2621ad1f1f5a3",
       "version_major": 2,
       "version_minor": 0
      },
      "text/plain": [
       "HBox(children=(Button(description='SANITY [MEDIUM]', layout=Layout(width='auto'), style=ButtonStyle()), Button…"
      ]
     },
     "metadata": {},
     "output_type": "display_data"
    },
    {
     "name": "stdout",
     "output_type": "stream",
     "text": [
      "{'sanity': 10, 'name': 'Jone Doe', 'age': '32', 'birthplace': 'Arkham', 'residence': 'New York', 'occupation': 'Journalist', 'backstory': 'John Doe is a journalist who has been investigating the mysterious disappearances in Arkham.\\nHe is a skilled investigator and has a knack for finding the truth behind the lies.\\n', 'sanity_lost': 1, 'tags': []}\n",
      "{'sanity': 10, 'name': 'Jone Doe', 'age': '32', 'birthplace': 'Arkham', 'residence': 'New York', 'occupation': 'Journalist', 'backstory': 'John Doe is a journalist who has been investigating the mysterious disappearances in Arkham.\\nHe is a skilled investigator and has a knack for finding the truth behind the lies.\\n', 'sanity_lost': 7, 'tags': ['insane']}\n",
      "I am making a SANITY check against my own sanity points: 9.\n",
      "And... FAILED! I lost 6 sanity points.\n",
      "I am shocked and lose control of my actions.\n",
      "TURN: 4  (I'm insane!)\n",
      "\n",
      "\n",
      "As you fail the sanity check, the reality around you bends and twists in horrifying ways. The walls of the dining room seem to bleed shadows, and the portraits on the walls come alive, their eyes following you with malevolent intent. The chandelier above swings as if caught in a tempest, casting shifting, ghostly lights across the room. The very fabric of your sanity tears as the world becomes a nightmare.\n",
      "\n",
      "Your sanity drops to 3.\n",
      "\n",
      "In the midst of this terror, a vision grips you. The large, shadowy dog transforms into a monstrous creature, its eyes glowing with a malevolent fire. It speaks in a voice that echoes from the walls, \"You cannot escape your fate.\" \n",
      "\n",
      "You are lost in your own mind, struggling to discern reality from the horrors that now seem to infest the mansion.\n",
      "\n",
      "possible actions:\n",
      "1. Try to communicate with the monstrous creature.\n",
      "2. Search for a way to escape the dining room.\n",
      "3. Attempt to fight the visions and regain some sense of reality."
     ]
    },
    {
     "data": {
      "application/vnd.jupyter.widget-view+json": {
       "model_id": "ed1da30c17a642708481b848f43defe4",
       "version_major": 2,
       "version_minor": 0
      },
      "text/plain": [
       "HBox(children=(Button(description='1', layout=Layout(width='auto'), style=ButtonStyle(), tooltip='Try to commu…"
      ]
     },
     "metadata": {},
     "output_type": "display_data"
    },
    {
     "name": "stdout",
     "output_type": "stream",
     "text": [
      "{'sanity': 10, 'name': 'Jone Doe', 'age': '32', 'birthplace': 'Arkham', 'residence': 'New York', 'occupation': 'Journalist', 'backstory': 'John Doe is a journalist who has been investigating the mysterious disappearances in Arkham.\\nHe is a skilled investigator and has a knack for finding the truth behind the lies.\\n', 'sanity_lost': 7, 'tags': ['insane']}\n",
      "I select option 1. TURN: 5  (I'm insane!)\n",
      "\n",
      "\n",
      "In your state of insanity, you attempt to communicate with the monstrous creature, your voice trembling as you speak into the thick, oppressive air of the dining room. The creature, a manifestation of your fractured mind, turns its fiery gaze upon you, its form flickering between that of the shadowy dog and something far more sinister.\n",
      "\n",
      "It responds, not with words, but with a deep, resonant growl that vibrates through the room, shaking the very foundations of the mansion. The portraits on the walls scream in chorus, a cacophony of terror and madness that threatens to overwhelm you.\n",
      "\n",
      "Yet, amidst the chaos, you find a strange sense of understanding. The creature, terrifying as it is, seems to be guarding something, something hidden deep within the mansion. It's as if the mansion itself is a puzzle, and the creature is both a part of it and its protector.\n",
      "\n",
      "As the vision fades, you're left with a chilling realization: to uncover the secrets of the mansion and confront the curse, you must delve deeper into its heart. The creature has shown you the way, not through words, but through fear and madness.\n",
      "\n",
      "The round ends as you hear a scary sound coming from the direction of the basement, pulling you back to a semblance of reality. The mansion's secrets call to you from the dark, promising answers... or perhaps, promising only deeper madness.\n",
      "\n",
      "Your sanity is severely compromised, and the mansion's horrors are far from over. What will you do next?"
     ]
    },
    {
     "data": {
      "application/vnd.jupyter.widget-view+json": {
       "model_id": "19b00420bc824d578fbf6b927d424967",
       "version_major": 2,
       "version_minor": 0
      },
      "text/plain": [
       "HBox(children=(Button(description='CUSTOM', style=ButtonStyle()),))"
      ]
     },
     "metadata": {},
     "output_type": "display_data"
    },
    {
     "name": "stdout",
     "output_type": "stream",
     "text": [
      "{'sanity': 10, 'name': 'Jone Doe', 'age': '32', 'birthplace': 'Arkham', 'residence': 'New York', 'occupation': 'Journalist', 'backstory': 'John Doe is a journalist who has been investigating the mysterious disappearances in Arkham.\\nHe is a skilled investigator and has a knack for finding the truth behind the lies.\\n', 'sanity_lost': 1, 'tags': []}\n",
      "I select option 1. TURN: 2 \n",
      "\n",
      "\n",
      "You push the front door open, its hinges groaning with disuse, and step into the foyer of the mansion. The air inside is musty, filled with the scent of decay and old wood. Your footsteps echo on the hardwood floor, and dust motes dance in the shafts of light piercing through the boarded-up windows. Ahead of you is a grand staircase leading to the upper floors, and doors lead off to the left and right into the darkness of the mansion.\n",
      "\n",
      "As you take a moment to decide your next move, you hear the sound of something scurrying in the walls, and the faint sound of a piano playing somewhere deep within the mansion.\n",
      "\n",
      "Do you wish to explore the ground floor first, head straight to the source of the piano music, or investigate the upper floors?\n",
      "\n",
      "possible actions:\n",
      "1. Explore the ground floor.\n",
      "2. Head towards the piano music.\n",
      "3. Investigate the upper floors."
     ]
    },
    {
     "data": {
      "application/vnd.jupyter.widget-view+json": {
       "model_id": "5c393db2d1d344e79dd04a2924fb00f7",
       "version_major": 2,
       "version_minor": 0
      },
      "text/plain": [
       "HBox(children=(Button(description='1', layout=Layout(width='auto'), style=ButtonStyle(), tooltip='Explore the …"
      ]
     },
     "metadata": {},
     "output_type": "display_data"
    }
   ],
   "source": [
    "import re\n",
    "import tomllib\n",
    "import functools\n",
    "from typing import Literal\n",
    "\n",
    "import ipywidgets as widgets\n",
    "from IPython.display import display\n",
    "\n",
    "from dotenv import load_dotenv\n",
    "\n",
    "load_dotenv()\n",
    "\n",
    "from rs import Message, Config, chat, skill_check\n",
    "import d20\n",
    "\n",
    "action_pattern = re.compile(r\"(\\d+). *(.+)\")\n",
    "skill_pattern = re.compile(r\"[\\w_]+\")\n",
    "skill_difficulty_pattern = re.compile(r\"(easy|medium|hard)\")\n",
    "\n",
    "def next_round(b):\n",
    "    global current_round, initial_messages\n",
    "    current_round += 1\n",
    "    initial_messages = config.initial_messages(current_round, config.metadata)\n",
    "\n",
    "    print(initial_messages[-1].content)\n",
    "    display(get_controls(initial_messages[-1]))\n",
    "\n",
    "def get_user_message_tail():\n",
    "    count = 0\n",
    "    for msg in initial_messages:\n",
    "        if msg.role == \"user\":\n",
    "            count += 1\n",
    "\n",
    "    is_final =  \", FINAL ROUND\" if  current_round == len(config.rounds) else \"\"\n",
    "    \n",
    "    # print(config.metadata[\"character\"])\n",
    "    \n",
    "    if \"tags\" in config.metadata[\"character\"] and \"insane\" in config.metadata[\"character\"][\"tags\"]:\n",
    "        return f\"TURN: {count + 1} {is_final} (I'm insane!)\"\n",
    "    \n",
    "    return f\"TURN: {count + 1} {is_final}\"\n",
    "    \n",
    "\n",
    "def do_chat(role:Literal[\"user\", \"system\", \"assistant\"], content: str):\n",
    "    print(f\"{content}\\n\\n\")\n",
    "\n",
    "    initial_messages.append(Message(role=role, content=content))\n",
    "    msg = chat(initial_messages, lambda delta: print(delta, end=\"\"))\n",
    "\n",
    "    initial_messages.append(msg)\n",
    "    display(get_controls(msg))\n",
    "\n",
    "\n",
    "def on_skill(b, skill:str, difficulty:str):\n",
    "    print(config.metadata[\"character\"])\n",
    "    content = skill_check(skill, difficulty, config.metadata)\n",
    "    content += f\"\\n{get_user_message_tail()}\"\n",
    "    do_chat(\"user\", content)\n",
    "\n",
    "def on_action(b, index:int):\n",
    "    content = f\"I select option {index}. {get_user_message_tail()}\"\n",
    "    do_chat(\"user\", content)\n",
    "\n",
    "def on_custom_input(b, input:widgets.Text):\n",
    "    content = f\"{input.value}. {get_user_message_tail()}\"\n",
    "    do_chat(\"user\", content)\n",
    "\n",
    "def on_custom_action(b):\n",
    "    hbox = widgets.HBox(layout=widgets.Layout(width=\"100%\"))\n",
    "    action_text = widgets.Text(layout=widgets.Layout(width=\"100%\"))\n",
    "    submit = widgets.Button(description=\"SUBMIT\", layout=widgets.Layout(width=\"fit-content\"))\n",
    "    submit.on_click(functools.partial(on_custom_input, input=action_text))\n",
    "    hbox.children += (action_text, submit) \n",
    "    display(hbox)\n",
    "\n",
    "def get_controls(msg:Message) -> widgets.Box:\n",
    "    dict = msg.dict()\n",
    "    buttons = []\n",
    "    if \"possible actions\" in dict.keys():\n",
    "        matches = action_pattern.finditer(dict[\"possible actions\"])\n",
    "        for match in matches:\n",
    "            btn = widgets.Button(description=match.group(1), tooltip=match.group(2), layout=widgets.Layout(width=\"auto\"))\n",
    "            btn.on_click(functools.partial(on_action, index=int(match.group(1))))\n",
    "            buttons.append(btn)\n",
    "    elif \"skill\" in dict.keys() and \"difficulty\" in dict.keys():\n",
    "        match = skill_pattern.match(dict[\"skill\"])\n",
    "        skill = match.group(0)\n",
    "        match = skill_difficulty_pattern.match(dict[\"difficulty\"])\n",
    "        difficulty = match.group(0)\n",
    "        skill_button = widgets.Button(description=f\"{skill.upper()} [{difficulty.upper()}]\", layout=widgets.Layout(width=\"auto\"))\n",
    "        skill_button.on_click(functools.partial(on_skill, skill=skill, difficulty=difficulty))\n",
    "        buttons.append(skill_button)\n",
    "    elif \"summary\" in dict.keys():\n",
    "        # add summary as a memory to the metadata\n",
    "        # it will be used in the next round.\n",
    "        config.metadata[\"memories\"] = []\n",
    "        config.metadata[\"memories\"].append(dict[\"summary\"])\n",
    "        next_btn = widgets.Button(description=\"NEXT ROUND\", layout=widgets.Layout(width=\"auto\"))\n",
    "        next_btn.on_click(next_round)\n",
    "        buttons.append(next_btn)\n",
    "    \n",
    "    custom_action_button = widgets.Button(description=\"CUSTOM\")\n",
    "    custom_action_button.on_click(on_custom_action)\n",
    "    buttons.append(custom_action_button)\n",
    "\n",
    "    return widgets.HBox(buttons)\n",
    "\n",
    "# open config file\n",
    "config_name = \"data/config_skillcheck_test.toml\"\n",
    "config: Config | None = None\n",
    "with open(config_name, \"rb\") as f:\n",
    "    data = tomllib.load(f)\n",
    "    config = Config(**data)\n",
    "\n",
    "current_round = 0\n",
    "initial_messages = config.initial_messages(current_round, config.metadata)\n",
    "\n",
    "print(initial_messages[-1].content)\n",
    "display(get_controls(initial_messages[-1]))"
   ]
  }
 ],
 "metadata": {
  "kernelspec": {
   "display_name": ".venv",
   "language": "python",
   "name": "python3"
  },
  "language_info": {
   "codemirror_mode": {
    "name": "ipython",
    "version": 3
   },
   "file_extension": ".py",
   "mimetype": "text/x-python",
   "name": "python",
   "nbconvert_exporter": "python",
   "pygments_lexer": "ipython3",
   "version": "3.12.3"
  }
 },
 "nbformat": 4,
 "nbformat_minor": 2
}
