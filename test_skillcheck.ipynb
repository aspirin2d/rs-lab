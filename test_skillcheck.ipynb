{
 "cells": [
  {
   "cell_type": "code",
   "execution_count": 1,
   "metadata": {},
   "outputs": [
    {
     "name": "stdout",
     "output_type": "stream",
     "text": [
      "Looking in indexes: https://pypi.tuna.tsinghua.edu.cn/simple\n",
      "Requirement already satisfied: fastapi in ./.venv/lib/python3.12/site-packages (0.110.2)\n",
      "Requirement already satisfied: pydantic in ./.venv/lib/python3.12/site-packages (2.7.0)\n",
      "Requirement already satisfied: toml in ./.venv/lib/python3.12/site-packages (0.10.2)\n",
      "Requirement already satisfied: starlette<0.38.0,>=0.37.2 in ./.venv/lib/python3.12/site-packages (from fastapi) (0.37.2)\n",
      "Requirement already satisfied: typing-extensions>=4.8.0 in ./.venv/lib/python3.12/site-packages (from fastapi) (4.11.0)\n",
      "Requirement already satisfied: annotated-types>=0.4.0 in ./.venv/lib/python3.12/site-packages (from pydantic) (0.6.0)\n",
      "Requirement already satisfied: pydantic-core==2.18.1 in ./.venv/lib/python3.12/site-packages (from pydantic) (2.18.1)\n",
      "Requirement already satisfied: anyio<5,>=3.4.0 in ./.venv/lib/python3.12/site-packages (from starlette<0.38.0,>=0.37.2->fastapi) (4.3.0)\n",
      "Requirement already satisfied: idna>=2.8 in ./.venv/lib/python3.12/site-packages (from anyio<5,>=3.4.0->starlette<0.38.0,>=0.37.2->fastapi) (3.7)\n",
      "Requirement already satisfied: sniffio>=1.1 in ./.venv/lib/python3.12/site-packages (from anyio<5,>=3.4.0->starlette<0.38.0,>=0.37.2->fastapi) (1.3.1)\n",
      "Note: you may need to restart the kernel to use updated packages.\n"
     ]
    }
   ],
   "source": [
    "%pip install fastapi pydantic toml"
   ]
  },
  {
   "cell_type": "code",
   "execution_count": 2,
   "metadata": {},
   "outputs": [
    {
     "name": "stdout",
     "output_type": "stream",
     "text": [
      "I am making a SANITY check against my own sanity:30.\n",
      "And... FAILED! I lost 2 sanity points, and gained a symptom: scratches, punches, and bruises all over the body.\n",
      "I am making a SANITY check against my own sanity:28.\n",
      "And... FAILED! I lost 4 sanity points, and gained a symptom: strange appetites (dirt, clay, etc...).\n",
      "I am making a SANITY check against my own sanity:24.\n",
      "And... FAILED! I lost 2 sanity points, and gained a symptom: delusions of persecution.\n",
      "{'sanity': 22, 'symptoms': ['scratches, punches, and bruises all over the body', 'strange appetites (dirt, clay, etc...)', 'delusions of persecution']}\n"
     ]
    }
   ],
   "source": [
    "from rs import skill_check\n",
    "\n",
    "def test_skill_check(metadata):\n",
    "    print(skill_check(\"sanity\", None, metadata))\n",
    "\n",
    "metadata = {\n",
    "    \"character\": {\"sanity\":30},\n",
    "    \"symptom\":[\n",
    "        \"incoherent speech\",\n",
    "        \"uncontrollable twitching, trembling\",\n",
    "        \"delusions of persecution\",\n",
    "        \"strange appetites (dirt, clay, etc...)\",\n",
    "        \"scratches, punches, and bruises all over the body\"\n",
    "    ]\n",
    "}\n",
    "\n",
    "test_skill_check(metadata)\n",
    "test_skill_check(metadata)\n",
    "test_skill_check(metadata)\n",
    "\n",
    "print(metadata[\"character\"])\n"
   ]
  },
  {
   "cell_type": "code",
   "execution_count": 3,
   "metadata": {},
   "outputs": [
    {
     "name": "stdout",
     "output_type": "stream",
     "text": [
      "You are standing in front of the haunted mansion. \n",
      "The mansion is old and decrepit, with ivy growing up the walls and the windows boarded up. \n",
      "The front door is slightly ajar, inviting you inside. \n",
      "\n",
      "Sunddenly you hear a loud crash from inside the mansion.\n",
      "\n",
      "skill: sanity\n",
      "difficulty: easy\n"
     ]
    },
    {
     "data": {
      "application/vnd.jupyter.widget-view+json": {
       "model_id": "b5b28177650b4df4937376f28ca446aa",
       "version_major": 2,
       "version_minor": 0
      },
      "text/plain": [
       "HBox(children=(Button(description='SANITY [EASY]', layout=Layout(width='auto'), style=ButtonStyle()), Button(d…"
      ]
     },
     "metadata": {},
     "output_type": "display_data"
    },
    {
     "name": "stdout",
     "output_type": "stream",
     "text": [
      "I am making a SANITY check against my own sanity:22.\n",
      "And... FAILED! I lost 2 sanity points, and gained a symptom: strange appetites (dirt, clay, etc...).\n",
      "TURN: 1 \n",
      "\n",
      "\n",
      "symptom: Your mind is clouded with an inexplicable craving for non-food items such as dirt, clay, and other such materials. This strange appetite gnaws at the edges of your consciousness, making it hard to focus on anything else.\n",
      "\n",
      "You shake off the immediate effects of the crash sound, but the craving distracts you. Despite this, you push the front door open and step into the dark, musty interior of the mansion. The air is thick with dust, and the faint smell of decay lingers. You find yourself in a grand entrance hall, with a staircase leading up and several doors leading to other rooms on the ground floor.\n",
      "\n",
      "possible actions:\n",
      "1. Explore the room to the left.\n",
      "2. Head towards the room to the right.\n",
      "3. Investigate the sound upstairs.\n",
      "4. Check out the room straight ahead."
     ]
    },
    {
     "data": {
      "application/vnd.jupyter.widget-view+json": {
       "model_id": "a7c5242c74b44f699a5651d9071f7f90",
       "version_major": 2,
       "version_minor": 0
      },
      "text/plain": [
       "HBox(children=(Button(description='1', layout=Layout(width='auto'), style=ButtonStyle(), tooltip='Explore the …"
      ]
     },
     "metadata": {},
     "output_type": "display_data"
    },
    {
     "name": "stdout",
     "output_type": "stream",
     "text": [
      "I select option 2. TURN: 2 \n",
      "\n",
      "\n",
      "You cautiously make your way towards the room to the right. As you approach, you notice that the door is slightly ajar. You push it open and enter what appears to be a library. The room is filled with shelves upon shelves of old books, their spines covered in dust. A large window on the far wall is covered with heavy curtains, blocking out most of the light, but you can see that it's still daytime outside.\n",
      "\n",
      "In the center of the room, there's a large wooden desk with various papers and a strange, ancient-looking artifact sitting on top of it. The artifact is unlike anything you've seen before, and it seems to emit a faint, eerie glow.\n",
      "\n",
      "possible actions:\n",
      "1. Examine the artifact on the desk.\n",
      "2. Search the shelves for any interesting books.\n",
      "3. Look through the papers on the desk.\n",
      "4. Leave the library and explore another room."
     ]
    },
    {
     "data": {
      "application/vnd.jupyter.widget-view+json": {
       "model_id": "d491e3abeeb24ace9f768de053b6f6aa",
       "version_major": 2,
       "version_minor": 0
      },
      "text/plain": [
       "HBox(children=(Button(description='1', layout=Layout(width='auto'), style=ButtonStyle(), tooltip='Examine the …"
      ]
     },
     "metadata": {},
     "output_type": "display_data"
    },
    {
     "name": "stdout",
     "output_type": "stream",
     "text": [
      "I select option 4. TURN: 3 \n",
      "\n",
      "\n",
      "Leaving the library and its mysterious contents behind, you decide to explore another room. You exit back into the grand entrance hall and notice the door straight ahead seems to lead deeper into the mansion. You approach and open it, revealing a large dining room.\n",
      "\n",
      "The dining room is grand, with a long table in the center surrounded by chairs. Dust covers everything, and cobwebs hang from the chandelier above. As you step into the room, a sudden movement catches your eye. A large, shadowy dog-like figure darts across the room and disappears through a door on the opposite side.\n",
      "\n",
      "This unexpected sight startles you, potentially triggering a sanity check.\n",
      "\n",
      "skill: sanity\n",
      "difficulty: medium"
     ]
    },
    {
     "data": {
      "application/vnd.jupyter.widget-view+json": {
       "model_id": "ea30fa0fa5dd4df689a9a4e598871212",
       "version_major": 2,
       "version_minor": 0
      },
      "text/plain": [
       "HBox(children=(Button(description='SANITY [MEDIUM]', layout=Layout(width='auto'), style=ButtonStyle()), Button…"
      ]
     },
     "metadata": {},
     "output_type": "display_data"
    },
    {
     "name": "stdout",
     "output_type": "stream",
     "text": [
      "I am making a SANITY check against my own sanity:20.\n",
      "And... FAILED! I lost 1 sanity points, and gained a symptom: strange appetites (dirt, clay, etc...).\n",
      "TURN: 4 \n",
      "\n",
      "\n",
      "symptom: Your craving for non-food items intensifies, the desire for dirt, clay, and similar substances becoming almost overwhelming. It's becoming increasingly difficult to concentrate on your investigation as these urges cloud your thoughts.\n",
      "\n",
      "Despite the unsettling encounter with the shadowy dog-like figure and the intensification of your strange appetites, you manage to maintain your composure. The door through which the creature disappeared stands ominously open, leading into darkness.\n",
      "\n",
      "possible actions:\n",
      "1. Follow the creature through the door.\n",
      "2. Search the dining room for clues.\n",
      "3. Return to the entrance hall and choose another room.\n",
      "4. Try to find a kitchen or pantry, hoping to find something to address your strange cravings."
     ]
    },
    {
     "data": {
      "application/vnd.jupyter.widget-view+json": {
       "model_id": "61bedaf7f83843a1a20549c73cde94bf",
       "version_major": 2,
       "version_minor": 0
      },
      "text/plain": [
       "HBox(children=(Button(description='1', layout=Layout(width='auto'), style=ButtonStyle(), tooltip='Follow the c…"
      ]
     },
     "metadata": {},
     "output_type": "display_data"
    }
   ],
   "source": [
    "import re\n",
    "import tomllib\n",
    "import functools\n",
    "from typing import Literal\n",
    "\n",
    "import ipywidgets as widgets\n",
    "from IPython.display import display\n",
    "\n",
    "from dotenv import load_dotenv\n",
    "\n",
    "load_dotenv()\n",
    "\n",
    "from rs import Message, Config, chat, skill_check\n",
    "import d20\n",
    "\n",
    "action_pattern = re.compile(r\"(\\d+). *(.+)\")\n",
    "skill_pattern = re.compile(r\"[\\w_]+\")\n",
    "skill_difficulty_pattern = re.compile(r\"(easy|medium|hard)\")\n",
    "\n",
    "def next_round(b):\n",
    "    global current_round, initial_messages\n",
    "    current_round += 1\n",
    "    initial_messages = config.initial_messages(current_round, config.metadata)\n",
    "\n",
    "    print(initial_messages[-1].content)\n",
    "    display(get_controls(initial_messages[-1]))\n",
    "\n",
    "def get_user_message_tail():\n",
    "    count = 0\n",
    "    for msg in initial_messages:\n",
    "        if msg.role == \"user\":\n",
    "            count += 1\n",
    "\n",
    "    is_final =  \", FINAL ROUND\" if  current_round == len(config.rounds) else \"\"\n",
    "    return f\"TURN: {count + 1} {is_final}\"\n",
    "    \n",
    "\n",
    "def do_chat(role:Literal[\"user\", \"system\", \"assistant\"], content: str):\n",
    "    print(f\"{content}\\n\\n\")\n",
    "\n",
    "    initial_messages.append(Message(role=role, content=content))\n",
    "    msg = chat(initial_messages, lambda delta: print(delta, end=\"\"))\n",
    "\n",
    "    initial_messages.append(msg)\n",
    "    display(get_controls(msg))\n",
    "\n",
    "\n",
    "def on_skill(b, skill:str, difficulty:str):\n",
    "    content = skill_check(skill, difficulty, metadata)\n",
    "    content += f\"\\n{get_user_message_tail()}\"\n",
    "    do_chat(\"user\", content)\n",
    "\n",
    "def on_action(b, index:int):\n",
    "    content = f\"I select option {index}. {get_user_message_tail()}\"\n",
    "    do_chat(\"user\", content)\n",
    "\n",
    "def on_custom_input(b, input:widgets.Text):\n",
    "    content = f\"{input.value}. {get_user_message_tail()}\"\n",
    "    do_chat(\"user\", content)\n",
    "\n",
    "def on_custom_action(b):\n",
    "    hbox = widgets.HBox(layout=widgets.Layout(width=\"100%\"))\n",
    "    action_text = widgets.Text(layout=widgets.Layout(width=\"100%\"))\n",
    "    submit = widgets.Button(description=\"SUBMIT\", layout=widgets.Layout(width=\"fit-content\"))\n",
    "    submit.on_click(functools.partial(on_custom_input, input=action_text))\n",
    "    hbox.children += (action_text, submit) \n",
    "    display(hbox)\n",
    "\n",
    "def get_controls(msg:Message) -> widgets.Box:\n",
    "    dict = msg.dict()\n",
    "    buttons = []\n",
    "    if \"possible actions\" in dict.keys():\n",
    "        matches = action_pattern.finditer(dict[\"possible actions\"])\n",
    "        for match in matches:\n",
    "            btn = widgets.Button(description=match.group(1), tooltip=match.group(2), layout=widgets.Layout(width=\"auto\"))\n",
    "            btn.on_click(functools.partial(on_action, index=int(match.group(1))))\n",
    "            buttons.append(btn)\n",
    "    elif \"skill\" in dict.keys() and \"difficulty\" in dict.keys():\n",
    "        match = skill_pattern.match(dict[\"skill\"])\n",
    "        skill = match.group(0)\n",
    "        match = skill_difficulty_pattern.match(dict[\"difficulty\"])\n",
    "        difficulty = match.group(0)\n",
    "        skill_button = widgets.Button(description=f\"{skill.upper()} [{difficulty.upper()}]\", layout=widgets.Layout(width=\"auto\"))\n",
    "        skill_button.on_click(functools.partial(on_skill, skill=skill, difficulty=difficulty))\n",
    "        buttons.append(skill_button)\n",
    "    elif \"summary\" in dict.keys():\n",
    "        # add summary as a memory to the metadata\n",
    "        # it will be used in the next round.\n",
    "        config.metadata[\"memories\"] = []\n",
    "        config.metadata[\"memories\"].append(dict[\"summary\"])\n",
    "        next_btn = widgets.Button(description=\"NEXT ROUND\", layout=widgets.Layout(width=\"auto\"))\n",
    "        next_btn.on_click(next_round)\n",
    "        buttons.append(next_btn)\n",
    "    \n",
    "    custom_action_button = widgets.Button(description=\"CUSTOM\")\n",
    "    custom_action_button.on_click(on_custom_action)\n",
    "    buttons.append(custom_action_button)\n",
    "\n",
    "    return widgets.HBox(buttons)\n",
    "\n",
    "# open config file\n",
    "config_name = \"data/config_skillcheck_test.toml\"\n",
    "config: Config | None = None\n",
    "with open(config_name, \"rb\") as f:\n",
    "    data = tomllib.load(f)\n",
    "    config = Config(**data)\n",
    "\n",
    "current_round = 0\n",
    "initial_messages = config.initial_messages(current_round, config.metadata)\n",
    "\n",
    "print(initial_messages[-1].content)\n",
    "display(get_controls(initial_messages[-1]))"
   ]
  }
 ],
 "metadata": {
  "kernelspec": {
   "display_name": ".venv",
   "language": "python",
   "name": "python3"
  },
  "language_info": {
   "codemirror_mode": {
    "name": "ipython",
    "version": 3
   },
   "file_extension": ".py",
   "mimetype": "text/x-python",
   "name": "python",
   "nbconvert_exporter": "python",
   "pygments_lexer": "ipython3",
   "version": "3.12.3"
  }
 },
 "nbformat": 4,
 "nbformat_minor": 2
}
