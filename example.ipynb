{
 "cells": [
  {
   "cell_type": "code",
<<<<<<< HEAD
   "execution_count": 1,
=======
   "execution_count": 16,
>>>>>>> main
   "metadata": {},
   "outputs": [
    {
     "name": "stdout",
     "output_type": "stream",
     "text": [
<<<<<<< HEAD
      "Requirement already satisfied: openai in c:\\users\\administrator\\appdata\\local\\programs\\python\\python312\\lib\\site-packages (1.20.0)\n",
      "Requirement already satisfied: pydantic in c:\\users\\administrator\\appdata\\local\\programs\\python\\python312\\lib\\site-packages (2.7.0)\n",
      "Requirement already satisfied: jinja2 in c:\\users\\administrator\\appdata\\local\\programs\\python\\python312\\lib\\site-packages (3.1.3)\n",
      "Requirement already satisfied: python_dotenv in c:\\users\\administrator\\appdata\\local\\programs\\python\\python312\\lib\\site-packages (1.0.1)\n",
      "Requirement already satisfied: ipywidgets in c:\\users\\administrator\\appdata\\local\\programs\\python\\python312\\lib\\site-packages (8.1.2)\n",
      "Requirement already satisfied: d20 in c:\\users\\administrator\\appdata\\local\\programs\\python\\python312\\lib\\site-packages (1.1.2)\n",
      "Requirement already satisfied: anyio<5,>=3.5.0 in c:\\users\\administrator\\appdata\\local\\programs\\python\\python312\\lib\\site-packages (from openai) (4.3.0)\n",
      "Requirement already satisfied: distro<2,>=1.7.0 in c:\\users\\administrator\\appdata\\local\\programs\\python\\python312\\lib\\site-packages (from openai) (1.9.0)\n",
      "Requirement already satisfied: httpx<1,>=0.23.0 in c:\\users\\administrator\\appdata\\local\\programs\\python\\python312\\lib\\site-packages (from openai) (0.27.0)\n",
      "Requirement already satisfied: sniffio in c:\\users\\administrator\\appdata\\local\\programs\\python\\python312\\lib\\site-packages (from openai) (1.3.1)\n",
      "Requirement already satisfied: tqdm>4 in c:\\users\\administrator\\appdata\\local\\programs\\python\\python312\\lib\\site-packages (from openai) (4.66.2)\n",
      "Requirement already satisfied: typing-extensions<5,>=4.7 in c:\\users\\administrator\\appdata\\local\\programs\\python\\python312\\lib\\site-packages (from openai) (4.11.0)\n",
      "Requirement already satisfied: annotated-types>=0.4.0 in c:\\users\\administrator\\appdata\\local\\programs\\python\\python312\\lib\\site-packages (from pydantic) (0.6.0)\n",
      "Requirement already satisfied: pydantic-core==2.18.1 in c:\\users\\administrator\\appdata\\local\\programs\\python\\python312\\lib\\site-packages (from pydantic) (2.18.1)\n",
      "Requirement already satisfied: MarkupSafe>=2.0 in c:\\users\\administrator\\appdata\\local\\programs\\python\\python312\\lib\\site-packages (from jinja2) (2.1.5)\n",
      "Requirement already satisfied: comm>=0.1.3 in c:\\users\\administrator\\appdata\\roaming\\python\\python312\\site-packages (from ipywidgets) (0.2.2)\n",
      "Requirement already satisfied: ipython>=6.1.0 in c:\\users\\administrator\\appdata\\roaming\\python\\python312\\site-packages (from ipywidgets) (8.23.0)\n",
      "Requirement already satisfied: traitlets>=4.3.1 in c:\\users\\administrator\\appdata\\roaming\\python\\python312\\site-packages (from ipywidgets) (5.14.2)\n",
      "Requirement already satisfied: widgetsnbextension~=4.0.10 in c:\\users\\administrator\\appdata\\local\\programs\\python\\python312\\lib\\site-packages (from ipywidgets) (4.0.10)\n",
      "Requirement already satisfied: jupyterlab-widgets~=3.0.10 in c:\\users\\administrator\\appdata\\local\\programs\\python\\python312\\lib\\site-packages (from ipywidgets) (3.0.10)\n",
      "Requirement already satisfied: cachetools>=3.1.0 in c:\\users\\administrator\\appdata\\local\\programs\\python\\python312\\lib\\site-packages (from d20) (5.3.3)\n",
      "Requirement already satisfied: lark-parser~=0.9.0 in c:\\users\\administrator\\appdata\\local\\programs\\python\\python312\\lib\\site-packages (from d20) (0.9.0)\n",
      "Requirement already satisfied: idna>=2.8 in c:\\users\\administrator\\appdata\\local\\programs\\python\\python312\\lib\\site-packages (from anyio<5,>=3.5.0->openai) (3.7)\n",
      "Requirement already satisfied: certifi in c:\\users\\administrator\\appdata\\local\\programs\\python\\python312\\lib\\site-packages (from httpx<1,>=0.23.0->openai) (2024.2.2)\n",
      "Requirement already satisfied: httpcore==1.* in c:\\users\\administrator\\appdata\\local\\programs\\python\\python312\\lib\\site-packages (from httpx<1,>=0.23.0->openai) (1.0.5)\n",
      "Requirement already satisfied: h11<0.15,>=0.13 in c:\\users\\administrator\\appdata\\local\\programs\\python\\python312\\lib\\site-packages (from httpcore==1.*->httpx<1,>=0.23.0->openai) (0.14.0)\n",
      "Requirement already satisfied: decorator in c:\\users\\administrator\\appdata\\roaming\\python\\python312\\site-packages (from ipython>=6.1.0->ipywidgets) (5.1.1)\n",
      "Requirement already satisfied: jedi>=0.16 in c:\\users\\administrator\\appdata\\roaming\\python\\python312\\site-packages (from ipython>=6.1.0->ipywidgets) (0.19.1)\n",
      "Requirement already satisfied: matplotlib-inline in c:\\users\\administrator\\appdata\\roaming\\python\\python312\\site-packages (from ipython>=6.1.0->ipywidgets) (0.1.7)\n",
      "Requirement already satisfied: prompt-toolkit<3.1.0,>=3.0.41 in c:\\users\\administrator\\appdata\\roaming\\python\\python312\\site-packages (from ipython>=6.1.0->ipywidgets) (3.0.43)\n",
      "Requirement already satisfied: pygments>=2.4.0 in c:\\users\\administrator\\appdata\\roaming\\python\\python312\\site-packages (from ipython>=6.1.0->ipywidgets) (2.17.2)\n",
      "Requirement already satisfied: stack-data in c:\\users\\administrator\\appdata\\roaming\\python\\python312\\site-packages (from ipython>=6.1.0->ipywidgets) (0.6.3)\n",
      "Requirement already satisfied: colorama in c:\\users\\administrator\\appdata\\roaming\\python\\python312\\site-packages (from ipython>=6.1.0->ipywidgets) (0.4.6)\n",
      "Requirement already satisfied: parso<0.9.0,>=0.8.3 in c:\\users\\administrator\\appdata\\roaming\\python\\python312\\site-packages (from jedi>=0.16->ipython>=6.1.0->ipywidgets) (0.8.4)\n",
      "Requirement already satisfied: wcwidth in c:\\users\\administrator\\appdata\\roaming\\python\\python312\\site-packages (from prompt-toolkit<3.1.0,>=3.0.41->ipython>=6.1.0->ipywidgets) (0.2.13)\n",
      "Requirement already satisfied: executing>=1.2.0 in c:\\users\\administrator\\appdata\\roaming\\python\\python312\\site-packages (from stack-data->ipython>=6.1.0->ipywidgets) (2.0.1)\n",
      "Requirement already satisfied: asttokens>=2.1.0 in c:\\users\\administrator\\appdata\\roaming\\python\\python312\\site-packages (from stack-data->ipython>=6.1.0->ipywidgets) (2.4.1)\n",
      "Requirement already satisfied: pure-eval in c:\\users\\administrator\\appdata\\roaming\\python\\python312\\site-packages (from stack-data->ipython>=6.1.0->ipywidgets) (0.2.2)\n",
      "Requirement already satisfied: six>=1.12.0 in c:\\users\\administrator\\appdata\\roaming\\python\\python312\\site-packages (from asttokens>=2.1.0->stack-data->ipython>=6.1.0->ipywidgets) (1.16.0)\n",
=======
      "Looking in indexes: https://pypi.tuna.tsinghua.edu.cn/simple\n",
      "Requirement already satisfied: openai in ./.venv/lib/python3.12/site-packages (1.17.0)\n",
      "Requirement already satisfied: pydantic in ./.venv/lib/python3.12/site-packages (2.7.0)\n",
      "Requirement already satisfied: jinja2 in ./.venv/lib/python3.12/site-packages (3.1.3)\n",
      "Requirement already satisfied: python_dotenv in ./.venv/lib/python3.12/site-packages (1.0.1)\n",
      "Requirement already satisfied: ipywidgets in ./.venv/lib/python3.12/site-packages (8.1.2)\n",
      "Requirement already satisfied: d20 in ./.venv/lib/python3.12/site-packages (1.1.2)\n",
      "Requirement already satisfied: anyio<5,>=3.5.0 in ./.venv/lib/python3.12/site-packages (from openai) (4.3.0)\n",
      "Requirement already satisfied: distro<2,>=1.7.0 in ./.venv/lib/python3.12/site-packages (from openai) (1.9.0)\n",
      "Requirement already satisfied: httpx<1,>=0.23.0 in ./.venv/lib/python3.12/site-packages (from openai) (0.27.0)\n",
      "Requirement already satisfied: sniffio in ./.venv/lib/python3.12/site-packages (from openai) (1.3.1)\n",
      "Requirement already satisfied: tqdm>4 in ./.venv/lib/python3.12/site-packages (from openai) (4.66.2)\n",
      "Requirement already satisfied: typing-extensions<5,>=4.7 in ./.venv/lib/python3.12/site-packages (from openai) (4.11.0)\n",
      "Requirement already satisfied: annotated-types>=0.4.0 in ./.venv/lib/python3.12/site-packages (from pydantic) (0.6.0)\n",
      "Requirement already satisfied: pydantic-core==2.18.1 in ./.venv/lib/python3.12/site-packages (from pydantic) (2.18.1)\n",
      "Requirement already satisfied: MarkupSafe>=2.0 in ./.venv/lib/python3.12/site-packages (from jinja2) (2.1.5)\n",
      "Requirement already satisfied: comm>=0.1.3 in ./.venv/lib/python3.12/site-packages (from ipywidgets) (0.2.2)\n",
      "Requirement already satisfied: ipython>=6.1.0 in ./.venv/lib/python3.12/site-packages (from ipywidgets) (8.23.0)\n",
      "Requirement already satisfied: traitlets>=4.3.1 in ./.venv/lib/python3.12/site-packages (from ipywidgets) (5.14.2)\n",
      "Requirement already satisfied: widgetsnbextension~=4.0.10 in ./.venv/lib/python3.12/site-packages (from ipywidgets) (4.0.10)\n",
      "Requirement already satisfied: jupyterlab-widgets~=3.0.10 in ./.venv/lib/python3.12/site-packages (from ipywidgets) (3.0.10)\n",
      "Requirement already satisfied: cachetools>=3.1.0 in ./.venv/lib/python3.12/site-packages (from d20) (5.3.3)\n",
      "Requirement already satisfied: lark-parser~=0.9.0 in ./.venv/lib/python3.12/site-packages (from d20) (0.9.0)\n",
      "Requirement already satisfied: idna>=2.8 in ./.venv/lib/python3.12/site-packages (from anyio<5,>=3.5.0->openai) (3.7)\n",
      "Requirement already satisfied: certifi in ./.venv/lib/python3.12/site-packages (from httpx<1,>=0.23.0->openai) (2024.2.2)\n",
      "Requirement already satisfied: httpcore==1.* in ./.venv/lib/python3.12/site-packages (from httpx<1,>=0.23.0->openai) (1.0.5)\n",
      "Requirement already satisfied: h11<0.15,>=0.13 in ./.venv/lib/python3.12/site-packages (from httpcore==1.*->httpx<1,>=0.23.0->openai) (0.14.0)\n",
      "Requirement already satisfied: decorator in ./.venv/lib/python3.12/site-packages (from ipython>=6.1.0->ipywidgets) (5.1.1)\n",
      "Requirement already satisfied: jedi>=0.16 in ./.venv/lib/python3.12/site-packages (from ipython>=6.1.0->ipywidgets) (0.19.1)\n",
      "Requirement already satisfied: matplotlib-inline in ./.venv/lib/python3.12/site-packages (from ipython>=6.1.0->ipywidgets) (0.1.6)\n",
      "Requirement already satisfied: prompt-toolkit<3.1.0,>=3.0.41 in ./.venv/lib/python3.12/site-packages (from ipython>=6.1.0->ipywidgets) (3.0.43)\n",
      "Requirement already satisfied: pygments>=2.4.0 in ./.venv/lib/python3.12/site-packages (from ipython>=6.1.0->ipywidgets) (2.17.2)\n",
      "Requirement already satisfied: stack-data in ./.venv/lib/python3.12/site-packages (from ipython>=6.1.0->ipywidgets) (0.6.3)\n",
      "Requirement already satisfied: pexpect>4.3 in ./.venv/lib/python3.12/site-packages (from ipython>=6.1.0->ipywidgets) (4.9.0)\n",
      "Requirement already satisfied: parso<0.9.0,>=0.8.3 in ./.venv/lib/python3.12/site-packages (from jedi>=0.16->ipython>=6.1.0->ipywidgets) (0.8.4)\n",
      "Requirement already satisfied: ptyprocess>=0.5 in ./.venv/lib/python3.12/site-packages (from pexpect>4.3->ipython>=6.1.0->ipywidgets) (0.7.0)\n",
      "Requirement already satisfied: wcwidth in ./.venv/lib/python3.12/site-packages (from prompt-toolkit<3.1.0,>=3.0.41->ipython>=6.1.0->ipywidgets) (0.2.13)\n",
      "Requirement already satisfied: executing>=1.2.0 in ./.venv/lib/python3.12/site-packages (from stack-data->ipython>=6.1.0->ipywidgets) (2.0.1)\n",
      "Requirement already satisfied: asttokens>=2.1.0 in ./.venv/lib/python3.12/site-packages (from stack-data->ipython>=6.1.0->ipywidgets) (2.4.1)\n",
      "Requirement already satisfied: pure-eval in ./.venv/lib/python3.12/site-packages (from stack-data->ipython>=6.1.0->ipywidgets) (0.2.2)\n",
      "Requirement already satisfied: six>=1.12.0 in ./.venv/lib/python3.12/site-packages (from asttokens>=2.1.0->stack-data->ipython>=6.1.0->ipywidgets) (1.16.0)\n",
>>>>>>> main
      "Note: you may need to restart the kernel to use updated packages.\n"
     ]
    }
   ],
   "source": [
    "%pip install openai pydantic jinja2 python_dotenv ipywidgets d20"
   ]
  },
  {
   "cell_type": "code",
<<<<<<< HEAD
   "execution_count": 2,
=======
   "execution_count": 17,
>>>>>>> main
   "metadata": {},
   "outputs": [
    {
     "name": "stdout",
     "output_type": "stream",
     "text": [
<<<<<<< HEAD
      "Version: 0.0.3, Chapters: 4\n"
=======
      "Version: 0.0.3, Chapters: 1\n"
>>>>>>> main
     ]
    }
   ],
   "source": [
    "import os\n",
    "import re\n",
    "import tomllib\n",
    "import functools\n",
    "\n",
    "from jinja2 import Template\n",
    "from pydantic import BaseModel\n",
    "from openai import OpenAI, AzureOpenAI\n",
    "from dotenv import load_dotenv\n",
    "from d20 import roll\n",
    "\n",
    "import ipywidgets as widgets\n",
    "from IPython.display import display, clear_output\n",
    "\n",
    "from typing import Literal, Union\n",
    "\n",
    "load_dotenv()\n",
    "\n",
    "with open(\"data/example_haunted_house.toml\", \"rb\") as f:\n",
    "    config = tomllib.load(f)\n",
    "\n",
    "message_pattern = re.compile(r\"^([\\w_ *]+)\\:[ \\s]*(.+)*$\")\n",
    "class Message(BaseModel):\n",
    "    # Message from chatbot\n",
    "    role: Literal[\"system\", \"assistant\", \"user\"]\n",
    "    content: str   \n",
    "\n",
    "    # parse the content into dictionary\n",
    "    def dict(self) -> dict:\n",
    "        current_key = None\n",
    "        parsed = {}\n",
    "        lines = self.content.splitlines()\n",
    "        # parse the content line by line\n",
    "        for line in lines:\n",
    "            res = message_pattern.search(line)\n",
    "            if res is not None:\n",
    "                current_key = res.group(1)\n",
    "                if res.group(2) is not None:\n",
    "                    parsed[current_key] = res.group(2).strip()\n",
    "                else:\n",
    "                    parsed[current_key] = \"\"\n",
    "            elif current_key is not None and line.strip() != \"\":\n",
    "                parsed[current_key] += \"\\n\" + line.strip()\n",
    "        return parsed\n",
    "\n",
    "class Chapter(BaseModel):\n",
    "    id: str\n",
    "    next: str|None = None\n",
    "    max_turns: int\n",
    "    backgrounds: list[str]\n",
    "    rules: list[str]\n",
    "    initial: str\n",
    "    \n",
    "    def __init__(self, **kargs):\n",
    "        super().__init__(**kargs)\n",
    "    \n",
    "    def get_messages(self) -> list[Message]:\n",
    "        rendered_rules = render_rules(self.rules)\n",
    "        system_content = Template(system).render({\"rules\": rendered_rules, \"backgrounds\":self.backgrounds, \"character\": character})\n",
    "        initial_content = Template(self.initial).render({\"rules\": self.rules, \"character\": character})\n",
    "        return [\n",
    "            Message(role=\"system\", content=system_content),\n",
    "            Message(role=\"assistant\", content=initial_content)\n",
    "        ]\n",
    "\n",
    "version = config[\"version\"] # version of the config\n",
    "system = config[\"system\"] # system prompt template message\n",
    "character = config[\"character\"] # character information\n",
    "chapters = config[\"chapters\"] # chapters list\n",
    "item_list = config[\"list\"][\"items\"] # items list\n",
    "\n",
    "messages:list[Message] =[] # chat messages\n",
    "\n",
    "tags = [] # tags list\n",
    "items = character[\"items\"] # items list\n",
    "\n",
    "print(f\"Version: {version}, Chapters: {len(chapters)}\")\n",
    "\n",
    "# find the chapter by id\n",
    "def getChapterById(id:str) -> Chapter:\n",
    "    for r in chapters:\n",
    "        if r[\"id\"] == id:\n",
    "            return Chapter(**r) \n",
    "    return None\n",
    "\n",
    "# next chapter find and initialize\n",
    "def choose_next_chapter():\n",
    "    global current_chapter, messages\n",
    "    if current_chapter.next is not None:\n",
    "        next = Template(current_chapter.next).render({\"items\": items, \"tags\": tags})\n",
    "        print(\"Next round: \", next)\n",
    "        next_chapter = getChapterById(next)\n",
    "        if next_chapter is not None:\n",
    "            current_chapter = next_chapter\n",
    "            initials = current_chapter.get_messages()\n",
    "            print(initials[1].content)\n",
    "            show_controls(initials[1])\n",
    "            messages = []\n",
    "        else:\n",
    "            print(f\"Chapter '{next}' not found.\")\n",
    "    else:\n",
    "        print(\"No next chapter found.\")\n",
    "\n",
    "\n",
    "# cout the messages by role, used for chapter's max_turns check\n",
    "def count_messages(messages:list[Message], role:str) -> int:\n",
    "    return len([msg for msg in messages if msg.role == role])\n",
    "\n",
    "# chat with Azure OpenAI\n",
    "def chat_with_azure(messages:list[Message], on_message: Union[callable, None] = None) -> Message:\n",
    "    client = AzureOpenAI(api_key=os.environ.get(\"AZURE_OPENAI_API_KEY\"), \n",
    "                         azure_endpoint=os.environ.get(\"AZURE_OPENAI_ENDPOINT\"),\n",
    "                         api_version=os.environ.get(\"AZURE_OPENAI_API_VERSION\")\n",
    "                         )\n",
    "    stream = client.chat.completions.create(\n",
    "        model=os.environ.get(\"AZURE_OPENAI_MODEL_NAME\"),\n",
    "        messages=messages,\n",
    "        stream=True,\n",
    "        max_tokens=4000,\n",
    "        temperature=float(os.environ.get(\"OPENAI_TEMPERATURE\"))\n",
    "    )\n",
    "\n",
    "    generated = \"\"\n",
    "    for chunk in stream:\n",
    "        if len(chunk.choices) > 0 and chunk.choices[0].delta.content is not None:\n",
    "            delta = chunk.choices[0].delta.content\n",
    "            if (on_message is not None):\n",
    "                on_message(chunk.choices[0].delta.content)\n",
    "            generated += delta\n",
    "    return Message(role=\"assistant\", content=generated)\n",
    "    \n",
    "# chat with OpenAI\n",
    "def chat(messages:list[Message], on_message: Union[callable, None] = None) -> Message:\n",
    "    client = OpenAI(api_key=os.environ.get(\"OPENAI_API_KEY\"))\n",
    "    stream = client.chat.completions.create(\n",
    "        model=os.environ.get(\"OPENAI_MODEL_NAME\"),\n",
    "        messages=messages,\n",
    "        stream=True,\n",
    "        max_tokens=4000,\n",
    "        temperature=float(os.environ.get(\"OPENAI_TEMPERATURE\"))\n",
    "    )\n",
    "\n",
    "    generated = \"\"\n",
    "    for chunk in stream:\n",
    "        if chunk.choices[0].delta.content is not None:\n",
    "            delta = chunk.choices[0].delta.content\n",
    "            if (on_message is not None):\n",
    "                on_message(chunk.choices[0].delta.content)\n",
    "            generated += delta\n",
    "    return Message(role=\"assistant\", content=generated)\n",
    "\n",
    "# render each rule from the chapter\n",
    "def render_rules(rules:list[str]) -> str:\n",
    "    lists = []\n",
    "    for rule in rules:\n",
    "        res = Template(rule).render({\"character\": character, \"tags\":tags, \"items\": items})\n",
    "        if res is not None and res != \"\":\n",
    "            lists.append(res)\n",
    "    return lists\n",
    "\n",
    "# do chat with the chatbot, and show the message with control buttons...\n",
    "def do_chat(content:str|None, on_message: Union[callable, None] = None):\n",
    "    if content is not None:\n",
    "        turn = count_messages(messages, 'user') + 1\n",
    "        if turn >= current_chapter.max_turns:\n",
    "            content += f\"\\nwhisper: MAX_TURNS is reached.\"\n",
    "        messages.append(Message(role=\"user\", content=content))\n",
    "        print(content)\n",
    "\n",
    "    # change it to chat_with_azure to use Azure OpenAI\n",
    "    concat = current_chapter.get_messages() + messages\n",
    "    # for msg in concat:\n",
    "    #     print(f\"{msg.role}: {msg.content}\")\n",
    "    # print(\"----------------------------------------------\")\n",
    "\n",
    "    msg = chat_with_azure(concat, on_message)\n",
    "\n",
    "    # print all the messages:\n",
    "    show_controls(msg)\n",
    "    messages.append(msg)\n",
    "        \n",
    "# handle player's action\n",
    "def on_action(b, index:int):\n",
    "    user_msg = f\"I select '{index}'.\"\n",
    "    do_chat(user_msg, lambda x: print(x, end=\"\"))\n",
    "\n",
    "# handle player's skill check\n",
    "def on_skill(b, skill:str, difficulty:str):\n",
    "    roll_num = roll(\"1d100\").total\n",
    "    if roll_num < 5:\n",
    "        user_msg = f\"i roll the dice for '{roll_num}' and get a CRITICAL SUCCESS!\"\n",
    "        do_chat(user_msg, lambda x: print(x, end=\"\"))\n",
    "        return\n",
    "    if roll_num >= 95:\n",
    "        user_msg = f\"i roll the dice for '{roll_num}' and get a CRITICAL FAILURE!\"\n",
    "        do_chat(user_msg, lambda x: print(x, end=\"\"))\n",
    "        return\n",
    "\n",
    "    difficulty_num = 15 if skill not in character[\"skills\"] else character[\"skills\"][skill]\n",
    "    if difficulty == \"hard\":\n",
    "        difficulty_num = int(difficulty_num * 0.5)\n",
    "    if difficulty == \"extreme\":\n",
    "        difficulty_num = int(difficulty_num * 0.2)\n",
    "    \n",
    "    print(f\"rolled {roll_num} against {difficulty_num} on skill '{skill}'...\")\n",
    "    \n",
    "    if roll_num <= difficulty_num:\n",
    "        user_msg = f\"i roll the dice for '{skill.upper()}' and get a success!\"\n",
    "    else:\n",
    "        user_msg = f\"i roll the dice for '{skill.upper()}' and get a failure.\"\n",
    "\n",
    "    do_chat(user_msg, lambda x: print(x, end=\"\"))\n",
    "\n",
    "# handle continue\n",
    "def on_continue(b):\n",
    "    user_msg = f\"Continue...\"\n",
    "    do_chat(user_msg, lambda x: print(x, end=\"\"))\n",
    "\n",
    "# handle chapter's ending, and show next chapter\n",
    "def on_next(b):\n",
    "    choose_next_chapter()\n",
    "        \n",
    "# handle player's retry, it will remove the last assistant message,\n",
    "# and re-ask the chatbot\n",
    "def on_retry(b):\n",
    "    # delete last assistant message\n",
    "    messages.pop()\n",
    "    do_chat(None, lambda x: print(x, end=\"\"))\n",
    "\n",
    "# handle player's item usage\n",
    "def on_item(b, item:dict):\n",
    "    user_msg = Template(item[\"description\"]).render({\"character\": character, \"tags\":tags, \"items\": items})\n",
    "    user_msg = f\"I use '{item['id']}' - {user_msg}\"\n",
    "    do_chat(user_msg, lambda x: print(x, end=\"\"))\n",
    "\n",
    "action_pattern = re.compile(r\"(\\d+). *(.+)\")\n",
    "# the main function to show the controls\n",
    "def show_controls(msg:Message):\n",
    "    dict = msg.dict()\n",
    "    buttons = []\n",
    "\n",
    "    if \"choices\" in dict.keys():\n",
    "        # handle player's choices\n",
    "        matches = action_pattern.finditer(dict[\"choices\"])\n",
    "        for match in matches:\n",
    "            btn = widgets.Button(description=match.group(0), layout=widgets.Layout(width=\"fit-content\"))\n",
    "            btn.on_click(functools.partial(on_action, index=int(match.group(1))))\n",
    "            buttons.append(btn)\n",
    "    elif \"skill_check\" in dict.keys() and \"difficulty\" in dict.keys():\n",
    "        # handle skill check\n",
    "        btn = widgets.Button(description=f\"{dict['skill_check']} - {dict['difficulty']}\", layout=widgets.Layout(width=\"fit-content\"))\n",
    "        btn.on_click(functools.partial(on_skill, skill=dict['skill_check'], difficulty=dict['difficulty']))\n",
    "        buttons.append(btn)\n",
    "    elif \"ending\" in dict.keys():\n",
    "        # handle chapter ending, show next chapter button\n",
    "        btn = widgets.Button(description=f\"NEXT\", layout=widgets.Layout(width=\"fit-content\"))\n",
    "        btn.on_click(on_next)\n",
    "        buttons.append(btn)\n",
    "    elif \"game_over\" in dict.keys():\n",
    "        # handle game over\n",
    "        print(\"\\nGame Over - Hit 'Run All' button to restart again.\")\n",
    "    else:\n",
    "        # If there is no choices or endings, show continue button\n",
    "        btn = widgets.Button(description=\"Continue\", layout=widgets.Layout(width=\"fit-content\"))\n",
    "        btn.on_click(on_continue)\n",
    "        buttons.append(btn)\n",
    "    \n",
    "    # add tag from generated message\n",
    "    if \"add_tag\" in dict.keys() and dict[\"add_tag\"] not in tags:\n",
    "        tags.append(dict[\"add_tag\"])\n",
    "\n",
    "    # remove tag from generated message\n",
    "    if \"remove_tag\" in dict.keys() and dict[\"remove_tag\"] in tags:\n",
    "        tags.remove(dict[\"remove_tag\"])\n",
    "    \n",
    "    # add item from generated message\n",
    "    if \"add_item\" in dict.keys() and dict[\"add_item\"] not in item_list:\n",
    "        item = dict[\"add_item\"]\n",
    "        found = next((x for x in item_list if x['id'] == item), None)\n",
    "        if (found is None):\n",
    "            print(f\"\\nItem '{dict['add_item']}' not found.\")\n",
    "        else:\n",
    "            items.append(item)\n",
    "    \n",
    "    # remove item from generated message\n",
    "    if \"remove_item\" in dict.keys() and dict[\"remove_item\"] in items:\n",
    "        items.remove(dict[\"remove_item\"])\n",
    "    \n",
    "    controls = []\n",
    "\n",
    "    # retry buttons\n",
    "    if len(messages) > 0:\n",
    "        retry_btn = widgets.Button(description=\"Retry\", layout=widgets.Layout(width=\"fit-content\"))\n",
    "        retry_btn.on_click(on_retry)\n",
    "        controls.append(retry_btn)\n",
    "\n",
    "    # show tag list\n",
    "    if len(tags) > 0:\n",
    "        tags_lbl = widgets.Label(value=f\"Tags: {', '.join(tags)}\")\n",
    "        controls.append(tags_lbl)\n",
    "\n",
    "    # inventory buttons\n",
    "    inventory = [widgets.Label(value=\"Inventory:\")]\n",
    "    if len(items) > 0:\n",
    "        for item in items:\n",
    "            found = next((x for x in item_list if x['id'] == item), None)\n",
    "            if found:\n",
    "                item_btn = widgets.Button(description=found[\"id\"], layout=widgets.Layout(width=\"fit-content\"))\n",
    "                item_btn.on_click(functools.partial(on_item, item=found))\n",
    "                inventory.append(item_btn)\n",
    "            else:\n",
    "                print(f\"\\nItem '{item}' not found in the list.\")\n",
    "        controls.append(widgets.HBox(inventory))\n",
    "    \n",
    "    display(widgets.VBox(buttons))\n",
    "\n",
    "    if (len(controls) > 0):\n",
    "        display(widgets.HBox(controls))\n",
    "\n",
    "current_chapter = getChapterById(\"r1\")"
   ]
  },
  {
   "cell_type": "code",
<<<<<<< HEAD
   "execution_count": 3,
=======
   "execution_count": 18,
>>>>>>> main
   "metadata": {},
   "outputs": [
    {
     "name": "stdout",
     "output_type": "stream",
     "text": [
<<<<<<< HEAD
      "background: your_office\n",
      "narration: \n",
      "You are a private detective. You used to be a police officer, but got fired because you found out a high-powered polician was the person behind a serial murder case.\n",
      "\n",
      "\n",
      "You are hired by Mr. Knott to investigate his old Boston house. Weird things keep happening to the former tenants. A Macario kid went crazy and killed his parents. The Porter family got a strange disease and were committed to an asylum.\n",
      "\n",
      "choices:\n",
      "1. Go to the library, find historical reports.\n",
      "2. Go to the police station, look into those cases.\n",
      "3. Check the neighbourhood.\n",
      "4. Ask Mr. Knott for more information.\n"
=======
      "narration: \n",
      "You, John Doe, a retired detective, who has lost his family in a tragic accident, and using alcohol to cope with the loss.\n",
      "\n",
      "You have been investigating a series of murders in the town for many years.\n",
      "The recent clues led you to a abandoned house in the forest. Now you are standing in front of the house.\n",
      "background: house_front\n"
>>>>>>> main
     ]
    },
    {
     "data": {
      "application/vnd.jupyter.widget-view+json": {
<<<<<<< HEAD
       "model_id": "214a0a8e615349c58152c796ec7d7573",
=======
       "model_id": "900921240c534cebac1050a21c111039",
>>>>>>> main
       "version_major": 2,
       "version_minor": 0
      },
      "text/plain": [
<<<<<<< HEAD
       "VBox(children=(Button(description='1. Go to the library, find historical reports.', layout=Layout(width='fit-c…"
=======
       "VBox(children=(Button(description='Continue', layout=Layout(width='fit-content'), style=ButtonStyle()),))"
>>>>>>> main
      ]
     },
     "metadata": {},
     "output_type": "display_data"
    },
    {
     "data": {
      "application/vnd.jupyter.widget-view+json": {
<<<<<<< HEAD
       "model_id": "e52438cca60349b99009a9c8fe30adb5",
=======
       "model_id": "fdf5891c726443c29ddcd840ed99b94a",
>>>>>>> main
       "version_major": 2,
       "version_minor": 0
      },
      "text/plain": [
       "HBox(children=(HBox(children=(Label(value='Inventory:'), Button(description='alcohol', layout=Layout(width='fi…"
      ]
     },
     "metadata": {},
     "output_type": "display_data"
    },
    {
     "name": "stdout",
     "output_type": "stream",
     "text": [
<<<<<<< HEAD
      "I select '3'.\n",
      "background: neighbourhood\n",
      "narration: \n",
      "You arrive in the neighborhood close to the haunted house. The streets are quiet, almost eerily so, with only the occasional passerby hurrying along. You decide to talk to Mr. Dooley, a vendor of cigars and newspapers who has been working in this area for years.\n",
      "\n",
      "skill_check: spot_hidden\n",
      "difficulty: hard"
=======
      "Continue...\n",
      "narration: The house stands decrepit, its windows like hollow eyes watching through the twilight. The air smells of mildew and secrets. Cautiously, you step onto the creaking porch and reach for the doorknob, feeling the chill of the metal through your gloves. It turns with a reluctant groan, and you step inside.\n",
      "\n",
      "The door closes behind you with a definitive thud, echoing through the silent ground floor. You find yourself in a dimly lit hallway that branches off to a dining room, a meeting room, and a kitchen. A staircase looms at the end, leading to the first floor.\n",
      "\n",
      "As you stand there, you hear a faint noise—a creaking floorboard perhaps—from the first floor. The sound is barely audible, but in the oppressive silence of the house, it's as clear as a bell.\n",
      "choices:\n",
      "1. Investigate the dining room.\n",
      "2. Head towards the meeting room.\n",
      "3. Explore the kitchen.\n",
      "4. Ascend the staircase to the first floor."
>>>>>>> main
     ]
    },
    {
     "data": {
      "application/vnd.jupyter.widget-view+json": {
<<<<<<< HEAD
       "model_id": "6d9b848dcc6f4e18a0e09d8816cf744a",
=======
       "model_id": "0b9f15ad39ad4ce58ee58d856e4ce2e6",
>>>>>>> main
       "version_major": 2,
       "version_minor": 0
      },
      "text/plain": [
<<<<<<< HEAD
       "VBox(children=(Button(description='spot_hidden - hard', layout=Layout(width='fit-content'), style=ButtonStyle(…"
=======
       "VBox(children=(Button(description='1. Investigate the dining room.', layout=Layout(width='fit-content'), style…"
>>>>>>> main
      ]
     },
     "metadata": {},
     "output_type": "display_data"
    },
    {
     "data": {
      "application/vnd.jupyter.widget-view+json": {
<<<<<<< HEAD
       "model_id": "1f188f32d885437e85eb6c24ced6b774",
=======
       "model_id": "1263e6a9e0754a2bba2664b78028ced3",
>>>>>>> main
       "version_major": 2,
       "version_minor": 0
      },
      "text/plain": [
       "HBox(children=(Button(description='Retry', layout=Layout(width='fit-content'), style=ButtonStyle()), HBox(chil…"
      ]
     },
     "metadata": {},
     "output_type": "display_data"
    },
    {
     "name": "stdout",
     "output_type": "stream",
     "text": [
<<<<<<< HEAD
      "rolled 81 against 35 on skill 'spot_hidden'...\n",
      "i roll the dice for 'SPOT_HIDDEN' and get a failure.\n",
      "narration: \n",
      "You try to focus and spot any subtle clues or behaviors from Mr. Dooley that might hint at deeper knowledge, but the bustling environment and your own distractions cloud your observation. Mr. Dooley, noticing your glances, just chuckles and shakes his head.\n",
      "\n",
      "\"Looking for ghost stories, detective? All I can tell you is that this neighborhood hasn't been the same since the Macarios and Porters left. Strange, sad cases, both of them.\"\n",
      "\n",
      "choices:\n",
      "1. Go to the library, find historical reports.\n",
      "2. Go to the police station, look into those cases.\n",
      "3. Ask Mr. Knott for more information."
=======
      "I select '4'.\n",
      "narration: You ascend the creaking staircase, each step groaning under your weight as if protesting your invasion. The air grows colder as you reach the first floor. The corridor is shrouded in shadows, but you can discern three doors: one leads to the main bedroom, another to a child’s bedroom, and the last one to a study room.\n",
      "\n",
      "As you contemplate your next move, a sudden growl breaks the silence. Your heart skips a beat as you see a large black dog charging towards you from the end of the hallway.\n",
      "\n",
      "skill_check: dodge\n",
      "difficulty: normal\n",
      "add_tag: dog_met"
>>>>>>> main
     ]
    },
    {
     "data": {
      "application/vnd.jupyter.widget-view+json": {
<<<<<<< HEAD
       "model_id": "bb3493ee12df4e35a725e8303ebc4007",
=======
       "model_id": "201fa8078ac34710ad0c241b84d74d01",
>>>>>>> main
       "version_major": 2,
       "version_minor": 0
      },
      "text/plain": [
<<<<<<< HEAD
       "VBox(children=(Button(description='1. Go to the library, find historical reports.', layout=Layout(width='fit-c…"
=======
       "VBox(children=(Button(description='dodge - normal', layout=Layout(width='fit-content'), style=ButtonStyle()),)…"
>>>>>>> main
      ]
     },
     "metadata": {},
     "output_type": "display_data"
    },
    {
     "data": {
      "application/vnd.jupyter.widget-view+json": {
<<<<<<< HEAD
       "model_id": "49f8d0dbb72c43fd82ccfcac98142b2a",
       "version_major": 2,
       "version_minor": 0
      },
      "text/plain": [
       "HBox(children=(Button(description='Retry', layout=Layout(width='fit-content'), style=ButtonStyle()), HBox(chil…"
      ]
     },
     "metadata": {},
     "output_type": "display_data"
    },
    {
     "name": "stdout",
     "output_type": "stream",
     "text": [
      "I use 'alcohol' - A bottle of alcohol.\n",
      "narration: \n",
      "You pull out the bottle of alcohol and offer it to Mr. Dooley as a friendly gesture. His eyes light up, and after taking a generous swig, he becomes more talkative.\n",
      "\n",
      "\"Ah, that's the good stuff! Well, since you're being generous, let me tell you something. The Macarios and Porters both talked about strange noises and eerie feelings in that house. They even mentioned seeing shadows moving on their own. I'd be careful if I were you. And if you're thinking about sneaking around, the back door might be a safer bet.\"\n",
      "\n",
      "add_tag: enter_back_door\n",
      "\n",
      "choices:\n",
      "1. Go to the library, find historical reports.\n",
      "2. Go to the police station, look into those cases.\n",
      "3. Ask Mr. Knott for more information."
     ]
    },
    {
     "data": {
      "application/vnd.jupyter.widget-view+json": {
       "model_id": "65ccc372ab3445c8b6c08d96dc177303",
       "version_major": 2,
       "version_minor": 0
      },
      "text/plain": [
       "VBox(children=(Button(description='1. Go to the library, find historical reports.', layout=Layout(width='fit-c…"
      ]
     },
     "metadata": {},
     "output_type": "display_data"
    },
    {
     "data": {
      "application/vnd.jupyter.widget-view+json": {
       "model_id": "51f0b84c059748bea23325405350a340",
=======
       "model_id": "013065f84a78416a8426105f5b5b1380",
>>>>>>> main
       "version_major": 2,
       "version_minor": 0
      },
      "text/plain": [
       "HBox(children=(Button(description='Retry', layout=Layout(width='fit-content'), style=ButtonStyle()), Label(val…"
      ]
     },
     "metadata": {},
     "output_type": "display_data"
    },
    {
     "name": "stdout",
     "output_type": "stream",
     "text": [
<<<<<<< HEAD
      "I select '3'.\n",
      "narration: \n",
      "You decide to call Mr. Knott for more information. After a few rings, he picks up, his voice laced with concern.\n",
      "\n",
      "\"Detective Harveys, I hope the investigation is going well. Is there anything specific you need to know?\"\n",
      "\n",
      "choices:\n",
      "1. Ask about the history of the house.\n",
      "2. Inquire about the Macario and Porter families.\n",
      "3. Ask if there have been any strange occurrences since they left.\n",
      "4. End the call and proceed to the library."
=======
      "rolled 57 against 45 on skill 'dodge'...\n",
      "i roll the dice for 'DODGE' and get a failure.\n",
      "narration: You attempt to dodge the oncoming black dog, but your reaction is a split second too slow. The dog barrels past you, its fur brushing against your leg as it disappears into the direction of the main bedroom. You're left slightly disoriented but unharmed, standing in the hallway, catching your breath.\n",
      "\n",
      "The corridor is now quiet again. The study room door stands slightly ajar, invitingly or ominously, you can't quite tell.\n",
      "\n",
      "choices:\n",
      "1. Follow the dog into the main bedroom.\n",
      "2. Enter the child's bedroom.\n",
      "3. Step into the study room.\n",
      "4. Head back downstairs to explore the ground floor."
>>>>>>> main
     ]
    },
    {
     "data": {
      "application/vnd.jupyter.widget-view+json": {
<<<<<<< HEAD
       "model_id": "5fc5a06f09174d8285b26e5fb6361433",
=======
       "model_id": "e6edb3b9f5974249acb501824be73ce9",
>>>>>>> main
       "version_major": 2,
       "version_minor": 0
      },
      "text/plain": [
<<<<<<< HEAD
       "VBox(children=(Button(description='1. Ask about the history of the house.', layout=Layout(width='fit-content')…"
=======
       "VBox(children=(Button(description='1. Follow the dog into the main bedroom.', layout=Layout(width='fit-content…"
>>>>>>> main
      ]
     },
     "metadata": {},
     "output_type": "display_data"
    },
    {
     "data": {
      "application/vnd.jupyter.widget-view+json": {
<<<<<<< HEAD
       "model_id": "f71014a5842742b49c4cfbe48eff11d1",
=======
       "model_id": "dfb22cdd3e394fb6b40df3671e248d2e",
>>>>>>> main
       "version_major": 2,
       "version_minor": 0
      },
      "text/plain": [
       "HBox(children=(Button(description='Retry', layout=Layout(width='fit-content'), style=ButtonStyle()), Label(val…"
      ]
     },
     "metadata": {},
     "output_type": "display_data"
    },
    {
     "name": "stdout",
     "output_type": "stream",
     "text": [
      "I select '1'.\n",
<<<<<<< HEAD
      "whisper: MAX_TURNS is reached.\n",
      "narration: \n",
      "Mr. Knott clears his throat, \"The house has been in my family for generations, but it was only after these recent events that I learned about its... darker past. It was originally built in the late 1700s, and I heard rumors that it was used for some... unsavory purposes. But, nothing concrete. Why do you ask?\"\n",
      "\n",
      "ending: \n",
      "You thank Mr. Knott for the information, and with a deeper understanding of the history, you feel better prepared to face whatever lies in the haunted house. You gather your notes and equipment, ready to confront the mysteries of the Knott House in the next chapter."
=======
      "narration: You cautiously approach the main bedroom, the door slightly ajar as if left in haste. Pushing it open, the room reveals itself in the dim light filtering through the dusty curtains. The room is in disarray, with furniture overturned and personal belongings scattered.\n",
      "\n",
      "As you step inside, the black dog is nowhere to be seen. It’s as if the creature has vanished into thin air. You scan the room for any sign of the dog or clues related to the basement key.\n",
      "\n",
      "skill_check: spot_hidden\n",
      "difficulty: normal"
>>>>>>> main
     ]
    },
    {
     "data": {
      "application/vnd.jupyter.widget-view+json": {
<<<<<<< HEAD
       "model_id": "3f16ec5388b843fcbd0ed52ea65ed28d",
=======
       "model_id": "9d1a8a08ef334b4d8316f649d309eac1",
>>>>>>> main
       "version_major": 2,
       "version_minor": 0
      },
      "text/plain": [
<<<<<<< HEAD
       "VBox(children=(Button(description='NEXT', layout=Layout(width='fit-content'), style=ButtonStyle()),))"
=======
       "VBox(children=(Button(description='spot_hidden - normal', layout=Layout(width='fit-content'), style=ButtonStyl…"
>>>>>>> main
      ]
     },
     "metadata": {},
     "output_type": "display_data"
    },
    {
     "data": {
      "application/vnd.jupyter.widget-view+json": {
<<<<<<< HEAD
       "model_id": "adb02f3e22f642b3b275964a5a22325e",
=======
       "model_id": "adc2e3985e4d45b281b099bf95cc5e3b",
>>>>>>> main
       "version_major": 2,
       "version_minor": 0
      },
      "text/plain": [
       "HBox(children=(Button(description='Retry', layout=Layout(width='fit-content'), style=ButtonStyle()), Label(val…"
      ]
     },
     "metadata": {},
     "output_type": "display_data"
    },
    {
     "name": "stdout",
     "output_type": "stream",
     "text": [
<<<<<<< HEAD
      "Next round:  r2-0\n",
      "background: front_door\n",
      "narration: \n",
      "You're standing in front of the house. In spite of your experience, you still got shivered by what you have learnt about.\n",
      "\n",
      "choices:\n",
      "1. Go inside.\n",
      "2. Find some tool nearby as your weapon, just in case.\n"
=======
      "rolled 59 against 70 on skill 'spot_hidden'...\n",
      "i roll the dice for 'SPOT_HIDDEN' and get a success!\n",
      "narration: Your eyes, trained through years of detective work, catch a glint under the bed. You kneel down and reach beneath, pulling out a small, dusty"
>>>>>>> main
     ]
    },
    {
     "data": {
      "application/vnd.jupyter.widget-view+json": {
<<<<<<< HEAD
       "model_id": "0860f8b01ef04919bb8bdbe2de1e3933",
=======
       "model_id": "8a8eb99659b54f46b910e57e482568a1",
>>>>>>> main
       "version_major": 2,
       "version_minor": 0
      },
      "text/plain": [
<<<<<<< HEAD
       "VBox(children=(Button(description='1. Go inside.', layout=Layout(width='fit-content'), style=ButtonStyle()), B…"
=======
       "VBox(children=(Button(description='Continue', layout=Layout(width='fit-content'), style=ButtonStyle()),))"
>>>>>>> main
      ]
     },
     "metadata": {},
     "output_type": "display_data"
    },
    {
     "data": {
      "application/vnd.jupyter.widget-view+json": {
<<<<<<< HEAD
       "model_id": "aa1b3ba24a024348ac5d3b1e9cd01112",
=======
       "model_id": "d7afe99fbaf9412382783a7e1b20c0fc",
>>>>>>> main
       "version_major": 2,
       "version_minor": 0
      },
      "text/plain": [
       "HBox(children=(Button(description='Retry', layout=Layout(width='fit-content'), style=ButtonStyle()), Label(val…"
      ]
     },
     "metadata": {},
     "output_type": "display_data"
<<<<<<< HEAD
=======
    },
    {
     "name": "stdout",
     "output_type": "stream",
     "text": [
      "Continue...\n",
      "narration: You examine the collar closely: it’s old, leather-worn, with a small metal tag attached. Engraved on the tag is the name \"Shadow.\" Attached to the collar is a small, rusty key – the basement key.\n",
      "\n",
      "With the key now in your possession, you stand up, brushing off the dust from your hands. The mystery of the disappearing dog still puzzles you, but at least you now have a way to access the basement.\n",
      "\n",
      "add_item: basement_key\n",
      "\n",
      "choices:\n",
      "1. Head directly to the basement.\n",
      "2. Explore the child's bedroom.\n",
      "3. Revisit the study room.\n",
      "4. Go back to the ground floor."
     ]
    },
    {
     "data": {
      "application/vnd.jupyter.widget-view+json": {
       "model_id": "3f9f5428592d4f1fa32b84eeb3085407",
       "version_major": 2,
       "version_minor": 0
      },
      "text/plain": [
       "VBox(children=(Button(description='1. Head directly to the basement.', layout=Layout(width='fit-content'), sty…"
      ]
     },
     "metadata": {},
     "output_type": "display_data"
    },
    {
     "data": {
      "application/vnd.jupyter.widget-view+json": {
       "model_id": "2a72822385f24199bcaf945136d202d6",
       "version_major": 2,
       "version_minor": 0
      },
      "text/plain": [
       "HBox(children=(Button(description='Retry', layout=Layout(width='fit-content'), style=ButtonStyle()), Label(val…"
      ]
     },
     "metadata": {},
     "output_type": "display_data"
    },
    {
     "name": "stdout",
     "output_type": "stream",
     "text": [
      "I select '1'.\n",
      "background: house_basement\n",
      "narration: Clutching the basement key tightly, you navigate back to the ground floor and toward the meeting room where you had discovered the locked basement door. With a deep breath, you insert the key into the lock, hearing the satisfying click as the mechanism gives way.\n",
      "\n",
      "You push the door open slowly, revealing a staircase that descends into darkness. You can feel a cold draft emanating from below, carrying a musty smell that blends with the scent of old wood. With only the dim light from your flashlight to guide you, you start your descent into the basement, each step echoing ominously around you.\n",
      "\n",
      "ending: You have entered the basement, uncovering what lies beneath the old house awaits you in the next chapter."
     ]
    },
    {
     "data": {
      "application/vnd.jupyter.widget-view+json": {
       "model_id": "8e734cadf3724305a015ab3c5db3b0c2",
       "version_major": 2,
       "version_minor": 0
      },
      "text/plain": [
       "VBox(children=(Button(description='NEXT', layout=Layout(width='fit-content'), style=ButtonStyle()),))"
      ]
     },
     "metadata": {},
     "output_type": "display_data"
    },
    {
     "data": {
      "application/vnd.jupyter.widget-view+json": {
       "model_id": "3ed7165f81db4235bae8352998d43884",
       "version_major": 2,
       "version_minor": 0
      },
      "text/plain": [
       "HBox(children=(Button(description='Retry', layout=Layout(width='fit-content'), style=ButtonStyle()), Label(val…"
      ]
     },
     "metadata": {},
     "output_type": "display_data"
    },
    {
     "name": "stdout",
     "output_type": "stream",
     "text": [
      "Next round:  r2-1\n",
      "Chapter 'r2-1' not found.\n"
     ]
>>>>>>> main
    }
   ],
   "source": [
    "initials = current_chapter.get_messages()\n",
    "print(initials[1].content)\n",
    "show_controls(initials[1])"
   ]
  },
  {
   "cell_type": "code",
   "execution_count": 9,
   "metadata": {},
   "outputs": [
    {
     "name": "stdout",
     "output_type": "stream",
     "text": [
      "['enter_back_door\\n']\n",
      "enter_back_door\n",
      "enter_back_door\n",
      "\n"
     ]
    }
   ],
   "source": [
    "print(tags)\n",
    "for tag in tags:\n",
    "    print(tag.strip())\n",
    "    print(tag) "
   ]
  }
 ],
 "metadata": {
  "kernelspec": {
   "display_name": ".venv",
   "language": "python",
   "name": "python3"
  },
  "language_info": {
   "codemirror_mode": {
    "name": "ipython",
    "version": 3
   },
   "file_extension": ".py",
   "mimetype": "text/x-python",
   "name": "python",
   "nbconvert_exporter": "python",
   "pygments_lexer": "ipython3",
   "version": "3.12.3"
  }
 },
 "nbformat": 4,
 "nbformat_minor": 2
}
