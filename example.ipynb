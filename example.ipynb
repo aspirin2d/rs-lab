{
 "cells": [
  {
   "cell_type": "code",
   "execution_count": 1,
   "metadata": {},
   "outputs": [
    {
     "name": "stdout",
     "output_type": "stream",
     "text": [
      "Requirement already satisfied: openai in c:\\users\\administrator\\appdata\\local\\programs\\python\\python312\\lib\\site-packages (1.20.0)Note: you may need to restart the kernel to use updated packages.\n",
      "\n",
      "Requirement already satisfied: pydantic in c:\\users\\administrator\\appdata\\local\\programs\\python\\python312\\lib\\site-packages (2.7.0)\n",
      "Requirement already satisfied: jinja2 in c:\\users\\administrator\\appdata\\local\\programs\\python\\python312\\lib\\site-packages (3.1.3)\n",
      "Requirement already satisfied: python_dotenv in c:\\users\\administrator\\appdata\\local\\programs\\python\\python312\\lib\\site-packages (1.0.1)\n",
      "Requirement already satisfied: ipywidgets in c:\\users\\administrator\\appdata\\local\\programs\\python\\python312\\lib\\site-packages (8.1.2)\n",
      "Requirement already satisfied: d20 in c:\\users\\administrator\\appdata\\local\\programs\\python\\python312\\lib\\site-packages (1.1.2)\n",
      "Requirement already satisfied: anyio<5,>=3.5.0 in c:\\users\\administrator\\appdata\\local\\programs\\python\\python312\\lib\\site-packages (from openai) (4.3.0)\n",
      "Requirement already satisfied: distro<2,>=1.7.0 in c:\\users\\administrator\\appdata\\local\\programs\\python\\python312\\lib\\site-packages (from openai) (1.9.0)\n",
      "Requirement already satisfied: httpx<1,>=0.23.0 in c:\\users\\administrator\\appdata\\local\\programs\\python\\python312\\lib\\site-packages (from openai) (0.27.0)\n",
      "Requirement already satisfied: sniffio in c:\\users\\administrator\\appdata\\local\\programs\\python\\python312\\lib\\site-packages (from openai) (1.3.1)\n",
      "Requirement already satisfied: tqdm>4 in c:\\users\\administrator\\appdata\\local\\programs\\python\\python312\\lib\\site-packages (from openai) (4.66.2)\n",
      "Requirement already satisfied: typing-extensions<5,>=4.7 in c:\\users\\administrator\\appdata\\local\\programs\\python\\python312\\lib\\site-packages (from openai) (4.11.0)\n",
      "Requirement already satisfied: annotated-types>=0.4.0 in c:\\users\\administrator\\appdata\\local\\programs\\python\\python312\\lib\\site-packages (from pydantic) (0.6.0)\n",
      "Requirement already satisfied: pydantic-core==2.18.1 in c:\\users\\administrator\\appdata\\local\\programs\\python\\python312\\lib\\site-packages (from pydantic) (2.18.1)\n",
      "Requirement already satisfied: MarkupSafe>=2.0 in c:\\users\\administrator\\appdata\\local\\programs\\python\\python312\\lib\\site-packages (from jinja2) (2.1.5)\n",
      "Requirement already satisfied: comm>=0.1.3 in c:\\users\\administrator\\appdata\\roaming\\python\\python312\\site-packages (from ipywidgets) (0.2.2)\n",
      "Requirement already satisfied: ipython>=6.1.0 in c:\\users\\administrator\\appdata\\roaming\\python\\python312\\site-packages (from ipywidgets) (8.23.0)\n",
      "Requirement already satisfied: traitlets>=4.3.1 in c:\\users\\administrator\\appdata\\roaming\\python\\python312\\site-packages (from ipywidgets) (5.14.2)\n",
      "Requirement already satisfied: widgetsnbextension~=4.0.10 in c:\\users\\administrator\\appdata\\local\\programs\\python\\python312\\lib\\site-packages (from ipywidgets) (4.0.10)\n",
      "Requirement already satisfied: jupyterlab-widgets~=3.0.10 in c:\\users\\administrator\\appdata\\local\\programs\\python\\python312\\lib\\site-packages (from ipywidgets) (3.0.10)\n",
      "Requirement already satisfied: cachetools>=3.1.0 in c:\\users\\administrator\\appdata\\local\\programs\\python\\python312\\lib\\site-packages (from d20) (5.3.3)\n",
      "Requirement already satisfied: lark-parser~=0.9.0 in c:\\users\\administrator\\appdata\\local\\programs\\python\\python312\\lib\\site-packages (from d20) (0.9.0)\n",
      "Requirement already satisfied: idna>=2.8 in c:\\users\\administrator\\appdata\\local\\programs\\python\\python312\\lib\\site-packages (from anyio<5,>=3.5.0->openai) (3.7)\n",
      "Requirement already satisfied: certifi in c:\\users\\administrator\\appdata\\local\\programs\\python\\python312\\lib\\site-packages (from httpx<1,>=0.23.0->openai) (2024.2.2)\n",
      "Requirement already satisfied: httpcore==1.* in c:\\users\\administrator\\appdata\\local\\programs\\python\\python312\\lib\\site-packages (from httpx<1,>=0.23.0->openai) (1.0.5)\n",
      "Requirement already satisfied: h11<0.15,>=0.13 in c:\\users\\administrator\\appdata\\local\\programs\\python\\python312\\lib\\site-packages (from httpcore==1.*->httpx<1,>=0.23.0->openai) (0.14.0)\n",
      "Requirement already satisfied: decorator in c:\\users\\administrator\\appdata\\roaming\\python\\python312\\site-packages (from ipython>=6.1.0->ipywidgets) (5.1.1)\n",
      "Requirement already satisfied: jedi>=0.16 in c:\\users\\administrator\\appdata\\roaming\\python\\python312\\site-packages (from ipython>=6.1.0->ipywidgets) (0.19.1)\n",
      "Requirement already satisfied: matplotlib-inline in c:\\users\\administrator\\appdata\\roaming\\python\\python312\\site-packages (from ipython>=6.1.0->ipywidgets) (0.1.7)\n",
      "Requirement already satisfied: prompt-toolkit<3.1.0,>=3.0.41 in c:\\users\\administrator\\appdata\\roaming\\python\\python312\\site-packages (from ipython>=6.1.0->ipywidgets) (3.0.43)\n",
      "Requirement already satisfied: pygments>=2.4.0 in c:\\users\\administrator\\appdata\\roaming\\python\\python312\\site-packages (from ipython>=6.1.0->ipywidgets) (2.17.2)\n",
      "Requirement already satisfied: stack-data in c:\\users\\administrator\\appdata\\roaming\\python\\python312\\site-packages (from ipython>=6.1.0->ipywidgets) (0.6.3)\n",
      "Requirement already satisfied: colorama in c:\\users\\administrator\\appdata\\roaming\\python\\python312\\site-packages (from ipython>=6.1.0->ipywidgets) (0.4.6)\n",
      "Requirement already satisfied: parso<0.9.0,>=0.8.3 in c:\\users\\administrator\\appdata\\roaming\\python\\python312\\site-packages (from jedi>=0.16->ipython>=6.1.0->ipywidgets) (0.8.4)\n",
      "Requirement already satisfied: wcwidth in c:\\users\\administrator\\appdata\\roaming\\python\\python312\\site-packages (from prompt-toolkit<3.1.0,>=3.0.41->ipython>=6.1.0->ipywidgets) (0.2.13)\n",
      "Requirement already satisfied: executing>=1.2.0 in c:\\users\\administrator\\appdata\\roaming\\python\\python312\\site-packages (from stack-data->ipython>=6.1.0->ipywidgets) (2.0.1)\n",
      "Requirement already satisfied: asttokens>=2.1.0 in c:\\users\\administrator\\appdata\\roaming\\python\\python312\\site-packages (from stack-data->ipython>=6.1.0->ipywidgets) (2.4.1)\n",
      "Requirement already satisfied: pure-eval in c:\\users\\administrator\\appdata\\roaming\\python\\python312\\site-packages (from stack-data->ipython>=6.1.0->ipywidgets) (0.2.2)\n",
      "Requirement already satisfied: six>=1.12.0 in c:\\users\\administrator\\appdata\\roaming\\python\\python312\\site-packages (from asttokens>=2.1.0->stack-data->ipython>=6.1.0->ipywidgets) (1.16.0)\n"
     ]
    }
   ],
   "source": [
    "%pip install openai pydantic jinja2 python_dotenv ipywidgets d20"
   ]
  },
  {
   "cell_type": "code",
   "execution_count": 2,
   "metadata": {},
   "outputs": [
    {
     "name": "stdout",
     "output_type": "stream",
     "text": [
      "Version: 0.0.3, Chapters: 4\n"
     ]
    }
   ],
   "source": [
    "import dis\n",
    "import os\n",
    "import re\n",
    "import tomllib\n",
    "import functools\n",
    "\n",
    "from jinja2 import Template\n",
    "from numpy import diff\n",
    "from pydantic import BaseModel\n",
    "from openai import OpenAI, AzureOpenAI\n",
    "from dotenv import load_dotenv\n",
    "from d20 import roll\n",
    "\n",
    "import ipywidgets as widgets\n",
    "from IPython.display import display, clear_output\n",
    "\n",
    "from typing import Literal, Union\n",
    "\n",
    "from sympy import fu\n",
    "\n",
    "load_dotenv()\n",
    "\n",
    "with open(\"data/example_haunted_house.toml\", \"rb\") as f:\n",
    "    config = tomllib.load(f)\n",
    "\n",
    "message_pattern = re.compile(r\"^([\\w_ *]+)\\:[ \\s]*(.+)*$\")\n",
    "class Message(BaseModel):\n",
    "    # Message from chatbot\n",
    "    role: Literal[\"system\", \"assistant\", \"user\"]\n",
    "    content: str   \n",
    "\n",
    "    # parse the content into dictionary\n",
    "    def dict(self) -> dict:\n",
    "        current_key = None\n",
    "        parsed = {}\n",
    "        lines = self.content.splitlines()\n",
    "        # parse the content line by line\n",
    "        for line in lines:\n",
    "            res = message_pattern.search(line)\n",
    "            if res is not None:\n",
    "                current_key = res.group(1)\n",
    "                if res.group(2) is not None:\n",
    "                    parsed[current_key] = res.group(2)\n",
    "                else:\n",
    "                    parsed[current_key] = \"\"\n",
    "            elif current_key is not None:\n",
    "                parsed[current_key] += \"\\n\" + line\n",
    "        return parsed\n",
    "\n",
    "class Chapter(BaseModel):\n",
    "    id: str\n",
    "    next: str|None = None\n",
    "    max_turns: int\n",
    "    backgrounds: list[str]\n",
    "    rules: list[str]\n",
    "    initial: str\n",
    "    \n",
    "    def __init__(self, **kargs):\n",
    "        super().__init__(**kargs)\n",
    "    \n",
    "    def get_messages(self) -> list[Message]:\n",
    "        rendered_rules = render_rules(self.rules)\n",
    "        system_content = Template(system).render({\"rules\": rendered_rules, \"backgrounds\":self.backgrounds, \"character\": character})\n",
    "        initial_content = Template(self.initial).render({\"rules\": self.rules, \"character\": character})\n",
    "        return [\n",
    "            Message(role=\"system\", content=system_content),\n",
    "            Message(role=\"assistant\", content=initial_content)\n",
    "        ]\n",
    "\n",
    "version = config[\"version\"] # version of the config\n",
    "system = config[\"system\"] # system prompt template message\n",
    "character = config[\"character\"] # character information\n",
    "chapters = config[\"chapters\"] # chapters list\n",
    "item_list = config[\"list\"][\"items\"] # items list\n",
    "\n",
    "messages:list[Message] =[] # chat messages\n",
    "\n",
    "tags = [] # tags list\n",
    "items = character[\"items\"] # items list\n",
    "\n",
    "print(f\"Version: {version}, Chapters: {len(chapters)}\")\n",
    "\n",
    "# find the chapter by id\n",
    "def getChapterById(id:str) -> Chapter:\n",
    "    for r in chapters:\n",
    "        if r[\"id\"] == id:\n",
    "            return Chapter(**r) \n",
    "    return None\n",
    "\n",
    "# next chapter find and initialize\n",
    "def choose_next_chapter():\n",
    "    global current_chapter\n",
    "    if current_chapter.next is not None:\n",
    "        next = Template(current_chapter.next).render({\"items\": items, \"tags\": tags})\n",
    "        print(\"Next round: \", next)\n",
    "        next_chapter = getChapterById(next)\n",
    "        if next_chapter is not None:\n",
    "            current_chapter = next_chapter\n",
    "            initials = current_chapter.get_messages()\n",
    "            print(initials[1].content)\n",
    "            show_controls(initials[1])\n",
    "        else:\n",
    "            print(f\"Chapter '{next}' not found.\")\n",
    "    else:\n",
    "        print(\"No next chapter found.\")\n",
    "\n",
    "\n",
    "# cout the messages by role, used for chapter's max_turns check\n",
    "def count_messages(messages:list[Message], role:str) -> int:\n",
    "    return len([msg for msg in messages if msg.role == role])\n",
    "\n",
    "# chat with Azure OpenAI\n",
    "def chat_with_azure(messages:list[Message], on_message: Union[callable, None] = None) -> Message:\n",
    "    client = AzureOpenAI(api_key=os.environ.get(\"AZURE_OPENAI_API_KEY\"), \n",
    "                         azure_endpoint=os.environ.get(\"AZURE_OPENAI_ENDPOINT\"),\n",
    "                         api_version=os.environ.get(\"AZURE_OPENAI_API_VERSION\")\n",
    "                         )\n",
    "    stream = client.chat.completions.create(\n",
    "        model=os.environ.get(\"AZURE_OPENAI_MODEL_NAME\"),\n",
    "        messages=messages,\n",
    "        stream=True,\n",
    "        max_tokens=4000,\n",
    "        temperature=float(os.environ.get(\"OPENAI_TEMPERATURE\"))\n",
    "    )\n",
    "\n",
    "    generated = \"\"\n",
    "    for chunk in stream:\n",
    "        if len(chunk.choices) > 0 and chunk.choices[0].delta.content is not None:\n",
    "            delta = chunk.choices[0].delta.content\n",
    "            if (on_message is not None):\n",
    "                on_message(chunk.choices[0].delta.content)\n",
    "            generated += delta\n",
    "    return Message(role=\"assistant\", content=generated)\n",
    "    \n",
    "# chat with OpenAI\n",
    "def chat(messages:list[Message], on_message: Union[callable, None] = None) -> Message:\n",
    "    client = OpenAI(api_key=os.environ.get(\"OPENAI_API_KEY\"))\n",
    "    stream = client.chat.completions.create(\n",
    "        model=os.environ.get(\"OPENAI_MODEL_NAME\"),\n",
    "        messages=messages,\n",
    "        stream=True,\n",
    "        max_tokens=4000,\n",
    "        temperature=float(os.environ.get(\"OPENAI_TEMPERATURE\"))\n",
    "    )\n",
    "\n",
    "    generated = \"\"\n",
    "    for chunk in stream:\n",
    "        if chunk.choices[0].delta.content is not None:\n",
    "            delta = chunk.choices[0].delta.content\n",
    "            if (on_message is not None):\n",
    "                on_message(chunk.choices[0].delta.content)\n",
    "            generated += delta\n",
    "    return Message(role=\"assistant\", content=generated)\n",
    "\n",
    "# render each rule from the chapter\n",
    "def render_rules(rules:list[str]) -> str:\n",
    "    lists = []\n",
    "    for rule in rules:\n",
    "        res = Template(rule).render({\"character\": character, \"tags\":tags, \"items\": items})\n",
    "        if res is not None and res != \"\":\n",
    "            lists.append(res)\n",
    "    return lists\n",
    "\n",
    "# do chat with the chatbot, and show the message with control buttons...\n",
    "def do_chat(content:str|None, on_message: Union[callable, None] = None):\n",
    "    if content is not None:\n",
    "        turn = count_messages(messages, 'user') + 1\n",
    "        if turn >= current_chapter.max_turns:\n",
    "            content += f\"\\nwhisper: MAX_TURNS is reached.\"\n",
    "        messages.append(Message(role=\"user\", content=content))\n",
    "        print(content)\n",
    "\n",
    "    # change it to chat_with_azure to use Azure OpenAI\n",
    "    concat = current_chapter.get_messages() + messages\n",
    "    # for msg in concat:\n",
    "    #     print(f\"{msg.role}: {msg.content}\")\n",
    "\n",
    "    msg = chat_with_azure(concat, on_message)\n",
    "\n",
    "    # print all the messages:\n",
    "    show_controls(msg)\n",
    "    messages.append(msg)\n",
    "        \n",
    "# handle player's action\n",
    "def on_action(b, index:int):\n",
    "    user_msg = f\"I select '{index}'.\"\n",
    "    do_chat(user_msg, lambda x: print(x, end=\"\"))\n",
    "\n",
    "# handle player's skill check\n",
    "def on_skill(b, skill:str, difficulty:str):\n",
    "    roll_num = roll(\"1d100\").total\n",
    "    if roll_num < 5:\n",
    "        user_msg = f\"i roll the dice for '{roll_num}' and get a CRITICAL SUCCESS!\"\n",
    "        do_chat(user_msg, lambda x: print(x, end=\"\"))\n",
    "        return\n",
    "    if roll_num >= 95:\n",
    "        user_msg = f\"i roll the dice for '{roll_num}' and get a CRITICAL FAILURE!\"\n",
    "        do_chat(user_msg, lambda x: print(x, end=\"\"))\n",
    "        return\n",
    "\n",
    "    difficulty_num = 15 if skill not in character[\"skills\"] else character[\"skills\"][skill]\n",
    "    if difficulty == \"hard\":\n",
    "        difficulty_num = int(difficulty_num * 0.5)\n",
    "    if difficulty == \"extreme\":\n",
    "        difficulty_num = int(difficulty_num * 0.2)\n",
    "    \n",
    "    print(f\"rolled {roll_num} against {difficulty_num} on skill '{skill}'...\")\n",
    "    \n",
    "    if roll_num <= difficulty_num:\n",
    "        user_msg = f\"i roll the dice for '{skill.upper()}' and get a success!\"\n",
    "    else:\n",
    "        user_msg = f\"i roll the dice for '{skill.upper()}' and get a failure.\"\n",
    "\n",
    "    do_chat(user_msg, lambda x: print(x, end=\"\"))\n",
    "\n",
    "# handle continue\n",
    "def on_continue(b):\n",
    "    user_msg = f\"Continue...\"\n",
    "    do_chat(user_msg, lambda x: print(x, end=\"\"))\n",
    "\n",
    "# handle chapter's ending, and show next chapter\n",
    "def on_next(b):\n",
    "    choose_next_chapter()\n",
    "        \n",
    "# handle player's retry, it will remove the last assistant message,\n",
    "# and re-ask the chatbot\n",
    "def on_retry(b):\n",
    "    # delete last assistant message\n",
    "    messages.pop()\n",
    "    do_chat(None, lambda x: print(x, end=\"\"))\n",
    "\n",
    "# handle player's item usage\n",
    "def on_item(b, item:dict):\n",
    "    user_msg = Template(item[\"description\"]).render({\"character\": character, \"tags\":tags, \"items\": items})\n",
    "    user_msg = f\"I use '{item['id']}' - {user_msg}\"\n",
    "    do_chat(user_msg, lambda x: print(x, end=\"\"))\n",
    "\n",
    "action_pattern = re.compile(r\"(\\d+). *(.+)\")\n",
    "# the main function to show the controls\n",
    "def show_controls(msg:Message):\n",
    "    dict = msg.dict()\n",
    "    buttons = []\n",
    "\n",
    "    if \"choices\" in dict.keys():\n",
    "        # handle player's choices\n",
    "        matches = action_pattern.finditer(dict[\"choices\"])\n",
    "        for match in matches:\n",
    "            btn = widgets.Button(description=match.group(0), layout=widgets.Layout(width=\"fit-content\"))\n",
    "            btn.on_click(functools.partial(on_action, index=int(match.group(1))))\n",
    "            buttons.append(btn)\n",
    "    elif \"skill\" in dict.keys() and \"difficulty\" in dict.keys():\n",
    "        # handle skill check\n",
    "        btn = widgets.Button(description=f\"{dict['skill']} - {dict['difficulty']}\", layout=widgets.Layout(width=\"fit-content\"))\n",
    "        btn.on_click(functools.partial(on_skill, skill=dict['skill'], difficulty=dict['difficulty']))\n",
    "        buttons.append(btn)\n",
    "    elif \"ending\" in dict.keys():\n",
    "        # handle chapter ending, show next chapter button\n",
    "        btn = widgets.Button(description=f\"NEXT\", layout=widgets.Layout(width=\"fit-content\"))\n",
    "        btn.on_click(on_next)\n",
    "        buttons.append(btn)\n",
    "    elif \"game_over\" in dict.keys():\n",
    "        # handle game over\n",
    "        print(\"\\nGame Over - Hit 'Run All' button to restart again.\")\n",
    "    else:\n",
    "        # If there is no choices or endings, show continue button\n",
    "        btn = widgets.Button(description=\"Continue\", layout=widgets.Layout(width=\"fit-content\"))\n",
    "        btn.on_click(on_continue)\n",
    "        buttons.append(btn)\n",
    "    \n",
    "    # add tag from generated message\n",
    "    if \"add_tag\" in dict.keys() and dict[\"add_tag\"] not in tags:\n",
    "        tags.append(dict[\"add_tag\"])\n",
    "\n",
    "    # remove tag from generated message\n",
    "    if \"remove_tag\" in dict.keys() and dict[\"remove_tag\"] in tags:\n",
    "        tags.remove(dict[\"remove_tag\"])\n",
    "    \n",
    "    # add item from generated message\n",
    "    if \"add_item\" in dict.keys() and dict[\"add_item\"] not in item_list:\n",
    "        item = dict[\"add_item\"].strip()\n",
    "        found = next((x for x in item_list if x['id'] == item), None)\n",
    "        if (found is None):\n",
    "            print(f\"\\nItem '{dict['add_item'].strip()}' not found.\")\n",
    "        else:\n",
    "            items.append(item)\n",
    "    \n",
    "    # remove item from generated message\n",
    "    if \"remove_item\" in dict.keys() and dict[\"remove_item\"] in items:\n",
    "        items.remove(dict[\"remove_item\"])\n",
    "    \n",
    "    controls = []\n",
    "\n",
    "    # retry buttons\n",
    "    if len(messages) > 0:\n",
    "        retry_btn = widgets.Button(description=\"Retry\", layout=widgets.Layout(width=\"fit-content\"))\n",
    "        retry_btn.on_click(on_retry)\n",
    "        controls.append(retry_btn)\n",
    "\n",
    "    # show tag list\n",
    "    if len(tags) > 0:\n",
    "        tags_lbl = widgets.Label(value=f\"Tags: {', '.join(tags)}\")\n",
    "        controls.append(tags_lbl)\n",
    "\n",
    "    # inventory buttons\n",
    "    inventory = [widgets.Label(value=\"Inventory:\")]\n",
    "    if len(items) > 0:\n",
    "        for item in items:\n",
    "            found = next((x for x in item_list if x['id'] == item), None)\n",
    "            if found:\n",
    "                item_btn = widgets.Button(description=found[\"id\"], layout=widgets.Layout(width=\"fit-content\"))\n",
    "                item_btn.on_click(functools.partial(on_item, item=found))\n",
    "                inventory.append(item_btn)\n",
    "            else:\n",
    "                print(f\"\\nItem '{item}' not found in the list.\")\n",
    "        controls.append(widgets.HBox(inventory))\n",
    "    \n",
    "    display(widgets.VBox(buttons))\n",
    "\n",
    "    if (len(controls) > 0):\n",
    "        display(widgets.HBox(controls))\n",
    "\n",
    "current_chapter = getChapterById(\"r1\")"
   ]
  },
  {
   "cell_type": "code",
   "execution_count": 3,
   "metadata": {},
   "outputs": [
    {
     "name": "stdout",
     "output_type": "stream",
     "text": [
      "background: your_office\n",
      "narration: \n",
      "You are a private detective. You used to be a police officer, but got fired because you found out a high-powered polician was the person behind a serial murder case.\n",
      "\n",
      "\n",
      "You are hired by Mr. Knott to investigate his old Boston house. Weird things keep happening to the former tenants. A Macario kid went crazy and killed his parents. The Porter family got a strange disease and were committed to an asylum.\n",
      "\n",
      "choices:\n",
      "1. Go to the library, find historical reports.\n",
      "2. Go to the police station, look into those cases.\n",
      "3. Check the neighbourhood.\n"
     ]
    },
    {
     "data": {
      "application/vnd.jupyter.widget-view+json": {
       "model_id": "e0c4e362493d4c90bf8a9256cbcd4158",
       "version_major": 2,
       "version_minor": 0
      },
      "text/plain": [
       "VBox(children=(Button(description='1. Go to the library, find historical reports.', layout=Layout(width='fit-c…"
      ]
     },
     "metadata": {},
     "output_type": "display_data"
    },
    {
     "data": {
      "application/vnd.jupyter.widget-view+json": {
       "model_id": "fb8cb28bc49e49069ae05217f9652761",
       "version_major": 2,
       "version_minor": 0
      },
      "text/plain": [
       "HBox(children=(HBox(children=(Label(value='Inventory:'), Button(description='alcohol', layout=Layout(width='fi…"
      ]
     },
     "metadata": {},
     "output_type": "display_data"
    },
    {
     "name": "stdout",
     "output_type": "stream",
     "text": [
      "I select '3'.\n",
      "background: neighbourhood\n",
      "narration: \n",
      "You arrive in the neighborhood around the old Boston house. The streets are quiet, with only a few people milling about. You spot Mr. Dooley, the vendor of cigars and newspapers, whom you know might have some useful information.\n",
      "\n",
      "skill: spot_hidden\n",
      "difficulty: hard"
     ]
    },
    {
     "data": {
      "application/vnd.jupyter.widget-view+json": {
       "model_id": "bbc0e50539954be0804fb11c5043a841",
       "version_major": 2,
       "version_minor": 0
      },
      "text/plain": [
       "VBox(children=(Button(description='spot_hidden - hard', layout=Layout(width='fit-content'), style=ButtonStyle(…"
      ]
     },
     "metadata": {},
     "output_type": "display_data"
    },
    {
     "data": {
      "application/vnd.jupyter.widget-view+json": {
       "model_id": "be5f5da010fe44df8f83907f4175c9a2",
       "version_major": 2,
       "version_minor": 0
      },
      "text/plain": [
       "HBox(children=(Button(description='Retry', layout=Layout(width='fit-content'), style=ButtonStyle()), HBox(chil…"
      ]
     },
     "metadata": {},
     "output_type": "display_data"
    },
    {
     "name": "stdout",
     "output_type": "stream",
     "text": [
      "rolled 43 against 35 on skill 'spot_hidden'...\n",
      "i roll the dice for 'SPOT_HIDDEN' and get a failure.\n",
      "narration: \n",
      "You try to focus and gather as much information as possible, but you find yourself distracted by the eeriness of the quiet streets. Mr. Dooley notices your presence but doesn't reveal anything significant, only general chatter about how the neighborhood has changed over the years.\n",
      "\n",
      "choices:\n",
      "1. Try to talk to Mr. Dooley again.\n",
      "2. Head to the library to find historical reports.\n",
      "3. Go to the police station to look into the cases."
     ]
    },
    {
     "data": {
      "application/vnd.jupyter.widget-view+json": {
       "model_id": "4c209dae3cdb4e58b2315620a294ea98",
       "version_major": 2,
       "version_minor": 0
      },
      "text/plain": [
       "VBox(children=(Button(description='1. Try to talk to Mr. Dooley again.', layout=Layout(width='fit-content'), s…"
      ]
     },
     "metadata": {},
     "output_type": "display_data"
    },
    {
     "data": {
      "application/vnd.jupyter.widget-view+json": {
       "model_id": "1f3362db6ee647d6b2eed86baa6aebe3",
       "version_major": 2,
       "version_minor": 0
      },
      "text/plain": [
       "HBox(children=(Button(description='Retry', layout=Layout(width='fit-content'), style=ButtonStyle()), HBox(chil…"
      ]
     },
     "metadata": {},
     "output_type": "display_data"
    },
    {
     "name": "stdout",
     "output_type": "stream",
     "text": [
      "I use 'alcohol' - A bottle of alcohol.\n",
      "narration: \n",
      "You pull out a bottle of fine whiskey from your coat and offer it to Mr. Dooley. His eyes light up, and he gladly accepts, becoming more talkative. After a few shared swigs, he leans closer and begins to share some detailed information about the Macario and Porter families, confirming that entering through the back door of the house is safer.\n",
      "\n",
      "add_tag: enter_back_door\n",
      "\n",
      "choices:\n",
      "1. Head to the library to find historical reports.\n",
      "2. Go to the police station to look into the cases.\n",
      "3. Approach the haunted house directly."
     ]
    },
    {
     "data": {
      "application/vnd.jupyter.widget-view+json": {
       "model_id": "8884012b326948bab7d3a50a5b3996a5",
       "version_major": 2,
       "version_minor": 0
      },
      "text/plain": [
       "VBox(children=(Button(description='1. Head to the library to find historical reports.', layout=Layout(width='f…"
      ]
     },
     "metadata": {},
     "output_type": "display_data"
    },
    {
     "data": {
      "application/vnd.jupyter.widget-view+json": {
       "model_id": "4f9c2dea9ca14f59936cf30d10dc1f0b",
       "version_major": 2,
       "version_minor": 0
      },
      "text/plain": [
       "HBox(children=(Button(description='Retry', layout=Layout(width='fit-content'), style=ButtonStyle()), Label(val…"
      ]
     },
     "metadata": {},
     "output_type": "display_data"
    },
    {
     "name": "stdout",
     "output_type": "stream",
     "text": [
      "I select '3'.\n",
      "background: neighbourhood\n",
      "narration: \n",
      "You decide to head straight to the haunted house, emboldened by the information from Mr. Dooley about using the back door. The eerie silhouette of the house looms in the distance as you approach, shrouded in a foreboding mist.\n",
      "\n",
      "ending: \n",
      "You stand in front of the haunted house, its windows dark and unwelcoming, the air filled with an unsettling silence. Your heart pounds with a mix of dread and determination as you prepare to enter and uncover the secrets that lie within."
     ]
    },
    {
     "data": {
      "application/vnd.jupyter.widget-view+json": {
       "model_id": "dc60360e65174b5eacc7013d35d40482",
       "version_major": 2,
       "version_minor": 0
      },
      "text/plain": [
       "VBox(children=(Button(description='NEXT', layout=Layout(width='fit-content'), style=ButtonStyle()),))"
      ]
     },
     "metadata": {},
     "output_type": "display_data"
    },
    {
     "data": {
      "application/vnd.jupyter.widget-view+json": {
       "model_id": "3eb12e47fc734138a701ccd2fb79af72",
       "version_major": 2,
       "version_minor": 0
      },
      "text/plain": [
       "HBox(children=(Button(description='Retry', layout=Layout(width='fit-content'), style=ButtonStyle()), Label(val…"
      ]
     },
     "metadata": {},
     "output_type": "display_data"
    },
    {
     "name": "stdout",
     "output_type": "stream",
     "text": [
      "Next round:  r2-0\n",
      "background: front_door\n",
      "narration: \n",
      "You're standing in front of the house. In spite of your experience, you still got shivered by what you have learnt about.\n",
      "\n",
      "choices:\n",
      "1. Go inside.\n",
      "2. Find some tool nearby as your weapon, just in case.\n"
     ]
    },
    {
     "data": {
      "application/vnd.jupyter.widget-view+json": {
       "model_id": "3618d49d6c364a98bae32589589f9a1b",
       "version_major": 2,
       "version_minor": 0
      },
      "text/plain": [
       "VBox(children=(Button(description='1. Go inside.', layout=Layout(width='fit-content'), style=ButtonStyle()), B…"
      ]
     },
     "metadata": {},
     "output_type": "display_data"
    },
    {
     "data": {
      "application/vnd.jupyter.widget-view+json": {
       "model_id": "c5f12befd202486e8bec0d1ad070880f",
       "version_major": 2,
       "version_minor": 0
      },
      "text/plain": [
       "HBox(children=(Button(description='Retry', layout=Layout(width='fit-content'), style=ButtonStyle()), Label(val…"
      ]
     },
     "metadata": {},
     "output_type": "display_data"
    }
   ],
   "source": [
    "initials = current_chapter.get_messages()\n",
    "print(initials[1].content)\n",
    "show_controls(initials[1])"
   ]
  }
 ],
 "metadata": {
  "kernelspec": {
   "display_name": ".venv",
   "language": "python",
   "name": "python3"
  },
  "language_info": {
   "codemirror_mode": {
    "name": "ipython",
    "version": 3
   },
   "file_extension": ".py",
   "mimetype": "text/x-python",
   "name": "python",
   "nbconvert_exporter": "python",
   "pygments_lexer": "ipython3",
   "version": "3.12.3"
  }
 },
 "nbformat": 4,
 "nbformat_minor": 2
}
