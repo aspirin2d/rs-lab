{
 "cells": [
  {
   "cell_type": "code",
   "execution_count": 4,
   "metadata": {},
   "outputs": [
    {
     "name": "stdout",
     "output_type": "stream",
     "text": [
      "Looking in indexes: https://pypi.tuna.tsinghua.edu.cn/simple\n",
      "Requirement already satisfied: openai in ./.venv/lib/python3.12/site-packages (1.17.0)\n",
      "Requirement already satisfied: pydantic in ./.venv/lib/python3.12/site-packages (2.7.0)\n",
      "Requirement already satisfied: jinja2 in ./.venv/lib/python3.12/site-packages (3.1.3)\n",
      "Requirement already satisfied: python_dotenv in ./.venv/lib/python3.12/site-packages (1.0.1)\n",
      "Requirement already satisfied: ipywidgets in ./.venv/lib/python3.12/site-packages (8.1.2)\n",
      "Requirement already satisfied: d20 in ./.venv/lib/python3.12/site-packages (1.1.2)\n",
      "Requirement already satisfied: anyio<5,>=3.5.0 in ./.venv/lib/python3.12/site-packages (from openai) (4.3.0)\n",
      "Requirement already satisfied: distro<2,>=1.7.0 in ./.venv/lib/python3.12/site-packages (from openai) (1.9.0)\n",
      "Requirement already satisfied: httpx<1,>=0.23.0 in ./.venv/lib/python3.12/site-packages (from openai) (0.27.0)\n",
      "Requirement already satisfied: sniffio in ./.venv/lib/python3.12/site-packages (from openai) (1.3.1)\n",
      "Requirement already satisfied: tqdm>4 in ./.venv/lib/python3.12/site-packages (from openai) (4.66.2)\n",
      "Requirement already satisfied: typing-extensions<5,>=4.7 in ./.venv/lib/python3.12/site-packages (from openai) (4.11.0)\n",
      "Requirement already satisfied: annotated-types>=0.4.0 in ./.venv/lib/python3.12/site-packages (from pydantic) (0.6.0)\n",
      "Requirement already satisfied: pydantic-core==2.18.1 in ./.venv/lib/python3.12/site-packages (from pydantic) (2.18.1)\n",
      "Requirement already satisfied: MarkupSafe>=2.0 in ./.venv/lib/python3.12/site-packages (from jinja2) (2.1.5)\n",
      "Requirement already satisfied: comm>=0.1.3 in ./.venv/lib/python3.12/site-packages (from ipywidgets) (0.2.2)\n",
      "Requirement already satisfied: ipython>=6.1.0 in ./.venv/lib/python3.12/site-packages (from ipywidgets) (8.23.0)\n",
      "Requirement already satisfied: traitlets>=4.3.1 in ./.venv/lib/python3.12/site-packages (from ipywidgets) (5.14.2)\n",
      "Requirement already satisfied: widgetsnbextension~=4.0.10 in ./.venv/lib/python3.12/site-packages (from ipywidgets) (4.0.10)\n",
      "Requirement already satisfied: jupyterlab-widgets~=3.0.10 in ./.venv/lib/python3.12/site-packages (from ipywidgets) (3.0.10)\n",
      "Requirement already satisfied: cachetools>=3.1.0 in ./.venv/lib/python3.12/site-packages (from d20) (5.3.3)\n",
      "Requirement already satisfied: lark-parser~=0.9.0 in ./.venv/lib/python3.12/site-packages (from d20) (0.9.0)\n",
      "Requirement already satisfied: idna>=2.8 in ./.venv/lib/python3.12/site-packages (from anyio<5,>=3.5.0->openai) (3.7)\n",
      "Requirement already satisfied: certifi in ./.venv/lib/python3.12/site-packages (from httpx<1,>=0.23.0->openai) (2024.2.2)\n",
      "Requirement already satisfied: httpcore==1.* in ./.venv/lib/python3.12/site-packages (from httpx<1,>=0.23.0->openai) (1.0.5)\n",
      "Requirement already satisfied: h11<0.15,>=0.13 in ./.venv/lib/python3.12/site-packages (from httpcore==1.*->httpx<1,>=0.23.0->openai) (0.14.0)\n",
      "Requirement already satisfied: decorator in ./.venv/lib/python3.12/site-packages (from ipython>=6.1.0->ipywidgets) (5.1.1)\n",
      "Requirement already satisfied: jedi>=0.16 in ./.venv/lib/python3.12/site-packages (from ipython>=6.1.0->ipywidgets) (0.19.1)\n",
      "Requirement already satisfied: matplotlib-inline in ./.venv/lib/python3.12/site-packages (from ipython>=6.1.0->ipywidgets) (0.1.6)\n",
      "Requirement already satisfied: prompt-toolkit<3.1.0,>=3.0.41 in ./.venv/lib/python3.12/site-packages (from ipython>=6.1.0->ipywidgets) (3.0.43)\n",
      "Requirement already satisfied: pygments>=2.4.0 in ./.venv/lib/python3.12/site-packages (from ipython>=6.1.0->ipywidgets) (2.17.2)\n",
      "Requirement already satisfied: stack-data in ./.venv/lib/python3.12/site-packages (from ipython>=6.1.0->ipywidgets) (0.6.3)\n",
      "Requirement already satisfied: pexpect>4.3 in ./.venv/lib/python3.12/site-packages (from ipython>=6.1.0->ipywidgets) (4.9.0)\n",
      "Requirement already satisfied: parso<0.9.0,>=0.8.3 in ./.venv/lib/python3.12/site-packages (from jedi>=0.16->ipython>=6.1.0->ipywidgets) (0.8.4)\n",
      "Requirement already satisfied: ptyprocess>=0.5 in ./.venv/lib/python3.12/site-packages (from pexpect>4.3->ipython>=6.1.0->ipywidgets) (0.7.0)\n",
      "Requirement already satisfied: wcwidth in ./.venv/lib/python3.12/site-packages (from prompt-toolkit<3.1.0,>=3.0.41->ipython>=6.1.0->ipywidgets) (0.2.13)\n",
      "Requirement already satisfied: executing>=1.2.0 in ./.venv/lib/python3.12/site-packages (from stack-data->ipython>=6.1.0->ipywidgets) (2.0.1)\n",
      "Requirement already satisfied: asttokens>=2.1.0 in ./.venv/lib/python3.12/site-packages (from stack-data->ipython>=6.1.0->ipywidgets) (2.4.1)\n",
      "Requirement already satisfied: pure-eval in ./.venv/lib/python3.12/site-packages (from stack-data->ipython>=6.1.0->ipywidgets) (0.2.2)\n",
      "Requirement already satisfied: six>=1.12.0 in ./.venv/lib/python3.12/site-packages (from asttokens>=2.1.0->stack-data->ipython>=6.1.0->ipywidgets) (1.16.0)\n",
      "Note: you may need to restart the kernel to use updated packages.\n"
     ]
    }
   ],
   "source": [
    "%pip install openai pydantic jinja2 python_dotenv ipywidgets d20"
   ]
  },
  {
   "cell_type": "code",
   "execution_count": 5,
   "metadata": {},
   "outputs": [
    {
     "name": "stdout",
     "output_type": "stream",
     "text": [
      "Version: 0.0.3, Chapters: 1\n"
     ]
    }
   ],
   "source": [
    "import os\n",
    "import re\n",
    "import tomllib\n",
    "import functools\n",
    "\n",
    "from jinja2 import Template\n",
    "from pydantic import BaseModel\n",
    "from openai import OpenAI, AzureOpenAI\n",
    "from dotenv import load_dotenv\n",
    "from d20 import roll\n",
    "\n",
    "import ipywidgets as widgets\n",
    "from IPython.display import display, clear_output\n",
    "\n",
    "from typing import Literal, Union\n",
    "\n",
    "load_dotenv()\n",
    "\n",
    "with open(\"data/example.toml\", \"rb\") as f:\n",
    "    config = tomllib.load(f)\n",
    "\n",
    "message_pattern = re.compile(r\"^([\\w_ *]+)\\:[ \\s]*(.+)*$\")\n",
    "class Message(BaseModel):\n",
    "    # Message from chatbot\n",
    "    role: Literal[\"system\", \"assistant\", \"user\"]\n",
    "    content: str   \n",
    "\n",
    "    # parse the content into dictionary\n",
    "    def dict(self) -> dict:\n",
    "        current_key = None\n",
    "        parsed = {}\n",
    "        lines = self.content.splitlines()\n",
    "        # parse the content line by line\n",
    "        for line in lines:\n",
    "            res = message_pattern.search(line)\n",
    "            if res is not None:\n",
    "                current_key = res.group(1)\n",
    "                if res.group(2) is not None:\n",
    "                    parsed[current_key] = res.group(2).rstrip()\n",
    "                else:\n",
    "                    parsed[current_key] = \"\"\n",
    "            elif current_key is not None:\n",
    "                parsed[current_key] += \"\\n\" + line.rstrip()()\n",
    "        return parsed\n",
    "\n",
    "class Chapter(BaseModel):\n",
    "    id: str\n",
    "    next: str|None = None\n",
    "    max_turns: int\n",
    "    backgrounds: list[str]\n",
    "    rules: list[str]\n",
    "    initial: str\n",
    "    \n",
    "    def __init__(self, **kargs):\n",
    "        super().__init__(**kargs)\n",
    "    \n",
    "    def get_messages(self) -> list[Message]:\n",
    "        rendered_rules = render_rules(self.rules)\n",
    "        system_content = Template(system).render({\"rules\": rendered_rules, \"backgrounds\":self.backgrounds, \"character\": character})\n",
    "        initial_content = Template(self.initial).render({\"rules\": self.rules, \"character\": character})\n",
    "        return [\n",
    "            Message(role=\"system\", content=system_content),\n",
    "            Message(role=\"assistant\", content=initial_content)\n",
    "        ]\n",
    "\n",
    "version = config[\"version\"] # version of the config\n",
    "system = config[\"system\"] # system prompt template message\n",
    "character = config[\"character\"] # character information\n",
    "chapters = config[\"chapters\"] # chapters list\n",
    "item_list = config[\"list\"][\"items\"] # items list\n",
    "\n",
    "messages:list[Message] =[] # chat messages\n",
    "\n",
    "tags = [] # tags list\n",
    "items = character[\"items\"] # items list\n",
    "\n",
    "print(f\"Version: {version}, Chapters: {len(chapters)}\")\n",
    "\n",
    "# find the chapter by id\n",
    "def getChapterById(id:str) -> Chapter:\n",
    "    for r in chapters:\n",
    "        if r[\"id\"] == id:\n",
    "            return Chapter(**r) \n",
    "    return None\n",
    "\n",
    "# next chapter find and initialize\n",
    "def choose_next_chapter():\n",
    "    global current_chapter, messages\n",
    "    if current_chapter.next is not None:\n",
    "        next = Template(current_chapter.next).render({\"items\": items, \"tags\": tags})\n",
    "        print(\"Next round: \", next)\n",
    "        next_chapter = getChapterById(next)\n",
    "        if next_chapter is not None:\n",
    "            current_chapter = next_chapter\n",
    "            initials = current_chapter.get_messages()\n",
    "            print(initials[1].content)\n",
    "            show_controls(initials[1])\n",
    "            messages = []\n",
    "        else:\n",
    "            print(f\"Chapter '{next}' not found.\")\n",
    "    else:\n",
    "        print(\"No next chapter found.\")\n",
    "\n",
    "\n",
    "# cout the messages by role, used for chapter's max_turns check\n",
    "def count_messages(messages:list[Message], role:str) -> int:\n",
    "    return len([msg for msg in messages if msg.role == role])\n",
    "\n",
    "# chat with Azure OpenAI\n",
    "def chat_with_azure(messages:list[Message], on_message: Union[callable, None] = None) -> Message:\n",
    "    client = AzureOpenAI(api_key=os.environ.get(\"AZURE_OPENAI_API_KEY\"), \n",
    "                         azure_endpoint=os.environ.get(\"AZURE_OPENAI_ENDPOINT\"),\n",
    "                         api_version=os.environ.get(\"AZURE_OPENAI_API_VERSION\")\n",
    "                         )\n",
    "    stream = client.chat.completions.create(\n",
    "        model=os.environ.get(\"AZURE_OPENAI_MODEL_NAME\"),\n",
    "        messages=messages,\n",
    "        stream=True,\n",
    "        max_tokens=4000,\n",
    "        temperature=float(os.environ.get(\"OPENAI_TEMPERATURE\"))\n",
    "    )\n",
    "\n",
    "    generated = \"\"\n",
    "    for chunk in stream:\n",
    "        if len(chunk.choices) > 0 and chunk.choices[0].delta.content is not None:\n",
    "            delta = chunk.choices[0].delta.content\n",
    "            if (on_message is not None):\n",
    "                on_message(chunk.choices[0].delta.content)\n",
    "            generated += delta\n",
    "    return Message(role=\"assistant\", content=generated)\n",
    "    \n",
    "# chat with OpenAI\n",
    "def chat(messages:list[Message], on_message: Union[callable, None] = None) -> Message:\n",
    "    client = OpenAI(api_key=os.environ.get(\"OPENAI_API_KEY\"))\n",
    "    stream = client.chat.completions.create(\n",
    "        model=os.environ.get(\"OPENAI_MODEL_NAME\"),\n",
    "        messages=messages,\n",
    "        stream=True,\n",
    "        max_tokens=4000,\n",
    "        temperature=float(os.environ.get(\"OPENAI_TEMPERATURE\"))\n",
    "    )\n",
    "\n",
    "    generated = \"\"\n",
    "    for chunk in stream:\n",
    "        if chunk.choices[0].delta.content is not None:\n",
    "            delta = chunk.choices[0].delta.content\n",
    "            if (on_message is not None):\n",
    "                on_message(chunk.choices[0].delta.content)\n",
    "            generated += delta\n",
    "    return Message(role=\"assistant\", content=generated)\n",
    "\n",
    "# render each rule from the chapter\n",
    "def render_rules(rules:list[str]) -> str:\n",
    "    lists = []\n",
    "    for rule in rules:\n",
    "        res = Template(rule).render({\"character\": character, \"tags\":tags, \"items\": items})\n",
    "        if res is not None and res != \"\":\n",
    "            lists.append(res)\n",
    "    return lists\n",
    "\n",
    "# do chat with the chatbot, and show the message with control buttons...\n",
    "def do_chat(content:str|None, on_message: Union[callable, None] = None):\n",
    "    if content is not None:\n",
    "        turn = count_messages(messages, 'user') + 1\n",
    "        if turn >= current_chapter.max_turns:\n",
    "            content += f\"\\nwhisper: MAX_TURNS is reached.\"\n",
    "        messages.append(Message(role=\"user\", content=content))\n",
    "        print(content)\n",
    "\n",
    "    # change it to chat_with_azure to use Azure OpenAI\n",
    "    concat = current_chapter.get_messages() + messages\n",
    "    # for msg in concat:\n",
    "    #     print(f\"{msg.role}: {msg.content}\")\n",
    "    # print(\"----------------------------------------------\")\n",
    "\n",
    "    msg = chat_with_azure(concat, on_message)\n",
    "\n",
    "    # print all the messages:\n",
    "    show_controls(msg)\n",
    "    messages.append(msg)\n",
    "        \n",
    "# handle player's action\n",
    "def on_action(b, index:int):\n",
    "    user_msg = f\"I select '{index}'.\"\n",
    "    do_chat(user_msg, lambda x: print(x, end=\"\"))\n",
    "\n",
    "# handle player's skill check\n",
    "def on_skill(b, skill:str, difficulty:str):\n",
    "    roll_num = roll(\"1d100\").total\n",
    "    if roll_num < 5:\n",
    "        user_msg = f\"i roll the dice for '{roll_num}' and get a CRITICAL SUCCESS!\"\n",
    "        do_chat(user_msg, lambda x: print(x, end=\"\"))\n",
    "        return\n",
    "    if roll_num >= 95:\n",
    "        user_msg = f\"i roll the dice for '{roll_num}' and get a CRITICAL FAILURE!\"\n",
    "        do_chat(user_msg, lambda x: print(x, end=\"\"))\n",
    "        return\n",
    "\n",
    "    difficulty_num = 15 if skill not in character[\"skills\"] else character[\"skills\"][skill]\n",
    "    if difficulty == \"hard\":\n",
    "        difficulty_num = int(difficulty_num * 0.5)\n",
    "    if difficulty == \"extreme\":\n",
    "        difficulty_num = int(difficulty_num * 0.2)\n",
    "    \n",
    "    print(f\"rolled {roll_num} against {difficulty_num} on skill '{skill}'...\")\n",
    "    \n",
    "    if roll_num <= difficulty_num:\n",
    "        user_msg = f\"i roll the dice for '{skill.upper()}' and get a success!\"\n",
    "    else:\n",
    "        user_msg = f\"i roll the dice for '{skill.upper()}' and get a failure.\"\n",
    "\n",
    "    do_chat(user_msg, lambda x: print(x, end=\"\"))\n",
    "\n",
    "# handle continue\n",
    "def on_continue(b):\n",
    "    user_msg = f\"Continue...\"\n",
    "    do_chat(user_msg, lambda x: print(x, end=\"\"))\n",
    "\n",
    "# handle chapter's ending, and show next chapter\n",
    "def on_next(b):\n",
    "    choose_next_chapter()\n",
    "        \n",
    "# handle player's retry, it will remove the last assistant message,\n",
    "# and re-ask the chatbot\n",
    "def on_retry(b):\n",
    "    # delete last assistant message\n",
    "    messages.pop()\n",
    "    do_chat(None, lambda x: print(x, end=\"\"))\n",
    "\n",
    "# handle player's item usage\n",
    "def on_item(b, item:dict):\n",
    "    user_msg = Template(item[\"description\"]).render({\"character\": character, \"tags\":tags, \"items\": items})\n",
    "    user_msg = f\"I use '{item['id']}' - {user_msg}\"\n",
    "    do_chat(user_msg, lambda x: print(x, end=\"\"))\n",
    "\n",
    "action_pattern = re.compile(r\"(\\d+). *(.+)\")\n",
    "# the main function to show the controls\n",
    "def show_controls(msg:Message):\n",
    "    dict = msg.dict()\n",
    "    buttons = []\n",
    "\n",
    "    if \"choices\" in dict.keys():\n",
    "        # handle player's choices\n",
    "        matches = action_pattern.finditer(dict[\"choices\"])\n",
    "        for match in matches:\n",
    "            btn = widgets.Button(description=match.group(0), layout=widgets.Layout(width=\"fit-content\"))\n",
    "            btn.on_click(functools.partial(on_action, index=int(match.group(1))))\n",
    "            buttons.append(btn)\n",
    "    elif \"skill_check\" in dict.keys() and \"difficulty\" in dict.keys():\n",
    "        # handle skill check\n",
    "        btn = widgets.Button(description=f\"{dict['skill_check']} - {dict['difficulty']}\", layout=widgets.Layout(width=\"fit-content\"))\n",
    "        btn.on_click(functools.partial(on_skill, skill=dict['skill_check'], difficulty=dict['difficulty']))\n",
    "        buttons.append(btn)\n",
    "    elif \"ending\" in dict.keys():\n",
    "        # handle chapter ending, show next chapter button\n",
    "        btn = widgets.Button(description=f\"NEXT\", layout=widgets.Layout(width=\"fit-content\"))\n",
    "        btn.on_click(on_next)\n",
    "        buttons.append(btn)\n",
    "    elif \"game_over\" in dict.keys():\n",
    "        # handle game over\n",
    "        print(\"\\nGame Over - Hit 'Run All' button to restart again.\")\n",
    "    else:\n",
    "        # If there is no choices or endings, show continue button\n",
    "        btn = widgets.Button(description=\"Continue\", layout=widgets.Layout(width=\"fit-content\"))\n",
    "        btn.on_click(on_continue)\n",
    "        buttons.append(btn)\n",
    "    \n",
    "    # add tag from generated message\n",
    "    if \"add_tag\" in dict.keys() and dict[\"add_tag\"] not in tags:\n",
    "        tags.append(dict[\"add_tag\"])\n",
    "\n",
    "    # remove tag from generated message\n",
    "    if \"remove_tag\" in dict.keys() and dict[\"remove_tag\"] in tags:\n",
    "        tags.remove(dict[\"remove_tag\"])\n",
    "    \n",
    "    # add item from generated message\n",
    "    if \"add_item\" in dict.keys() and dict[\"add_item\"] not in item_list:\n",
    "        item = dict[\"add_item\"]\n",
    "        found = next((x for x in item_list if x['id'] == item), None)\n",
    "        if (found is None):\n",
    "            print(f\"\\nItem '{dict['add_item']}' not found.\")\n",
    "        else:\n",
    "            items.append(item)\n",
    "    \n",
    "    # remove item from generated message\n",
    "    if \"remove_item\" in dict.keys() and dict[\"remove_item\"] in items:\n",
    "        items.remove(dict[\"remove_item\"])\n",
    "    \n",
    "    controls = []\n",
    "\n",
    "    # retry buttons\n",
    "    if len(messages) > 0:\n",
    "        retry_btn = widgets.Button(description=\"Retry\", layout=widgets.Layout(width=\"fit-content\"))\n",
    "        retry_btn.on_click(on_retry)\n",
    "        controls.append(retry_btn)\n",
    "\n",
    "    # show tag list\n",
    "    if len(tags) > 0:\n",
    "        tags_lbl = widgets.Label(value=f\"Tags: {', '.join(tags)}\")\n",
    "        controls.append(tags_lbl)\n",
    "\n",
    "    # inventory buttons\n",
    "    inventory = [widgets.Label(value=\"Inventory:\")]\n",
    "    if len(items) > 0:\n",
    "        for item in items:\n",
    "            found = next((x for x in item_list if x['id'] == item), None)\n",
    "            if found:\n",
    "                item_btn = widgets.Button(description=found[\"id\"], layout=widgets.Layout(width=\"fit-content\"))\n",
    "                item_btn.on_click(functools.partial(on_item, item=found))\n",
    "                inventory.append(item_btn)\n",
    "            else:\n",
    "                print(f\"\\nItem '{item}' not found in the list.\")\n",
    "        controls.append(widgets.HBox(inventory))\n",
    "    \n",
    "    display(widgets.VBox(buttons))\n",
    "\n",
    "    if (len(controls) > 0):\n",
    "        display(widgets.HBox(controls))\n",
    "\n",
    "current_chapter = getChapterById(\"r1\")"
   ]
  },
  {
   "cell_type": "code",
   "execution_count": 6,
   "metadata": {},
   "outputs": [
    {
     "name": "stdout",
     "output_type": "stream",
     "text": [
      "narration: \n",
      "You, John Doe, a retired detective, who has lost his family in a tragic accident, and using alcohol to cope with the loss.\n",
      "\n",
      "You have been investigating a series of murders in the town for many years.\n",
      "The recent clues led you to a abandoned house in the forest. Now you are standing in front of the house.\n",
      "choices:\n",
      "1. Enter the house from the front door.\n",
      "2. Look around the house to find some clues.\n",
      "3. Drink the alcohol to gain some courage.\n",
      "background: house_front\n"
     ]
    },
    {
     "data": {
      "application/vnd.jupyter.widget-view+json": {
       "model_id": "d3506219e01b4eb4bdebaf747811d2f4",
       "version_major": 2,
       "version_minor": 0
      },
      "text/plain": [
       "VBox(children=(Button(description='1. Enter the house from the front door.', layout=Layout(width='fit-content'…"
      ]
     },
     "metadata": {},
     "output_type": "display_data"
    },
    {
     "data": {
      "application/vnd.jupyter.widget-view+json": {
       "model_id": "87daa6e76fea40edaf2055edeed8be3b",
       "version_major": 2,
       "version_minor": 0
      },
      "text/plain": [
       "HBox(children=(HBox(children=(Label(value='Inventory:'), Button(description='alcohol', layout=Layout(width='fi…"
      ]
     },
     "metadata": {},
     "output_type": "display_data"
    },
    {
     "name": "stdout",
     "output_type": "stream",
     "text": [
      "I select '1'.\n",
      "narration: \n",
      "You push open the creaking front door and step inside. The air is thick with dust and the smell of decay. The dim light barely illuminates the ground floor, revealing a dining room to your left, a meeting room straight ahead, and a kitchen to your right.\n",
      "\n",
      "You hear strange noises coming from the first floor, like soft footsteps and whispering voices that send shivers down your spine.\n",
      "\n",
      "choices:\n",
      "1. Explore the dining room.\n",
      "2. Head towards the meeting room.\n",
      "3. Investigate the kitchen.\n",
      "4. Listen carefully to pinpoint the source of the noises."
     ]
    },
    {
     "data": {
      "application/vnd.jupyter.widget-view+json": {
       "model_id": "8229c0619d744acebf3ec0a9a2bce3c2",
       "version_major": 2,
       "version_minor": 0
      },
      "text/plain": [
       "VBox(children=(Button(description='1. Explore the dining room.', layout=Layout(width='fit-content'), style=But…"
      ]
     },
     "metadata": {},
     "output_type": "display_data"
    },
    {
     "data": {
      "application/vnd.jupyter.widget-view+json": {
       "model_id": "bad67ca8da534a4d90a887db07d1a897",
       "version_major": 2,
       "version_minor": 0
      },
      "text/plain": [
       "HBox(children=(Button(description='Retry', layout=Layout(width='fit-content'), style=ButtonStyle()), HBox(chil…"
      ]
     },
     "metadata": {},
     "output_type": "display_data"
    },
    {
     "name": "stdout",
     "output_type": "stream",
     "text": [
      "I select '4'.\n",
      "narration: \n",
      "You pause and strain your ears, trying to make sense of the eerie whispers and footsteps. The noises seem to echo down the staircase leading to the first floor, making it difficult to pinpoint their exact source. However, the atmosphere grows increasingly oppressive, as if something unseen is aware of your presence.\n",
      "\n",
      "choices:\n",
      "1. Head towards the first floor to investigate the noises.\n",
      "2. Explore the dining room.\n",
      "3. Head towards the meeting room.\n",
      "4. Investigate the kitchen."
     ]
    },
    {
     "data": {
      "application/vnd.jupyter.widget-view+json": {
       "model_id": "9f6f55fd31ba407698963b741c2bafce",
       "version_major": 2,
       "version_minor": 0
      },
      "text/plain": [
       "VBox(children=(Button(description='1. Head towards the first floor to investigate the noises.', layout=Layout(…"
      ]
     },
     "metadata": {},
     "output_type": "display_data"
    },
    {
     "data": {
      "application/vnd.jupyter.widget-view+json": {
       "model_id": "b255c493102144c79a43926076334034",
       "version_major": 2,
       "version_minor": 0
      },
      "text/plain": [
       "HBox(children=(Button(description='Retry', layout=Layout(width='fit-content'), style=ButtonStyle()), HBox(chil…"
      ]
     },
     "metadata": {},
     "output_type": "display_data"
    },
    {
     "name": "stdout",
     "output_type": "stream",
     "text": [
      "I select '1'.\n",
      "narration: \n",
      "Cautiously, you ascend the creaky staircase, each step resounding through the silent house. The first floor corridor is dimly lit, doors lining either side. You can feel the tension in the air as if something is watching you from the shadows.\n",
      "\n",
      "You see three doors: one leading to the main bedroom, another to a child's bedroom, and the last to a study room.\n",
      "\n",
      "choices:\n",
      "1. Enter the main bedroom.\n",
      "2. Explore the child's bedroom.\n",
      "3. Investigate the study room.\n",
      "4. Return to the ground floor to explore other rooms."
     ]
    },
    {
     "data": {
      "application/vnd.jupyter.widget-view+json": {
       "model_id": "7b42caa7d86441148192d78d4fd9a4fd",
       "version_major": 2,
       "version_minor": 0
      },
      "text/plain": [
       "VBox(children=(Button(description='1. Enter the main bedroom.', layout=Layout(width='fit-content'), style=Butt…"
      ]
     },
     "metadata": {},
     "output_type": "display_data"
    },
    {
     "data": {
      "application/vnd.jupyter.widget-view+json": {
       "model_id": "5324f7e337a04bf4a073c90be3ea9def",
       "version_major": 2,
       "version_minor": 0
      },
      "text/plain": [
       "HBox(children=(Button(description='Retry', layout=Layout(width='fit-content'), style=ButtonStyle()), HBox(chil…"
      ]
     },
     "metadata": {},
     "output_type": "display_data"
    },
    {
     "name": "stdout",
     "output_type": "stream",
     "text": [
      "I select '3'.\n",
      "background: house_study\n",
      "narration: \n",
      "As you open the door to the study room, a black dog suddenly bolts towards you from under the desk, its eyes gleaming ominously in the dim light.\n",
      "\n",
      "skill_check: dodge\n",
      "difficulty: normal"
     ]
    },
    {
     "data": {
      "application/vnd.jupyter.widget-view+json": {
       "model_id": "0d927dde9f884a73b5651f71601c9bf4",
       "version_major": 2,
       "version_minor": 0
      },
      "text/plain": [
       "VBox(children=(Button(description='dodge - normal', layout=Layout(width='fit-content'), style=ButtonStyle()),)…"
      ]
     },
     "metadata": {},
     "output_type": "display_data"
    },
    {
     "data": {
      "application/vnd.jupyter.widget-view+json": {
       "model_id": "4fe2957ff8dc47aeab7df66d978bbe80",
       "version_major": 2,
       "version_minor": 0
      },
      "text/plain": [
       "HBox(children=(Button(description='Retry', layout=Layout(width='fit-content'), style=ButtonStyle()), HBox(chil…"
      ]
     },
     "metadata": {},
     "output_type": "display_data"
    },
    {
     "name": "stdout",
     "output_type": "stream",
     "text": [
      "i roll the dice for '4' and get a CRITICAL SUCCESS!\n",
      "narration: \n",
      "With years of experience dodging danger, you effortlessly sidestep the charging dog. It rushes past you, barely grazing your coat, and disappears through the hallway. As your heart rate steadies, you notice something shiny on the floor where the dog was hiding.\n",
      "\n",
      "You pick it up and realize it's a collar, and attached to it is the 'basement_key'.\n",
      "\n",
      "add_item: basement_key\n",
      "add_tag: dog_met"
     ]
    },
    {
     "data": {
      "application/vnd.jupyter.widget-view+json": {
       "model_id": "8f70823941034663806ac43fc95d58f4",
       "version_major": 2,
       "version_minor": 0
      },
      "text/plain": [
       "VBox(children=(Button(description='Continue', layout=Layout(width='fit-content'), style=ButtonStyle()),))"
      ]
     },
     "metadata": {},
     "output_type": "display_data"
    },
    {
     "data": {
      "application/vnd.jupyter.widget-view+json": {
       "model_id": "1ae54eda7a784fc2bf3182ac28f5561f",
       "version_major": 2,
       "version_minor": 0
      },
      "text/plain": [
       "HBox(children=(Button(description='Retry', layout=Layout(width='fit-content'), style=ButtonStyle()), Label(val…"
      ]
     },
     "metadata": {},
     "output_type": "display_data"
    }
   ],
   "source": [
    "initials = current_chapter.get_messages()\n",
    "print(initials[1].content)\n",
    "show_controls(initials[1])"
   ]
  }
 ],
 "metadata": {
  "kernelspec": {
   "display_name": ".venv",
   "language": "python",
   "name": "python3"
  },
  "language_info": {
   "codemirror_mode": {
    "name": "ipython",
    "version": 3
   },
   "file_extension": ".py",
   "mimetype": "text/x-python",
   "name": "python",
   "nbconvert_exporter": "python",
   "pygments_lexer": "ipython3",
   "version": "3.12.3"
  }
 },
 "nbformat": 4,
 "nbformat_minor": 2
}
