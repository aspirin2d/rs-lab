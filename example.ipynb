{
 "cells": [
  {
   "cell_type": "code",
<<<<<<< HEAD
   "execution_count": 1,
=======
   "execution_count": 31,
>>>>>>> main
   "metadata": {},
   "outputs": [
    {
     "name": "stdout",
     "output_type": "stream",
     "text": [
<<<<<<< HEAD
      "Requirement already satisfied: openai in c:\\users\\administrator\\appdata\\local\\programs\\python\\python312\\lib\\site-packages (1.20.0)\n",
      "Requirement already satisfied: pydantic in c:\\users\\administrator\\appdata\\local\\programs\\python\\python312\\lib\\site-packages (2.7.0)\n",
      "Requirement already satisfied: jinja2 in c:\\users\\administrator\\appdata\\local\\programs\\python\\python312\\lib\\site-packages (3.1.3)\n",
      "Requirement already satisfied: python_dotenv in c:\\users\\administrator\\appdata\\local\\programs\\python\\python312\\lib\\site-packages (1.0.1)\n",
      "Requirement already satisfied: ipywidgets in c:\\users\\administrator\\appdata\\local\\programs\\python\\python312\\lib\\site-packages (8.1.2)\n",
      "Requirement already satisfied: anyio<5,>=3.5.0 in c:\\users\\administrator\\appdata\\local\\programs\\python\\python312\\lib\\site-packages (from openai) (4.3.0)\n",
      "Requirement already satisfied: distro<2,>=1.7.0 in c:\\users\\administrator\\appdata\\local\\programs\\python\\python312\\lib\\site-packages (from openai) (1.9.0)\n",
      "Requirement already satisfied: httpx<1,>=0.23.0 in c:\\users\\administrator\\appdata\\local\\programs\\python\\python312\\lib\\site-packages (from openai) (0.27.0)\n",
      "Requirement already satisfied: sniffio in c:\\users\\administrator\\appdata\\local\\programs\\python\\python312\\lib\\site-packages (from openai) (1.3.1)\n",
      "Requirement already satisfied: tqdm>4 in c:\\users\\administrator\\appdata\\local\\programs\\python\\python312\\lib\\site-packages (from openai) (4.66.2)\n",
      "Requirement already satisfied: typing-extensions<5,>=4.7 in c:\\users\\administrator\\appdata\\local\\programs\\python\\python312\\lib\\site-packages (from openai) (4.11.0)\n",
      "Requirement already satisfied: annotated-types>=0.4.0 in c:\\users\\administrator\\appdata\\local\\programs\\python\\python312\\lib\\site-packages (from pydantic) (0.6.0)\n",
      "Requirement already satisfied: pydantic-core==2.18.1 in c:\\users\\administrator\\appdata\\local\\programs\\python\\python312\\lib\\site-packages (from pydantic) (2.18.1)\n",
      "Requirement already satisfied: MarkupSafe>=2.0 in c:\\users\\administrator\\appdata\\local\\programs\\python\\python312\\lib\\site-packages (from jinja2) (2.1.5)\n",
      "Requirement already satisfied: comm>=0.1.3 in c:\\users\\administrator\\appdata\\roaming\\python\\python312\\site-packages (from ipywidgets) (0.2.2)\n",
      "Requirement already satisfied: ipython>=6.1.0 in c:\\users\\administrator\\appdata\\roaming\\python\\python312\\site-packages (from ipywidgets) (8.23.0)\n",
      "Requirement already satisfied: traitlets>=4.3.1 in c:\\users\\administrator\\appdata\\roaming\\python\\python312\\site-packages (from ipywidgets) (5.14.2)\n",
      "Requirement already satisfied: widgetsnbextension~=4.0.10 in c:\\users\\administrator\\appdata\\local\\programs\\python\\python312\\lib\\site-packages (from ipywidgets) (4.0.10)\n",
      "Requirement already satisfied: jupyterlab-widgets~=3.0.10 in c:\\users\\administrator\\appdata\\local\\programs\\python\\python312\\lib\\site-packages (from ipywidgets) (3.0.10)\n",
      "Requirement already satisfied: idna>=2.8 in c:\\users\\administrator\\appdata\\local\\programs\\python\\python312\\lib\\site-packages (from anyio<5,>=3.5.0->openai) (3.7)\n",
      "Requirement already satisfied: certifi in c:\\users\\administrator\\appdata\\local\\programs\\python\\python312\\lib\\site-packages (from httpx<1,>=0.23.0->openai) (2024.2.2)\n",
      "Requirement already satisfied: httpcore==1.* in c:\\users\\administrator\\appdata\\local\\programs\\python\\python312\\lib\\site-packages (from httpx<1,>=0.23.0->openai) (1.0.5)\n",
      "Requirement already satisfied: h11<0.15,>=0.13 in c:\\users\\administrator\\appdata\\local\\programs\\python\\python312\\lib\\site-packages (from httpcore==1.*->httpx<1,>=0.23.0->openai) (0.14.0)\n",
      "Requirement already satisfied: decorator in c:\\users\\administrator\\appdata\\roaming\\python\\python312\\site-packages (from ipython>=6.1.0->ipywidgets) (5.1.1)\n",
      "Requirement already satisfied: jedi>=0.16 in c:\\users\\administrator\\appdata\\roaming\\python\\python312\\site-packages (from ipython>=6.1.0->ipywidgets) (0.19.1)\n",
      "Requirement already satisfied: matplotlib-inline in c:\\users\\administrator\\appdata\\roaming\\python\\python312\\site-packages (from ipython>=6.1.0->ipywidgets) (0.1.7)\n",
      "Requirement already satisfied: prompt-toolkit<3.1.0,>=3.0.41 in c:\\users\\administrator\\appdata\\roaming\\python\\python312\\site-packages (from ipython>=6.1.0->ipywidgets) (3.0.43)\n",
      "Requirement already satisfied: pygments>=2.4.0 in c:\\users\\administrator\\appdata\\roaming\\python\\python312\\site-packages (from ipython>=6.1.0->ipywidgets) (2.17.2)\n",
      "Requirement already satisfied: stack-data in c:\\users\\administrator\\appdata\\roaming\\python\\python312\\site-packages (from ipython>=6.1.0->ipywidgets) (0.6.3)\n",
      "Requirement already satisfied: colorama in c:\\users\\administrator\\appdata\\roaming\\python\\python312\\site-packages (from ipython>=6.1.0->ipywidgets) (0.4.6)\n",
      "Requirement already satisfied: parso<0.9.0,>=0.8.3 in c:\\users\\administrator\\appdata\\roaming\\python\\python312\\site-packages (from jedi>=0.16->ipython>=6.1.0->ipywidgets) (0.8.4)\n",
      "Requirement already satisfied: wcwidth in c:\\users\\administrator\\appdata\\roaming\\python\\python312\\site-packages (from prompt-toolkit<3.1.0,>=3.0.41->ipython>=6.1.0->ipywidgets) (0.2.13)\n",
      "Requirement already satisfied: executing>=1.2.0 in c:\\users\\administrator\\appdata\\roaming\\python\\python312\\site-packages (from stack-data->ipython>=6.1.0->ipywidgets) (2.0.1)\n",
      "Requirement already satisfied: asttokens>=2.1.0 in c:\\users\\administrator\\appdata\\roaming\\python\\python312\\site-packages (from stack-data->ipython>=6.1.0->ipywidgets) (2.4.1)\n",
      "Requirement already satisfied: pure-eval in c:\\users\\administrator\\appdata\\roaming\\python\\python312\\site-packages (from stack-data->ipython>=6.1.0->ipywidgets) (0.2.2)\n",
      "Requirement already satisfied: six>=1.12.0 in c:\\users\\administrator\\appdata\\roaming\\python\\python312\\site-packages (from asttokens>=2.1.0->stack-data->ipython>=6.1.0->ipywidgets) (1.16.0)\n",
=======
      "Looking in indexes: https://pypi.tuna.tsinghua.edu.cn/simple\n",
      "Requirement already satisfied: openai in ./.venv/lib/python3.12/site-packages (1.17.0)\n",
      "Requirement already satisfied: pydantic in ./.venv/lib/python3.12/site-packages (2.7.0)\n",
      "Requirement already satisfied: jinja2 in ./.venv/lib/python3.12/site-packages (3.1.3)\n",
      "Requirement already satisfied: python_dotenv in ./.venv/lib/python3.12/site-packages (1.0.1)\n",
      "Requirement already satisfied: ipywidgets in ./.venv/lib/python3.12/site-packages (8.1.2)\n",
      "Requirement already satisfied: anyio<5,>=3.5.0 in ./.venv/lib/python3.12/site-packages (from openai) (4.3.0)\n",
      "Requirement already satisfied: distro<2,>=1.7.0 in ./.venv/lib/python3.12/site-packages (from openai) (1.9.0)\n",
      "Requirement already satisfied: httpx<1,>=0.23.0 in ./.venv/lib/python3.12/site-packages (from openai) (0.27.0)\n",
      "Requirement already satisfied: sniffio in ./.venv/lib/python3.12/site-packages (from openai) (1.3.1)\n",
      "Requirement already satisfied: tqdm>4 in ./.venv/lib/python3.12/site-packages (from openai) (4.66.2)\n",
      "Requirement already satisfied: typing-extensions<5,>=4.7 in ./.venv/lib/python3.12/site-packages (from openai) (4.11.0)\n",
      "Requirement already satisfied: annotated-types>=0.4.0 in ./.venv/lib/python3.12/site-packages (from pydantic) (0.6.0)\n",
      "Requirement already satisfied: pydantic-core==2.18.1 in ./.venv/lib/python3.12/site-packages (from pydantic) (2.18.1)\n",
      "Requirement already satisfied: MarkupSafe>=2.0 in ./.venv/lib/python3.12/site-packages (from jinja2) (2.1.5)\n",
      "Requirement already satisfied: comm>=0.1.3 in ./.venv/lib/python3.12/site-packages (from ipywidgets) (0.2.2)\n",
      "Requirement already satisfied: ipython>=6.1.0 in ./.venv/lib/python3.12/site-packages (from ipywidgets) (8.23.0)\n",
      "Requirement already satisfied: traitlets>=4.3.1 in ./.venv/lib/python3.12/site-packages (from ipywidgets) (5.14.2)\n",
      "Requirement already satisfied: widgetsnbextension~=4.0.10 in ./.venv/lib/python3.12/site-packages (from ipywidgets) (4.0.10)\n",
      "Requirement already satisfied: jupyterlab-widgets~=3.0.10 in ./.venv/lib/python3.12/site-packages (from ipywidgets) (3.0.10)\n",
      "Requirement already satisfied: idna>=2.8 in ./.venv/lib/python3.12/site-packages (from anyio<5,>=3.5.0->openai) (3.7)\n",
      "Requirement already satisfied: certifi in ./.venv/lib/python3.12/site-packages (from httpx<1,>=0.23.0->openai) (2024.2.2)\n",
      "Requirement already satisfied: httpcore==1.* in ./.venv/lib/python3.12/site-packages (from httpx<1,>=0.23.0->openai) (1.0.5)\n",
      "Requirement already satisfied: h11<0.15,>=0.13 in ./.venv/lib/python3.12/site-packages (from httpcore==1.*->httpx<1,>=0.23.0->openai) (0.14.0)\n",
      "Requirement already satisfied: decorator in ./.venv/lib/python3.12/site-packages (from ipython>=6.1.0->ipywidgets) (5.1.1)\n",
      "Requirement already satisfied: jedi>=0.16 in ./.venv/lib/python3.12/site-packages (from ipython>=6.1.0->ipywidgets) (0.19.1)\n",
      "Requirement already satisfied: matplotlib-inline in ./.venv/lib/python3.12/site-packages (from ipython>=6.1.0->ipywidgets) (0.1.6)\n",
      "Requirement already satisfied: prompt-toolkit<3.1.0,>=3.0.41 in ./.venv/lib/python3.12/site-packages (from ipython>=6.1.0->ipywidgets) (3.0.43)\n",
      "Requirement already satisfied: pygments>=2.4.0 in ./.venv/lib/python3.12/site-packages (from ipython>=6.1.0->ipywidgets) (2.17.2)\n",
      "Requirement already satisfied: stack-data in ./.venv/lib/python3.12/site-packages (from ipython>=6.1.0->ipywidgets) (0.6.3)\n",
      "Requirement already satisfied: pexpect>4.3 in ./.venv/lib/python3.12/site-packages (from ipython>=6.1.0->ipywidgets) (4.9.0)\n",
      "Requirement already satisfied: parso<0.9.0,>=0.8.3 in ./.venv/lib/python3.12/site-packages (from jedi>=0.16->ipython>=6.1.0->ipywidgets) (0.8.4)\n",
      "Requirement already satisfied: ptyprocess>=0.5 in ./.venv/lib/python3.12/site-packages (from pexpect>4.3->ipython>=6.1.0->ipywidgets) (0.7.0)\n",
      "Requirement already satisfied: wcwidth in ./.venv/lib/python3.12/site-packages (from prompt-toolkit<3.1.0,>=3.0.41->ipython>=6.1.0->ipywidgets) (0.2.13)\n",
      "Requirement already satisfied: executing>=1.2.0 in ./.venv/lib/python3.12/site-packages (from stack-data->ipython>=6.1.0->ipywidgets) (2.0.1)\n",
      "Requirement already satisfied: asttokens>=2.1.0 in ./.venv/lib/python3.12/site-packages (from stack-data->ipython>=6.1.0->ipywidgets) (2.4.1)\n",
      "Requirement already satisfied: pure-eval in ./.venv/lib/python3.12/site-packages (from stack-data->ipython>=6.1.0->ipywidgets) (0.2.2)\n",
      "Requirement already satisfied: six>=1.12.0 in ./.venv/lib/python3.12/site-packages (from asttokens>=2.1.0->stack-data->ipython>=6.1.0->ipywidgets) (1.16.0)\n",
>>>>>>> main
      "Note: you may need to restart the kernel to use updated packages.\n"
     ]
    }
   ],
   "source": [
    "%pip install openai pydantic jinja2 python_dotenv ipywidgets"
   ]
  },
  {
   "cell_type": "code",
<<<<<<< HEAD
   "execution_count": 2,
=======
   "execution_count": 32,
>>>>>>> main
   "metadata": {},
   "outputs": [
    {
     "name": "stdout",
     "output_type": "stream",
     "text": [
<<<<<<< HEAD
      "Version: 0.0.3, Chapters: 4\n"
=======
      "Version: 0.0.3, Chapters: 1\n"
>>>>>>> main
     ]
    }
   ],
   "source": [
    "import dis\n",
    "import os\n",
    "import re\n",
    "import tomllib\n",
    "import functools\n",
    "\n",
    "from jinja2 import Template\n",
    "from pydantic import BaseModel\n",
    "from openai import OpenAI, AzureOpenAI\n",
    "from dotenv import load_dotenv\n",
    "\n",
    "import ipywidgets as widgets\n",
    "from IPython.display import display, clear_output\n",
    "\n",
    "from typing import Literal, Union\n",
    "\n",
    "load_dotenv()\n",
    "\n",
<<<<<<< HEAD
    "with open(\"data/example_haunted_house.toml\", \"rb\") as f:\n",
=======
    "with open(\"data/example.toml\", \"rb\") as f:\n",
>>>>>>> main
    "    config = tomllib.load(f)\n",
    "\n",
    "message_pattern = re.compile(r\"^([\\w_ *]+)\\:[ \\s]*(.+)*$\")\n",
    "class Message(BaseModel):\n",
<<<<<<< HEAD
    "    role: Literal[\"system\", \"assistant\", \"user\"]\n",
    "    content: str   \n",
    "\n",
=======
    "    # Message from chatbot\n",
    "    role: Literal[\"system\", \"assistant\", \"user\"]\n",
    "    content: str   \n",
    "\n",
    "    # parse the content into dictionary\n",
>>>>>>> main
    "    def dict(self) -> dict:\n",
    "        current_key = None\n",
    "        parsed = {}\n",
    "        lines = self.content.splitlines()\n",
    "        # parse the content line by line\n",
    "        for line in lines:\n",
    "            res = message_pattern.search(line)\n",
    "            if res is not None:\n",
    "                current_key = res.group(1)\n",
    "                if res.group(2) is not None:\n",
    "                    parsed[current_key] = res.group(2)\n",
    "                else:\n",
    "                    parsed[current_key] = \"\"\n",
    "            elif current_key is not None:\n",
    "                parsed[current_key] += \"\\n\" + line\n",
    "        return parsed\n",
    "\n",
    "class Chapter(BaseModel):\n",
    "    id: str\n",
    "    next: str|None = None\n",
    "    max_turns: int\n",
    "    backgrounds: list[str]\n",
    "    rules: list[str]\n",
    "    initial: str\n",
    "    \n",
    "    def __init__(self, **kargs):\n",
    "        super().__init__(**kargs)\n",
    "    \n",
    "    def get_messages(self) -> list[Message]:\n",
    "        rendered_rules = render_rules(self.rules)\n",
    "        system_content = Template(system).render({\"rules\": rendered_rules, \"backgrounds\":self.backgrounds, \"character\": character})\n",
    "        initial_content = Template(self.initial).render({\"rules\": self.rules, \"character\": character})\n",
    "        return [\n",
    "            Message(role=\"system\", content=system_content),\n",
    "            Message(role=\"assistant\", content=initial_content)\n",
    "        ]\n",
    "\n",
    "version = config[\"version\"]\n",
    "system = config[\"system\"]\n",
    "character = config[\"character\"]\n",
    "chapters = config[\"chapters\"]\n",
    "\n",
    "messages:list[Message] =[]\n",
    "\n",
    "tags:list[str] = ['r1']\n",
    "items:list[str] = []\n",
    "\n",
    "print(f\"Version: {version}, Chapters: {len(chapters)}\")\n",
    "\n",
    "def getChapterById(id:str) -> Chapter:\n",
    "    for r in chapters:\n",
    "        if r[\"id\"] == id:\n",
    "            return Chapter(**r) \n",
    "    return None\n",
    "\n",
    "def choose_next_chapter():\n",
<<<<<<< HEAD
    "    if current_chapter.next is not None:\n",
    "        next_chapter = getChapterById(current_chapter.next[0])\n",
=======
    "    global current_chapter\n",
    "    if current_chapter.next is not None:\n",
    "        next = Template(current_chapter.next).render({\"items\": items, \"tags\": tags})\n",
    "        print(\"Next round: \", next)\n",
    "        next_chapter = getChapterById(next)\n",
>>>>>>> main
    "        if next_chapter is not None:\n",
    "            current_chapter = next_chapter\n",
    "            messages.clear()\n",
    "            do_chat(None, lambda x: print(x, end=\"\"))\n",
    "        else:\n",
<<<<<<< HEAD
    "            print(f\"Chapter '{current_chapter.next[0]}' not found.\")\n",
=======
    "            print(f\"Chapter '{next}' not found.\")\n",
>>>>>>> main
    "    else:\n",
    "        print(\"No next chapter found.\")\n",
    "\n",
    "\n",
    "def count_messages(messages:list[Message], role:str) -> int:\n",
    "    return len([msg for msg in messages if msg.role == role])\n",
    "\n",
    "def chat_with_azure(messages:list[Message], on_message: Union[callable, None] = None) -> Message:\n",
    "    client = AzureOpenAI(api_key=os.environ.get(\"AZURE_OPENAI_API_KEY\"), \n",
    "                         azure_endpoint=os.environ.get(\"AZURE_OPENAI_ENDPOINT\"),\n",
    "                         api_version=os.environ.get(\"AZURE_OPENAI_API_VERSION\")\n",
    "                         )\n",
    "    stream = client.chat.completions.create(\n",
    "        model=os.environ.get(\"AZURE_OPENAI_MODEL_NAME\"),\n",
    "        messages=messages,\n",
    "        stream=True,\n",
    "        max_tokens=4000,\n",
    "        temperature=float(os.environ.get(\"OPENAI_TEMPERATURE\"))\n",
    "    )\n",
    "\n",
    "    generated = \"\"\n",
    "    for chunk in stream:\n",
    "        if len(chunk.choices) > 0 and chunk.choices[0].delta.content is not None:\n",
    "            delta = chunk.choices[0].delta.content\n",
    "            if (on_message is not None):\n",
    "                on_message(chunk.choices[0].delta.content)\n",
    "            generated += delta\n",
    "    return Message(role=\"assistant\", content=generated)\n",
    "    \n",
    "def chat(messages:list[Message], on_message: Union[callable, None] = None) -> Message:\n",
    "    client = OpenAI(api_key=os.environ.get(\"OPENAI_API_KEY\"))\n",
    "    stream = client.chat.completions.create(\n",
    "        model=os.environ.get(\"OPENAI_MODEL_NAME\"),\n",
    "        messages=messages,\n",
    "        stream=True,\n",
    "        max_tokens=4000,\n",
    "        temperature=float(os.environ.get(\"OPENAI_TEMPERATURE\"))\n",
    "    )\n",
    "\n",
    "    generated = \"\"\n",
    "    for chunk in stream:\n",
    "        if chunk.choices[0].delta.content is not None:\n",
    "            delta = chunk.choices[0].delta.content\n",
    "            if (on_message is not None):\n",
    "                on_message(chunk.choices[0].delta.content)\n",
    "            generated += delta\n",
    "    return Message(role=\"assistant\", content=generated)\n",
    "\n",
    "def render_rules(rules:list[str]) -> str:\n",
    "    lists = []\n",
    "    for rule in rules:\n",
    "        res = Template(rule).render({\"character\": character, \"tags\":tags, \"items\": items})\n",
    "        if res is not None and res != \"\":\n",
<<<<<<< HEAD
    "            lists.append(\"- \" + res)\n",
    "    return \"\\n\".join(lists)\n",
=======
    "            lists.append(res)\n",
    "    return lists\n",
>>>>>>> main
    "\n",
    "def do_chat(content:str|None, on_message: Union[callable, None] = None):\n",
    "    if content is not None:\n",
    "        turn = count_messages(messages, 'user') + 1\n",
    "        if turn >= current_chapter.max_turns:\n",
    "            content += f\"\\nwhisper: MAX_TURNS is reached.\"\n",
    "        messages.append(Message(role=\"user\", content=content))\n",
    "        print(content)\n",
    "\n",
<<<<<<< HEAD
    "    msg = chat_with_azure(current_chapter.get_messages() + messages, on_message)\n",
    "\n",
=======
    "    # change it to chat_with_azure to use Azure OpenAI\n",
    "    concat = current_chapter.get_messages() + messages\n",
    "    # for msg in concat:\n",
    "    #     print(f\"{msg.role}: {msg.content}\")\n",
    "\n",
    "    msg = chat(concat, on_message)\n",
    "\n",
    "    # print all the messages:\n",
>>>>>>> main
    "    show_controls(msg)\n",
    "    messages.append(msg)\n",
    "        \n",
    "# handle player's action\n",
    "def on_action(b, index:int):\n",
    "    user_msg = f\"I select '{index}'.\"\n",
    "    do_chat(user_msg, lambda x: print(x, end=\"\"))\n",
    "\n",
    "# handle player's skill check\n",
    "def on_skill(b, skill:str, difficulty:str):\n",
    "    user_msg = f\"I roll the dice for '{skill.upper()}' and SUCCESSD.\"\n",
    "    do_chat(user_msg, lambda x: print(x, end=\"\"))\n",
    "\n",
    "def on_continue(b):\n",
    "    user_msg = f\"Continue...\"\n",
    "    do_chat(user_msg, lambda x: print(x, end=\"\"))\n",
    "\n",
    "def on_next(b):\n",
<<<<<<< HEAD
    "    if current_chapter.next:\n",
    "        next = Template(current_chapter.next).render({\"items\": items, \"tags\": tags})\n",
    "        print(\"Next round: \", next)\n",
    "    # choose_next_chapter()\n",
=======
    "    choose_next_chapter()\n",
>>>>>>> main
    "        \n",
    "def on_retry(b):\n",
    "    # delete last assistant message\n",
    "    messages.pop()\n",
    "    do_chat(None, lambda x: print(x, end=\"\"))\n",
    "\n",
    "action_pattern = re.compile(r\"(\\d+). *(.+)\")\n",
    "def show_controls(msg:Message):\n",
    "    dict = msg.dict()\n",
    "    buttons = []\n",
    "\n",
    "    if \"choices\" in dict.keys():\n",
    "        matches = action_pattern.finditer(dict[\"choices\"])\n",
    "        for match in matches:\n",
    "            btn = widgets.Button(description=match.group(0), layout=widgets.Layout(width=\"fit-content\"))\n",
    "            btn.on_click(functools.partial(on_action, index=int(match.group(1))))\n",
    "            buttons.append(btn)\n",
    "    elif \"skill\" in dict.keys() and \"difficulty\" in dict.keys():\n",
    "        btn = widgets.Button(description=f\"{dict['skill']} - {dict['difficulty']}\", layout=widgets.Layout(width=\"fit-content\"))\n",
    "        btn.on_click(functools.partial(on_skill, skill=dict['skill'], difficulty=dict['difficulty']))\n",
    "        buttons.append(btn)\n",
    "    elif \"ending\" in dict.keys():\n",
    "        btn = widgets.Button(description=f\"NEXT\", layout=widgets.Layout(width=\"fit-content\"))\n",
    "        btn.on_click(on_next)\n",
    "        buttons.append(btn)\n",
    "    elif \"game_over\" in dict.keys():\n",
    "        print(\"\\nGame Over - Hit 'Run All' button to restart again.\")\n",
    "    else:\n",
    "        btn = widgets.Button(description=\"Continue\", layout=widgets.Layout(width=\"fit-content\"))\n",
    "        btn.on_click(on_continue)\n",
    "        buttons.append(btn)\n",
    "    \n",
    "    if \"add_tag\" in dict.keys() and dict[\"add_tag\"] not in tags:\n",
    "        tags.append(dict[\"add_tag\"])\n",
    "\n",
    "    if \"remove_tag\" in dict.keys() and dict[\"remove_tag\"] in tags:\n",
    "        tags.remove(dict[\"remove_tag\"])\n",
    "    \n",
    "    if \"add_item\" in dict.keys() and dict[\"add_item\"] not in items:\n",
    "        items.append(dict[\"add_item\"])\n",
    "    \n",
    "    if \"remove_item\" in dict.keys() and dict[\"remove_item\"] in items:\n",
    "        items.remove(dict[\"remove_item\"])\n",
    "    \n",
    "    controls = []\n",
    "    if len(messages) > 0:\n",
    "        retry_btn = widgets.Button(description=\"Retry\", layout=widgets.Layout(width=\"fit-content\"))\n",
    "        retry_btn.on_click(on_retry)\n",
    "        controls.append(retry_btn)\n",
    "\n",
    "    rules_btn = widgets.Button(description=\"Rules\", layout=widgets.Layout(width=\"fit-content\"))\n",
    "    rules_btn.on_click(lambda x: print(render_rules(current_chapter.rules)))\n",
    "    controls.append(rules_btn)\n",
    "\n",
    "    if len(tags) > 0:\n",
    "        tags_lbl = widgets.Label(value=f\"Tags: {', '.join(tags)}\")\n",
    "        controls.append(tags_lbl)\n",
    "\n",
    "    if len(items) > 0:\n",
    "        items_lbl = widgets.Label(value=f\"Items: {', '.join(items)}\")\n",
    "        controls.append(items_lbl)\n",
    "    \n",
    "    display(widgets.VBox(buttons))\n",
    "\n",
    "    if (len(controls) > 0):\n",
    "        display(widgets.HBox(controls))\n",
    "\n",
    "current_chapter = getChapterById(\"r1\")\n",
    "\n",
    "# locals_dict = {}\n",
    "# s = \"'r1' in tags\"\n",
    "# source = f\"def f(tags): return {s}\"\n",
    "# exec(source, {}, locals_dict)\n",
    "# print(locals_dict['f'](['r2']))"
   ]
  },
  {
   "cell_type": "code",
<<<<<<< HEAD
   "execution_count": null,
=======
   "execution_count": 33,
>>>>>>> main
   "metadata": {},
   "outputs": [
    {
     "name": "stdout",
     "output_type": "stream",
     "text": [
<<<<<<< HEAD
      "background: your_office\n",
      "narration: \n",
      "You are a private detective. You used to be a police officer, but got fired because you found out a high-powered polician was the person behind a serial murder case.\n",
      "\n",
      "\n",
      "You are hired by Mr. Knott to investigate his old Boston house. Weird things keep happening to the former tenants. A Macario kid went crazy and killed his parents. The Porter family got a strange disease and were committed to an asylum.\n",
      "\n",
      "choices:\n",
      "1. Go to the library, find historical reports.\n",
      "2. Go to the police station, look into those cases.\n",
      "3. Check the neighbourhood.\n"
=======
      "background: house_front\n",
      "narration: \n",
      "You, John Doe, a retired detective, who has lost his family in a tragic accident, and using alcohol to cope with the loss.\n",
      "\n",
      "You have been investigating a series of murders in the town for many years.\n",
      "The recent clues led you to a abandoned house in the forest. Now you are standing in front of the house.\n",
      "choices:\n",
      "1. Enter the house from the front door.\n",
      "2. Look around the house to find some clues.\n",
      "3. Drink the alcohol to gain some courage.\n"
>>>>>>> main
     ]
    },
    {
     "data": {
      "application/vnd.jupyter.widget-view+json": {
<<<<<<< HEAD
       "model_id": "37cc86b8ac8b489199f7dce926280d48",
=======
       "model_id": "0791bd5a353c49879a4defd98cd793b4",
>>>>>>> main
       "version_major": 2,
       "version_minor": 0
      },
      "text/plain": [
<<<<<<< HEAD
       "VBox(children=(Button(description='1. Go to the library, find historical reports.', layout=Layout(width='fit-c…"
=======
       "VBox(children=(Button(description='1. Enter the house from the front door.', layout=Layout(width='fit-content'…"
>>>>>>> main
      ]
     },
     "metadata": {},
     "output_type": "display_data"
    },
    {
     "data": {
      "application/vnd.jupyter.widget-view+json": {
<<<<<<< HEAD
       "model_id": "3d46bf17e6c0466baa663aa92492d88b",
=======
       "model_id": "b5ffc333206a40f58d4aeae77f397b62",
>>>>>>> main
       "version_major": 2,
       "version_minor": 0
      },
      "text/plain": [
       "HBox(children=(Button(description='Rules', layout=Layout(width='fit-content'), style=ButtonStyle()), Label(val…"
      ]
     },
     "metadata": {},
     "output_type": "display_data"
<<<<<<< HEAD
    },
    {
     "name": "stdout",
     "output_type": "stream",
     "text": [
      "I select '2'.\n",
      "background: police_station\n",
      "narration: \n",
      "You arrive at the police station, a place you know too well. You spot Jack, an old colleague of yours, who is currently manning the front desk.\n",
      "\n",
      "skill: persuade\n",
      "difficulty: normal"
     ]
    },
    {
     "data": {
      "application/vnd.jupyter.widget-view+json": {
       "model_id": "5cecac9fb2614067b88faa35f74dbe9f",
       "version_major": 2,
       "version_minor": 0
      },
      "text/plain": [
       "VBox(children=(Button(description='persuade - normal', layout=Layout(width='fit-content'), style=ButtonStyle()…"
      ]
     },
     "metadata": {},
     "output_type": "display_data"
    },
    {
     "data": {
      "application/vnd.jupyter.widget-view+json": {
       "model_id": "37975f05839a46f59fc8f34fb4d2d2ee",
       "version_major": 2,
       "version_minor": 0
      },
      "text/plain": [
       "HBox(children=(Button(description='Retry', layout=Layout(width='fit-content'), style=ButtonStyle()), Button(de…"
      ]
     },
     "metadata": {},
     "output_type": "display_data"
    },
    {
     "name": "stdout",
     "output_type": "stream",
     "text": [
      "I roll the dice for 'PERSUADE' and SUCCESSD.\n",
      "narration: \n",
      "Jack, after a brief chat about the good old days, agrees to let you take a look at the Macario and Porter family cases. You sift through the files and notice abnormal animal-like cruises on the Macario parents' bodies. This clue sends a shiver down your spine.\n",
      "\n",
      "add_tag: abnormal_cruises\n",
      "choices:\n",
      "1. Go to the library, find historical reports.\n",
      "2. Check the neighbourhood.\n",
      "3. Head straight to the haunted house."
     ]
    },
    {
     "data": {
      "application/vnd.jupyter.widget-view+json": {
       "model_id": "dfe7414d693144be9285818b46761d29",
       "version_major": 2,
       "version_minor": 0
      },
      "text/plain": [
       "VBox(children=(Button(description='1. Go to the library, find historical reports.', layout=Layout(width='fit-c…"
      ]
     },
     "metadata": {},
     "output_type": "display_data"
    },
    {
     "data": {
      "application/vnd.jupyter.widget-view+json": {
       "model_id": "3edcd2fb7f2543ab915b2d569b9dc14c",
       "version_major": 2,
       "version_minor": 0
      },
      "text/plain": [
       "HBox(children=(Button(description='Retry', layout=Layout(width='fit-content'), style=ButtonStyle()), Button(de…"
      ]
     },
     "metadata": {},
     "output_type": "display_data"
    },
    {
     "name": "stdout",
     "output_type": "stream",
     "text": [
      "I select '2'.\n",
      "background: neighbourhood\n",
      "narration: \n",
      "You talk to Mr. Dooley, a vendor of cigars and newspapers. He's a goldmine of information. He informs you about the odd behaviors of both the Macario and Porter families before their tragic incidents.\n",
      "\n",
      "skill: spot_hidden\n",
      "difficulty: hard"
     ]
    },
    {
     "data": {
      "application/vnd.jupyter.widget-view+json": {
       "model_id": "694b4f0fca98492282848a2815a1a0ad",
       "version_major": 2,
       "version_minor": 0
      },
      "text/plain": [
       "VBox(children=(Button(description='spot_hidden - hard', layout=Layout(width='fit-content'), style=ButtonStyle(…"
      ]
     },
     "metadata": {},
     "output_type": "display_data"
    },
    {
     "data": {
      "application/vnd.jupyter.widget-view+json": {
       "model_id": "a40efe93e11c45f381e5d67e5c810188",
       "version_major": 2,
       "version_minor": 0
      },
      "text/plain": [
       "HBox(children=(Button(description='Retry', layout=Layout(width='fit-content'), style=ButtonStyle()), Button(de…"
      ]
     },
     "metadata": {},
     "output_type": "display_data"
    },
    {
     "name": "stdout",
     "output_type": "stream",
     "text": [
      "I roll the dice for 'SPOT_HIDDEN' and SUCCESSD.\n",
      "narration: \n",
      "While chatting, you notice a subtle hint in Mr. Dooley's expression when he glances towards the back of the haunted house. You deduce that entering from the back door might be a safer approach.\n",
      "\n",
      "add_tag: enter_back_door\n",
      "choices:\n",
      "1. Go to the library, find historical reports.\n",
      "2. Head straight to the haunted house through the back door.\n",
      "3. Head straight to the haunted house through the front door."
     ]
    },
    {
     "data": {
      "application/vnd.jupyter.widget-view+json": {
       "model_id": "2b58b9bef88c43aaa82225eb26541b7a",
       "version_major": 2,
       "version_minor": 0
      },
      "text/plain": [
       "VBox(children=(Button(description='1. Go to the library, find historical reports.', layout=Layout(width='fit-c…"
      ]
     },
     "metadata": {},
     "output_type": "display_data"
    },
    {
     "data": {
      "application/vnd.jupyter.widget-view+json": {
       "model_id": "4eeba9c6ab29446e832d4132414d556d",
       "version_major": 2,
       "version_minor": 0
      },
      "text/plain": [
       "HBox(children=(Button(description='Retry', layout=Layout(width='fit-content'), style=ButtonStyle()), Button(de…"
      ]
     },
     "metadata": {},
     "output_type": "display_data"
    },
    {
     "name": "stdout",
     "output_type": "stream",
     "text": [
      "I select '2'.\n",
      "whisper: MAX_TURNS is reached.\n",
      "background: neighbourhood\n",
      "narration: \n",
      "You make your way towards the back of the haunted house, avoiding the prying eyes of the neighborhood. The house looms before you, its decrepit form casting a long shadow as the sun sets. You stand before the back door, its paint peeling, the air heavy with the scent of decay.\n",
      "\n",
      "ending: You're now at the back door of the haunted house, ready to uncover its secrets."
     ]
    },
    {
     "data": {
      "application/vnd.jupyter.widget-view+json": {
       "model_id": "f2f469125b434431b80030827b611b64",
       "version_major": 2,
       "version_minor": 0
      },
      "text/plain": [
       "VBox(children=(Button(description='NEXT', layout=Layout(width='fit-content'), style=ButtonStyle()),))"
      ]
     },
     "metadata": {},
     "output_type": "display_data"
    },
    {
     "data": {
      "application/vnd.jupyter.widget-view+json": {
       "model_id": "14103959b22b4ef8a99e2f269f2b8a15",
       "version_major": 2,
       "version_minor": 0
      },
      "text/plain": [
       "HBox(children=(Button(description='Retry', layout=Layout(width='fit-content'), style=ButtonStyle()), Button(de…"
      ]
     },
     "metadata": {},
     "output_type": "display_data"
    },
    {
     "name": "stdout",
     "output_type": "stream",
     "text": [
      "Next round:  r2-1\n"
     ]
=======
>>>>>>> main
    }
   ],
   "source": [
    "initials = current_chapter.get_messages()\n",
    "print(initials[1].content)\n",
    "show_controls(initials[1])"
   ]
  }
 ],
 "metadata": {
  "kernelspec": {
   "display_name": ".venv",
   "language": "python",
   "name": "python3"
  },
  "language_info": {
   "codemirror_mode": {
    "name": "ipython",
    "version": 3
   },
   "file_extension": ".py",
   "mimetype": "text/x-python",
   "name": "python",
   "nbconvert_exporter": "python",
   "pygments_lexer": "ipython3",
   "version": "3.12.3"
  }
 },
 "nbformat": 4,
 "nbformat_minor": 2
}
