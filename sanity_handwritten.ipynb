{
 "cells": [
  {
   "cell_type": "code",
   "execution_count": null,
   "metadata": {},
   "outputs": [],
   "source": [
    "def skill_check(roll, skill):\n",
    "    dice_result = roll\n",
    "    skill_value = skills[skill]\n",
    "    print(f\"roll:{dice_result}\")\n",
    "\n",
    "    skills = {\n",
    "    'dodge': 45,\n",
    "    'spot hidden': 45,\n",
    "    'luck': 25,\n",
    "    'library use': 25,\n",
    "    'stealth': 30,\n",
    "    'disguise': 30,}\n",
    "   \n",
    "    if roll <= skill_value:\n",
    "        print(f\"skill check success\")\n",
    "    else:\n",
    "        print(f\"skill check fail\")\n",
    "\n",
    "\n"
   ]
  },
  {
   "cell_type": "code",
   "execution_count": 11,
   "metadata": {},
   "outputs": [
    {
     "name": "stdout",
     "output_type": "stream",
     "text": [
      "Skill chosen: dodge\n",
      "Skill value: 45\n",
      "Roll Result: 22\n",
      "Skill check SUCCESS!\n"
     ]
    }
   ],
   "source": [
    "import random\n",
    "\n",
    "# Define the skills with their respective points\n",
    "skills = {\n",
    "    'dodge': 45,\n",
    "    'spot hidden': 45,\n",
    "    'luck': 25,\n",
    "    'library use': 25,\n",
    "    'stealth': 30,\n",
    "    'disguise': 30,\n",
    "}\n",
    "\n",
    "def roll_dice():\n",
    "    \"\"\"Simulate rolling a d100.\"\"\"\n",
    "    return random.randint(1, 100)\n",
    "\n",
    "def skill_check(skill):\n",
    "    \"\"\"Perform a skill check using the specified skill.\"\"\"\n",
    "    roll_result = roll_dice()\n",
    "    skill_value = skills[skill]\n",
    "    print(f\"Skill chosen: {skill}\")\n",
    "    print(f\"Skill value: {skill_value}\")\n",
    "    print(f\"Roll Result: {roll_result}\")\n",
    "    \n",
    "    if roll_result <= skill_value:\n",
    "        print(\"Skill check SUCCESS!\")\n",
    "    else:\n",
    "        print(\"Skill check FAILED.\")\n",
    "\n",
    "def main():\n",
    "    # Specify the skill to be used here\n",
    "    skill_used = 'stealth'\n",
    "    \n",
    "    if skill_used in skills:\n",
    "        skill_check(skill_used)\n",
    "    else:\n",
    "        print(\"Invalid skill selected. Please check the skill list.\")\n",
    "\n",
    "\n",
    "skill_check('dodge')"
   ]
  }
 ],
 "metadata": {
  "kernelspec": {
   "display_name": "Python 3",
   "language": "python",
   "name": "python3"
  },
  "language_info": {
   "codemirror_mode": {
    "name": "ipython",
    "version": 3
   },
   "file_extension": ".py",
   "mimetype": "text/x-python",
   "name": "python",
   "nbconvert_exporter": "python",
   "pygments_lexer": "ipython3",
   "version": "3.12.3"
  }
 },
 "nbformat": 4,
 "nbformat_minor": 2
}
