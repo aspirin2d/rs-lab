{
 "cells": [
  {
   "cell_type": "code",
   "execution_count": 1,
   "metadata": {},
   "outputs": [
    {
     "name": "stdout",
     "output_type": "stream",
     "text": [
      "Requirement already satisfied: fastapi in c:\\users\\administrator\\appdata\\local\\programs\\python\\python312\\lib\\site-packages (0.110.2)\n",
      "Requirement already satisfied: pydantic in c:\\users\\administrator\\appdata\\local\\programs\\python\\python312\\lib\\site-packages (2.7.0)\n",
      "Requirement already satisfied: toml in c:\\users\\administrator\\appdata\\local\\programs\\python\\python312\\lib\\site-packages (0.10.2)\n",
      "Requirement already satisfied: starlette<0.38.0,>=0.37.2 in c:\\users\\administrator\\appdata\\local\\programs\\python\\python312\\lib\\site-packages (from fastapi) (0.37.2)\n",
      "Requirement already satisfied: typing-extensions>=4.8.0 in c:\\users\\administrator\\appdata\\local\\programs\\python\\python312\\lib\\site-packages (from fastapi) (4.11.0)\n",
      "Requirement already satisfied: annotated-types>=0.4.0 in c:\\users\\administrator\\appdata\\local\\programs\\python\\python312\\lib\\site-packages (from pydantic) (0.6.0)\n",
      "Requirement already satisfied: pydantic-core==2.18.1 in c:\\users\\administrator\\appdata\\local\\programs\\python\\python312\\lib\\site-packages (from pydantic) (2.18.1)\n",
      "Requirement already satisfied: anyio<5,>=3.4.0 in c:\\users\\administrator\\appdata\\local\\programs\\python\\python312\\lib\\site-packages (from starlette<0.38.0,>=0.37.2->fastapi) (4.3.0)\n",
      "Requirement already satisfied: idna>=2.8 in c:\\users\\administrator\\appdata\\local\\programs\\python\\python312\\lib\\site-packages (from anyio<5,>=3.4.0->starlette<0.38.0,>=0.37.2->fastapi) (3.7)\n",
      "Requirement already satisfied: sniffio>=1.1 in c:\\users\\administrator\\appdata\\local\\programs\\python\\python312\\lib\\site-packages (from anyio<5,>=3.4.0->starlette<0.38.0,>=0.37.2->fastapi) (1.3.1)\n",
      "Note: you may need to restart the kernel to use updated packages.\n"
     ]
    }
   ],
   "source": [
    "%pip install fastapi pydantic toml"
   ]
  },
  {
   "cell_type": "code",
   "execution_count": 2,
   "metadata": {},
   "outputs": [],
   "source": [
    "# from rs import skill_check\n",
    "\n",
    "# def test_skill_check(metadata):\n",
    "#     print(skill_check(\"sanity\", None, metadata))\n",
    "\n",
    "# metadata = {\n",
    "#     \"character\": {\"sanity\":30},\n",
    "#     \"symptom\":[\n",
    "#         \"incoherent speech\",\n",
    "#         \"uncontrollable twitching, trembling\",\n",
    "#         \"delusions of persecution\",\n",
    "#         \"strange appetites (dirt, clay, etc...)\",\n",
    "#         \"scratches, punches, and bruises all over the body\"\n",
    "#     ]\n",
    "# }\n",
    "\n",
    "# test_skill_check(metadata)\n",
    "# test_skill_check(metadata)\n",
    "# test_skill_check(metadata)\n",
    "# test_skill_check(metadata)\n",
    "# test_skill_check(metadata)\n",
    "# test_skill_check(metadata)\n",
    "# test_skill_check(metadata)\n",
    "# test_skill_check(metadata)\n",
    "# test_skill_check(metadata)\n",
    "# test_skill_check(metadata)\n",
    "# test_skill_check(metadata)\n",
    "# test_skill_check(metadata)\n",
    "\n",
    "# print(metadata[\"character\"])\n"
   ]
  },
  {
   "cell_type": "code",
   "execution_count": 3,
   "metadata": {},
   "outputs": [
    {
     "name": "stdout",
     "output_type": "stream",
     "text": [
      "You arrived at an old self-storage facility by invitation from the manager, who has an storage room up for auction due to the death of its owner. It is not your first rodeo with these forms of auctions, like a box of chocolate, no one knows of the potential treasure that hides behind the cold roller shutter. As you and other interested buyers gathered around the auctioneer, a worker carrying a bolt cutter snapped off the rusty lock, unveiling a storage room cluttered with various old furniture and antiquities. Without any opportunity for the bidders to take a clear look, the auctioneer began the bid at $50. \n",
      "\n",
      "What is your bid?\n",
      "\n",
      "possible actions:\n",
      "1. $100.\n",
      "2. $150.\n",
      "3. $200.\n"
     ]
    },
    {
     "data": {
      "application/vnd.jupyter.widget-view+json": {
       "model_id": "b2949bd9dfe4420da3c8e4c94f7859c4",
       "version_major": 2,
       "version_minor": 0
      },
      "text/plain": [
       "HBox(children=(Button(description='1', layout=Layout(width='auto'), style=ButtonStyle(), tooltip='$100.'), But…"
      ]
     },
     "metadata": {},
     "output_type": "display_data"
    },
    {
     "name": "stdout",
     "output_type": "stream",
     "text": [
      "I select option 3. TURN: 1 \n",
      "\n",
      "\n",
      "The auctioneer nods at your bid, \"We have $200 from the gentleman over here!\" The atmosphere becomes tense as other bidders weigh their options. After a moment of silence, a lady in the back raises her hand, \"I'll go $250.\"\n",
      "\n",
      "possible actions:\n",
      "1. Bid $300.\n",
      "2. Bid $350.\n",
      "3. Stay at $200 and see if anyone else bids higher."
     ]
    },
    {
     "data": {
      "application/vnd.jupyter.widget-view+json": {
       "model_id": "aa9b7c57210e4fde9764b52d261e7bf0",
       "version_major": 2,
       "version_minor": 0
      },
      "text/plain": [
       "HBox(children=(Button(description='1', layout=Layout(width='auto'), style=ButtonStyle(), tooltip='Bid $300.'),…"
      ]
     },
     "metadata": {},
     "output_type": "display_data"
    },
    {
     "name": "stdout",
     "output_type": "stream",
     "text": [
      "I select option 2. TURN: 2 \n",
      "\n",
      "\n",
      "\"Ah, we have $350 from the gentleman!\" the auctioneer announces with a hint of excitement in his voice. The crowd murmurs, and you can see a few bidders shaking their heads, stepping back from the competition. The lady who previously bid $250 hesitates for a moment, then reluctantly raises her hand, \"I'll go $400.\"\n",
      "\n",
      "possible actions:\n",
      "1. Bid $450, all in.\n",
      "2. Stay at $350 and hope for the best."
     ]
    },
    {
     "data": {
      "application/vnd.jupyter.widget-view+json": {
       "model_id": "a07ea468e578482f89270627c8fbee33",
       "version_major": 2,
       "version_minor": 0
      },
      "text/plain": [
       "HBox(children=(Button(description='1', layout=Layout(width='auto'), style=ButtonStyle(), tooltip='Bid $450, al…"
      ]
     },
     "metadata": {},
     "output_type": "display_data"
    },
    {
     "name": "stdout",
     "output_type": "stream",
     "text": [
      "I select option 1. TURN: 3 \n",
      "\n",
      "\n",
      "With a determined look, you call out, \"I'll bid $450, all in.\" The auctioneer's eyes widen slightly, impressed by your bold move. The crowd falls silent, waiting to see if anyone dares to challenge your bid. The lady who bid $400 looks around, perhaps hoping someone else would jump in, but eventually, she shakes her head and steps back.\n",
      "\n",
      "The auctioneer waits a moment longer for any further bids, then raises his gavel, \"Going once, going twice... and sold to the gentleman for $450!\" Applause breaks out among the crowd as the auctioneer congratulates you on your purchase.\n",
      "\n",
      "summary: Kyle Jackson wins the self-storage auction with a bold bid of $450, spending all his money but potentially securing valuable or mysterious contents within the storage room. The round is completed with Kyle's successful bid."
     ]
    },
    {
     "data": {
      "application/vnd.jupyter.widget-view+json": {
       "model_id": "59a920999c954080babc6f1aaefc13a4",
       "version_major": 2,
       "version_minor": 0
      },
      "text/plain": [
       "HBox(children=(Button(description='NEXT ROUND', layout=Layout(width='auto'), style=ButtonStyle()), Button(desc…"
      ]
     },
     "metadata": {},
     "output_type": "display_data"
    },
    {
     "name": "stdout",
     "output_type": "stream",
     "text": [
      "You follow the manager through the myriad hallways to his dimly lit office, where the furnishings and appliances remain unchanged since the 90’s. He often reminds you that the facility is in fact even older, and has been here since the 60’s. You made a quick phone call to Alex, a man you owe money to, and explained to him that you will pay him back in a few days once you have it, to which he responded with distasteful threats. The manager took out an old tin box and placed it on his desk and reached towards you with an open palm, gesturing for you to pay up, which you obliged. Upon handing you a key for your newly owned storage room, he urged you to watch some old security footage.\n",
      "\n",
      "Through his CRT screen, he explains to you that the previous owner visited the storage room every day for as long as he can remember. What’s even stranger is that he would hop 3 times towards the storage before entering, and would always bring a paper bag with him, and it would always be empty when he leaves. \n",
      "\n",
      "Regardless of the strange footage and information, you went to the parking lot to grab your duffle bag so that you may start clearing the storage and look for things valuable to sell. As you are walking back, you are confronted by a middle-aged woman, she requests that you give her access to her lot, which you purchased last time so that she may recover her old family silver locket.\n",
      "\n",
      "What is your next step?\n",
      "\n",
      "possible actions:\n",
      "1. Reject her\n",
      "2. Accept her request but lose out on potential earnings\n",
      "3. Ignore her completely\n"
     ]
    },
    {
     "data": {
      "application/vnd.jupyter.widget-view+json": {
       "model_id": "62e62d4aeaac4ff288be62d15a800536",
       "version_major": 2,
       "version_minor": 0
      },
      "text/plain": [
       "HBox(children=(Button(description='1', layout=Layout(width='auto'), style=ButtonStyle(), tooltip='Reject her')…"
      ]
     },
     "metadata": {},
     "output_type": "display_data"
    },
    {
     "name": "stdout",
     "output_type": "stream",
     "text": [
      "I select option 2. TURN: 1 \n",
      "\n",
      "\n",
      "You nod, understanding the sentimental value of such an item, and agree to let the woman retrieve her family's silver locket. She thanks you profusely, her eyes welling up with tears of gratitude. She quickly moves towards the storage unit, retrieves a small, tarnished silver locket from a dusty box near the entrance, and leaves without another word, clutching the locket close to her chest.\n",
      "\n",
      "Feeling a bit lighter for having done a good deed, you turn your attention back to your newly acquired storage room. You insert the key into the lock, turn it, and push the door open, revealing the contents of the room. The storage is dimly lit by the light seeping in from the hallway, casting long shadows across the various objects inside. You notice several old wooden crates, a large, dust-covered trunk, an antique-looking mirror standing against one wall, and several old books piled haphazardly in a corner.\n",
      "\n",
      "What do you want to do next?\n",
      "\n",
      "possible actions:\n",
      "1. Examine the wooden crates\n",
      "2. Open the large trunk\n",
      "3. Look into the antique mirror\n",
      "4. Investigate the pile of books"
     ]
    },
    {
     "data": {
      "application/vnd.jupyter.widget-view+json": {
       "model_id": "9e190409901f42b59edb8739e07d5d9c",
       "version_major": 2,
       "version_minor": 0
      },
      "text/plain": [
       "HBox(children=(Button(description='1', layout=Layout(width='auto'), style=ButtonStyle(), tooltip='Examine the …"
      ]
     },
     "metadata": {},
     "output_type": "display_data"
    },
    {
     "name": "stdout",
     "output_type": "stream",
     "text": [
      "I select option 1. TURN: 2 \n",
      "\n",
      "\n",
      "You decide to start with the wooden crates. The wood is old and weathered, and the crates are sealed with rusted nails. You pull out your multi-tool, using the flat edge to pry open the lid of the first crate. Inside, you find a collection of old, glass jars filled with various substances. Some jars contain what appear to be dried herbs, others hold dark, viscous liquids, and a few contain substances you can't immediately identify. Each jar is labeled in a handwriting that's difficult to decipher, with names like \"Wolfsbane,\" \"Nightshade,\" and \"Mandrake Root.\"\n",
      "\n",
      "As you sift through the jars, you notice one in particular that stands out. It's smaller than the others, with a dark, almost black substance inside. The label on this jar reads \"Elixir of Dreams.\" The substance inside seems to shift and move on its own, captivating your attention.\n",
      "\n",
      "What do you want to do next?\n",
      "\n",
      "possible actions:\n",
      "1. Open the \"Elixir of Dreams\" jar\n",
      "2. Continue examining the other crates\n",
      "3. Investigate the large trunk\n",
      "4. Look into the antique mirror"
     ]
    },
    {
     "data": {
      "application/vnd.jupyter.widget-view+json": {
       "model_id": "45cf2d0cb4f84535ba0cfe3b6515e365",
       "version_major": 2,
       "version_minor": 0
      },
      "text/plain": [
       "HBox(children=(Button(description='1', layout=Layout(width='auto'), style=ButtonStyle(), tooltip='Open the \"El…"
      ]
     },
     "metadata": {},
     "output_type": "display_data"
    },
    {
     "name": "stdout",
     "output_type": "stream",
     "text": [
      "I select option 2. TURN: 3 \n",
      "\n",
      "\n",
      "You decide to leave the intriguing \"Elixir of Dreams\" jar for now and continue examining the other crates. Moving on to the next crate, you pry it open and find it filled with an assortment of strange artifacts. Among the items, you discover a small, intricately carved wooden box, a set of tarnished brass scales, and a collection of old coins from various countries, some of which you recognize as being quite ancient.\n",
      "\n",
      "The wooden box catches your eye; it's carved with symbols that seem to shift and change as you look at them, almost as if they're alive. The box is locked, but it doesn't seem to have a keyhole. Instead, there's a puzzle mechanism on the top that appears to require some sort of sequence to open.\n",
      "\n",
      "As you're examining the box, you suddenly hear a faint whispering sound coming from the back of the storage room. It's so soft that you're not sure if you actually heard it or if it's just your imagination.\n",
      "\n",
      "What do you want to do next?\n",
      "\n",
      "possible actions:\n",
      "1. Try to solve the puzzle box\n",
      "2. Investigate the source of the whispering sound\n",
      "3. Open the large trunk\n",
      "4. Look into the antique mirror"
     ]
    },
    {
     "data": {
      "application/vnd.jupyter.widget-view+json": {
       "model_id": "16a59d692512424da9ca8ea508500fbd",
       "version_major": 2,
       "version_minor": 0
      },
      "text/plain": [
       "HBox(children=(Button(description='1', layout=Layout(width='auto'), style=ButtonStyle(), tooltip='Try to solve…"
      ]
     },
     "metadata": {},
     "output_type": "display_data"
    },
    {
     "name": "stdout",
     "output_type": "stream",
     "text": [
      "I select option 2. TURN: 4 \n",
      "\n",
      "\n",
      "Curiosity piqued by the faint whispering sound, you carefully place the puzzle box back into the crate and make your way towards the back of the storage room. The whispering grows slightly louder as you approach, guiding you to a small, dust-covered table against the far wall. On the table, you find an old phonograph, its horn covered in cobwebs and dust. Beside the phonograph, there's a stack of records, and one is already placed on the turntable, seemingly ready to play.\n",
      "\n",
      "Realizing the whispering sound is coming from the phonograph, you reach out and gently crank the handle, winding it up. As the mechanism inside begins to turn, the whispering sound is replaced by a low, haunting melody that fills the room. The music is unlike anything you've ever heard, with strange harmonies and an eerie quality that sends shivers down your spine.\n",
      "\n",
      "As the music plays, the atmosphere in the storage room seems to change, the shadows growing deeper and the air becoming colder. You feel a sense of unease creeping over you, as if the music is awakening something in the room.\n",
      "\n",
      "What do you want to do next?\n",
      "\n",
      "possible actions:\n",
      "1. Stop the phonograph and investigate the records\n",
      "2. Continue listening to see if anything happens\n",
      "3. Open the large trunk\n",
      "4. Look into the antique mirror"
     ]
    },
    {
     "data": {
      "application/vnd.jupyter.widget-view+json": {
       "model_id": "9843e01b552547a391c3e03153c457ad",
       "version_major": 2,
       "version_minor": 0
      },
      "text/plain": [
       "HBox(children=(Button(description='1', layout=Layout(width='auto'), style=ButtonStyle(), tooltip='Stop the pho…"
      ]
     },
     "metadata": {},
     "output_type": "display_data"
    },
    {
     "name": "stdout",
     "output_type": "stream",
     "text": [
      "I select option 1. TURN: 5 \n",
      "\n",
      "\n",
      "Feeling a growing sense of unease, you decide to stop the phonograph, halting the haunting melody mid-note. The sudden silence that follows feels almost oppressive, as if the room itself is holding its breath. You carefully lift the needle from the record and examine it. The label is worn and faded, but you can just make out the title, \"Melodies of the Deep Unknown,\" with no artist's name visible.\n",
      "\n",
      "You sift through the stack of records beside the phonograph, finding titles such as \"Whispers of the Old Gods,\" \"Lullabies for the Lost,\" and \"Chants from Beyond.\" Each record's label bears similarly cryptic titles and no indication of their origin or age. The artwork on the covers is unsettling, featuring abstract, swirling patterns that seem to move if you stare at them for too long.\n",
      "\n",
      "As you're examining the records, you hear a soft thud from the direction of the large trunk. It's as if something inside is trying to make its presence known. The air in the storage room feels charged with anticipation, and you can't shake the feeling that you're not alone.\n",
      "\n",
      "What do you want to do next?\n",
      "\n",
      "possible actions:\n",
      "1. Investigate the sound coming from the large trunk\n",
      "2. Leave the storage room to gather your thoughts\n",
      "3. Look into the antique mirror\n",
      "4. Continue examining the other crates"
     ]
    },
    {
     "data": {
      "application/vnd.jupyter.widget-view+json": {
       "model_id": "3c6b2aa3b576414980351bd1cf2ba254",
       "version_major": 2,
       "version_minor": 0
      },
      "text/plain": [
       "HBox(children=(Button(description='1', layout=Layout(width='auto'), style=ButtonStyle(), tooltip='Investigate …"
      ]
     },
     "metadata": {},
     "output_type": "display_data"
    },
    {
     "name": "stdout",
     "output_type": "stream",
     "text": [
      "I select option 1. TURN: 6 \n",
      "\n",
      "\n",
      "Compelled by the soft thud coming from the large trunk, you cautiously approach it. The trunk is old, with metal bindings and a heavy padlock securing it shut. However, you notice that the padlock is not fully latched, as if it was hastily closed and not secured properly.\n",
      "\n",
      "With a sense of trepidation, you lift the lid of the trunk. Inside, you find an assortment of bizarre and macabre items: a collection of ancient-looking tomes bound in unfamiliar materials, several small, intricately carved statues that depict grotesque figures, and a folded piece of old, yellowed parchment on top.\n",
      "\n",
      "You carefully unfold the parchment, revealing a hand-drawn map. The map appears to detail a series of tunnels or catacombs, with various symbols and notes scrawled in the margins. One area is marked with a symbol that eerily resembles the one carved on the puzzle box you found earlier.\n",
      "\n",
      "As you're examining the map, a sudden chill fills the room, and the dim light from the hallway seems to flicker and grow dimmer. You hear the faint sound of the phonograph starting up again on its own, playing the haunting melody you had stopped moments ago. The atmosphere in the storage room becomes even more oppressive, and you feel a growing sense of dread.\n",
      "\n",
      "What do you want to do next?\n",
      "\n",
      "possible actions:\n",
      "1. Take the map and leave the storage room immediately\n",
      "2. Try to solve the puzzle box using the symbol on the map as a clue\n",
      "3. Look into the antique mirror\n",
      "4. Continue examining the other crates"
     ]
    },
    {
     "data": {
      "application/vnd.jupyter.widget-view+json": {
       "model_id": "e78ade557929450cb6e7200f893187e0",
       "version_major": 2,
       "version_minor": 0
      },
      "text/plain": [
       "HBox(children=(Button(description='1', layout=Layout(width='auto'), style=ButtonStyle(), tooltip='Take the map…"
      ]
     },
     "metadata": {},
     "output_type": "display_data"
    },
    {
     "name": "stdout",
     "output_type": "stream",
     "text": [
      "I select option 2. TURN: 7 \n",
      "\n",
      "\n",
      "Feeling a connection between the symbol on the map and the puzzle box, you decide to use the clue from the map to attempt to solve the puzzle box. You retrieve the box from the crate, the symbols carved into its surface seeming to pulsate in the dim light of the storage room. With the haunting melody from the phonograph filling the space, you focus on the symbols, comparing them to the one marked on the map.\n",
      "\n",
      "After a few moments of concentration, you begin to manipulate the symbols on the box, aligning them in a sequence that matches the arrangement suggested by the map. As you complete the sequence, you hear a soft click from the box. The lid springs open slightly, revealing a small, dark compartment inside.\n",
      "\n",
      "Within the compartment lies a single, ancient-looking key. The key is made of a heavy metal, its bow intricately designed to resemble the same grotesque figure depicted on some of the statues within the trunk. The teeth of the key are unlike any you've seen, suggesting it opens something unique or unusual.\n",
      "\n",
      "As you lift the key from the box, the oppressive atmosphere in the storage room seems to intensify, and the temperature drops noticeably. The melody from the phonograph grows louder, more insistent, as if urging you towards some unknown action.\n",
      "\n",
      "What do you want to do next?\n",
      "\n",
      "possible actions:\n",
      "1. Take the key and leave the storage room immediately\n",
      "2. Look into the antique mirror\n",
      "3. Investigate the source of the phonograph playing on its own\n",
      "4. Continue examining the other crates"
     ]
    },
    {
     "data": {
      "application/vnd.jupyter.widget-view+json": {
       "model_id": "b3d7b7ccc14242b39efbaf0ee881605e",
       "version_major": 2,
       "version_minor": 0
      },
      "text/plain": [
       "HBox(children=(Button(description='1', layout=Layout(width='auto'), style=ButtonStyle(), tooltip='Take the key…"
      ]
     },
     "metadata": {},
     "output_type": "display_data"
    },
    {
     "name": "stdout",
     "output_type": "stream",
     "text": [
      "I select option 3. TURN: 8 \n",
      "\n",
      "\n",
      "Driven by the unnerving melody and the mysterious circumstances, you decide to investigate the source of the phonograph playing on its own. As you approach the phonograph, the music seems to swell, filling the storage room with its haunting tones. The phonograph itself appears ancient, its wood frame worn and its metal components tarnished with age. Yet, it plays as if it were brand new, the sound clear and disturbingly captivating.\n",
      "\n",
      "You examine the phonograph closely, looking for any mechanism or device that could have caused it to start playing without human intervention. However, you find nothing out of the ordinary; it's simply an old, hand-cranked phonograph. The record spins steadily, the needle tracing the grooves with precision.\n",
      "\n",
      "Feeling a growing sense of unease, you reach out and stop the phonograph once more, halting the melody. The silence that follows is almost deafening, the sudden absence of sound making the storage room feel even more isolated and eerie.\n",
      "\n",
      "As you stand there, pondering the phonograph's mysterious behavior, you notice a faint, glowing light reflecting off something in the corner of the room. It's coming from the direction of the antique mirror you had previously decided not to investigate.\n",
      "\n",
      "What do you want to do next?\n",
      "\n",
      "possible actions:\n",
      "1. Investigate the glowing light in the antique mirror\n",
      "2. Take the key and leave the storage room immediately\n",
      "3. Continue examining the other crates"
     ]
    },
    {
     "data": {
      "application/vnd.jupyter.widget-view+json": {
       "model_id": "6776b5179144447592c53fc64152f2be",
       "version_major": 2,
       "version_minor": 0
      },
      "text/plain": [
       "HBox(children=(Button(description='1', layout=Layout(width='auto'), style=ButtonStyle(), tooltip='Investigate …"
      ]
     },
     "metadata": {},
     "output_type": "display_data"
    },
    {
     "name": "stdout",
     "output_type": "stream",
     "text": [
      "I select option 1. TURN: 9 \n",
      "\n",
      "\n",
      "Compelled by the faint, glowing light, you cautiously approach the antique mirror. The frame is ornate, carved with intricate designs that seem to twist and writhe in the dim light of the storage room. As you draw closer, the source of the glow becomes apparent: the mirror's surface itself seems to shimmer with a light that doesn't reflect the room around you.\n",
      "\n",
      "Standing before the mirror, you catch your reflection—or rather, a distorted version of it. The light within the mirror casts strange shadows across your features, making you appear older, your eyes hollow and haunted. The room reflected in the mirror is similar to the storage room, yet different; it's darker, the shadows deeper, and you can see shapes moving just at the edge of your vision.\n",
      "\n",
      "As you watch, transfixed, the shapes begin to coalesce into a figure standing behind your reflection. It's tall and indistinct, its features blurred and shifting, but there's an unmistakable sense of malevolence about it. It reaches out, its hand moving towards the surface of the mirror, towards you.\n",
      "\n",
      "A cold dread fills you, and you realize that the mirror is not just reflecting light; it's a gateway of some sort, and something on the other side is trying to come through.\n",
      "\n",
      "What do you want to do next?\n",
      "\n",
      "possible actions:\n",
      "1. Try to communicate with the figure in the mirror\n",
      "2. Smash the mirror to prevent anything from coming through\n",
      "3. Take the key and leave the storage room immediately\n",
      "4. Continue examining the other crates"
     ]
    },
    {
     "data": {
      "application/vnd.jupyter.widget-view+json": {
       "model_id": "25200fd53d8a4f04b4f113b81241f729",
       "version_major": 2,
       "version_minor": 0
      },
      "text/plain": [
       "HBox(children=(Button(description='1', layout=Layout(width='auto'), style=ButtonStyle(), tooltip='Try to commu…"
      ]
     },
     "metadata": {},
     "output_type": "display_data"
    },
    {
     "name": "stdout",
     "output_type": "stream",
     "text": [
      "I select option 1. TURN: 10 \n",
      "\n",
      "\n",
      "With a mixture of fear and curiosity, you decide to try to communicate with the figure in the mirror. You steady your voice and ask, \"Who are you? What do you want?\"\n",
      "\n",
      "The figure stops its advance, its form becoming slightly clearer. It tilts its head, as if curious, and then, in a voice that seems to come from all around you, it speaks. \"Seeker,\" it whispers, the word echoing as if spoken in a vast, empty chamber. \"The key... it unlocks the gate... to knowledge... to power... but also... to despair.\"\n",
      "\n",
      "The figure's warning is cryptic, its intentions unclear. Yet, there's a sincerity in its voice that chills you to the bone. It seems to be both cautioning you and compelling you towards something inevitable.\n",
      "\n",
      "As it speaks, the glow in the mirror intensifies, casting an otherworldly light across the storage room. The figure's form begins to fade, dissolving into the light until it's gone, leaving only your own reflection looking back at you, albeit shaken and more wary than before.\n",
      "\n",
      "The room feels colder now, the silence heavier. The encounter with the figure in the mirror has left you with more questions than answers, and the key you found feels heavier in your pocket, its significance now more ominous.\n",
      "\n",
      "What do you want to do next?\n",
      "\n",
      "possible actions:\n",
      "1. Take the key and leave the storage room immediately\n",
      "2. Continue examining the other crates\n",
      "3. Investigate the large trunk further"
     ]
    },
    {
     "data": {
      "application/vnd.jupyter.widget-view+json": {
       "model_id": "8486bfc4fc7c487ab82783e1a63e606a",
       "version_major": 2,
       "version_minor": 0
      },
      "text/plain": [
       "HBox(children=(Button(description='1', layout=Layout(width='auto'), style=ButtonStyle(), tooltip='Take the key…"
      ]
     },
     "metadata": {},
     "output_type": "display_data"
    }
   ],
   "source": [
    "import re\n",
    "import tomllib\n",
    "import functools\n",
    "from typing import Literal\n",
    "\n",
    "import ipywidgets as widgets\n",
    "from IPython.display import display\n",
    "\n",
    "from dotenv import load_dotenv\n",
    "\n",
    "load_dotenv()\n",
    "\n",
    "from rs import Message, Config, chat, skill_check\n",
    "import d20\n",
    "\n",
    "action_pattern = re.compile(r\"(\\d+). *(.+)\")\n",
    "skill_pattern = re.compile(r\"[\\w_]+\")\n",
    "skill_difficulty_pattern = re.compile(r\"(easy|medium|hard)\")\n",
    "\n",
    "def next_round(b):\n",
    "    global current_round, initial_messages\n",
    "    current_round += 1\n",
    "    initial_messages = config.initial_messages(current_round, config.metadata)\n",
    "\n",
    "    print(initial_messages[-1].content)\n",
    "    display(get_controls(initial_messages[-1]))\n",
    "\n",
    "def get_user_message_tail():\n",
    "    count = 0\n",
    "    for msg in initial_messages:\n",
    "        if msg.role == \"user\":\n",
    "            count += 1\n",
    "\n",
    "    is_final =  \", FINAL ROUND\" if  current_round == len(config.rounds) else \"\"\n",
    "    \n",
    "    # print(config.metadata[\"character\"])\n",
    "    \n",
    "    if \"tags\" in config.metadata[\"character\"] and \"insane\" in config.metadata[\"character\"][\"tags\"]:\n",
    "        return f\"TURN: {count + 1} {is_final} (I'm insane!)\"\n",
    "    \n",
    "    return f\"TURN: {count + 1} {is_final}\"\n",
    "    \n",
    "\n",
    "def do_chat(role:Literal[\"user\", \"system\", \"assistant\"], content: str):\n",
    "    print(f\"{content}\\n\\n\")\n",
    "\n",
    "    initial_messages.append(Message(role=role, content=content))\n",
    "    msg = chat(initial_messages, lambda delta: print(delta, end=\"\"))\n",
    "\n",
    "    initial_messages.append(msg)\n",
    "    display(get_controls(msg))\n",
    "\n",
    "\n",
    "def on_skill(b, skill:str, difficulty:str):\n",
    "    # print(config.metadata[\"character\"])\n",
    "    content = skill_check(skill, difficulty, config.metadata)\n",
    "    content += f\"\\n{get_user_message_tail()}\"\n",
    "    do_chat(\"user\", content)\n",
    "\n",
    "def on_action(b, index:int):\n",
    "    content = f\"I select option {index}. {get_user_message_tail()}\"\n",
    "    do_chat(\"user\", content)\n",
    "\n",
    "def on_custom_input(b, input:widgets.Text):\n",
    "    content = f\"{input.value}. {get_user_message_tail()}\"\n",
    "    do_chat(\"user\", content)\n",
    "\n",
    "def on_custom_action(b):\n",
    "    hbox = widgets.HBox(layout=widgets.Layout(width=\"100%\"))\n",
    "    action_text = widgets.Text(layout=widgets.Layout(width=\"100%\"))\n",
    "    submit = widgets.Button(description=\"SUBMIT\", layout=widgets.Layout(width=\"fit-content\"))\n",
    "    submit.on_click(functools.partial(on_custom_input, input=action_text))\n",
    "    hbox.children += (action_text, submit) \n",
    "    display(hbox)\n",
    "\n",
    "def get_controls(msg:Message) -> widgets.Box:\n",
    "    dict = msg.dict()\n",
    "    buttons = []\n",
    "    if \"possible actions\" in dict.keys():\n",
    "        matches = action_pattern.finditer(dict[\"possible actions\"])\n",
    "        for match in matches:\n",
    "            btn = widgets.Button(description=match.group(1), tooltip=match.group(2), layout=widgets.Layout(width=\"auto\"))\n",
    "            btn.on_click(functools.partial(on_action, index=int(match.group(1))))\n",
    "            buttons.append(btn)\n",
    "    elif \"skill\" in dict.keys() and \"difficulty\" in dict.keys():\n",
    "        match = skill_pattern.match(dict[\"skill\"])\n",
    "        skill = match.group(0)\n",
    "        match = skill_difficulty_pattern.match(dict[\"difficulty\"])\n",
    "        difficulty = match.group(0)\n",
    "        skill_button = widgets.Button(description=f\"{skill.upper()} [{difficulty.upper()}]\", layout=widgets.Layout(width=\"auto\"))\n",
    "        skill_button.on_click(functools.partial(on_skill, skill=skill, difficulty=difficulty))\n",
    "        buttons.append(skill_button)\n",
    "    elif \"summary\" in dict.keys():\n",
    "        # add summary as a memory to the metadata\n",
    "        # it will be used in the next round.\n",
    "        config.metadata[\"memories\"] = []\n",
    "        config.metadata[\"memories\"].append(dict[\"summary\"])\n",
    "        next_btn = widgets.Button(description=\"NEXT ROUND\", layout=widgets.Layout(width=\"auto\"))\n",
    "        next_btn.on_click(next_round)\n",
    "        buttons.append(next_btn)\n",
    "    \n",
    "    custom_action_button = widgets.Button(description=\"CUSTOM\")\n",
    "    custom_action_button.on_click(on_custom_action)\n",
    "    buttons.append(custom_action_button)\n",
    "\n",
    "    return widgets.HBox(buttons)\n",
    "\n",
    "# open config file\n",
    "config_name = \"data/config_skillcheck_test copy.toml\"\n",
    "config: Config | None = None\n",
    "with open(config_name, \"rb\") as f:\n",
    "    data = tomllib.load(f)\n",
    "    config = Config(**data)\n",
    "\n",
    "current_round = 0\n",
    "initial_messages = config.initial_messages(current_round, config.metadata)\n",
    "\n",
    "print(initial_messages[-1].content)\n",
    "display(get_controls(initial_messages[-1]))"
   ]
  }
 ],
 "metadata": {
  "kernelspec": {
   "display_name": ".venv",
   "language": "python",
   "name": "python3"
  },
  "language_info": {
   "codemirror_mode": {
    "name": "ipython",
    "version": 3
   },
   "file_extension": ".py",
   "mimetype": "text/x-python",
   "name": "python",
   "nbconvert_exporter": "python",
   "pygments_lexer": "ipython3",
   "version": "3.12.3"
  }
 },
 "nbformat": 4,
 "nbformat_minor": 2
}
