{
 "cells": [
  {
   "cell_type": "code",
   "execution_count": 17,
   "metadata": {},
   "outputs": [
    {
     "name": "stdout",
     "output_type": "stream",
     "text": [
      "Requirement already satisfied: fastapi in c:\\users\\administrator\\appdata\\local\\programs\\python\\python312\\lib\\site-packages (0.110.2)\n",
      "Requirement already satisfied: pydantic in c:\\users\\administrator\\appdata\\local\\programs\\python\\python312\\lib\\site-packages (2.7.0)\n",
      "Requirement already satisfied: toml in c:\\users\\administrator\\appdata\\local\\programs\\python\\python312\\lib\\site-packages (0.10.2)\n",
      "Requirement already satisfied: starlette<0.38.0,>=0.37.2 in c:\\users\\administrator\\appdata\\local\\programs\\python\\python312\\lib\\site-packages (from fastapi) (0.37.2)\n",
      "Requirement already satisfied: typing-extensions>=4.8.0 in c:\\users\\administrator\\appdata\\local\\programs\\python\\python312\\lib\\site-packages (from fastapi) (4.11.0)\n",
      "Requirement already satisfied: annotated-types>=0.4.0 in c:\\users\\administrator\\appdata\\local\\programs\\python\\python312\\lib\\site-packages (from pydantic) (0.6.0)\n",
      "Requirement already satisfied: pydantic-core==2.18.1 in c:\\users\\administrator\\appdata\\local\\programs\\python\\python312\\lib\\site-packages (from pydantic) (2.18.1)\n",
      "Requirement already satisfied: anyio<5,>=3.4.0 in c:\\users\\administrator\\appdata\\local\\programs\\python\\python312\\lib\\site-packages (from starlette<0.38.0,>=0.37.2->fastapi) (4.3.0)\n",
      "Requirement already satisfied: idna>=2.8 in c:\\users\\administrator\\appdata\\local\\programs\\python\\python312\\lib\\site-packages (from anyio<5,>=3.4.0->starlette<0.38.0,>=0.37.2->fastapi) (3.7)\n",
      "Requirement already satisfied: sniffio>=1.1 in c:\\users\\administrator\\appdata\\local\\programs\\python\\python312\\lib\\site-packages (from anyio<5,>=3.4.0->starlette<0.38.0,>=0.37.2->fastapi) (1.3.1)\n",
      "Note: you may need to restart the kernel to use updated packages.\n"
     ]
    }
   ],
   "source": [
    "%pip install fastapi pydantic toml"
   ]
  },
  {
   "cell_type": "code",
   "execution_count": null,
   "metadata": {},
   "outputs": [],
   "source": []
  },
  {
   "cell_type": "code",
   "execution_count": 18,
   "metadata": {},
   "outputs": [
    {
     "name": "stdout",
     "output_type": "stream",
     "text": [
      "应经理的邀请，你来到了一家老旧的自助式仓库，由于仓库主人威尔逊去世，他正在拍卖一间仓库。这不是你第一次参加这种形式的拍卖会，就像一盒巧克力一样，没有人知道冰冷的卷帘门后面隐藏着潜在的宝藏。当你和其他感兴趣的买家围在拍卖师身边时，一名工人拿着一把断线钳将生锈的门锁拧开，一个堆满各种旧家具和古董的自助式仓库展现在眼前。拍卖师没有给竞拍者任何机会看清楚，就以 50 美元开始竞拍。\n",
      "\n",
      "您的出价是多少？\n",
      "\n",
      "possible actions:\n",
      "1. $100.\n",
      "2. $150.\n",
      "3. $200.\n"
     ]
    },
    {
     "data": {
      "application/vnd.jupyter.widget-view+json": {
       "model_id": "74e50a7feb184bfc9a70fa3a84ae1694",
       "version_major": 2,
       "version_minor": 0
      },
      "text/plain": [
       "HBox(children=(Button(description='1', layout=Layout(width='auto'), style=ButtonStyle(), tooltip='$100.'), But…"
      ]
     },
     "metadata": {},
     "output_type": "display_data"
    },
    {
     "name": "stdout",
     "output_type": "stream",
     "text": [
      "I select option 2. TURN: 1 \n",
      "\n",
      "\n",
      "你大声地喊出 \"$150\"，其他竞拍者看了看你，然后有人跳到了 $200。气氛变得紧张，每个人都在等待下一步。\n",
      "\n",
      "possible actions:\n",
      "1. $250.\n",
      "2. $300.\n",
      "3. $350."
     ]
    },
    {
     "data": {
      "application/vnd.jupyter.widget-view+json": {
       "model_id": "9137b7d5a77f40a994d892c31d50ff2d",
       "version_major": 2,
       "version_minor": 0
      },
      "text/plain": [
       "HBox(children=(Button(description='1', layout=Layout(width='auto'), style=ButtonStyle(), tooltip='$250.'), But…"
      ]
     },
     "metadata": {},
     "output_type": "display_data"
    },
    {
     "name": "stdout",
     "output_type": "stream",
     "text": [
      "I select option 2. TURN: 2 \n",
      "\n",
      "\n",
      "你毫不犹豫地喊出 \"$300\"，这次没有人立即反应。拍卖师环视四周，寻找着下一个出价者。几秒钟的沉默后，另一名竞拍者迟疑地喊出了 \"$350\"。\n",
      "\n",
      "possible actions:\n",
      "1. $400.\n",
      "2. $450（这是你口袋里所有的钱）。\n",
      "3. 放弃，不再出价。"
     ]
    },
    {
     "data": {
      "application/vnd.jupyter.widget-view+json": {
       "model_id": "d73c43273d08453b85444970bb9bef80",
       "version_major": 2,
       "version_minor": 0
      },
      "text/plain": [
       "HBox(children=(Button(description='1', layout=Layout(width='auto'), style=ButtonStyle(), tooltip='$400.'), But…"
      ]
     },
     "metadata": {},
     "output_type": "display_data"
    },
    {
     "name": "stdout",
     "output_type": "stream",
     "text": [
      "I select option 1. TURN: 3 \n",
      "\n",
      "\n",
      "你果断地喊出 \"$400\"，这一次，四周再无声音。拍卖师重复你的出价，等待着可能不存在的更高出价。几秒后，他宣布：“一次...两次...三次，售出！”你赢得了这次竞标，尽管你并不完全确定里面藏着什么。\n",
      "\n",
      "round summary: Kyle Jackson 在紧张的竞拍中以 $400 赢得了一间充满未知的自助式仓库。"
     ]
    },
    {
     "data": {
      "application/vnd.jupyter.widget-view+json": {
       "model_id": "973fad2847714fb3a4b102bf494410be",
       "version_major": 2,
       "version_minor": 0
      },
      "text/plain": [
       "HBox(children=(Button(description='NEXT ROUND', layout=Layout(width='auto'), style=ButtonStyle()), Button(desc…"
      ]
     },
     "metadata": {},
     "output_type": "display_data"
    },
    {
     "name": "stdout",
     "output_type": "stream",
     "text": [
      "\n",
      "前情提要:\n",
      "\"\"\"\n",
      "- ROUND 0: Kyle Jackson 在紧张的竞拍中以 $400 赢得了一间充满未知的自助式仓库。\n",
      "\"\"\"\n",
      "\n",
      "\n",
      "你跟随经理穿过无数的走廊，来到他光线昏暗的办公室，这里的家具和设备自上世纪 90 年代以来就没有改变过。他经常提醒你，这里的设施其实更加古老，从 60 年代就已经存在了。你迅速给你的债主Alex打了一个电话，并向他解释说，一旦你拿到钱，过几天就会还给他，而他的回答却是令人厌恶的威胁。经理拿出一个旧铁皮盒子放在他的办公桌上，对你伸出手，示意你付拍卖的钱，你答应了。在递给你自助式仓库的钥匙后，他催促你看一些旧的监控录像。\n",
      "\n",
      "通过监控录像，他向你解释说，从他记事起，前房主每天都会来仓库。更奇怪的是，他在进入仓库之前会朝仓库跳三下，而且每次都会带一个纸袋，离开时纸袋总是空的。\n",
      "\n",
      "不管这些奇怪的话和监控录像，你还是去停车场拿了你的行李袋，以便开始清理仓库，寻找有价值的东西卖掉。当你往回走时，一位中年妇女迎面向你走来，她请求你让她进入她的仓库（你上次买下了她的仓库），这样她就可以找回她祖传的家族银吊坠。\n",
      "\n",
      "你下一步该怎么做？\n",
      "\n",
      "possible actions:\n",
      "1. 拒绝她\n",
      "2. 接受她的请求，但失去潜在客户\n",
      "3. 完全忽视她\n"
     ]
    },
    {
     "data": {
      "application/vnd.jupyter.widget-view+json": {
       "model_id": "2f2f8b1d9a924a86993f117cc17701a4",
       "version_major": 2,
       "version_minor": 0
      },
      "text/plain": [
       "HBox(children=(Button(description='1', layout=Layout(width='auto'), style=ButtonStyle(), tooltip='拒绝她'), Butto…"
      ]
     },
     "metadata": {},
     "output_type": "display_data"
    },
    {
     "name": "stdout",
     "output_type": "stream",
     "text": [
      "I select option 2. TURN: 1 \n",
      "\n",
      "\n",
      "你决定接受这位妇女的请求，希望她能在你的仓库里找到她珍贵的家族银吊坠。她对你的同意表示了感激，她的眼神里充满了急切和希望。你们一起走向仓库，你解锁并推开沉重的门，露出了里面堆满了各种各样的物品的空间。\n",
      "\n",
      "仓库内部显然已经很久没有人整理过了，到处都是灰尘，空气中弥漫着一股旧书和金属的气味。中年妇女匆忙地四处寻找，她的目光在每一个角落扫过，希望能找到她的银吊坠。经过一番搜寻，她在一个旧木箱里找到了她的家族银吊坠，她激动得几乎哭了出来，连连向你道谢。\n",
      "\n",
      "在她离开之后，你开始对仓库进行详细的检查，希望能找到一些值钱的东西。你注意到一个古老而复杂的木箱显得特别不寻常，上面雕刻着奇怪的符号和图案，似乎散发着一种不祥的气息。\n",
      "\n",
      "possible actions:\n",
      "1. 仔细检查这个古老的木箱。\n",
      "2. 忽略这个木箱，继续搜索其他物品。\n",
      "3. 尝试打开木箱看里面有什么。"
     ]
    },
    {
     "data": {
      "application/vnd.jupyter.widget-view+json": {
       "model_id": "39c6f3b325174f389665c59498f072a7",
       "version_major": 2,
       "version_minor": 0
      },
      "text/plain": [
       "HBox(children=(Button(description='1', layout=Layout(width='auto'), style=ButtonStyle(), tooltip='仔细检查这个古老的木箱。…"
      ]
     },
     "metadata": {},
     "output_type": "display_data"
    },
    {
     "name": "stdout",
     "output_type": "stream",
     "text": [
      "I select option 1. TURN: 2 \n",
      "\n",
      "\n",
      "你决定仔细检查这个古老的木箱，你的好奇心驱使你想要了解它的来历以及为什么会出现在这个仓库中。你轻轻地擦去木箱表面的灰尘，这个过程中，你注意到木箱上的符号和图案似乎描绘的是某种古老的仪式，其中有一些符号让你感到既熟悉又陌生，好像在某个梦境中见过。\n",
      "\n",
      "随着你的检查，你发现木箱的一侧有一个小巧的机关，似乎是一个隐藏的开关。你推测这可能是打开木箱的关键。这个发现让你心跳加速，你意识到这个木箱可能隐藏着某种秘密，或者更不可思议的东西。\n",
      "\n",
      "skill: spot_hidden\n",
      "difficulty: medium"
     ]
    },
    {
     "data": {
      "application/vnd.jupyter.widget-view+json": {
       "model_id": "ee8ddcacd00c42628dc6bc4cebe4c5a0",
       "version_major": 2,
       "version_minor": 0
      },
      "text/plain": [
       "HBox(children=(Button(description='SPOT_HIDDEN [MEDIUM]', layout=Layout(width='auto'), style=ButtonStyle()), B…"
      ]
     },
     "metadata": {},
     "output_type": "display_data"
    },
    {
     "name": "stdout",
     "output_type": "stream",
     "text": [
      "I am making a skill check using SPOT_HIDDEN against a difficulty of MEDIUM.\n",
      "And I rolled a 17 for a result of SUCCESS. TURN: 3 \n",
      "\n",
      "\n",
      "成功地发现并激活了隐藏的机关后，你听到了一声轻微的咔哒声，伴随着微弱的机械声响，木箱的锁扣自动打开了。你屏住呼吸，小心翼翼地打开了木箱的盖子，里面的内容让你感到惊讶。\n",
      "\n",
      "木箱内部放着一本覆盖着尘土的古老书籍，封面上用一种你不认识的语言书写着标题。书籍的边缘显得磨损而古老，但仍然散发着一种难以言喻的魅力。你还发现了一些奇怪的物品，包括一些干枯的草药、一套雕刻有奇特符号的小石头和一张描绘着星空的古老地图。\n",
      "\n",
      "这本书和其他物品显然不同寻常，它们可能与某种古老的知识或仪式有关。你意识到这些可能与克苏鲁神话中描述的物品有关，这让你感到既兴奋又有些不安。\n",
      "\n",
      "possible actions:\n",
      "1. 翻阅这本古老书籍，尝试理解它的内容。\n",
      "2. 将书和其他物品拿走，打算找专家鉴定。\n",
      "3. 关上木箱，决定忽略这一发现，继续寻找其他有价值的物品。"
     ]
    },
    {
     "data": {
      "application/vnd.jupyter.widget-view+json": {
       "model_id": "1c22f188fad94c7fbdb4079354f52732",
       "version_major": 2,
       "version_minor": 0
      },
      "text/plain": [
       "HBox(children=(Button(description='1', layout=Layout(width='auto'), style=ButtonStyle(), tooltip='翻阅这本古老书籍，尝试理…"
      ]
     },
     "metadata": {},
     "output_type": "display_data"
    },
    {
     "name": "stdout",
     "output_type": "stream",
     "text": [
      "I select option 2. TURN: 4 \n",
      "\n",
      "\n",
      "你决定将这本古老的书籍和其他奇特的物品拿走，计划找一位专家进行鉴定，希望能了解它们的真正价值和来历。你小心翼翼地将这些物品放入你的背包中，确保它们在运输过程中不会受到损坏。随后，你继续在仓库中寻找其他可能有价值的物品，但你的思绪一直围绕着你刚刚发现的这些神秘物品。\n",
      "\n",
      "在完成对仓库的初步搜寻后，你决定是时候离开了。你带着满载而归的感觉，锁好仓库的门，心里充满了对这些古老物品背后故事的好奇。你计划第二天就去找一位懂得这方面知识的专家，希望能解开这些物品的秘密。\n",
      "\n",
      "在回家的路上，你感到一种莫名的不安，好像有某种力量在关注着你的发现。但你也感到一种兴奋，因为这些可能是你一生中最重要的发现。\n",
      "\n",
      "round summary: Kyle Jackson 在仓库中发现了一些与克苏鲁神话可能相关的古老物品，包括一本神秘的书籍、一些干枯的草药、一套奇特的小石头和一张古老地图。他决定将这些物品带走，并找专家进行鉴定。尽管对这些发现感到兴奋，但Kyle也感到了一种不可名状的不安。"
     ]
    },
    {
     "data": {
      "application/vnd.jupyter.widget-view+json": {
       "model_id": "dfb3666cba864e11a7307f875e2eb2f7",
       "version_major": 2,
       "version_minor": 0
      },
      "text/plain": [
       "HBox(children=(Button(description='NEXT ROUND', layout=Layout(width='auto'), style=ButtonStyle()), Button(desc…"
      ]
     },
     "metadata": {},
     "output_type": "display_data"
    },
    {
     "name": "stdout",
     "output_type": "stream",
     "text": [
      "\n",
      "前情提要:\n",
      "\"\"\"\n",
      "- ROUND 0: Kyle Jackson 在紧张的竞拍中以 $400 赢得了一间充满未知的自助式仓库。\n",
      "- ROUND 1: Kyle Jackson 在仓库中发现了一些与克苏鲁神话可能相关的古老物品，包括一本神秘的书籍、一些干枯的草药、一套奇特的小石头和一张古老地图。他决定将这些物品带走，并找专家进行鉴定。尽管对这些发现感到兴奋，但Kyle也感到了一种不可名状的不安。\n",
      "\"\"\"\n",
      "\n",
      "\n",
      "在你继续翻找新获得的储藏室时，你发现了一个奇特的圆形木块，厚厚的边缘上有复杂而奇怪的雕刻。其中最引人注目的是中间镶嵌的精致五角星，以及干净利落的陌生符号雕刻。即使是没有受过专业训练的人也能看出制作这样一件物品的工艺质量和花费的时间，然而，你却怀疑这个像桌子一样的木块能卖多少钱。\n",
      "\n",
      "你发现了几件看起来更昂贵的物品，把它放进行李袋里，然后小心翼翼地把这个奇特的木块装上卡车。就在你关上车尾门时，突然发现自己磕在了坚硬的碎石地上。你的嘴唇被割破，鲜血直流，抬头一看，才发现是Alex。\n",
      "\n",
      "你该如何应对？\n",
      "\n",
      "possible actions:\n",
      "1. 起身扑倒他\n",
      "2. 告诉他你很快就会把钱还给他\n",
      "3. 开始辱骂他\n"
     ]
    },
    {
     "data": {
      "application/vnd.jupyter.widget-view+json": {
       "model_id": "442eb5f031154050b17f08a85f4bf461",
       "version_major": 2,
       "version_minor": 0
      },
      "text/plain": [
       "HBox(children=(Button(description='1', layout=Layout(width='auto'), style=ButtonStyle(), tooltip='起身扑倒他'), But…"
      ]
     },
     "metadata": {},
     "output_type": "display_data"
    },
    {
     "name": "stdout",
     "output_type": "stream",
     "text": [
      "I select option 1. TURN: 1 \n",
      "\n",
      "\n",
      "你知道与Alex正面冲突可能不是最明智的选择，但愤怒和绝望驱使你冲上前去，希望能够通过出其不意的攻击来获得一些优势。\n",
      "\n",
      "skill: fighting\n",
      "difficulty: hard"
     ]
    },
    {
     "data": {
      "application/vnd.jupyter.widget-view+json": {
       "model_id": "1cdb6f9608fc4138841067828fa801cd",
       "version_major": 2,
       "version_minor": 0
      },
      "text/plain": [
       "HBox(children=(Button(description='FIGHTING [HARD]', layout=Layout(width='auto'), style=ButtonStyle()), Button…"
      ]
     },
     "metadata": {},
     "output_type": "display_data"
    },
    {
     "name": "stdout",
     "output_type": "stream",
     "text": [
      "I am making a skill check using FIGHTING against a difficulty of HARD.\n",
      "And I rolled a 83 for a result of FAILURE. TURN: 2 \n",
      "\n",
      "\n",
      "尽管你全力以赴，但Alex的反应速度和战斗经验远远超出了你的预期。他轻松地躲开了你的攻击，然后反手给了你一拳，重重地击中了你的脸部。疼痛让你几乎失去了站立的能力，你感到鼻子上的血液混合着眼泪流了下来。Alex站在你面前，眼中充满了轻蔑和愤怒。\n",
      "\n",
      "\"你真是个笨蛋，Kyle,\" Alex低沉地说道，\"我本不想这么做的，但你逼我手上。我希望这能让你记住，明天把我的钱还给我，不然后果会更糟糕。\"\n",
      "\n",
      "他转过身，留下你独自一人，蹲在地上，努力回过神来。显然，直接对抗Alex并不是一个好主意，你需要想出其他办法来解决你的财务困境。\n",
      "\n",
      "round summary: Kyle尝试攻击Alex，但失败了。Alex反击并警告Kyle，如果他不及时还钱，后果会更严重。Kyle现在需要找到其他方法来解决他的财务问题。"
     ]
    },
    {
     "data": {
      "application/vnd.jupyter.widget-view+json": {
       "model_id": "2df605b388f14634a44b88fd68c6eae2",
       "version_major": 2,
       "version_minor": 0
      },
      "text/plain": [
       "HBox(children=(Button(description='NEXT ROUND', layout=Layout(width='auto'), style=ButtonStyle()), Button(desc…"
      ]
     },
     "metadata": {},
     "output_type": "display_data"
    },
    {
     "name": "stdout",
     "output_type": "stream",
     "text": [
      "\n",
      "前情提要:\n",
      "\"\"\"\n",
      "- ROUND 0: Kyle Jackson 在紧张的竞拍中以 $400 赢得了一间充满未知的自助式仓库。\n",
      "- ROUND 1: Kyle Jackson 在仓库中发现了一些与克苏鲁神话可能相关的古老物品，包括一本神秘的书籍、一些干枯的草药、一套奇特的小石头和一张古老地图。他决定将这些物品带走，并找专家进行鉴定。尽管对这些发现感到兴奋，但Kyle也感到了一种不可名状的不安。\n",
      "- ROUND 2: Kyle尝试攻击Alex，但失败了。Alex反击并警告Kyle，如果他不及时还钱，后果会更严重。Kyle现在需要找到其他方法来解决他的财务问题。\n",
      "\"\"\"\n",
      "\n",
      "\n",
      "经理递给你一些纱布和一瓶酒精，血顺着水槽滴下来，而你则在洗手间清理自己。你把注意力集中在酒精划破嘴唇的刺痛上，提醒自己生活是多么不公平，生活会无情地打击像你这样的人，直到你精神崩溃。然而，疼痛同时也激发了你的求生意志，让你继续活下去，这是你在阿富汗战争中战斗过的人从未有过的机会。在某种程度上，你是为了他们而活着，尽管自光荣退伍以来，困难一直困扰着你，但你仍努力心存感激。\n",
      "\n",
      "你盯着镜子里的自己看了很久，然后用封口条缝合了伤口，又盖上了一层纱布。经理对你的困境深表同情，向你推荐了一个专门收藏深奥玄妙物品的商人。你觉得他的怜悯行为侮辱了你，但在权衡你目前的处境和你的自尊后，你勉强同意了。\n",
      "\n",
      "你按照自助仓储设施经理提供的地址赶去，很快就发现自己身处一栋维多利亚风格的房子里。虽然太阳已经落山，但门廊白炽灯的光辉还是让这栋房子的外墙呈现出酒红色，并以黑色作为点缀。当你走到前廊时，前面提到的商人布莱克韦尔女士带着克制的恼怒向你打招呼。但你不能被她的态度所困扰，这是你所见过的大多数商人的常态，他们很少会发现有什么物品能让你满意。\n",
      "\n",
      "她邀请你把你的奇特物品带到你的个人图书馆，那里的墙壁上挂满了你从未见过或听过的书籍。你把圆形木块放在桌子上，同时把行李袋里的物品也放在桌子上，然后......\n",
      "\n",
      "您如何回应？\n",
      "\n",
      "possible actions:\n",
      "1. 保持沉默，等待她的评价\n",
      "2. 对她的房子发表评论\n",
      "3. 询问她以前是否见过类似的情况\n"
     ]
    },
    {
     "data": {
      "application/vnd.jupyter.widget-view+json": {
       "model_id": "5fd3fad7eddf4214a5583f2308ebc9c4",
       "version_major": 2,
       "version_minor": 0
      },
      "text/plain": [
       "HBox(children=(Button(description='1', layout=Layout(width='auto'), style=ButtonStyle(), tooltip='保持沉默，等待她的评价'…"
      ]
     },
     "metadata": {},
     "output_type": "display_data"
    },
    {
     "name": "stdout",
     "output_type": "stream",
     "text": [
      "I select option 3. TURN: 1 \n",
      "\n",
      "\n",
      "你决定直接了当地询问布莱克韦尔女士是否曾经见过类似的情况。你的声音带着一丝紧张和好奇：\"您以前见过这样的物品吗？或者听说过它们可能来自哪里？\"\n",
      "\n",
      "布莱克韦尔女士的眼睛在你摆放在桌上的物品之间快速扫视，然后停留在圆形木块上，她的表情突然变得严肃起来。她沉吟了一会儿，然后回答说：\"我见过许多奇特的物品，但你的这些东西......它们确实非常不寻常。这个圆形木块，特别是，我怀疑它不仅仅是一个简单的装饰品或工具。我需要更仔细地检查它们。\"\n",
      "\n",
      "她站起身，从书架上取下一本厚重的书籍，翻开几页，似乎在寻找某种参考。然后，她转向你，眼中闪烁着一丝兴奋：\"我认为，我们可能需要进行一次更为深入的研究。这些物品可能与我所研究的领域有着直接的联系。\"\n",
      "\n",
      "紧接着，她走向圆形木块，开始仔细检查它。突然，她发现了一个几乎不可见的机关，轻轻一按，一个暗格随之打开，露出了三本非常奇怪的皮面书籍。布莱克韦尔女士的眼睛立刻变得炯炯有神，她激动地说：\"这正是我所期待的！这些书籍可能包含了一些非常重要的信息。我必须立即通知我的一个同事，达格教授。他在这方面的知识要比我深得多。\"\n",
      "\n",
      "她没有浪费时间，迅速拿起电话拨打给达格教授。通话结束后，她转向你，脸上带着期待的表情：\"达格教授将很快过来。在此之前，你愿意和我一起看看这些书籍吗？我们可能会发现一些惊人的秘密。\"\n",
      "\n",
      "possible actions:\n",
      "1. 同意一起查看书籍。\n",
      "2. 拒绝，表示你想等达格教授来了再说。\n",
      "3. 询问布莱克韦尔女士是否觉得这些书籍可能有价值。"
     ]
    },
    {
     "data": {
      "application/vnd.jupyter.widget-view+json": {
       "model_id": "0c1ed1c41b5a4a3ca41da23dd079207f",
       "version_major": 2,
       "version_minor": 0
      },
      "text/plain": [
       "HBox(children=(Button(description='1', layout=Layout(width='auto'), style=ButtonStyle(), tooltip='同意一起查看书籍。'),…"
      ]
     },
     "metadata": {},
     "output_type": "display_data"
    },
    {
     "name": "stdout",
     "output_type": "stream",
     "text": [
      "I select option 1. TURN: 2 \n",
      "\n",
      "\n",
      "你决定同意一起查看书籍，好奇心驱使你想要立即了解这些神秘书籍的内容。你对布莱克韦尔女士说：\"当然，我很想知道这些书里隐藏着什么秘密。\"\n",
      "\n",
      "布莱克韦尔女士微笑着点点头，似乎对你的决定感到满意。她轻轻地拿起其中一本书，小心翼翼地翻开封面。书籍的页边有些磨损，看起来非常古老，上面密密麻麻地写满了你无法辨认的文字和一些奇异的符号。布莱克韦尔女士似乎对这些内容非常熟悉，她开始解释这些符号的可能含义，并试图找到任何可以理解的段落。\n",
      "\n",
      "随着你们一起研究这些书籍，你开始感觉到一种不可名状的不安。这些书籍中的内容似乎涉及一些超乎常人理解的深奥知识，包括古老的仪式、未知的生物和对现实的奇特解释。布莱克韦尔女士似乎对这些发现非常兴奋，但你却感到一种深深的恐惧逐渐在你心中升起。\n",
      "\n",
      "突然，你的眼前出现了一幅插图，展示了一种你从未见过的恐怖生物，它的形象让你感到极度不安。布莱克韦尔女士注意到了你的反应，她快速地翻过那一页，但那个图像已经深深印在了你的脑海里。\n",
      "\n",
      "skill: sanity_check\n",
      "difficulty: medium"
     ]
    },
    {
     "data": {
      "application/vnd.jupyter.widget-view+json": {
       "model_id": "ffaf464210ba43da804538d9784737dc",
       "version_major": 2,
       "version_minor": 0
      },
      "text/plain": [
       "HBox(children=(Button(description='SANITY_CHECK [MEDIUM]', layout=Layout(width='auto'), style=ButtonStyle()), …"
      ]
     },
     "metadata": {},
     "output_type": "display_data"
    },
    {
     "name": "stdout",
     "output_type": "stream",
     "text": [
      "I am making a skill check using SANITY_CHECK against a difficulty of MEDIUM.\n",
      "And I rolled a 48 for a result of SUCCESS. TURN: 3 \n",
      "\n",
      "\n",
      "尽管你心中涌现的恐惧感几乎让你感到窒息，但你强迫自己平静下来，深呼吸几次以稳定情绪。你的军事训练在这一刻发挥了作用，帮助你保持了冷静，即使面对这些无法理解的知识和令人不安的揭示。你的理智得到了维持，你没有被那些恐怖的图像和文字彻底吓崩。\n",
      "\n",
      "布莱克韦尔女士注意到了你的坚定，她微微一笑，似乎对你的韧性表示赞赏。她说：\"这些知识对于未准备好的人来说可能是毁灭性的。你很坚强，Kyle。\"\n",
      "\n",
      "在你们继续研究书籍的时候，门铃响了。布莱克韦尔女士放下手中的书，站起身去开门。你听到了一阵简短的交谈声，然后她回到房间，身后跟着一位看起来颇有学者气质的中年男子。这位男子戴着眼镜，面带微笑，但他的眼神透露出一种锐利和好奇。\n",
      "\n",
      "布莱克韦尔女士介绍说：\"Kyle，这位是达格教授。达格，这位是Kyle Jackson，他发现了这些奇特的书籍和物品。\"\n",
      "\n",
      "达格教授伸出手来与你握手，他的握手既坚定又温暖。他说：\"很高兴认识你，Kyle。我听说你有一些非常有趣的发现。让我们看看它们吧。\"\n",
      "\n",
      "你和布莱克韦尔女士向达格教授展示了你们所发现的书籍和圆形木块。达格教授的兴趣显然被激发了，他开始仔细检查每一样物品，偶尔还会发出赞叹的声音。\n",
      "\n",
      "round summary: 在布莱克韦尔女士的图书馆中，你和她一起研究了神秘书籍，尽管内容让你感到不安，但你成功地保持了理智。随后，达格教授的到来为这次的研究带来了新的希望和方向。"
     ]
    },
    {
     "data": {
      "application/vnd.jupyter.widget-view+json": {
       "model_id": "a462a74f293144e7a3ebc70a8d93161b",
       "version_major": 2,
       "version_minor": 0
      },
      "text/plain": [
       "HBox(children=(Button(description='NEXT ROUND', layout=Layout(width='auto'), style=ButtonStyle()), Button(desc…"
      ]
     },
     "metadata": {},
     "output_type": "display_data"
    },
    {
     "name": "stdout",
     "output_type": "stream",
     "text": [
      "\n",
      "前情提要:\n",
      "\"\"\"\n",
      "- ROUND 0: Kyle Jackson 在紧张的竞拍中以 $400 赢得了一间充满未知的自助式仓库。\n",
      "- ROUND 1: Kyle Jackson 在仓库中发现了一些与克苏鲁神话可能相关的古老物品，包括一本神秘的书籍、一些干枯的草药、一套奇特的小石头和一张古老地图。他决定将这些物品带走，并找专家进行鉴定。尽管对这些发现感到兴奋，但Kyle也感到了一种不可名状的不安。\n",
      "- ROUND 2: Kyle尝试攻击Alex，但失败了。Alex反击并警告Kyle，如果他不及时还钱，后果会更严重。Kyle现在需要找到其他方法来解决他的财务问题。\n",
      "- ROUND 3: 在布莱克韦尔女士的图书馆中，你和她一起研究了神秘书籍，尽管内容让你感到不安，但你成功地保持了理智。随后，达格教授的到来为这次的研究带来了新的希望和方向。\n",
      "\"\"\"\n",
      "\n",
      "\n",
      "达格教授全神贯注地仔细检查着通灵桌，尽可能小心地避免对桌子造成任何损坏。然后，他把注意力转移到三本皮面装订的书上，一边检查书的状况，一边翻阅书中的内容以验证其真伪。\n",
      "\n",
      "经过一番检查后，他把目光转向了你，询问第四本书的情况，并表示这本书的总价可以远远超过 200 万美元。你的眼睛一亮，意识到这是你扭转人生、还清债务，或许还能自己开创一番事业的机会。尽管你对神秘学不感兴趣，但第四本书的神秘性还是激起了你的兴趣，这种好奇心促使你询问第四本书的重要性。随后是一阵沉重的沉默，教授在吊灯柔和的灯光下朦胧的脸庞认真地凝视着你的眼睛。他用阴沉的语调解释说，第四本书是所有书中最稀有的，因为它可以让使用者将恶魔绑定到物质世界，带到人间。一旦交易完成，这本书就会自燃化为一堆灰烬，除非恶魔已经被背叛，无法讨回它的债务，这也是这本书价格昂贵的原因。\n",
      "\n",
      "你急忙解释了你最近获得的自助仓库，以及你如何还没有机会彻底检查每一件物品，并提出了可能的位置。达格教授提议和你一起搜查仓库，如果找到第四本书，他会立即给你开一张 200 万美元的支票。\n",
      "\n",
      "你迅速把所有东西装回卡车，达格教授坐在副驾驶座上，你们俩一起向自助式仓库走去。途中，教授告诉你，他要向你忏悔一件事。\n",
      "\n",
      "你该如何应对？\n",
      "\n",
      "possible actions:\n",
      "1. 聆听他的忏悔\n",
      "2. 请他不要把要说的话说出来\n",
      "3. 威胁他说，如果他在钱的问题上撒谎，你就会狠狠地伤害他\n"
     ]
    },
    {
     "data": {
      "application/vnd.jupyter.widget-view+json": {
       "model_id": "a25457e5bd934f949d67fd9581e09b89",
       "version_major": 2,
       "version_minor": 0
      },
      "text/plain": [
       "HBox(children=(Button(description='1', layout=Layout(width='auto'), style=ButtonStyle(), tooltip='聆听他的忏悔'), Bu…"
      ]
     },
     "metadata": {},
     "output_type": "display_data"
    },
    {
     "name": "stdout",
     "output_type": "stream",
     "text": [
      "I select option 3. TURN: 1 \n",
      "\n",
      "\n",
      "你的眉头紧锁，目光坚定地盯着达格教授，声音冷硬地警告他：\"如果你在钱的问题上对我撒谎，我会让你后悔的。\" 你的语气透露出不容置疑的威胁，这让教授显得有些不安。他迅速举手示意和平，并尽力保持镇定，回答说：\"我向你保证，我对这本书的价值没有任何夸大。我只是想告诉你，这个仓库的前主人和她的家人与神秘学有着千丝万缕的联系。这些书籍的来源，和它们所蕴含的力量，是真正的，也是非常危险的。\"\n",
      "\n",
      "达格教授的眼神中闪现出一丝恐惧，他继续说道：\"根据我所知，已故的主人用第四本书进行了一次可怕的仪式，试图将她的妹妹的灵魂绑定到一个恶魔身上。仪式后发生的事情，现在都成了人们私下里的耳语和猜测。我告诉你这些，是想让你明白，如果我们找到了那本书，它可能会给我们带来巨大的财富，但也可能会带来无法预料的危险。\"\n",
      "\n",
      "车辆缓缓地驶入自助式仓库的停车场，你的心中充满了复杂的情绪。一方面，你渴望这本书能够解决你的财务问题；另一方面，达格教授的话又让你对即将发生的事情感到不安。\n",
      "\n",
      "round summary: 达格教授向Kyle透露了一些关于第四本书和仓库前主人的神秘信息，让Kyle对即将到来的搜索充满了期待和不安。"
     ]
    },
    {
     "data": {
      "application/vnd.jupyter.widget-view+json": {
       "model_id": "f198e4ab9c9e40c69cfd28d20ed62f97",
       "version_major": 2,
       "version_minor": 0
      },
      "text/plain": [
       "HBox(children=(Button(description='NEXT ROUND', layout=Layout(width='auto'), style=ButtonStyle()), Button(desc…"
      ]
     },
     "metadata": {},
     "output_type": "display_data"
    },
    {
     "name": "stdout",
     "output_type": "stream",
     "text": [
      "\n",
      "前情提要:\n",
      "\"\"\"\n",
      "- ROUND 0: Kyle Jackson 在紧张的竞拍中以 $400 赢得了一间充满未知的自助式仓库。\n",
      "- ROUND 1: Kyle Jackson 在仓库中发现了一些与克苏鲁神话可能相关的古老物品，包括一本神秘的书籍、一些干枯的草药、一套奇特的小石头和一张古老地图。他决定将这些物品带走，并找专家进行鉴定。尽管对这些发现感到兴奋，但Kyle也感到了一种不可名状的不安。\n",
      "- ROUND 2: Kyle尝试攻击Alex，但失败了。Alex反击并警告Kyle，如果他不及时还钱，后果会更严重。Kyle现在需要找到其他方法来解决他的财务问题。\n",
      "- ROUND 3: 在布莱克韦尔女士的图书馆中，你和她一起研究了神秘书籍，尽管内容让你感到不安，但你成功地保持了理智。随后，达格教授的到来为这次的研究带来了新的希望和方向。\n",
      "- ROUND 4: 达格教授向Kyle透露了一些关于第四本书和仓库前主人的神秘信息，让Kyle对即将到来的搜索充满了期待和不安。\n",
      "\"\"\"\n",
      "\n",
      "\n",
      "你把达格教授请进了仓库，尽管您之前尝试清理了一些物品，但仓库里依然杂乱无章。你们俩开始翻找旧家具，不放过任何一个角落，然而，两个小时过去了，你们的手里除了灰尘什么也没有。你感觉到教授的眼神中充满了失望，也许他已经放弃了寻找，因为要遇到像他描述的那样的稀世珍宝一定需要很大的运气。但你对美好生活的向往激励着你坚持不懈地寻找第四本书。你重新审视那些可能被你忽略的抽屉，那些隐藏在通灵桌等复杂装置后面的潜在隔间。当你试图把一个大木架扳到另一面墙上时，手一滑，木架与后面的墙壁相撞，发出空洞的砰砰声。达格教授立即将手放在假墙上，像对待身体一样轻轻滑过假墙表面。很快，他就感觉到了暗藏的机关，只要轻轻一按，就能打开一条散发着刺鼻气味的黑暗走廊。\n",
      "\n",
      "在进入之前，达格教授警告你不要看走廊尽头的东西，也不要和它们说话，因为你可能会进入狂热状态。考虑到这一点，你跟随达格教授进入了未知的世界......\n",
      "\n",
      "你的下一步行动是什么？\n",
      "\n",
      "possible actions:\n",
      "1. 安静地紧跟着他\n",
      "2. 问他是什么的臭味\n",
      "3. 评论周围环境\n"
     ]
    },
    {
     "data": {
      "application/vnd.jupyter.widget-view+json": {
       "model_id": "5811871ef9804aaf8814d1b8ce24d172",
       "version_major": 2,
       "version_minor": 0
      },
      "text/plain": [
       "HBox(children=(Button(description='1', layout=Layout(width='auto'), style=ButtonStyle(), tooltip='安静地紧跟着他'), B…"
      ]
     },
     "metadata": {},
     "output_type": "display_data"
    },
    {
     "name": "stdout",
     "output_type": "stream",
     "text": [
      "I select option 1. TURN: 1 \n",
      "\n",
      "\n",
      "你决定安静地紧跟着达格教授，不发出任何声音。你们两个人像幽灵一样悄悄穿过黑暗的走廊，只有前方微弱的光线指引着方向。走廊两侧是高高的书架，上面堆满了尘封的书籍和奇异的文物。空气中弥漫着一种古老和神秘的气息，让你感到既兴奋又紧张。\n",
      "\n",
      "随着你们深入，你注意到走廊尽头似乎有些不同。达格教授的步伐变得更加谨慎，他似乎在努力避免看向某个特定的地方。你记得他之前的警告，尽管好奇心在驱使你，但你还是尽量避免直视那个方向。\n",
      "\n",
      "突然，一股不祥的预感笼罩着你，你意识到这个地方藏着不为人知的秘密和危险。达格教授停下了脚步，指向前方的一个看似普通的木门。他低声告诉你，第四本书就在这个房间里，但他也警告你，进入之前需要做好充分的准备。\n",
      "\n",
      "你的下一步行动是什么？\n",
      "\n",
      "possible actions:\n",
      "1. 小心地打开门，准备进入房间。\n",
      "2. 询问达格教授是否有什么特别的准备工作需要做。\n",
      "3. 决定不进入房间，而是先探索走廊尽头的其他区域。"
     ]
    },
    {
     "data": {
      "application/vnd.jupyter.widget-view+json": {
       "model_id": "2b952a8d17c84b6fac78d6f2d93e491b",
       "version_major": 2,
       "version_minor": 0
      },
      "text/plain": [
       "HBox(children=(Button(description='1', layout=Layout(width='auto'), style=ButtonStyle(), tooltip='小心地打开门，准备进入房…"
      ]
     },
     "metadata": {},
     "output_type": "display_data"
    },
    {
     "name": "stdout",
     "output_type": "stream",
     "text": [
      "I select option 1. TURN: 2 \n",
      "\n",
      "\n",
      "你深吸了一口气，鼓起勇气小心地推开了门。门轻轻地吱嘎声中打开，揭示了一个充满书籍和古老物件的房间。房间的中央是一个大型的木制讲台，上面放着一本厚重的书，这无疑就是你们寻找的第四本书。达格教授紧随其后进入了房间，他的眼睛立刻被讲台上的书吸引。\n",
      "\n",
      "然而，在你们走向讲台的过程中，你不由自主地将目光投向了房间的角落。那里有一具几乎完全枯萎的尸体，躺在一个用奇怪的红色液体制成的五角星上。这具枯尸的脸部已经完全消失，一些邪恶的东西正在里面蠕动，整个脸部留下了一个空洞。这一幕极其恐怖，令人无法直视。\n",
      "\n",
      "根据规则，看到这样的场景会触发一次理智检定，difficulty level medium。\n",
      "\n",
      "skill: sanity\n",
      "difficulty: medium"
     ]
    },
    {
     "data": {
      "application/vnd.jupyter.widget-view+json": {
       "model_id": "6fbc2b09ec9a46118bdba66e612d22cf",
       "version_major": 2,
       "version_minor": 0
      },
      "text/plain": [
       "HBox(children=(Button(description='SANITY [MEDIUM]', layout=Layout(width='auto'), style=ButtonStyle()), Button…"
      ]
     },
     "metadata": {},
     "output_type": "display_data"
    },
    {
     "name": "stdout",
     "output_type": "stream",
     "text": [
      "I am making a skill check using SANITY against a difficulty of MEDIUM.\n",
      "And I rolled a 36 for a result of SUCCESS. TURN: 3 \n",
      "\n",
      "\n",
      "尽管面对如此恐怖的场景，你的内心却异常坚定，成功地保持了冷静。你迅速地将目光从那不祥的尸体上移开，强迫自己专注于达格教授和那本神秘的书。你的意志力让你免受了恐惧的侵蚀，你意识到在这种环境下保持理智是至关重要的。\n",
      "\n",
      "达格教授似乎没有注意到你的短暂分心，他完全被讲台上的书籍吸引了。他小心翼翼地翻开书页，每翻一页，房间内的空气似乎都变得更加沉重。你可以感觉到一种不可言喻的力量在这本书周围流动，仿佛它是连接另一个世界的门户。\n",
      "\n",
      "达格教授突然转向你，他的眼神中充满了紧张和兴奋。他告诉你，他需要你的帮助来进行一个非常重要的仪式，这个仪式可能是解开仓库秘密的关键。但他也警告你，这个仪式可能会非常危险，而且一旦开始就不能中断。\n",
      "\n",
      "你的下一步行动是什么？\n",
      "\n",
      "possible actions:\n",
      "1. 同意帮助达格教授进行仪式。\n",
      "2. 拒绝参与，表示你不想冒这个险。\n",
      "3. 请求更多的信息，以便做出更明智的决定。"
     ]
    },
    {
     "data": {
      "application/vnd.jupyter.widget-view+json": {
       "model_id": "2e18fb8050024c4199daaf69bb8bc88b",
       "version_major": 2,
       "version_minor": 0
      },
      "text/plain": [
       "HBox(children=(Button(description='1', layout=Layout(width='auto'), style=ButtonStyle(), tooltip='同意帮助达格教授进行仪式…"
      ]
     },
     "metadata": {},
     "output_type": "display_data"
    },
    {
     "name": "stdout",
     "output_type": "stream",
     "text": [
      "I select option 1. TURN: 4 \n",
      "\n",
      "\n",
      "你决定同意帮助达格教授进行仪式。尽管你内心充满了疑虑和恐惧，但你也明白这可能是解开仓库之谜的唯一机会。达格教授看到你的决定后，眼中闪过一丝欣慰的光芒。\n",
      "\n",
      "他迅速地从他的包里拿出一些奇怪的物品，包括蜡烛、奇异的符号图纸、以及一些干枯的草药。他开始在房间中心的地板上布置这些物品，同时口中念念有词，似乎是在进行某种古老的咒语。\n",
      "\n",
      "达格教授指示你站在一个特定的位置上，并告诉你在仪式进行时需要做的事情。他强调，无论发生什么，都不要离开你的位置，也不要打断仪式。随后，他点燃了蜡烛，整个房间被一种微弱而神秘的光芒所照亮。\n",
      "\n",
      "仪式开始了，达格教授的声音变得更加响亮，空气中弥漫着一种奇怪的能量。突然间，房间震动起来，你感到一股强大的力量在聚集。这时，你注意到讲台上的书籍开始发光，光芒越来越亮，直到整个房间都被光芒所充满。\n",
      "\n",
      "然而，就在这时，仪式被突如其来的尖叫声打断。你转头一看，只见那具枯萎的尸体开始动了，它的眼睛突然睁开，向你们投来了充满怨恨的目光。达格教授大声告诉你，仪式被打断了，现在你们必须尽快离开这里。\n",
      "\n",
      "你的下一步行动是什么？\n",
      "\n",
      "possible actions:\n",
      "1. 尽可能快地跟着达格教授逃离房间。\n",
      "2. 尝试对抗那具活动的尸体。\n",
      "3. 寻找其他逃生的路线。"
     ]
    },
    {
     "data": {
      "application/vnd.jupyter.widget-view+json": {
       "model_id": "d7a86afb54a6467a92353af8daf8b73d",
       "version_major": 2,
       "version_minor": 0
      },
      "text/plain": [
       "HBox(children=(Button(description='1', layout=Layout(width='auto'), style=ButtonStyle(), tooltip='尽可能快地跟着达格教授逃…"
      ]
     },
     "metadata": {},
     "output_type": "display_data"
    },
    {
     "name": "stdout",
     "output_type": "stream",
     "text": [
      "I select option 2. TURN: 5 \n",
      "\n",
      "\n",
      "你决定尝试对抗那具活动的尸体，尽管达格教授的警告仍在耳边回响。你认为如果不解决这个立即的威胁，你们两个人都可能无法安全离开这个房间。你迅速地四处寻找可以用作武器的东西，最终你的目光落在了房间一角的一根沉重的铁杆上。\n",
      "\n",
      "你拿起铁杆，稳固地握在手中，准备迎战那具枯萎的尸体。它以一种不自然的速度向你爬来，其动作迅捷而且充满了恶意。你可以看到它的眼睛里闪烁着一种邪恶的光芒，而它那空洞的面孔让人不寒而栗。\n",
      "\n",
      "根据规则，尝试对抗这具枯萎的尸体需要进行一个技能检定，difficulty level medium。\n",
      "\n",
      "skill: fighting\n",
      "difficulty: medium"
     ]
    },
    {
     "data": {
      "application/vnd.jupyter.widget-view+json": {
       "model_id": "74a3e10e24c04349a8e5f992070043e0",
       "version_major": 2,
       "version_minor": 0
      },
      "text/plain": [
       "HBox(children=(Button(description='FIGHTING [MEDIUM]', layout=Layout(width='auto'), style=ButtonStyle()), Butt…"
      ]
     },
     "metadata": {},
     "output_type": "display_data"
    },
    {
     "name": "stdout",
     "output_type": "stream",
     "text": [
      "I am making a skill check using FIGHTING against a difficulty of MEDIUM.\n",
      "And I rolled a 51 for a result of FAILURE. TURN: 6 \n",
      "\n",
      "\n",
      "你紧握着铁杆，尽力向那具枯萎的尸体挥去，但在紧张和恐惧的影响下，你的动作变得笨拙和迟缓。尸体以惊人的速度躲开了你的攻击，然后迅速地向你扑来，将你推倒在地。你感到一股冰冷的触感覆盖了你的身体，而那具尸体的眼睛就在你的面前，充满了对生命的渴望和对死亡的恶意。\n",
      "\n",
      "达格教授见状，立即冲过来试图拉开那具尸体，但尸体的力量远超他的预期。在这种情况下，你意识到对抗这具尸体可能不是明智的选择，必须尽快找到其他的逃生方法。\n",
      "\n",
      "在这紧急的时刻，达格教授大声呼喊你，告诉你跟着他，他似乎找到了一条可能的逃生路线。你没有时间考虑，必须立即做出决定。\n",
      "\n",
      "你的下一步行动是什么？\n",
      "\n",
      "possible actions:\n",
      "1. 尽量挣脱尸体的控制，跟着达格教授逃跑。\n",
      "2. 继续尝试用铁杆对抗尸体，希望能找到反击的机会。\n",
      "3. 呼喊求助，希望能有什么力量来救你。"
     ]
    },
    {
     "data": {
      "application/vnd.jupyter.widget-view+json": {
       "model_id": "f48cf920178e49109436d1eaea2901d9",
       "version_major": 2,
       "version_minor": 0
      },
      "text/plain": [
       "HBox(children=(Button(description='1', layout=Layout(width='auto'), style=ButtonStyle(), tooltip='尽量挣脱尸体的控制，跟着…"
      ]
     },
     "metadata": {},
     "output_type": "display_data"
    },
    {
     "name": "stdout",
     "output_type": "stream",
     "text": [
      "I select option 1. TURN: 7 \n",
      "\n",
      "\n",
      "你尽自己最大的努力挣扎，试图从那具枯萎尸体的控制中挣脱出来。恐惧和求生的本能让你的动作充满了绝望的力量。就在这时，达格教授也不顾一切地帮助你推开那具尸体，他的行动给了你逃脱的机会。\n",
      "\n",
      "你终于挣脱了尸体的控制，迅速地站了起来，跟着达格教授向房间的另一侧跑去。尸体在你们身后怒吼，但你们没有回头，只是不断地向前冲。\n",
      "\n",
      "达格教授带你来到了一个看似被遗忘的旧门前，他迅速地打开门，里面是一条狭窄的秘密通道。你们两个人匆忙进入，达格教授在进入后立即关闭了门，希望能暂时阻挡那具尸体的追击。\n",
      "\n",
      "秘密通道昏暗而湿润，但你们没有时间去注意这些细节，只能尽可能快地向前移动。通道的尽头有一扇门，达格教授推开门，终于，你们看到了通往自由的出口。\n",
      "\n",
      "你们冲出了仓库，深深地呼吸着新鲜空气。回头望去，仓库在夜色中显得格外阴森可怖，但至少现在，你们是安全的。\n",
      "\n",
      "达格教授看着你，眼中充满了感激和敬意。他告诉你，今晚发生的一切都将成为他们研究的宝贵资料，但他也警告你，今后要远离这种黑暗的力量。他承诺会继续研究，试图找到封印那种邪恶存在的方法，同时也会确保你的安全。\n",
      "\n",
      "round summary: 经历了一场惊心动魄的冒险后，Kyle Jackson和达格教授成功逃离了被诅咒的仓库。他们面对了无法想象的恐怖，但最终还是侥幸生还。这次经历让Kyle对超自然的世界有了更深的认识，也让他明白了某些东西是人类不应触碰的。尽管仓库的秘密仍然隐藏在黑暗中，但Kyle知道，有些谜题最好永远不要解开。"
     ]
    },
    {
     "data": {
      "application/vnd.jupyter.widget-view+json": {
       "model_id": "f3fa3f8c83514172b8b26c5a3c26dcfb",
       "version_major": 2,
       "version_minor": 0
      },
      "text/plain": [
       "HBox(children=(Button(description='NEXT ROUND', layout=Layout(width='auto'), style=ButtonStyle()), Button(desc…"
      ]
     },
     "metadata": {},
     "output_type": "display_data"
    },
    {
     "ename": "IndexError",
     "evalue": "list index out of range",
     "output_type": "error",
     "traceback": [
      "\u001b[1;31m---------------------------------------------------------------------------\u001b[0m",
      "\u001b[1;31mIndexError\u001b[0m                                Traceback (most recent call last)",
      "Cell \u001b[1;32mIn[18], line 22\u001b[0m, in \u001b[0;36mnext_round\u001b[1;34m(b)\u001b[0m\n\u001b[0;32m     20\u001b[0m \u001b[38;5;28;01mglobal\u001b[39;00m current_round, initial_messages\n\u001b[0;32m     21\u001b[0m current_round \u001b[38;5;241m+\u001b[39m\u001b[38;5;241m=\u001b[39m \u001b[38;5;241m1\u001b[39m\n\u001b[1;32m---> 22\u001b[0m initial_messages \u001b[38;5;241m=\u001b[39m \u001b[43mconfig\u001b[49m\u001b[38;5;241;43m.\u001b[39;49m\u001b[43minitial_messages\u001b[49m\u001b[43m(\u001b[49m\u001b[43mcurrent_round\u001b[49m\u001b[43m,\u001b[49m\u001b[43m \u001b[49m\u001b[43mconfig\u001b[49m\u001b[38;5;241;43m.\u001b[39;49m\u001b[43mmetadata\u001b[49m\u001b[43m)\u001b[49m\n\u001b[0;32m     24\u001b[0m \u001b[38;5;28mprint\u001b[39m(initial_messages[\u001b[38;5;241m-\u001b[39m\u001b[38;5;241m1\u001b[39m]\u001b[38;5;241m.\u001b[39mcontent)\n\u001b[0;32m     25\u001b[0m display(get_controls(initial_messages[\u001b[38;5;241m-\u001b[39m\u001b[38;5;241m1\u001b[39m]))\n",
      "File \u001b[1;32mc:\\Users\\Administrator\\Desktop\\mandy\\rs-lab\\rs\\config.py:17\u001b[0m, in \u001b[0;36mConfig.initial_messages\u001b[1;34m(self, round_index, metadata)\u001b[0m\n\u001b[0;32m     15\u001b[0m \u001b[38;5;28;01mdef\u001b[39;00m \u001b[38;5;21minitial_messages\u001b[39m(\u001b[38;5;28mself\u001b[39m, round_index:\u001b[38;5;28mint\u001b[39m, metadata:\u001b[38;5;28mdict\u001b[39m\u001b[38;5;241m=\u001b[39m{}) \u001b[38;5;241m-\u001b[39m\u001b[38;5;241m>\u001b[39m \u001b[38;5;28mlist\u001b[39m[Message]:\n\u001b[0;32m     16\u001b[0m     result:\u001b[38;5;28mlist\u001b[39m[Message] \u001b[38;5;241m=\u001b[39m []\n\u001b[1;32m---> 17\u001b[0m     \u001b[38;5;28;01mfor\u001b[39;00m message \u001b[38;5;129;01min\u001b[39;00m \u001b[38;5;28;43mself\u001b[39;49m\u001b[38;5;241;43m.\u001b[39;49m\u001b[43mrounds\u001b[49m\u001b[43m[\u001b[49m\u001b[43mround_index\u001b[49m\u001b[43m]\u001b[49m\u001b[38;5;241m.\u001b[39mmessages:\n\u001b[0;32m     18\u001b[0m         template \u001b[38;5;241m=\u001b[39m Template(message\u001b[38;5;241m.\u001b[39mcontent)\n\u001b[0;32m     19\u001b[0m         content \u001b[38;5;241m=\u001b[39m template\u001b[38;5;241m.\u001b[39mrender(metadata)\n",
      "\u001b[1;31mIndexError\u001b[0m: list index out of range"
     ]
    }
   ],
   "source": [
    "import re\n",
    "import tomllib\n",
    "import functools\n",
    "from typing import Literal\n",
    "\n",
    "import ipywidgets as widgets\n",
    "from IPython.display import display\n",
    "\n",
    "from dotenv import load_dotenv\n",
    "load_dotenv()\n",
    "\n",
    "from rs import Message, Config, chat\n",
    "import d20\n",
    "\n",
    "action_pattern = re.compile(r\"(\\d+). *(.+)\")\n",
    "skill_pattern = re.compile(r\"[\\w_]+\")\n",
    "skill_difficulty_pattern = re.compile(r\"(easy|medium|hard)\")\n",
    "\n",
    "def next_round(b):\n",
    "    global current_round, initial_messages\n",
    "    current_round += 1\n",
    "    initial_messages = config.initial_messages(current_round, config.metadata)\n",
    "\n",
    "    print(initial_messages[-1].content)\n",
    "    display(get_controls(initial_messages[-1]))\n",
    "\n",
    "def get_user_message_tail():\n",
    "    count = 0\n",
    "    for msg in initial_messages:\n",
    "        if msg.role == \"user\":\n",
    "            count += 1\n",
    "\n",
    "    is_final =  \", FINAL ROUND\" if  current_round == len(config.rounds) else \"\"\n",
    "    return f\"TURN: {count + 1} {is_final}\"\n",
    "    \n",
    "\n",
    "def do_chat(role:Literal[\"user\", \"system\", \"assistant\"], content: str):\n",
    "    print(f\"{content}\\n\\n\")\n",
    "\n",
    "    initial_messages.append(Message(role=role, content=content))\n",
    "    msg = chat(initial_messages, lambda delta: print(delta, end=\"\"))\n",
    "\n",
    "    initial_messages.append(msg)\n",
    "    display(get_controls(msg))\n",
    "\n",
    "\n",
    "def on_skill(b, skill:str, difficulty:str):\n",
    "    content = f\"I am making a skill check using {skill.upper()} against a difficulty of {difficulty.upper()}.\"\n",
    "\n",
    "    d = difficulty.lower()\n",
    "    dc = 50\n",
    "    if d == \"easy\":\n",
    "        dc = 75\n",
    "    elif d == \"hard\":\n",
    "        dc = 25\n",
    "    roll = d20.roll(\"1d100\").total\n",
    "    result = \"Success\" if roll <= dc else \"Failure\"\n",
    "    if roll == 1:\n",
    "        result = \"Critical Success\"\n",
    "    elif roll == 100:\n",
    "        result = \"Critical Failure\"\n",
    "\n",
    "    content += f\"\\nAnd I rolled a {roll} for a result of {result.upper()}. {get_user_message_tail()}\"\n",
    "    do_chat(\"user\", content)\n",
    "\n",
    "def on_action(b, index:int):\n",
    "    content = f\"I select option {index}. {get_user_message_tail()}\"\n",
    "    do_chat(\"user\", content)\n",
    "\n",
    "def on_custom_input(b, input:widgets.Text):\n",
    "    content = f\"{input.value}. {get_user_message_tail()}\"\n",
    "    do_chat(\"user\", content)\n",
    "\n",
    "def on_custom_action(b):\n",
    "    hbox = widgets.HBox(layout=widgets.Layout(width=\"100%\"))\n",
    "    action_text = widgets.Text(layout=widgets.Layout(width=\"100%\"))\n",
    "    submit = widgets.Button(description=\"SUBMIT\", layout=widgets.Layout(width=\"fit-content\"))\n",
    "    submit.on_click(functools.partial(on_custom_input, input=action_text))\n",
    "    hbox.children += (action_text, submit) \n",
    "    display(hbox)\n",
    "\n",
    "def get_controls(msg:Message) -> widgets.Box:\n",
    "    dict = msg.dict()\n",
    "    buttons = []\n",
    "    if \"round summary\" in dict.keys():\n",
    "        # add round summary as a memory to the metadata\n",
    "        # it will be used in the next round.\n",
    "        config.metadata[\"memories\"].append(f\"ROUND {current_round}: {dict[\"round summary\"]}\")\n",
    "        next_btn = widgets.Button(description=\"NEXT ROUND\", layout=widgets.Layout(width=\"auto\"))\n",
    "        next_btn.on_click(next_round)\n",
    "        buttons.append(next_btn)\n",
    "    elif \"skill\" in dict.keys() and \"difficulty\" in dict.keys():\n",
    "        match = skill_pattern.match(dict[\"skill\"])\n",
    "        skill = match.group(0)\n",
    "        match = skill_difficulty_pattern.match(dict[\"difficulty\"])\n",
    "        difficulty = match.group(0)\n",
    "        skill_button = widgets.Button(description=f\"{skill.upper()} [{difficulty.upper()}]\", layout=widgets.Layout(width=\"auto\"))\n",
    "        skill_button.on_click(functools.partial(on_skill, skill=skill, difficulty=difficulty))\n",
    "        buttons.append(skill_button)\n",
    "    elif \"possible actions\" in dict.keys():\n",
    "        matches = action_pattern.finditer(dict[\"possible actions\"])\n",
    "        for match in matches:\n",
    "            btn = widgets.Button(description=match.group(1), tooltip=match.group(2), layout=widgets.Layout(width=\"auto\"))\n",
    "            btn.on_click(functools.partial(on_action, index=int(match.group(1))))\n",
    "            buttons.append(btn)\n",
    "    \n",
    "    \n",
    "    \n",
    "    custom_action_button = widgets.Button(description=\"CUSTOM\")\n",
    "    custom_action_button.on_click(on_custom_action)\n",
    "    buttons.append(custom_action_button)\n",
    "\n",
    "    return widgets.HBox(buttons)\n",
    "\n",
    "# open config file\n",
    "config_name = \"data/config_cn_lot36.toml\"\n",
    "config: Config | None = None\n",
    "with open(config_name, \"rb\") as f:\n",
    "    data = tomllib.load(f)\n",
    "    config = Config(**data)\n",
    "\n",
    "current_round = 0\n",
    "initial_messages = config.initial_messages(current_round, config.metadata)\n",
    "\n",
    "print(initial_messages[-1].content)\n",
    "display(get_controls(initial_messages[-1]))\n"
   ]
  }
 ],
 "metadata": {
  "kernelspec": {
   "display_name": ".venv",
   "language": "python",
   "name": "python3"
  },
  "language_info": {
   "codemirror_mode": {
    "name": "ipython",
    "version": 3
   },
   "file_extension": ".py",
   "mimetype": "text/x-python",
   "name": "python",
   "nbconvert_exporter": "python",
   "pygments_lexer": "ipython3",
   "version": "3.12.3"
  }
 },
 "nbformat": 4,
 "nbformat_minor": 2
}
