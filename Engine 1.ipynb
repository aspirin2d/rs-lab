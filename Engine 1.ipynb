{
 "cells": [
  {
   "cell_type": "code",
   "execution_count": 4,
   "metadata": {},
   "outputs": [
    {
     "name": "stdout",
     "output_type": "stream",
     "text": [
      "Requirement already satisfied: fastapi in c:\\python\\lib\\site-packages (0.110.2)\n",
      "Requirement already satisfied: pydantic in c:\\python\\lib\\site-packages (2.7.0)\n",
      "Requirement already satisfied: toml in c:\\python\\lib\\site-packages (0.10.2)\n",
      "Requirement already satisfied: starlette<0.38.0,>=0.37.2 in c:\\python\\lib\\site-packages (from fastapi) (0.37.2)\n",
      "Requirement already satisfied: typing-extensions>=4.8.0 in c:\\python\\lib\\site-packages (from fastapi) (4.11.0)\n",
      "Requirement already satisfied: annotated-types>=0.4.0 in c:\\python\\lib\\site-packages (from pydantic) (0.6.0)\n",
      "Requirement already satisfied: pydantic-core==2.18.1 in c:\\python\\lib\\site-packages (from pydantic) (2.18.1)\n",
      "Requirement already satisfied: anyio<5,>=3.4.0 in c:\\python\\lib\\site-packages (from starlette<0.38.0,>=0.37.2->fastapi) (4.3.0)\n",
      "Requirement already satisfied: idna>=2.8 in c:\\python\\lib\\site-packages (from anyio<5,>=3.4.0->starlette<0.38.0,>=0.37.2->fastapi) (3.7)\n",
      "Requirement already satisfied: sniffio>=1.1 in c:\\python\\lib\\site-packages (from anyio<5,>=3.4.0->starlette<0.38.0,>=0.37.2->fastapi) (1.3.1)\n",
      "Note: you may need to restart the kernel to use updated packages.\n"
     ]
    }
   ],
   "source": [
    "%pip install fastapi pydantic toml"
   ]
  },
  {
   "cell_type": "code",
   "execution_count": 5,
   "metadata": {},
   "outputs": [],
   "source": [
    "# from rs import skill_check\n",
    "\n",
    "# def test_skill_check(metadata):\n",
    "#     print(skill_check(\"sanity\", None, metadata))\n",
    "\n",
    "# metadata = {\n",
    "#     \"character\": {\"sanity\":30},\n",
    "#     \"symptom\":[\n",
    "#         \"incoherent speech\",\n",
    "#         \"uncontrollable twitching, trembling\",\n",
    "#         \"delusions of persecution\",\n",
    "#         \"strange appetites (dirt, clay, etc...)\",\n",
    "#         \"scratches, punches, and bruises all over the body\"\n",
    "#     ]\n",
    "# }\n",
    "\n",
    "# test_skill_check(metadata)\n",
    "# test_skill_check(metadata)\n",
    "# test_skill_check(metadata)\n",
    "# test_skill_check(metadata)\n",
    "# test_skill_check(metadata)\n",
    "# test_skill_check(metadata)\n",
    "# test_skill_check(metadata)\n",
    "# test_skill_check(metadata)\n",
    "# test_skill_check(metadata)\n",
    "# test_skill_check(metadata)\n",
    "# test_skill_check(metadata)\n",
    "# test_skill_check(metadata)\n",
    "\n",
    "# print(metadata[\"character\"])\n"
   ]
  },
  {
   "cell_type": "code",
   "execution_count": 6,
   "metadata": {},
   "outputs": [
    {
     "name": "stdout",
     "output_type": "stream",
     "text": [
      "The year is 2023, you travelled to some distant mountains and forest in Hokkaido to do some scenic photography in the middle of the week during autumn. You wanted to get away from the city life of Tokyo just so you can make some time for yourself and think about the future and want to do in your life. As you are hiking through the quiet mountain pass, you hear a cry of a girl just in the distance. You quickly made your way towards the sound and found a beautiful young lady on the side of the road, and appears to have accidently injured herself.\n",
      "\n",
      "What is your response?\n",
      "\n",
      "possible actions:\n",
      "1. Offer your assitance and then introduce yourself casually\n",
      "2. Say a funny pick up line\n",
      "3. Ignore her and keep walking\n"
     ]
    },
    {
     "data": {
      "application/vnd.jupyter.widget-view+json": {
       "model_id": "c1a27193c96243b0bd8d3e551f0c6846",
       "version_major": 2,
       "version_minor": 0
      },
      "text/plain": [
       "HBox(children=(Button(description='1', layout=Layout(width='auto'), style=ButtonStyle(), tooltip='Offer your a…"
      ]
     },
     "metadata": {},
     "output_type": "display_data"
    },
    {
     "name": "stdout",
     "output_type": "stream",
     "text": [
      "I select option 1. TURN: 1 \n",
      "\n",
      "\n",
      "You approach the young lady with concern and offer your assistance. After helping her up, you introduce yourself casually as Hikaru Mikami, a banker from Tokyo who's here to enjoy the scenic beauty of Hokkaido and contemplate life. Mitsuha Tomoe, the young lady, introduces herself in return, mentioning that she's from Tokyo too and here to take a break from her busy life. She thanks you for your help and mentions she was a bit clumsy and slipped while admiring the scenery.\n",
      "\n",
      "What do you do next?\n",
      "\n",
      "possible actions:\n",
      "1. Ask if she needs any medical assistance or if you can escort her back to her accommodation.\n",
      "2. Suggest continuing the hike together since you're both heading the same way.\n",
      "3. Offer to take a scenic photo of her to commemorate her adventure, despite the slip."
     ]
    },
    {
     "data": {
      "application/vnd.jupyter.widget-view+json": {
       "model_id": "a44715dd43904946b963f57770e9e95e",
       "version_major": 2,
       "version_minor": 0
      },
      "text/plain": [
       "HBox(children=(Button(description='1', layout=Layout(width='auto'), style=ButtonStyle(), tooltip='Ask if she n…"
      ]
     },
     "metadata": {},
     "output_type": "display_data"
    },
    {
     "name": "stdout",
     "output_type": "stream",
     "text": [
      "I select option 2. TURN: 2 \n",
      "\n",
      "\n",
      "Mitsuha smiles at your suggestion and agrees to continue the hike together, expressing her gratitude for not having to walk back alone. As you both proceed, you find yourselves engaging in light conversation about your lives in Tokyo, your reasons for visiting Hokkaido, and your shared appreciation for nature's beauty. The atmosphere is pleasant, and you notice how easy it is to talk to Mitsuha, her free-spirited nature making the conversation flow smoothly.\n",
      "\n",
      "What do you do next?\n",
      "\n",
      "possible actions:\n",
      "1. Share a personal story about why you decided to take a break from your banking job.\n",
      "2. Ask Mitsuha more about her work in the art industry and her passion for it.\n",
      "3. Suggest taking a break at a nearby scenic spot to enjoy the view and maybe have a snack."
     ]
    },
    {
     "data": {
      "application/vnd.jupyter.widget-view+json": {
       "model_id": "e3e122269d674bb6aa6e16ab5d4cffc5",
       "version_major": 2,
       "version_minor": 0
      },
      "text/plain": [
       "HBox(children=(Button(description='1', layout=Layout(width='auto'), style=ButtonStyle(), tooltip='Share a pers…"
      ]
     },
     "metadata": {},
     "output_type": "display_data"
    },
    {
     "name": "stdout",
     "output_type": "stream",
     "text": [
      "I select option 3. TURN: 3 \n",
      "\n",
      "\n",
      "Mitsuha agrees excitedly to your suggestion, and you both find a beautiful spot overlooking the valley below, with autumn colors painting a breathtaking scene. You both sit down, sharing snacks you've brought along. The tranquil beauty of the place, combined with the pleasant company, makes for a perfect moment of relaxation. Mitsuha seems genuinely happy and at ease, laughing and sharing stories of her adventures in Tokyo and her dreams for the future.\n",
      "\n",
      "What do you do next?\n",
      "\n",
      "possible actions:\n",
      "1. Open up about your dreams of becoming a concept artist and how you ended up as a banker instead.\n",
      "2. Compliment Mitsuha on her adventurous spirit and ask if she has any upcoming travel plans.\n",
      "3. Propose to take a detour to a lesser-known but spectacular spot you've heard about nearby."
     ]
    },
    {
     "data": {
      "application/vnd.jupyter.widget-view+json": {
       "model_id": "fa75f7f9d0224c8ca1b5b26d94669489",
       "version_major": 2,
       "version_minor": 0
      },
      "text/plain": [
       "HBox(children=(Button(description='1', layout=Layout(width='auto'), style=ButtonStyle(), tooltip='Open up abou…"
      ]
     },
     "metadata": {},
     "output_type": "display_data"
    },
    {
     "name": "stdout",
     "output_type": "stream",
     "text": [
      "I select option 3. TURN: 4 \n",
      "\n",
      "\n",
      "Mitsuha's eyes light up with excitement at the idea of exploring a lesser-known spot. She eagerly agrees, intrigued by the prospect of discovering something new. As you both take the detour, the path becomes slightly more challenging, but Mitsuha's adventurous spirit is undeterred. She follows your lead, her enthusiasm infectious. Eventually, you arrive at the hidden spot, a secluded waterfall surrounded by vibrant autumn leaves. The sight is stunning, and Mitsuha can't hide her delight, thanking you for sharing this secret with her.\n",
      "\n",
      "What do you do next?\n",
      "\n",
      "possible actions:\n",
      "1. Take a moment to enjoy the peaceful sound of the waterfall and the beauty of nature around you.\n",
      "2. Offer to take a picture of Mitsuha with the waterfall in the background.\n",
      "3. Suggest sitting down near the waterfall to enjoy the view and maybe sketch the scenery."
     ]
    },
    {
     "data": {
      "application/vnd.jupyter.widget-view+json": {
       "model_id": "40e52db86803489aa9ede0317b52ecf4",
       "version_major": 2,
       "version_minor": 0
      },
      "text/plain": [
       "HBox(children=(Button(description='1', layout=Layout(width='auto'), style=ButtonStyle(), tooltip='Take a momen…"
      ]
     },
     "metadata": {},
     "output_type": "display_data"
    },
    {
     "name": "stdout",
     "output_type": "stream",
     "text": [
      "I select option 3. TURN: 5 \n",
      "\n",
      "\n",
      "You both find a comfortable spot to sit near the waterfall, the sound of the water soothing as it cascades down. Mitsuha watches with interest as you pull out your sketchbook and begin to capture the scene before you. She's impressed by your skill and mentions how she's always admired people who can create art. The moment feels intimate and special, with the serene environment adding to the sense of connection between you two. Mitsuha shares more about her love for art and her dreams, feeling inspired by the peaceful setting and your dedication to your passion.\n",
      "\n",
      "What do you do next?\n",
      "\n",
      "possible actions:\n",
      "1. Share more about your passion for art and how you hope to pursue it in the future.\n",
      "2. Ask Mitsuha if she would like to try sketching something herself.\n",
      "3. Suggest heading back to the hotel before it gets dark, offering to continue this conversation over dinner."
     ]
    },
    {
     "data": {
      "application/vnd.jupyter.widget-view+json": {
       "model_id": "d7f7d21c1c9440fb8de66462f36295b7",
       "version_major": 2,
       "version_minor": 0
      },
      "text/plain": [
       "HBox(children=(Button(description='1', layout=Layout(width='auto'), style=ButtonStyle(), tooltip='Share more a…"
      ]
     },
     "metadata": {},
     "output_type": "display_data"
    },
    {
     "name": "stdout",
     "output_type": "stream",
     "text": [
      "I select option 3. TURN: 6 \n",
      "\n",
      "\n",
      "Mitsuha agrees that heading back before it gets dark is a wise idea, and she warmly accepts your dinner invitation, looking forward to continuing the conversation. As you both make your way back to the hotel, the connection between you has clearly deepened, with shared interests and mutual understanding forming the basis of a budding friendship or perhaps something more. Upon arriving at the hotel, you're both pleasantly surprised to find out you're the only guests staying there tonight, which promises a quiet and intimate dinner setting.\n",
      "\n",
      "summary:\n",
      "During this round, Hikaru and Mitsuha met under unexpected circumstances when Mitsuha injured herself while hiking. Hikaru offered his assistance, leading to a shared hike where they discovered mutual interests and a connection. They enjoyed a scenic break together, explored a hidden waterfall, and shared personal dreams and aspirations. The round ends with them planning to have dinner together at their hotel, looking forward to spending more time together and deepening their connection."
     ]
    },
    {
     "data": {
      "application/vnd.jupyter.widget-view+json": {
       "model_id": "e5352a508a9c4b7d8fb49f9bfb467e3b",
       "version_major": 2,
       "version_minor": 0
      },
      "text/plain": [
       "HBox(children=(Button(description='NEXT ROUND', layout=Layout(width='auto'), style=ButtonStyle()), Button(desc…"
      ]
     },
     "metadata": {},
     "output_type": "display_data"
    },
    {
     "name": "stdout",
     "output_type": "stream",
     "text": [
      "\n",
      "Memories:\n",
      "\"\"\"\n",
      "- \n",
      "During this round, Hikaru and Mitsuha met under unexpected circumstances when Mitsuha injured herself while hiking. Hikaru offered his assistance, leading to a shared hike where they discovered mutual interests and a connection. They enjoyed a scenic break together, explored a hidden waterfall, and shared personal dreams and aspirations. The round ends with them planning to have dinner together at their hotel, looking forward to spending more time together and deepening their connection.\n",
      "\"\"\"\n",
      "\n",
      "You and Mitsuha arrived at the gorgeous dining hall of the hotel, the washoku meal has already been prepped and placed nicely on the table for the both of you. As you sit down, the owner began describing each dish, how it was prepared and the palce of origin of the ingrediates. When she asks if there is anything else she could do for the both of you, Mitsuha suggested to share a bottle of sake together.\n",
      "\n",
      "What do you say?\n",
      "\n",
      "possible actions:\n",
      "1. Agree to the sake idea\n",
      "2. Deny the sake, informing her that she shouldn't drink if injured\n",
      "3. Make a funny joke about the sake\n"
     ]
    },
    {
     "data": {
      "application/vnd.jupyter.widget-view+json": {
       "model_id": "961dcfbe01234eaf931e218641398834",
       "version_major": 2,
       "version_minor": 0
      },
      "text/plain": [
       "HBox(children=(Button(description='1', layout=Layout(width='auto'), style=ButtonStyle(), tooltip='Agree to the…"
      ]
     },
     "metadata": {},
     "output_type": "display_data"
    },
    {
     "name": "stdout",
     "output_type": "stream",
     "text": [
      "I select option 3. TURN: 1 \n",
      "\n",
      "\n",
      "You need to make a skill check to crack a joke.\n",
      "skill: Fast Talk\n",
      "difficulty: normal"
     ]
    },
    {
     "data": {
      "application/vnd.jupyter.widget-view+json": {
       "model_id": "1f957c78e96e4c03861a2a767f7c8f78",
       "version_major": 2,
       "version_minor": 0
      },
      "text/plain": [
       "HBox(children=(Button(description='FAST [NORMAL]', layout=Layout(width='auto'), style=ButtonStyle()), Button(d…"
      ]
     },
     "metadata": {},
     "output_type": "display_data"
    },
    {
     "name": "stdout",
     "output_type": "stream",
     "text": [
      "I am making a skill check using FAST against a difficulty of NORMAL.\n",
      "And I rolled a 40 for a result of SUCCESS.\n",
      "TURN: 2 \n",
      "\n",
      "\n",
      "With a smooth delivery, you joke about how the sake might just be the secret ingredient to a miraculous recovery, making both Mitsuha and the hotel owner laugh. Mitsuha's eyes sparkle with amusement as she agrees to share the bottle with you, but promises to drink moderately. The atmosphere becomes lighter and more cheerful as the owner leaves you two with the sake and a smile. \n",
      "\n",
      "As you both start enjoying the meal, Mitsuha seems genuinely interested in your life in Tokyo. How do you steer the conversation?\n",
      "\n",
      "possible actions:\n",
      "1. Talk about your stressful job as a banker\n",
      "2. Share your childhood dream of becoming a concept artist\n",
      "3. Ask Mitsuha more about her work in the art industry"
     ]
    },
    {
     "data": {
      "application/vnd.jupyter.widget-view+json": {
       "model_id": "255694a24a49418a82927d105fc77f23",
       "version_major": 2,
       "version_minor": 0
      },
      "text/plain": [
       "HBox(children=(Button(description='1', layout=Layout(width='auto'), style=ButtonStyle(), tooltip='Talk about y…"
      ]
     },
     "metadata": {},
     "output_type": "display_data"
    },
    {
     "name": "stdout",
     "output_type": "stream",
     "text": [
      "I select option 2. TURN: 3 \n",
      "\n",
      "\n",
      "You open up about your childhood dream of becoming a concept artist, sharing your passion for video games and art. Mitsuha listens intently, her eyes lighting up with genuine interest. She finds your artistic side fascinating and encourages you to pursue your dreams, even if it means taking a leap of faith. \"It's never too late to chase what truly makes you happy,\" she says, her words filled with encouragement and a hint of her own desires to chase her passions. The conversation deepens your connection, revealing more of your shared values and dreams.\n",
      "\n",
      "As the dinner progresses, Mitsuha becomes more relaxed and slightly more talkative, possibly the sake starting to show its effects. Do you:\n",
      "\n",
      "possible actions:\n",
      "1. Gently steer the conversation towards her personal life to learn more about her.\n",
      "2. Share a funny anecdote from your banking job to lighten the mood.\n",
      "3. Suggest taking a walk after dinner to enjoy the night scenery."
     ]
    },
    {
     "data": {
      "application/vnd.jupyter.widget-view+json": {
       "model_id": "af0e9e7ff83e45d48a158a2d95c987d6",
       "version_major": 2,
       "version_minor": 0
      },
      "text/plain": [
       "HBox(children=(Button(description='1', layout=Layout(width='auto'), style=ButtonStyle(), tooltip='Gently steer…"
      ]
     },
     "metadata": {},
     "output_type": "display_data"
    },
    {
     "name": "stdout",
     "output_type": "stream",
     "text": [
      "I select option 2. TURN: 4 \n",
      "\n",
      "\n",
      "You need to make a skill check to crack a joke.\n",
      "skill: Fast Talk\n",
      "difficulty: normal"
     ]
    },
    {
     "data": {
      "application/vnd.jupyter.widget-view+json": {
       "model_id": "1c51f631030749e291cff9a18f7b448f",
       "version_major": 2,
       "version_minor": 0
      },
      "text/plain": [
       "HBox(children=(Button(description='FAST [NORMAL]', layout=Layout(width='auto'), style=ButtonStyle()), Button(d…"
      ]
     },
     "metadata": {},
     "output_type": "display_data"
    },
    {
     "name": "stdout",
     "output_type": "stream",
     "text": [
      "I am making a skill check using FAST against a difficulty of NORMAL.\n",
      "And I rolled a 22 for a result of SUCCESS.\n",
      "TURN: 5 \n",
      "\n",
      "\n",
      "Your funny anecdote about a peculiar day at the bank has Mitsuha laughing heartily, her cheeks rosy from both the sake and amusement. The story, involving a confused customer and a mix-up with currency exchange, showcases your ability to find humor in stressful situations. Mitsuha appreciates your light-heartedness, commenting on how laughter truly is the best medicine. The mood at the table is now even more relaxed and joyful.\n",
      "\n",
      "As dinner comes to a close, Mitsuha seems to be in high spirits, thoroughly enjoying the evening. She suggests, \"This has been wonderful. I'm really glad we could spend this time together.\" \n",
      "\n",
      "The round ends with both of you finishing dinner, feeling a stronger connection and looking forward to what the rest of the evening holds. \n",
      "\n",
      "summary: During dinner, Hikaru shared his childhood dream of becoming a concept artist, which Mitsuha found inspiring. He successfully lightened the mood with a funny banking anecdote, leading to laughter and a deeper bond between them. The round ends on a high note, with both feeling closer and more connected."
     ]
    },
    {
     "data": {
      "application/vnd.jupyter.widget-view+json": {
       "model_id": "6253a5b80ec14480b0f52e1e48e895c8",
       "version_major": 2,
       "version_minor": 0
      },
      "text/plain": [
       "HBox(children=(Button(description='NEXT ROUND', layout=Layout(width='auto'), style=ButtonStyle()), Button(desc…"
      ]
     },
     "metadata": {},
     "output_type": "display_data"
    }
   ],
   "source": [
    "import re\n",
    "import tomllib\n",
    "import functools\n",
    "from typing import Literal\n",
    "\n",
    "import ipywidgets as widgets\n",
    "from IPython.display import display\n",
    "\n",
    "from dotenv import load_dotenv\n",
    "\n",
    "load_dotenv()\n",
    "\n",
    "from rs import Message, Config, chat, skill_check\n",
    "import d20\n",
    "\n",
    "action_pattern = re.compile(r\"(\\d+). *(.+)\")\n",
    "skill_pattern = re.compile(r\"[\\w_]+\")\n",
    "skill_difficulty_pattern = re.compile(r\"(easy|normal|hard)\")\n",
    "\n",
    "def next_round(b):\n",
    "    global current_round, initial_messages\n",
    "    current_round += 1\n",
    "    initial_messages = config.initial_messages(current_round, config.metadata)\n",
    "\n",
    "    print(initial_messages[-1].content)\n",
    "    display(get_controls(initial_messages[-1]))\n",
    "\n",
    "def get_user_message_tail():\n",
    "    count = 0\n",
    "    for msg in initial_messages:\n",
    "        if msg.role == \"user\":\n",
    "            count += 1\n",
    "\n",
    "    is_final =  \", FINAL ROUND\" if  current_round == len(config.rounds) else \"\"\n",
    "    \n",
    "    # print(config.metadata[\"character\"])\n",
    "    \n",
    "    if \"tags\" in config.metadata[\"character\"] and \"insane\" in config.metadata[\"character\"][\"tags\"]:\n",
    "        return f\"TURN: {count + 1} {is_final} (I'm insane!)\"\n",
    "    \n",
    "    return f\"TURN: {count + 1} {is_final}\"\n",
    "    \n",
    "\n",
    "def do_chat(role:Literal[\"user\", \"system\", \"assistant\"], content: str):\n",
    "    print(f\"{content}\\n\\n\")\n",
    "\n",
    "    initial_messages.append(Message(role=role, content=content))\n",
    "    msg = chat(initial_messages, lambda delta: print(delta, end=\"\"))\n",
    "\n",
    "    initial_messages.append(msg)\n",
    "    display(get_controls(msg))\n",
    "\n",
    "\n",
    "def on_skill(b, skill:str, difficulty:str):\n",
    "    # print(config.metadata[\"character\"])\n",
    "    content = skill_check(skill, difficulty, config.metadata)\n",
    "    content += f\"\\n{get_user_message_tail()}\"\n",
    "    do_chat(\"user\", content)\n",
    "\n",
    "def on_action(b, index:int):\n",
    "    content = f\"I select option {index}. {get_user_message_tail()}\"\n",
    "    do_chat(\"user\", content)\n",
    "\n",
    "def on_custom_input(b, input:widgets.Text):\n",
    "    content = f\"{input.value}. {get_user_message_tail()}\"\n",
    "    do_chat(\"user\", content)\n",
    "\n",
    "def on_custom_action(b):\n",
    "    hbox = widgets.HBox(layout=widgets.Layout(width=\"100%\"))\n",
    "    action_text = widgets.Text(layout=widgets.Layout(width=\"100%\"))\n",
    "    submit = widgets.Button(description=\"SUBMIT\", layout=widgets.Layout(width=\"fit-content\"))\n",
    "    submit.on_click(functools.partial(on_custom_input, input=action_text))\n",
    "    hbox.children += (action_text, submit) \n",
    "    display(hbox)\n",
    "\n",
    "def get_controls(msg:Message) -> widgets.Box:\n",
    "    dict = msg.dict()\n",
    "    buttons = []\n",
    "    if \"possible actions\" in dict.keys():\n",
    "        matches = action_pattern.finditer(dict[\"possible actions\"])\n",
    "        for match in matches:\n",
    "            btn = widgets.Button(description=match.group(1), tooltip=match.group(2), layout=widgets.Layout(width=\"auto\"))\n",
    "            btn.on_click(functools.partial(on_action, index=int(match.group(1))))\n",
    "            buttons.append(btn)\n",
    "    elif \"skill\" in dict.keys() and \"difficulty\" in dict.keys():\n",
    "        match = skill_pattern.match(dict[\"skill\"])\n",
    "        skill = match.group(0)\n",
    "        match = skill_difficulty_pattern.match(dict[\"difficulty\"])\n",
    "        difficulty = match.group(0)\n",
    "        skill_button = widgets.Button(description=f\"{skill.upper()} [{difficulty.upper()}]\", layout=widgets.Layout(width=\"auto\"))\n",
    "        skill_button.on_click(functools.partial(on_skill, skill=skill, difficulty=difficulty))\n",
    "        buttons.append(skill_button)\n",
    "    elif \"summary\" in dict.keys():\n",
    "        # add summary as a memory to the metadata\n",
    "        # it will be used in the next round.\n",
    "        # config.metadata[\"memories\"] = []\n",
    "        config.metadata[\"memories\"].append(dict[\"summary\"])\n",
    "        next_btn = widgets.Button(description=\"NEXT ROUND\", layout=widgets.Layout(width=\"auto\"))\n",
    "        next_btn.on_click(next_round)\n",
    "        buttons.append(next_btn)\n",
    "    \n",
    "    custom_action_button = widgets.Button(description=\"CUSTOM\")\n",
    "    custom_action_button.on_click(on_custom_action)\n",
    "    buttons.append(custom_action_button)\n",
    "\n",
    "    return widgets.HBox(buttons)\n",
    "\n",
    "# open config file\n",
    "config_name = \"data/ai_gf.toml\"\n",
    "config: Config | None = None\n",
    "with open(config_name, \"rb\") as f:\n",
    "    data = tomllib.load(f)\n",
    "    config = Config(**data)\n",
    "\n",
    "current_round = 0\n",
    "initial_messages = config.initial_messages(current_round, config.metadata)\n",
    "\n",
    "print(initial_messages[-1].content)\n",
    "display(get_controls(initial_messages[-1]))"
   ]
  }
 ],
 "metadata": {
  "kernelspec": {
   "display_name": ".venv",
   "language": "python",
   "name": "python3"
  },
  "language_info": {
   "codemirror_mode": {
    "name": "ipython",
    "version": 3
   },
   "file_extension": ".py",
   "mimetype": "text/x-python",
   "name": "python",
   "nbconvert_exporter": "python",
   "pygments_lexer": "ipython3",
   "version": "3.12.3"
  }
 },
 "nbformat": 4,
 "nbformat_minor": 2
}
